{
 "cells": [
  {
   "cell_type": "markdown",
   "id": "83f88204",
   "metadata": {},
   "source": [
    "<h1><center>  Data Cleaning and Data Aggregation </center></h1>"
   ]
  },
  {
   "cell_type": "markdown",
   "id": "bf8a8ceb",
   "metadata": {},
   "source": [
    "### `Context:`\n",
    "I own a multi-specialty hospital chain with locations all across the world. My hospital is famous for vaccinations. Patients who come to my hospital (across the globe) will be given a user card with which they can access any of my hospitals in any location.\n",
    "\n",
    "### `Current Status:`\n",
    "We maintain customers data in Country wise database due to local policies. Now with legal approvals to build centralized data platform, we need our Data engineering team to collate data from individual databases into single source of truth having cleaned standardized data. Business wants to generate a simple PowerBI report for top executives summarizing till date vaccination metrics. This report will be published and generated daily for the next 18 months. The 3 metrics mentioned below are required for the phase 1 release. \n",
    "\n",
    "**Deliverables for assessment:**\n",
    "Python code that does the below\n",
    "- Data cleansing/exception handling\n",
    "- Data merging into single source of truth\n",
    "- Data transformations and aggregations\n",
    "- Code should have unit testing\n",
    "\n",
    "**Metrics needed:**\n",
    "- Total vaccination count by country and vaccination type\n",
    "- % vaccination in each country (You can assume values for total population)\n",
    "- % vaccination contribution by country (Sum of percentages add up to 100)\n",
    "\n",
    "**Expected output format**\n",
    "- Metric 1: CountryName, VaccinationType, No. of vaccinations\n",
    "- Metric 2: CountryName, % Vaccinated\n",
    "- Metric 3: CountryName, % Contribution"
   ]
  },
  {
   "cell_type": "code",
   "execution_count": 283,
   "id": "08a5c136",
   "metadata": {},
   "outputs": [],
   "source": [
    "#impoering libraries\n",
    "import numpy as np\n",
    "import pandas as pd\n",
    "import seaborn as sns\n",
    "import matplotlib.pyplot as plt\n",
    "\n",
    "import warnings\n",
    "warnings.filterwarnings(\"ignore\") "
   ]
  },
  {
   "cell_type": "markdown",
   "id": "2c22d553",
   "metadata": {},
   "source": [
    "# `Australia`"
   ]
  },
  {
   "cell_type": "code",
   "execution_count": 284,
   "id": "b4b1029c",
   "metadata": {},
   "outputs": [],
   "source": [
    "#loading excel file\n",
    "aus = pd.read_excel(r'C:/Users/Rajeshri Jogi/Desktop/redataengineerpythonsqlincubytescaler/AUS.xlsx', engine='openpyxl')"
   ]
  },
  {
   "cell_type": "code",
   "execution_count": 285,
   "id": "137a0ee1",
   "metadata": {},
   "outputs": [
    {
     "data": {
      "text/html": [
       "<div>\n",
       "<style scoped>\n",
       "    .dataframe tbody tr th:only-of-type {\n",
       "        vertical-align: middle;\n",
       "    }\n",
       "\n",
       "    .dataframe tbody tr th {\n",
       "        vertical-align: top;\n",
       "    }\n",
       "\n",
       "    .dataframe thead th {\n",
       "        text-align: right;\n",
       "    }\n",
       "</style>\n",
       "<table border=\"1\" class=\"dataframe\">\n",
       "  <thead>\n",
       "    <tr style=\"text-align: right;\">\n",
       "      <th></th>\n",
       "      <th>Unique ID</th>\n",
       "      <th>Patient Name</th>\n",
       "      <th>Vaccine Type</th>\n",
       "      <th>Date of Birth</th>\n",
       "      <th>Date of Vaccination</th>\n",
       "    </tr>\n",
       "  </thead>\n",
       "  <tbody>\n",
       "    <tr>\n",
       "      <th>0</th>\n",
       "      <td>1</td>\n",
       "      <td>Mike</td>\n",
       "      <td>LMN</td>\n",
       "      <td>NaT</td>\n",
       "      <td>2022-05-11 00:00:00</td>\n",
       "    </tr>\n",
       "    <tr>\n",
       "      <th>1</th>\n",
       "      <td>2</td>\n",
       "      <td>Jonnathan</td>\n",
       "      <td>XYZ</td>\n",
       "      <td>1997-12-13</td>\n",
       "      <td>2021-13-13</td>\n",
       "    </tr>\n",
       "    <tr>\n",
       "      <th>2</th>\n",
       "      <td>3</td>\n",
       "      <td>Cristina</td>\n",
       "      <td>ABC</td>\n",
       "      <td>1998-03-12</td>\n",
       "      <td>2022-03-12 00:00:00</td>\n",
       "    </tr>\n",
       "  </tbody>\n",
       "</table>\n",
       "</div>"
      ],
      "text/plain": [
       "   Unique ID Patient Name Vaccine Type Date of Birth  Date of Vaccination\n",
       "0          1         Mike          LMN           NaT  2022-05-11 00:00:00\n",
       "1          2    Jonnathan          XYZ    1997-12-13           2021-13-13\n",
       "2          3     Cristina          ABC    1998-03-12  2022-03-12 00:00:00"
      ]
     },
     "execution_count": 285,
     "metadata": {},
     "output_type": "execute_result"
    }
   ],
   "source": [
    "#checking the data\n",
    "aus.head()"
   ]
  },
  {
   "cell_type": "code",
   "execution_count": 286,
   "id": "57804e1d",
   "metadata": {},
   "outputs": [
    {
     "name": "stdout",
     "output_type": "stream",
     "text": [
      "<class 'pandas.core.frame.DataFrame'>\n",
      "RangeIndex: 3 entries, 0 to 2\n",
      "Data columns (total 5 columns):\n",
      " #   Column               Non-Null Count  Dtype         \n",
      "---  ------               --------------  -----         \n",
      " 0   Unique ID            3 non-null      int64         \n",
      " 1   Patient Name         3 non-null      object        \n",
      " 2   Vaccine Type         3 non-null      object        \n",
      " 3   Date of Birth        2 non-null      datetime64[ns]\n",
      " 4   Date of Vaccination  3 non-null      object        \n",
      "dtypes: datetime64[ns](1), int64(1), object(3)\n",
      "memory usage: 248.0+ bytes\n"
     ]
    }
   ],
   "source": [
    "#checking again\n",
    "aus.info()"
   ]
  },
  {
   "cell_type": "code",
   "execution_count": 287,
   "id": "87241912",
   "metadata": {},
   "outputs": [],
   "source": [
    "#removing the worng data\n",
    "aus['Date of Vaccination'].replace({'2021-13-13': None}, inplace = True)"
   ]
  },
  {
   "cell_type": "code",
   "execution_count": 288,
   "id": "04759f36",
   "metadata": {},
   "outputs": [],
   "source": [
    "#changing the dtype\n",
    "aus['Date of Vaccination'] = pd.to_datetime(aus['Date of Vaccination'])"
   ]
  },
  {
   "cell_type": "code",
   "execution_count": 289,
   "id": "2c5bb6c2",
   "metadata": {},
   "outputs": [],
   "source": [
    "#created a new column with country name\n",
    "aus['Country'] = 'Australia'"
   ]
  },
  {
   "cell_type": "code",
   "execution_count": 290,
   "id": "147d246e",
   "metadata": {},
   "outputs": [],
   "source": [
    "#drop unique ids\n",
    "aus.drop('Unique ID', axis = 1, inplace = True)"
   ]
  },
  {
   "cell_type": "code",
   "execution_count": 291,
   "id": "eac491a0",
   "metadata": {},
   "outputs": [
    {
     "data": {
      "text/plain": [
       "Index(['Patient Name', 'Vaccine Type', 'Date of Birth', 'Date of Vaccination',\n",
       "       'Country'],\n",
       "      dtype='object')"
      ]
     },
     "execution_count": 291,
     "metadata": {},
     "output_type": "execute_result"
    }
   ],
   "source": [
    "#checking the column names\n",
    "aus.columns"
   ]
  },
  {
   "cell_type": "code",
   "execution_count": 292,
   "id": "88c21c59",
   "metadata": {},
   "outputs": [],
   "source": [
    "#renaming the vaccine type column name with other data set names\n",
    "aus.rename(columns = {'Vaccine Type': 'VaccinationType', 'Patient Name':'Name', 'Date of Birth': 'DOB', 'Date of Vaccination':'VaccinationDate'}, inplace = True)"
   ]
  },
  {
   "cell_type": "code",
   "execution_count": 293,
   "id": "50ea0255",
   "metadata": {},
   "outputs": [
    {
     "data": {
      "text/html": [
       "<div>\n",
       "<style scoped>\n",
       "    .dataframe tbody tr th:only-of-type {\n",
       "        vertical-align: middle;\n",
       "    }\n",
       "\n",
       "    .dataframe tbody tr th {\n",
       "        vertical-align: top;\n",
       "    }\n",
       "\n",
       "    .dataframe thead th {\n",
       "        text-align: right;\n",
       "    }\n",
       "</style>\n",
       "<table border=\"1\" class=\"dataframe\">\n",
       "  <thead>\n",
       "    <tr style=\"text-align: right;\">\n",
       "      <th></th>\n",
       "      <th>Name</th>\n",
       "      <th>VaccinationType</th>\n",
       "      <th>DOB</th>\n",
       "      <th>VaccinationDate</th>\n",
       "      <th>Country</th>\n",
       "    </tr>\n",
       "  </thead>\n",
       "  <tbody>\n",
       "    <tr>\n",
       "      <th>0</th>\n",
       "      <td>Mike</td>\n",
       "      <td>LMN</td>\n",
       "      <td>NaT</td>\n",
       "      <td>2022-05-11</td>\n",
       "      <td>Australia</td>\n",
       "    </tr>\n",
       "    <tr>\n",
       "      <th>1</th>\n",
       "      <td>Jonnathan</td>\n",
       "      <td>XYZ</td>\n",
       "      <td>1997-12-13</td>\n",
       "      <td>NaT</td>\n",
       "      <td>Australia</td>\n",
       "    </tr>\n",
       "    <tr>\n",
       "      <th>2</th>\n",
       "      <td>Cristina</td>\n",
       "      <td>ABC</td>\n",
       "      <td>1998-03-12</td>\n",
       "      <td>2022-03-12</td>\n",
       "      <td>Australia</td>\n",
       "    </tr>\n",
       "  </tbody>\n",
       "</table>\n",
       "</div>"
      ],
      "text/plain": [
       "        Name VaccinationType        DOB VaccinationDate    Country\n",
       "0       Mike             LMN        NaT      2022-05-11  Australia\n",
       "1  Jonnathan             XYZ 1997-12-13             NaT  Australia\n",
       "2   Cristina             ABC 1998-03-12      2022-03-12  Australia"
      ]
     },
     "execution_count": 293,
     "metadata": {},
     "output_type": "execute_result"
    }
   ],
   "source": [
    "#checking the data\n",
    "aus.head()"
   ]
  },
  {
   "cell_type": "code",
   "execution_count": 294,
   "id": "42b9c576",
   "metadata": {},
   "outputs": [
    {
     "data": {
      "text/plain": [
       "(3, 5)"
      ]
     },
     "execution_count": 294,
     "metadata": {},
     "output_type": "execute_result"
    }
   ],
   "source": [
    "#checking shape\n",
    "aus.shape"
   ]
  },
  {
   "cell_type": "code",
   "execution_count": 295,
   "id": "116cf1e0",
   "metadata": {},
   "outputs": [
    {
     "name": "stdout",
     "output_type": "stream",
     "text": [
      "<class 'pandas.core.frame.DataFrame'>\n",
      "RangeIndex: 3 entries, 0 to 2\n",
      "Data columns (total 5 columns):\n",
      " #   Column           Non-Null Count  Dtype         \n",
      "---  ------           --------------  -----         \n",
      " 0   Name             3 non-null      object        \n",
      " 1   VaccinationType  3 non-null      object        \n",
      " 2   DOB              2 non-null      datetime64[ns]\n",
      " 3   VaccinationDate  2 non-null      datetime64[ns]\n",
      " 4   Country          3 non-null      object        \n",
      "dtypes: datetime64[ns](2), object(3)\n",
      "memory usage: 248.0+ bytes\n"
     ]
    }
   ],
   "source": [
    "#checking data info again\n",
    "aus.info()"
   ]
  },
  {
   "cell_type": "markdown",
   "id": "a2dc486b",
   "metadata": {},
   "source": [
    "## `India`"
   ]
  },
  {
   "cell_type": "code",
   "execution_count": 296,
   "id": "4dcfb91e",
   "metadata": {},
   "outputs": [],
   "source": [
    "#loading csv file\n",
    "ind = pd.read_csv('C:/Users/Rajeshri Jogi/Desktop/redataengineerpythonsqlincubytescaler/IND.csv')"
   ]
  },
  {
   "cell_type": "code",
   "execution_count": 297,
   "id": "7d04aeca",
   "metadata": {},
   "outputs": [
    {
     "data": {
      "text/html": [
       "<div>\n",
       "<style scoped>\n",
       "    .dataframe tbody tr th:only-of-type {\n",
       "        vertical-align: middle;\n",
       "    }\n",
       "\n",
       "    .dataframe tbody tr th {\n",
       "        vertical-align: top;\n",
       "    }\n",
       "\n",
       "    .dataframe thead th {\n",
       "        text-align: right;\n",
       "    }\n",
       "</style>\n",
       "<table border=\"1\" class=\"dataframe\">\n",
       "  <thead>\n",
       "    <tr style=\"text-align: right;\">\n",
       "      <th></th>\n",
       "      <th>ID</th>\n",
       "      <th>Name</th>\n",
       "      <th>DOB</th>\n",
       "      <th>VaccinationType</th>\n",
       "      <th>VaccinationDate</th>\n",
       "      <th>Free or Paid</th>\n",
       "    </tr>\n",
       "  </thead>\n",
       "  <tbody>\n",
       "    <tr>\n",
       "      <th>0</th>\n",
       "      <td>1</td>\n",
       "      <td>Vikas</td>\n",
       "      <td>1998-12-01</td>\n",
       "      <td>XYZ</td>\n",
       "      <td>2022-01-01</td>\n",
       "      <td>F</td>\n",
       "    </tr>\n",
       "    <tr>\n",
       "      <th>1</th>\n",
       "      <td>2</td>\n",
       "      <td>Rahul</td>\n",
       "      <td>1982-08-13</td>\n",
       "      <td>ABC</td>\n",
       "      <td>2022-03-05</td>\n",
       "      <td>P</td>\n",
       "    </tr>\n",
       "    <tr>\n",
       "      <th>2</th>\n",
       "      <td>3</td>\n",
       "      <td>Sameer</td>\n",
       "      <td>1952-08-13</td>\n",
       "      <td>ABC</td>\n",
       "      <td>2022-02-20</td>\n",
       "      <td>F</td>\n",
       "    </tr>\n",
       "  </tbody>\n",
       "</table>\n",
       "</div>"
      ],
      "text/plain": [
       "   ID    Name         DOB VaccinationType VaccinationDate Free or Paid\n",
       "0   1   Vikas  1998-12-01             XYZ      2022-01-01            F\n",
       "1   2   Rahul  1982-08-13             ABC      2022-03-05            P\n",
       "2   3  Sameer  1952-08-13             ABC      2022-02-20            F"
      ]
     },
     "execution_count": 297,
     "metadata": {},
     "output_type": "execute_result"
    }
   ],
   "source": [
    "#checking the data\n",
    "ind.head()"
   ]
  },
  {
   "cell_type": "code",
   "execution_count": 298,
   "id": "b4a1a5c0",
   "metadata": {},
   "outputs": [
    {
     "data": {
      "text/plain": [
       "(3, 6)"
      ]
     },
     "execution_count": 298,
     "metadata": {},
     "output_type": "execute_result"
    }
   ],
   "source": [
    "#checking shape\n",
    "ind.shape"
   ]
  },
  {
   "cell_type": "code",
   "execution_count": 299,
   "id": "0eee7f2a",
   "metadata": {},
   "outputs": [
    {
     "name": "stdout",
     "output_type": "stream",
     "text": [
      "<class 'pandas.core.frame.DataFrame'>\n",
      "RangeIndex: 3 entries, 0 to 2\n",
      "Data columns (total 6 columns):\n",
      " #   Column           Non-Null Count  Dtype \n",
      "---  ------           --------------  ----- \n",
      " 0   ID               3 non-null      int64 \n",
      " 1   Name             3 non-null      object\n",
      " 2   DOB              3 non-null      object\n",
      " 3   VaccinationType  3 non-null      object\n",
      " 4   VaccinationDate  3 non-null      object\n",
      " 5   Free or Paid     3 non-null      object\n",
      "dtypes: int64(1), object(5)\n",
      "memory usage: 272.0+ bytes\n"
     ]
    }
   ],
   "source": [
    "#checking\n",
    "ind.info()"
   ]
  },
  {
   "cell_type": "code",
   "execution_count": 300,
   "id": "80e6df21",
   "metadata": {},
   "outputs": [],
   "source": [
    "#changing the dtype\n",
    "ind['VaccinationDate'] = pd.to_datetime(ind['VaccinationDate'])\n",
    "ind['DOB'] = pd.to_datetime(ind['DOB'])"
   ]
  },
  {
   "cell_type": "code",
   "execution_count": 301,
   "id": "913b5520",
   "metadata": {},
   "outputs": [],
   "source": [
    "#created a new column with country name\n",
    "ind['Country'] = 'India'"
   ]
  },
  {
   "cell_type": "code",
   "execution_count": 302,
   "id": "f3d9c4a9",
   "metadata": {},
   "outputs": [],
   "source": [
    "#drop unique ids\n",
    "ind.drop('ID', axis = 1, inplace = True)"
   ]
  },
  {
   "cell_type": "code",
   "execution_count": 303,
   "id": "a62d595b",
   "metadata": {},
   "outputs": [
    {
     "data": {
      "text/plain": [
       "Index(['Name', 'DOB', 'VaccinationType', 'VaccinationDate', 'Free or Paid',\n",
       "       'Country'],\n",
       "      dtype='object')"
      ]
     },
     "execution_count": 303,
     "metadata": {},
     "output_type": "execute_result"
    }
   ],
   "source": [
    "#checking the column names\n",
    "ind.columns"
   ]
  },
  {
   "cell_type": "code",
   "execution_count": 304,
   "id": "3b99968f",
   "metadata": {},
   "outputs": [
    {
     "data": {
      "text/html": [
       "<div>\n",
       "<style scoped>\n",
       "    .dataframe tbody tr th:only-of-type {\n",
       "        vertical-align: middle;\n",
       "    }\n",
       "\n",
       "    .dataframe tbody tr th {\n",
       "        vertical-align: top;\n",
       "    }\n",
       "\n",
       "    .dataframe thead th {\n",
       "        text-align: right;\n",
       "    }\n",
       "</style>\n",
       "<table border=\"1\" class=\"dataframe\">\n",
       "  <thead>\n",
       "    <tr style=\"text-align: right;\">\n",
       "      <th></th>\n",
       "      <th>Name</th>\n",
       "      <th>DOB</th>\n",
       "      <th>VaccinationType</th>\n",
       "      <th>VaccinationDate</th>\n",
       "      <th>Free or Paid</th>\n",
       "      <th>Country</th>\n",
       "    </tr>\n",
       "  </thead>\n",
       "  <tbody>\n",
       "    <tr>\n",
       "      <th>0</th>\n",
       "      <td>Vikas</td>\n",
       "      <td>1998-12-01</td>\n",
       "      <td>XYZ</td>\n",
       "      <td>2022-01-01</td>\n",
       "      <td>F</td>\n",
       "      <td>India</td>\n",
       "    </tr>\n",
       "    <tr>\n",
       "      <th>1</th>\n",
       "      <td>Rahul</td>\n",
       "      <td>1982-08-13</td>\n",
       "      <td>ABC</td>\n",
       "      <td>2022-03-05</td>\n",
       "      <td>P</td>\n",
       "      <td>India</td>\n",
       "    </tr>\n",
       "    <tr>\n",
       "      <th>2</th>\n",
       "      <td>Sameer</td>\n",
       "      <td>1952-08-13</td>\n",
       "      <td>ABC</td>\n",
       "      <td>2022-02-20</td>\n",
       "      <td>F</td>\n",
       "      <td>India</td>\n",
       "    </tr>\n",
       "  </tbody>\n",
       "</table>\n",
       "</div>"
      ],
      "text/plain": [
       "     Name        DOB VaccinationType VaccinationDate Free or Paid Country\n",
       "0   Vikas 1998-12-01             XYZ      2022-01-01            F   India\n",
       "1   Rahul 1982-08-13             ABC      2022-03-05            P   India\n",
       "2  Sameer 1952-08-13             ABC      2022-02-20            F   India"
      ]
     },
     "execution_count": 304,
     "metadata": {},
     "output_type": "execute_result"
    }
   ],
   "source": [
    "#checking\n",
    "ind.head()"
   ]
  },
  {
   "cell_type": "code",
   "execution_count": 305,
   "id": "932f469b",
   "metadata": {},
   "outputs": [
    {
     "name": "stdout",
     "output_type": "stream",
     "text": [
      "<class 'pandas.core.frame.DataFrame'>\n",
      "RangeIndex: 3 entries, 0 to 2\n",
      "Data columns (total 6 columns):\n",
      " #   Column           Non-Null Count  Dtype         \n",
      "---  ------           --------------  -----         \n",
      " 0   Name             3 non-null      object        \n",
      " 1   DOB              3 non-null      datetime64[ns]\n",
      " 2   VaccinationType  3 non-null      object        \n",
      " 3   VaccinationDate  3 non-null      datetime64[ns]\n",
      " 4   Free or Paid     3 non-null      object        \n",
      " 5   Country          3 non-null      object        \n",
      "dtypes: datetime64[ns](2), object(4)\n",
      "memory usage: 272.0+ bytes\n"
     ]
    }
   ],
   "source": [
    "#cheking info again\n",
    "ind.info()"
   ]
  },
  {
   "cell_type": "markdown",
   "id": "c610b7d7",
   "metadata": {},
   "source": [
    "## `USA`"
   ]
  },
  {
   "cell_type": "code",
   "execution_count": 306,
   "id": "7f507479",
   "metadata": {},
   "outputs": [],
   "source": [
    "#loading csv file\n",
    "usa = pd.read_csv('C:/Users/Rajeshri Jogi/Desktop/redataengineerpythonsqlincubytescaler/USA.csv')"
   ]
  },
  {
   "cell_type": "code",
   "execution_count": 307,
   "id": "35b1e26b",
   "metadata": {},
   "outputs": [
    {
     "data": {
      "text/html": [
       "<div>\n",
       "<style scoped>\n",
       "    .dataframe tbody tr th:only-of-type {\n",
       "        vertical-align: middle;\n",
       "    }\n",
       "\n",
       "    .dataframe tbody tr th {\n",
       "        vertical-align: top;\n",
       "    }\n",
       "\n",
       "    .dataframe thead th {\n",
       "        text-align: right;\n",
       "    }\n",
       "</style>\n",
       "<table border=\"1\" class=\"dataframe\">\n",
       "  <thead>\n",
       "    <tr style=\"text-align: right;\">\n",
       "      <th></th>\n",
       "      <th>ID</th>\n",
       "      <th>Name</th>\n",
       "      <th>VaccinationType</th>\n",
       "      <th>VaccinationDate</th>\n",
       "    </tr>\n",
       "  </thead>\n",
       "  <tbody>\n",
       "    <tr>\n",
       "      <th>0</th>\n",
       "      <td>1</td>\n",
       "      <td>Sam</td>\n",
       "      <td>EFG</td>\n",
       "      <td>06-05-2022</td>\n",
       "    </tr>\n",
       "    <tr>\n",
       "      <th>1</th>\n",
       "      <td>2</td>\n",
       "      <td>John</td>\n",
       "      <td>XYZ</td>\n",
       "      <td>10-05-2022</td>\n",
       "    </tr>\n",
       "    <tr>\n",
       "      <th>2</th>\n",
       "      <td>3</td>\n",
       "      <td>Mike</td>\n",
       "      <td>ABC</td>\n",
       "      <td>12-28-2021</td>\n",
       "    </tr>\n",
       "  </tbody>\n",
       "</table>\n",
       "</div>"
      ],
      "text/plain": [
       "   ID  Name VaccinationType VaccinationDate\n",
       "0   1   Sam             EFG      06-05-2022\n",
       "1   2  John             XYZ      10-05-2022\n",
       "2   3  Mike             ABC      12-28-2021"
      ]
     },
     "execution_count": 307,
     "metadata": {},
     "output_type": "execute_result"
    }
   ],
   "source": [
    "#checking the data\n",
    "usa.head()"
   ]
  },
  {
   "cell_type": "code",
   "execution_count": 308,
   "id": "c4e62edd",
   "metadata": {},
   "outputs": [
    {
     "data": {
      "text/plain": [
       "(3, 4)"
      ]
     },
     "execution_count": 308,
     "metadata": {},
     "output_type": "execute_result"
    }
   ],
   "source": [
    "#checking shape\n",
    "usa.shape"
   ]
  },
  {
   "cell_type": "code",
   "execution_count": 309,
   "id": "6bb7cba3",
   "metadata": {},
   "outputs": [
    {
     "name": "stdout",
     "output_type": "stream",
     "text": [
      "<class 'pandas.core.frame.DataFrame'>\n",
      "RangeIndex: 3 entries, 0 to 2\n",
      "Data columns (total 4 columns):\n",
      " #   Column           Non-Null Count  Dtype \n",
      "---  ------           --------------  ----- \n",
      " 0   ID               3 non-null      int64 \n",
      " 1   Name             3 non-null      object\n",
      " 2   VaccinationType  3 non-null      object\n",
      " 3   VaccinationDate  3 non-null      object\n",
      "dtypes: int64(1), object(3)\n",
      "memory usage: 224.0+ bytes\n"
     ]
    }
   ],
   "source": [
    "#checking info\n",
    "usa.info()"
   ]
  },
  {
   "cell_type": "code",
   "execution_count": 310,
   "id": "23f4e19d",
   "metadata": {},
   "outputs": [],
   "source": [
    "#changing dtype\n",
    "usa['VaccinationDate'] = pd.to_datetime(usa['VaccinationDate'])"
   ]
  },
  {
   "cell_type": "code",
   "execution_count": 311,
   "id": "c856dbb5",
   "metadata": {},
   "outputs": [
    {
     "name": "stdout",
     "output_type": "stream",
     "text": [
      "<class 'pandas.core.frame.DataFrame'>\n",
      "RangeIndex: 3 entries, 0 to 2\n",
      "Data columns (total 4 columns):\n",
      " #   Column           Non-Null Count  Dtype         \n",
      "---  ------           --------------  -----         \n",
      " 0   ID               3 non-null      int64         \n",
      " 1   Name             3 non-null      object        \n",
      " 2   VaccinationType  3 non-null      object        \n",
      " 3   VaccinationDate  3 non-null      datetime64[ns]\n",
      "dtypes: datetime64[ns](1), int64(1), object(2)\n",
      "memory usage: 224.0+ bytes\n"
     ]
    }
   ],
   "source": [
    "#checking info\n",
    "usa.info()"
   ]
  },
  {
   "cell_type": "code",
   "execution_count": 312,
   "id": "58b32366",
   "metadata": {},
   "outputs": [],
   "source": [
    "#created a new column with country name\n",
    "usa['Country'] = 'USA'"
   ]
  },
  {
   "cell_type": "code",
   "execution_count": 313,
   "id": "23f1009f",
   "metadata": {},
   "outputs": [],
   "source": [
    "#drop unique ids\n",
    "usa.drop('ID', axis = 1, inplace = True)"
   ]
  },
  {
   "cell_type": "code",
   "execution_count": 314,
   "id": "447f6301",
   "metadata": {},
   "outputs": [
    {
     "data": {
      "text/plain": [
       "Index(['Name', 'VaccinationType', 'VaccinationDate', 'Country'], dtype='object')"
      ]
     },
     "execution_count": 314,
     "metadata": {},
     "output_type": "execute_result"
    }
   ],
   "source": [
    "#checking the column names\n",
    "usa.columns"
   ]
  },
  {
   "cell_type": "code",
   "execution_count": 315,
   "id": "0c1314dc",
   "metadata": {},
   "outputs": [
    {
     "data": {
      "text/html": [
       "<div>\n",
       "<style scoped>\n",
       "    .dataframe tbody tr th:only-of-type {\n",
       "        vertical-align: middle;\n",
       "    }\n",
       "\n",
       "    .dataframe tbody tr th {\n",
       "        vertical-align: top;\n",
       "    }\n",
       "\n",
       "    .dataframe thead th {\n",
       "        text-align: right;\n",
       "    }\n",
       "</style>\n",
       "<table border=\"1\" class=\"dataframe\">\n",
       "  <thead>\n",
       "    <tr style=\"text-align: right;\">\n",
       "      <th></th>\n",
       "      <th>Name</th>\n",
       "      <th>VaccinationType</th>\n",
       "      <th>VaccinationDate</th>\n",
       "      <th>Country</th>\n",
       "    </tr>\n",
       "  </thead>\n",
       "  <tbody>\n",
       "    <tr>\n",
       "      <th>0</th>\n",
       "      <td>Sam</td>\n",
       "      <td>EFG</td>\n",
       "      <td>2022-06-05</td>\n",
       "      <td>USA</td>\n",
       "    </tr>\n",
       "    <tr>\n",
       "      <th>1</th>\n",
       "      <td>John</td>\n",
       "      <td>XYZ</td>\n",
       "      <td>2022-10-05</td>\n",
       "      <td>USA</td>\n",
       "    </tr>\n",
       "    <tr>\n",
       "      <th>2</th>\n",
       "      <td>Mike</td>\n",
       "      <td>ABC</td>\n",
       "      <td>2021-12-28</td>\n",
       "      <td>USA</td>\n",
       "    </tr>\n",
       "  </tbody>\n",
       "</table>\n",
       "</div>"
      ],
      "text/plain": [
       "   Name VaccinationType VaccinationDate Country\n",
       "0   Sam             EFG      2022-06-05     USA\n",
       "1  John             XYZ      2022-10-05     USA\n",
       "2  Mike             ABC      2021-12-28     USA"
      ]
     },
     "execution_count": 315,
     "metadata": {},
     "output_type": "execute_result"
    }
   ],
   "source": [
    "#checking again\n",
    "usa.head()"
   ]
  },
  {
   "cell_type": "code",
   "execution_count": 316,
   "id": "427b9675",
   "metadata": {},
   "outputs": [
    {
     "name": "stdout",
     "output_type": "stream",
     "text": [
      "<class 'pandas.core.frame.DataFrame'>\n",
      "RangeIndex: 3 entries, 0 to 2\n",
      "Data columns (total 4 columns):\n",
      " #   Column           Non-Null Count  Dtype         \n",
      "---  ------           --------------  -----         \n",
      " 0   Name             3 non-null      object        \n",
      " 1   VaccinationType  3 non-null      object        \n",
      " 2   VaccinationDate  3 non-null      datetime64[ns]\n",
      " 3   Country          3 non-null      object        \n",
      "dtypes: datetime64[ns](1), object(3)\n",
      "memory usage: 224.0+ bytes\n"
     ]
    }
   ],
   "source": [
    "#checking data details\n",
    "usa.info()"
   ]
  },
  {
   "cell_type": "markdown",
   "id": "2ec3a31b",
   "metadata": {},
   "source": [
    "## `Merging the Datasets`"
   ]
  },
  {
   "cell_type": "code",
   "execution_count": 317,
   "id": "12672699",
   "metadata": {},
   "outputs": [],
   "source": [
    "#merging two datasets as outer join to retain all the data\n",
    "df1 = pd.merge(aus, ind, how = 'outer')"
   ]
  },
  {
   "cell_type": "code",
   "execution_count": 318,
   "id": "ed7d6f4c",
   "metadata": {},
   "outputs": [
    {
     "data": {
      "text/html": [
       "<div>\n",
       "<style scoped>\n",
       "    .dataframe tbody tr th:only-of-type {\n",
       "        vertical-align: middle;\n",
       "    }\n",
       "\n",
       "    .dataframe tbody tr th {\n",
       "        vertical-align: top;\n",
       "    }\n",
       "\n",
       "    .dataframe thead th {\n",
       "        text-align: right;\n",
       "    }\n",
       "</style>\n",
       "<table border=\"1\" class=\"dataframe\">\n",
       "  <thead>\n",
       "    <tr style=\"text-align: right;\">\n",
       "      <th></th>\n",
       "      <th>Name</th>\n",
       "      <th>VaccinationType</th>\n",
       "      <th>DOB</th>\n",
       "      <th>VaccinationDate</th>\n",
       "      <th>Country</th>\n",
       "      <th>Free or Paid</th>\n",
       "    </tr>\n",
       "  </thead>\n",
       "  <tbody>\n",
       "    <tr>\n",
       "      <th>0</th>\n",
       "      <td>Mike</td>\n",
       "      <td>LMN</td>\n",
       "      <td>NaT</td>\n",
       "      <td>2022-05-11</td>\n",
       "      <td>Australia</td>\n",
       "      <td>NaN</td>\n",
       "    </tr>\n",
       "    <tr>\n",
       "      <th>1</th>\n",
       "      <td>Jonnathan</td>\n",
       "      <td>XYZ</td>\n",
       "      <td>1997-12-13</td>\n",
       "      <td>NaT</td>\n",
       "      <td>Australia</td>\n",
       "      <td>NaN</td>\n",
       "    </tr>\n",
       "    <tr>\n",
       "      <th>2</th>\n",
       "      <td>Cristina</td>\n",
       "      <td>ABC</td>\n",
       "      <td>1998-03-12</td>\n",
       "      <td>2022-03-12</td>\n",
       "      <td>Australia</td>\n",
       "      <td>NaN</td>\n",
       "    </tr>\n",
       "    <tr>\n",
       "      <th>3</th>\n",
       "      <td>Vikas</td>\n",
       "      <td>XYZ</td>\n",
       "      <td>1998-12-01</td>\n",
       "      <td>2022-01-01</td>\n",
       "      <td>India</td>\n",
       "      <td>F</td>\n",
       "    </tr>\n",
       "    <tr>\n",
       "      <th>4</th>\n",
       "      <td>Rahul</td>\n",
       "      <td>ABC</td>\n",
       "      <td>1982-08-13</td>\n",
       "      <td>2022-03-05</td>\n",
       "      <td>India</td>\n",
       "      <td>P</td>\n",
       "    </tr>\n",
       "    <tr>\n",
       "      <th>5</th>\n",
       "      <td>Sameer</td>\n",
       "      <td>ABC</td>\n",
       "      <td>1952-08-13</td>\n",
       "      <td>2022-02-20</td>\n",
       "      <td>India</td>\n",
       "      <td>F</td>\n",
       "    </tr>\n",
       "  </tbody>\n",
       "</table>\n",
       "</div>"
      ],
      "text/plain": [
       "        Name VaccinationType        DOB VaccinationDate    Country  \\\n",
       "0       Mike             LMN        NaT      2022-05-11  Australia   \n",
       "1  Jonnathan             XYZ 1997-12-13             NaT  Australia   \n",
       "2   Cristina             ABC 1998-03-12      2022-03-12  Australia   \n",
       "3      Vikas             XYZ 1998-12-01      2022-01-01      India   \n",
       "4      Rahul             ABC 1982-08-13      2022-03-05      India   \n",
       "5     Sameer             ABC 1952-08-13      2022-02-20      India   \n",
       "\n",
       "  Free or Paid  \n",
       "0          NaN  \n",
       "1          NaN  \n",
       "2          NaN  \n",
       "3            F  \n",
       "4            P  \n",
       "5            F  "
      ]
     },
     "execution_count": 318,
     "metadata": {},
     "output_type": "execute_result"
    }
   ],
   "source": [
    "#checking\n",
    "df1"
   ]
  },
  {
   "cell_type": "code",
   "execution_count": 319,
   "id": "e9e532e6",
   "metadata": {},
   "outputs": [],
   "source": [
    "#merging two datasets as outer join to retain all the data\n",
    "df = pd.merge(df1,usa, how = 'outer')"
   ]
  },
  {
   "cell_type": "code",
   "execution_count": 320,
   "id": "df9481e7",
   "metadata": {},
   "outputs": [
    {
     "data": {
      "text/html": [
       "<div>\n",
       "<style scoped>\n",
       "    .dataframe tbody tr th:only-of-type {\n",
       "        vertical-align: middle;\n",
       "    }\n",
       "\n",
       "    .dataframe tbody tr th {\n",
       "        vertical-align: top;\n",
       "    }\n",
       "\n",
       "    .dataframe thead th {\n",
       "        text-align: right;\n",
       "    }\n",
       "</style>\n",
       "<table border=\"1\" class=\"dataframe\">\n",
       "  <thead>\n",
       "    <tr style=\"text-align: right;\">\n",
       "      <th></th>\n",
       "      <th>Name</th>\n",
       "      <th>VaccinationType</th>\n",
       "      <th>DOB</th>\n",
       "      <th>VaccinationDate</th>\n",
       "      <th>Country</th>\n",
       "      <th>Free or Paid</th>\n",
       "    </tr>\n",
       "  </thead>\n",
       "  <tbody>\n",
       "    <tr>\n",
       "      <th>0</th>\n",
       "      <td>Mike</td>\n",
       "      <td>LMN</td>\n",
       "      <td>NaT</td>\n",
       "      <td>2022-05-11</td>\n",
       "      <td>Australia</td>\n",
       "      <td>NaN</td>\n",
       "    </tr>\n",
       "    <tr>\n",
       "      <th>1</th>\n",
       "      <td>Jonnathan</td>\n",
       "      <td>XYZ</td>\n",
       "      <td>1997-12-13</td>\n",
       "      <td>NaT</td>\n",
       "      <td>Australia</td>\n",
       "      <td>NaN</td>\n",
       "    </tr>\n",
       "    <tr>\n",
       "      <th>2</th>\n",
       "      <td>Cristina</td>\n",
       "      <td>ABC</td>\n",
       "      <td>1998-03-12</td>\n",
       "      <td>2022-03-12</td>\n",
       "      <td>Australia</td>\n",
       "      <td>NaN</td>\n",
       "    </tr>\n",
       "    <tr>\n",
       "      <th>3</th>\n",
       "      <td>Vikas</td>\n",
       "      <td>XYZ</td>\n",
       "      <td>1998-12-01</td>\n",
       "      <td>2022-01-01</td>\n",
       "      <td>India</td>\n",
       "      <td>F</td>\n",
       "    </tr>\n",
       "    <tr>\n",
       "      <th>4</th>\n",
       "      <td>Rahul</td>\n",
       "      <td>ABC</td>\n",
       "      <td>1982-08-13</td>\n",
       "      <td>2022-03-05</td>\n",
       "      <td>India</td>\n",
       "      <td>P</td>\n",
       "    </tr>\n",
       "    <tr>\n",
       "      <th>5</th>\n",
       "      <td>Sameer</td>\n",
       "      <td>ABC</td>\n",
       "      <td>1952-08-13</td>\n",
       "      <td>2022-02-20</td>\n",
       "      <td>India</td>\n",
       "      <td>F</td>\n",
       "    </tr>\n",
       "    <tr>\n",
       "      <th>6</th>\n",
       "      <td>Sam</td>\n",
       "      <td>EFG</td>\n",
       "      <td>NaT</td>\n",
       "      <td>2022-06-05</td>\n",
       "      <td>USA</td>\n",
       "      <td>NaN</td>\n",
       "    </tr>\n",
       "    <tr>\n",
       "      <th>7</th>\n",
       "      <td>John</td>\n",
       "      <td>XYZ</td>\n",
       "      <td>NaT</td>\n",
       "      <td>2022-10-05</td>\n",
       "      <td>USA</td>\n",
       "      <td>NaN</td>\n",
       "    </tr>\n",
       "    <tr>\n",
       "      <th>8</th>\n",
       "      <td>Mike</td>\n",
       "      <td>ABC</td>\n",
       "      <td>NaT</td>\n",
       "      <td>2021-12-28</td>\n",
       "      <td>USA</td>\n",
       "      <td>NaN</td>\n",
       "    </tr>\n",
       "  </tbody>\n",
       "</table>\n",
       "</div>"
      ],
      "text/plain": [
       "        Name VaccinationType        DOB VaccinationDate    Country  \\\n",
       "0       Mike             LMN        NaT      2022-05-11  Australia   \n",
       "1  Jonnathan             XYZ 1997-12-13             NaT  Australia   \n",
       "2   Cristina             ABC 1998-03-12      2022-03-12  Australia   \n",
       "3      Vikas             XYZ 1998-12-01      2022-01-01      India   \n",
       "4      Rahul             ABC 1982-08-13      2022-03-05      India   \n",
       "5     Sameer             ABC 1952-08-13      2022-02-20      India   \n",
       "6        Sam             EFG        NaT      2022-06-05        USA   \n",
       "7       John             XYZ        NaT      2022-10-05        USA   \n",
       "8       Mike             ABC        NaT      2021-12-28        USA   \n",
       "\n",
       "  Free or Paid  \n",
       "0          NaN  \n",
       "1          NaN  \n",
       "2          NaN  \n",
       "3            F  \n",
       "4            P  \n",
       "5            F  \n",
       "6          NaN  \n",
       "7          NaN  \n",
       "8          NaN  "
      ]
     },
     "execution_count": 320,
     "metadata": {},
     "output_type": "execute_result"
    }
   ],
   "source": [
    "#checking\n",
    "df"
   ]
  },
  {
   "cell_type": "code",
   "execution_count": 321,
   "id": "18641305",
   "metadata": {},
   "outputs": [
    {
     "data": {
      "text/plain": [
       "Index(['Name', 'VaccinationType', 'DOB', 'VaccinationDate', 'Country',\n",
       "       'Free or Paid'],\n",
       "      dtype='object')"
      ]
     },
     "execution_count": 321,
     "metadata": {},
     "output_type": "execute_result"
    }
   ],
   "source": [
    "#checking column names\n",
    "df.columns"
   ]
  },
  {
   "cell_type": "code",
   "execution_count": 322,
   "id": "7c50092a",
   "metadata": {},
   "outputs": [
    {
     "data": {
      "text/html": [
       "<div>\n",
       "<style scoped>\n",
       "    .dataframe tbody tr th:only-of-type {\n",
       "        vertical-align: middle;\n",
       "    }\n",
       "\n",
       "    .dataframe tbody tr th {\n",
       "        vertical-align: top;\n",
       "    }\n",
       "\n",
       "    .dataframe thead th {\n",
       "        text-align: right;\n",
       "    }\n",
       "</style>\n",
       "<table border=\"1\" class=\"dataframe\">\n",
       "  <thead>\n",
       "    <tr style=\"text-align: right;\">\n",
       "      <th></th>\n",
       "      <th>VaccinationType</th>\n",
       "      <th>Country</th>\n",
       "    </tr>\n",
       "  </thead>\n",
       "  <tbody>\n",
       "    <tr>\n",
       "      <th>0</th>\n",
       "      <td>LMN</td>\n",
       "      <td>Australia</td>\n",
       "    </tr>\n",
       "    <tr>\n",
       "      <th>1</th>\n",
       "      <td>XYZ</td>\n",
       "      <td>Australia</td>\n",
       "    </tr>\n",
       "    <tr>\n",
       "      <th>2</th>\n",
       "      <td>ABC</td>\n",
       "      <td>Australia</td>\n",
       "    </tr>\n",
       "    <tr>\n",
       "      <th>3</th>\n",
       "      <td>XYZ</td>\n",
       "      <td>India</td>\n",
       "    </tr>\n",
       "    <tr>\n",
       "      <th>4</th>\n",
       "      <td>ABC</td>\n",
       "      <td>India</td>\n",
       "    </tr>\n",
       "    <tr>\n",
       "      <th>5</th>\n",
       "      <td>ABC</td>\n",
       "      <td>India</td>\n",
       "    </tr>\n",
       "    <tr>\n",
       "      <th>6</th>\n",
       "      <td>EFG</td>\n",
       "      <td>USA</td>\n",
       "    </tr>\n",
       "    <tr>\n",
       "      <th>7</th>\n",
       "      <td>XYZ</td>\n",
       "      <td>USA</td>\n",
       "    </tr>\n",
       "    <tr>\n",
       "      <th>8</th>\n",
       "      <td>ABC</td>\n",
       "      <td>USA</td>\n",
       "    </tr>\n",
       "  </tbody>\n",
       "</table>\n",
       "</div>"
      ],
      "text/plain": [
       "  VaccinationType    Country\n",
       "0             LMN  Australia\n",
       "1             XYZ  Australia\n",
       "2             ABC  Australia\n",
       "3             XYZ      India\n",
       "4             ABC      India\n",
       "5             ABC      India\n",
       "6             EFG        USA\n",
       "7             XYZ        USA\n",
       "8             ABC        USA"
      ]
     },
     "execution_count": 322,
     "metadata": {},
     "output_type": "execute_result"
    }
   ],
   "source": [
    "#drop the unwanted columns\n",
    "df_final = df.drop(['Name', 'DOB', 'VaccinationDate','Free or Paid'], axis = 1)\n",
    "df_final"
   ]
  },
  {
   "cell_type": "code",
   "execution_count": 323,
   "id": "53df417e",
   "metadata": {},
   "outputs": [
    {
     "data": {
      "text/plain": [
       "(9, 2)"
      ]
     },
     "execution_count": 323,
     "metadata": {},
     "output_type": "execute_result"
    }
   ],
   "source": [
    "#checing shape\n",
    "df_final.shape"
   ]
  },
  {
   "cell_type": "code",
   "execution_count": 324,
   "id": "b478ad50",
   "metadata": {},
   "outputs": [
    {
     "data": {
      "text/html": [
       "<div>\n",
       "<style scoped>\n",
       "    .dataframe tbody tr th:only-of-type {\n",
       "        vertical-align: middle;\n",
       "    }\n",
       "\n",
       "    .dataframe tbody tr th {\n",
       "        vertical-align: top;\n",
       "    }\n",
       "\n",
       "    .dataframe thead th {\n",
       "        text-align: right;\n",
       "    }\n",
       "</style>\n",
       "<table border=\"1\" class=\"dataframe\">\n",
       "  <thead>\n",
       "    <tr style=\"text-align: right;\">\n",
       "      <th></th>\n",
       "      <th>Country</th>\n",
       "      <th>VaccinationType</th>\n",
       "    </tr>\n",
       "  </thead>\n",
       "  <tbody>\n",
       "    <tr>\n",
       "      <th>0</th>\n",
       "      <td>Australia</td>\n",
       "      <td>LMN</td>\n",
       "    </tr>\n",
       "    <tr>\n",
       "      <th>1</th>\n",
       "      <td>Australia</td>\n",
       "      <td>XYZ</td>\n",
       "    </tr>\n",
       "    <tr>\n",
       "      <th>2</th>\n",
       "      <td>Australia</td>\n",
       "      <td>ABC</td>\n",
       "    </tr>\n",
       "    <tr>\n",
       "      <th>3</th>\n",
       "      <td>India</td>\n",
       "      <td>XYZ</td>\n",
       "    </tr>\n",
       "    <tr>\n",
       "      <th>4</th>\n",
       "      <td>India</td>\n",
       "      <td>ABC</td>\n",
       "    </tr>\n",
       "    <tr>\n",
       "      <th>5</th>\n",
       "      <td>India</td>\n",
       "      <td>ABC</td>\n",
       "    </tr>\n",
       "    <tr>\n",
       "      <th>6</th>\n",
       "      <td>USA</td>\n",
       "      <td>EFG</td>\n",
       "    </tr>\n",
       "    <tr>\n",
       "      <th>7</th>\n",
       "      <td>USA</td>\n",
       "      <td>XYZ</td>\n",
       "    </tr>\n",
       "    <tr>\n",
       "      <th>8</th>\n",
       "      <td>USA</td>\n",
       "      <td>ABC</td>\n",
       "    </tr>\n",
       "  </tbody>\n",
       "</table>\n",
       "</div>"
      ],
      "text/plain": [
       "     Country VaccinationType\n",
       "0  Australia             LMN\n",
       "1  Australia             XYZ\n",
       "2  Australia             ABC\n",
       "3      India             XYZ\n",
       "4      India             ABC\n",
       "5      India             ABC\n",
       "6        USA             EFG\n",
       "7        USA             XYZ\n",
       "8        USA             ABC"
      ]
     },
     "execution_count": 324,
     "metadata": {},
     "output_type": "execute_result"
    }
   ],
   "source": [
    "#changing the columnn allignment\n",
    "df_final = df_final[['Country', 'VaccinationType']]\n",
    "df_final"
   ]
  },
  {
   "cell_type": "code",
   "execution_count": 325,
   "id": "98b4b914",
   "metadata": {},
   "outputs": [
    {
     "data": {
      "text/plain": [
       "ABC    4\n",
       "XYZ    3\n",
       "LMN    1\n",
       "EFG    1\n",
       "Name: VaccinationType, dtype: int64"
      ]
     },
     "execution_count": 325,
     "metadata": {},
     "output_type": "execute_result"
    }
   ],
   "source": [
    "df.VaccinationType.value_counts()"
   ]
  },
  {
   "cell_type": "code",
   "execution_count": 326,
   "id": "2e7c1eab",
   "metadata": {},
   "outputs": [
    {
     "data": {
      "text/plain": [
       "VaccinationType\n",
       "ABC    AustraliaIndiaIndiaUSA\n",
       "EFG                       USA\n",
       "LMN                 Australia\n",
       "XYZ         AustraliaIndiaUSA\n",
       "Name: Country, dtype: object"
      ]
     },
     "execution_count": 326,
     "metadata": {},
     "output_type": "execute_result"
    }
   ],
   "source": [
    "df.groupby('VaccinationType')['Country'].sum()"
   ]
  },
  {
   "cell_type": "markdown",
   "id": "c03d3c4e",
   "metadata": {},
   "source": [
    "# `Metric 1: CountryName, VaccinationType, No. of vaccinations`"
   ]
  },
  {
   "cell_type": "code",
   "execution_count": 327,
   "id": "c6cff952",
   "metadata": {},
   "outputs": [
    {
     "data": {
      "text/html": [
       "<div>\n",
       "<style scoped>\n",
       "    .dataframe tbody tr th:only-of-type {\n",
       "        vertical-align: middle;\n",
       "    }\n",
       "\n",
       "    .dataframe tbody tr th {\n",
       "        vertical-align: top;\n",
       "    }\n",
       "\n",
       "    .dataframe thead th {\n",
       "        text-align: right;\n",
       "    }\n",
       "</style>\n",
       "<table border=\"1\" class=\"dataframe\">\n",
       "  <thead>\n",
       "    <tr style=\"text-align: right;\">\n",
       "      <th>VaccinationType</th>\n",
       "      <th>ABC</th>\n",
       "      <th>EFG</th>\n",
       "      <th>LMN</th>\n",
       "      <th>XYZ</th>\n",
       "      <th>All</th>\n",
       "    </tr>\n",
       "    <tr>\n",
       "      <th>Country</th>\n",
       "      <th></th>\n",
       "      <th></th>\n",
       "      <th></th>\n",
       "      <th></th>\n",
       "      <th></th>\n",
       "    </tr>\n",
       "  </thead>\n",
       "  <tbody>\n",
       "    <tr>\n",
       "      <th>Australia</th>\n",
       "      <td>0.111111</td>\n",
       "      <td>0.000000</td>\n",
       "      <td>0.111111</td>\n",
       "      <td>0.111111</td>\n",
       "      <td>0.333333</td>\n",
       "    </tr>\n",
       "    <tr>\n",
       "      <th>India</th>\n",
       "      <td>0.222222</td>\n",
       "      <td>0.000000</td>\n",
       "      <td>0.000000</td>\n",
       "      <td>0.111111</td>\n",
       "      <td>0.333333</td>\n",
       "    </tr>\n",
       "    <tr>\n",
       "      <th>USA</th>\n",
       "      <td>0.111111</td>\n",
       "      <td>0.111111</td>\n",
       "      <td>0.000000</td>\n",
       "      <td>0.111111</td>\n",
       "      <td>0.333333</td>\n",
       "    </tr>\n",
       "    <tr>\n",
       "      <th>All</th>\n",
       "      <td>0.444444</td>\n",
       "      <td>0.111111</td>\n",
       "      <td>0.111111</td>\n",
       "      <td>0.333333</td>\n",
       "      <td>1.000000</td>\n",
       "    </tr>\n",
       "  </tbody>\n",
       "</table>\n",
       "</div>"
      ],
      "text/plain": [
       "VaccinationType       ABC       EFG       LMN       XYZ       All\n",
       "Country                                                          \n",
       "Australia        0.111111  0.000000  0.111111  0.111111  0.333333\n",
       "India            0.222222  0.000000  0.000000  0.111111  0.333333\n",
       "USA              0.111111  0.111111  0.000000  0.111111  0.333333\n",
       "All              0.444444  0.111111  0.111111  0.333333  1.000000"
      ]
     },
     "execution_count": 327,
     "metadata": {},
     "output_type": "execute_result"
    }
   ],
   "source": [
    "#checking all the margins as per country and vaccination type\n",
    "pd.crosstab(df_final['Country'],df_final['VaccinationType'],margins=True,normalize = True)\n"
   ]
  },
  {
   "cell_type": "code",
   "execution_count": 328,
   "id": "087ed351",
   "metadata": {},
   "outputs": [],
   "source": [
    "#groupby country and vaccination type to get the no of each vaccine count given in a country\n",
    "metric1 = df_final.groupby(['Country', 'VaccinationType']).agg({'VaccinationType':'count'}).rename(columns = {'VaccinationType': 'No_of_Vaccinations'}).reset_index()"
   ]
  },
  {
   "cell_type": "code",
   "execution_count": 329,
   "id": "211da128",
   "metadata": {},
   "outputs": [
    {
     "data": {
      "text/html": [
       "<div>\n",
       "<style scoped>\n",
       "    .dataframe tbody tr th:only-of-type {\n",
       "        vertical-align: middle;\n",
       "    }\n",
       "\n",
       "    .dataframe tbody tr th {\n",
       "        vertical-align: top;\n",
       "    }\n",
       "\n",
       "    .dataframe thead th {\n",
       "        text-align: right;\n",
       "    }\n",
       "</style>\n",
       "<table border=\"1\" class=\"dataframe\">\n",
       "  <thead>\n",
       "    <tr style=\"text-align: right;\">\n",
       "      <th></th>\n",
       "      <th>Country</th>\n",
       "      <th>VaccinationType</th>\n",
       "      <th>No_of_Vaccinations</th>\n",
       "    </tr>\n",
       "  </thead>\n",
       "  <tbody>\n",
       "    <tr>\n",
       "      <th>0</th>\n",
       "      <td>Australia</td>\n",
       "      <td>ABC</td>\n",
       "      <td>1</td>\n",
       "    </tr>\n",
       "    <tr>\n",
       "      <th>1</th>\n",
       "      <td>Australia</td>\n",
       "      <td>LMN</td>\n",
       "      <td>1</td>\n",
       "    </tr>\n",
       "    <tr>\n",
       "      <th>2</th>\n",
       "      <td>Australia</td>\n",
       "      <td>XYZ</td>\n",
       "      <td>1</td>\n",
       "    </tr>\n",
       "    <tr>\n",
       "      <th>3</th>\n",
       "      <td>India</td>\n",
       "      <td>ABC</td>\n",
       "      <td>2</td>\n",
       "    </tr>\n",
       "    <tr>\n",
       "      <th>4</th>\n",
       "      <td>India</td>\n",
       "      <td>XYZ</td>\n",
       "      <td>1</td>\n",
       "    </tr>\n",
       "    <tr>\n",
       "      <th>5</th>\n",
       "      <td>USA</td>\n",
       "      <td>ABC</td>\n",
       "      <td>1</td>\n",
       "    </tr>\n",
       "    <tr>\n",
       "      <th>6</th>\n",
       "      <td>USA</td>\n",
       "      <td>EFG</td>\n",
       "      <td>1</td>\n",
       "    </tr>\n",
       "    <tr>\n",
       "      <th>7</th>\n",
       "      <td>USA</td>\n",
       "      <td>XYZ</td>\n",
       "      <td>1</td>\n",
       "    </tr>\n",
       "  </tbody>\n",
       "</table>\n",
       "</div>"
      ],
      "text/plain": [
       "     Country VaccinationType  No_of_Vaccinations\n",
       "0  Australia             ABC                   1\n",
       "1  Australia             LMN                   1\n",
       "2  Australia             XYZ                   1\n",
       "3      India             ABC                   2\n",
       "4      India             XYZ                   1\n",
       "5        USA             ABC                   1\n",
       "6        USA             EFG                   1\n",
       "7        USA             XYZ                   1"
      ]
     },
     "execution_count": 329,
     "metadata": {},
     "output_type": "execute_result"
    }
   ],
   "source": [
    "#checking\n",
    "metric1"
   ]
  },
  {
   "cell_type": "markdown",
   "id": "1c8f60c9",
   "metadata": {},
   "source": [
    "```\n",
    "The above metric shows Total vaccination count by country and vaccination type\n",
    "\n",
    "```"
   ]
  },
  {
   "cell_type": "markdown",
   "id": "a59505c9",
   "metadata": {},
   "source": [
    "# Summary of Metric1:\n",
    "- No of vaccinations means: In each country how many people are given the particular vaccine.\n",
    "- Example: In India, Vaccination Type 'ABC' is given to 2 people"
   ]
  },
  {
   "cell_type": "code",
   "execution_count": 330,
   "id": "71b75cef",
   "metadata": {},
   "outputs": [],
   "source": [
    "#exporting csv file for further use\n",
    "metric1.to_csv('metric1.csv')"
   ]
  },
  {
   "cell_type": "markdown",
   "id": "1f131fc0",
   "metadata": {},
   "source": [
    "# `Metric2: CountryName, % Vaccinated`"
   ]
  },
  {
   "cell_type": "markdown",
   "id": "8f5a099c",
   "metadata": {},
   "source": [
    "### Assuming the population for each country:\n",
    "India = 500\n",
    "Australia = 200\n",
    "USA = 350"
   ]
  },
  {
   "cell_type": "code",
   "execution_count": 331,
   "id": "b1e91360",
   "metadata": {},
   "outputs": [
    {
     "data": {
      "text/html": [
       "<div>\n",
       "<style scoped>\n",
       "    .dataframe tbody tr th:only-of-type {\n",
       "        vertical-align: middle;\n",
       "    }\n",
       "\n",
       "    .dataframe tbody tr th {\n",
       "        vertical-align: top;\n",
       "    }\n",
       "\n",
       "    .dataframe thead th {\n",
       "        text-align: right;\n",
       "    }\n",
       "</style>\n",
       "<table border=\"1\" class=\"dataframe\">\n",
       "  <thead>\n",
       "    <tr style=\"text-align: right;\">\n",
       "      <th></th>\n",
       "      <th>Country</th>\n",
       "      <th>VaccinationType</th>\n",
       "      <th>No_of_Vaccinations</th>\n",
       "    </tr>\n",
       "  </thead>\n",
       "  <tbody>\n",
       "    <tr>\n",
       "      <th>0</th>\n",
       "      <td>Australia</td>\n",
       "      <td>ABC</td>\n",
       "      <td>1</td>\n",
       "    </tr>\n",
       "    <tr>\n",
       "      <th>1</th>\n",
       "      <td>Australia</td>\n",
       "      <td>LMN</td>\n",
       "      <td>1</td>\n",
       "    </tr>\n",
       "    <tr>\n",
       "      <th>2</th>\n",
       "      <td>Australia</td>\n",
       "      <td>XYZ</td>\n",
       "      <td>1</td>\n",
       "    </tr>\n",
       "    <tr>\n",
       "      <th>3</th>\n",
       "      <td>India</td>\n",
       "      <td>ABC</td>\n",
       "      <td>2</td>\n",
       "    </tr>\n",
       "    <tr>\n",
       "      <th>4</th>\n",
       "      <td>India</td>\n",
       "      <td>XYZ</td>\n",
       "      <td>1</td>\n",
       "    </tr>\n",
       "    <tr>\n",
       "      <th>5</th>\n",
       "      <td>USA</td>\n",
       "      <td>ABC</td>\n",
       "      <td>1</td>\n",
       "    </tr>\n",
       "    <tr>\n",
       "      <th>6</th>\n",
       "      <td>USA</td>\n",
       "      <td>EFG</td>\n",
       "      <td>1</td>\n",
       "    </tr>\n",
       "    <tr>\n",
       "      <th>7</th>\n",
       "      <td>USA</td>\n",
       "      <td>XYZ</td>\n",
       "      <td>1</td>\n",
       "    </tr>\n",
       "  </tbody>\n",
       "</table>\n",
       "</div>"
      ],
      "text/plain": [
       "     Country VaccinationType  No_of_Vaccinations\n",
       "0  Australia             ABC                   1\n",
       "1  Australia             LMN                   1\n",
       "2  Australia             XYZ                   1\n",
       "3      India             ABC                   2\n",
       "4      India             XYZ                   1\n",
       "5        USA             ABC                   1\n",
       "6        USA             EFG                   1\n",
       "7        USA             XYZ                   1"
      ]
     },
     "execution_count": 331,
     "metadata": {},
     "output_type": "execute_result"
    }
   ],
   "source": [
    "#checking\n",
    "metric1"
   ]
  },
  {
   "cell_type": "code",
   "execution_count": 332,
   "id": "e5595778",
   "metadata": {},
   "outputs": [],
   "source": [
    "#incorporating population for each country\n",
    "\n",
    "metric1.loc[metric1.Country == 'India', 'Population'] = 500\n",
    "metric1.loc[metric1.Country == 'USA', 'Population'] = 350"
   ]
  },
  {
   "cell_type": "code",
   "execution_count": 333,
   "id": "0be8b8a2",
   "metadata": {},
   "outputs": [
    {
     "data": {
      "text/html": [
       "<div>\n",
       "<style scoped>\n",
       "    .dataframe tbody tr th:only-of-type {\n",
       "        vertical-align: middle;\n",
       "    }\n",
       "\n",
       "    .dataframe tbody tr th {\n",
       "        vertical-align: top;\n",
       "    }\n",
       "\n",
       "    .dataframe thead th {\n",
       "        text-align: right;\n",
       "    }\n",
       "</style>\n",
       "<table border=\"1\" class=\"dataframe\">\n",
       "  <thead>\n",
       "    <tr style=\"text-align: right;\">\n",
       "      <th></th>\n",
       "      <th>Country</th>\n",
       "      <th>VaccinationType</th>\n",
       "      <th>No_of_Vaccinations</th>\n",
       "      <th>Population</th>\n",
       "    </tr>\n",
       "  </thead>\n",
       "  <tbody>\n",
       "    <tr>\n",
       "      <th>0</th>\n",
       "      <td>Australia</td>\n",
       "      <td>ABC</td>\n",
       "      <td>1</td>\n",
       "      <td>200.0</td>\n",
       "    </tr>\n",
       "    <tr>\n",
       "      <th>1</th>\n",
       "      <td>Australia</td>\n",
       "      <td>LMN</td>\n",
       "      <td>1</td>\n",
       "      <td>200.0</td>\n",
       "    </tr>\n",
       "    <tr>\n",
       "      <th>2</th>\n",
       "      <td>Australia</td>\n",
       "      <td>XYZ</td>\n",
       "      <td>1</td>\n",
       "      <td>200.0</td>\n",
       "    </tr>\n",
       "    <tr>\n",
       "      <th>3</th>\n",
       "      <td>India</td>\n",
       "      <td>ABC</td>\n",
       "      <td>2</td>\n",
       "      <td>500.0</td>\n",
       "    </tr>\n",
       "    <tr>\n",
       "      <th>4</th>\n",
       "      <td>India</td>\n",
       "      <td>XYZ</td>\n",
       "      <td>1</td>\n",
       "      <td>500.0</td>\n",
       "    </tr>\n",
       "    <tr>\n",
       "      <th>5</th>\n",
       "      <td>USA</td>\n",
       "      <td>ABC</td>\n",
       "      <td>1</td>\n",
       "      <td>350.0</td>\n",
       "    </tr>\n",
       "    <tr>\n",
       "      <th>6</th>\n",
       "      <td>USA</td>\n",
       "      <td>EFG</td>\n",
       "      <td>1</td>\n",
       "      <td>350.0</td>\n",
       "    </tr>\n",
       "    <tr>\n",
       "      <th>7</th>\n",
       "      <td>USA</td>\n",
       "      <td>XYZ</td>\n",
       "      <td>1</td>\n",
       "      <td>350.0</td>\n",
       "    </tr>\n",
       "  </tbody>\n",
       "</table>\n",
       "</div>"
      ],
      "text/plain": [
       "     Country VaccinationType  No_of_Vaccinations  Population\n",
       "0  Australia             ABC                   1       200.0\n",
       "1  Australia             LMN                   1       200.0\n",
       "2  Australia             XYZ                   1       200.0\n",
       "3      India             ABC                   2       500.0\n",
       "4      India             XYZ                   1       500.0\n",
       "5        USA             ABC                   1       350.0\n",
       "6        USA             EFG                   1       350.0\n",
       "7        USA             XYZ                   1       350.0"
      ]
     },
     "execution_count": 333,
     "metadata": {},
     "output_type": "execute_result"
    }
   ],
   "source": [
    "#checking\n",
    "metric1"
   ]
  },
  {
   "cell_type": "code",
   "execution_count": 334,
   "id": "eae6d261",
   "metadata": {},
   "outputs": [
    {
     "data": {
      "text/html": [
       "<div>\n",
       "<style scoped>\n",
       "    .dataframe tbody tr th:only-of-type {\n",
       "        vertical-align: middle;\n",
       "    }\n",
       "\n",
       "    .dataframe tbody tr th {\n",
       "        vertical-align: top;\n",
       "    }\n",
       "\n",
       "    .dataframe thead th {\n",
       "        text-align: right;\n",
       "    }\n",
       "</style>\n",
       "<table border=\"1\" class=\"dataframe\">\n",
       "  <thead>\n",
       "    <tr style=\"text-align: right;\">\n",
       "      <th></th>\n",
       "      <th>Country</th>\n",
       "      <th>VaccinationType</th>\n",
       "      <th>No_of_Vaccinations</th>\n",
       "      <th>Population</th>\n",
       "      <th>%Vaccinated</th>\n",
       "    </tr>\n",
       "  </thead>\n",
       "  <tbody>\n",
       "    <tr>\n",
       "      <th>0</th>\n",
       "      <td>Australia</td>\n",
       "      <td>ABC</td>\n",
       "      <td>1</td>\n",
       "      <td>200.0</td>\n",
       "      <td>0.0050</td>\n",
       "    </tr>\n",
       "    <tr>\n",
       "      <th>1</th>\n",
       "      <td>Australia</td>\n",
       "      <td>LMN</td>\n",
       "      <td>1</td>\n",
       "      <td>200.0</td>\n",
       "      <td>0.0050</td>\n",
       "    </tr>\n",
       "    <tr>\n",
       "      <th>2</th>\n",
       "      <td>Australia</td>\n",
       "      <td>XYZ</td>\n",
       "      <td>1</td>\n",
       "      <td>200.0</td>\n",
       "      <td>0.0050</td>\n",
       "    </tr>\n",
       "    <tr>\n",
       "      <th>3</th>\n",
       "      <td>India</td>\n",
       "      <td>ABC</td>\n",
       "      <td>2</td>\n",
       "      <td>500.0</td>\n",
       "      <td>0.0040</td>\n",
       "    </tr>\n",
       "    <tr>\n",
       "      <th>4</th>\n",
       "      <td>India</td>\n",
       "      <td>XYZ</td>\n",
       "      <td>1</td>\n",
       "      <td>500.0</td>\n",
       "      <td>0.0020</td>\n",
       "    </tr>\n",
       "    <tr>\n",
       "      <th>5</th>\n",
       "      <td>USA</td>\n",
       "      <td>ABC</td>\n",
       "      <td>1</td>\n",
       "      <td>350.0</td>\n",
       "      <td>0.0029</td>\n",
       "    </tr>\n",
       "    <tr>\n",
       "      <th>6</th>\n",
       "      <td>USA</td>\n",
       "      <td>EFG</td>\n",
       "      <td>1</td>\n",
       "      <td>350.0</td>\n",
       "      <td>0.0029</td>\n",
       "    </tr>\n",
       "    <tr>\n",
       "      <th>7</th>\n",
       "      <td>USA</td>\n",
       "      <td>XYZ</td>\n",
       "      <td>1</td>\n",
       "      <td>350.0</td>\n",
       "      <td>0.0029</td>\n",
       "    </tr>\n",
       "  </tbody>\n",
       "</table>\n",
       "</div>"
      ],
      "text/plain": [
       "     Country VaccinationType  No_of_Vaccinations  Population  %Vaccinated\n",
       "0  Australia             ABC                   1       200.0       0.0050\n",
       "1  Australia             LMN                   1       200.0       0.0050\n",
       "2  Australia             XYZ                   1       200.0       0.0050\n",
       "3      India             ABC                   2       500.0       0.0040\n",
       "4      India             XYZ                   1       500.0       0.0020\n",
       "5        USA             ABC                   1       350.0       0.0029\n",
       "6        USA             EFG                   1       350.0       0.0029\n",
       "7        USA             XYZ                   1       350.0       0.0029"
      ]
     },
     "execution_count": 334,
     "metadata": {},
     "output_type": "execute_result"
    }
   ],
   "source": [
    "#calculating percenatge of people vaccinated \n",
    "metric1['%Vaccinated'] = round(metric1['No_of_Vaccinations'] / metric1['Population'],4)\n",
    "metric1"
   ]
  },
  {
   "cell_type": "code",
   "execution_count": 335,
   "id": "09600be4",
   "metadata": {},
   "outputs": [
    {
     "data": {
      "text/html": [
       "<div>\n",
       "<style scoped>\n",
       "    .dataframe tbody tr th:only-of-type {\n",
       "        vertical-align: middle;\n",
       "    }\n",
       "\n",
       "    .dataframe tbody tr th {\n",
       "        vertical-align: top;\n",
       "    }\n",
       "\n",
       "    .dataframe thead th {\n",
       "        text-align: right;\n",
       "    }\n",
       "</style>\n",
       "<table border=\"1\" class=\"dataframe\">\n",
       "  <thead>\n",
       "    <tr style=\"text-align: right;\">\n",
       "      <th></th>\n",
       "      <th>Country</th>\n",
       "      <th>VaccinationType</th>\n",
       "      <th>%Vaccinated</th>\n",
       "    </tr>\n",
       "  </thead>\n",
       "  <tbody>\n",
       "    <tr>\n",
       "      <th>0</th>\n",
       "      <td>Australia</td>\n",
       "      <td>ABC</td>\n",
       "      <td>0.0050</td>\n",
       "    </tr>\n",
       "    <tr>\n",
       "      <th>1</th>\n",
       "      <td>Australia</td>\n",
       "      <td>LMN</td>\n",
       "      <td>0.0050</td>\n",
       "    </tr>\n",
       "    <tr>\n",
       "      <th>2</th>\n",
       "      <td>Australia</td>\n",
       "      <td>XYZ</td>\n",
       "      <td>0.0050</td>\n",
       "    </tr>\n",
       "    <tr>\n",
       "      <th>3</th>\n",
       "      <td>India</td>\n",
       "      <td>ABC</td>\n",
       "      <td>0.0040</td>\n",
       "    </tr>\n",
       "    <tr>\n",
       "      <th>4</th>\n",
       "      <td>India</td>\n",
       "      <td>XYZ</td>\n",
       "      <td>0.0020</td>\n",
       "    </tr>\n",
       "    <tr>\n",
       "      <th>5</th>\n",
       "      <td>USA</td>\n",
       "      <td>ABC</td>\n",
       "      <td>0.0029</td>\n",
       "    </tr>\n",
       "    <tr>\n",
       "      <th>6</th>\n",
       "      <td>USA</td>\n",
       "      <td>EFG</td>\n",
       "      <td>0.0029</td>\n",
       "    </tr>\n",
       "    <tr>\n",
       "      <th>7</th>\n",
       "      <td>USA</td>\n",
       "      <td>XYZ</td>\n",
       "      <td>0.0029</td>\n",
       "    </tr>\n",
       "  </tbody>\n",
       "</table>\n",
       "</div>"
      ],
      "text/plain": [
       "     Country VaccinationType  %Vaccinated\n",
       "0  Australia             ABC       0.0050\n",
       "1  Australia             LMN       0.0050\n",
       "2  Australia             XYZ       0.0050\n",
       "3      India             ABC       0.0040\n",
       "4      India             XYZ       0.0020\n",
       "5        USA             ABC       0.0029\n",
       "6        USA             EFG       0.0029\n",
       "7        USA             XYZ       0.0029"
      ]
     },
     "execution_count": 335,
     "metadata": {},
     "output_type": "execute_result"
    }
   ],
   "source": [
    "#drop unwanted columns\n",
    "metric2 = metric1.drop(['No_of_Vaccinations', 'Population'], axis = 1)\n",
    "metric2"
   ]
  },
  {
   "cell_type": "markdown",
   "id": "bd5c6105",
   "metadata": {},
   "source": [
    "# Summary of Metric2:\n",
    "- %Vaccinated means: In each country, how much percent of the population is vaccinated with the particular vaccine\n",
    "- Example: In India, 0.004% of population is vaccinated with VaccinationType 'ABC'"
   ]
  },
  {
   "cell_type": "code",
   "execution_count": 336,
   "id": "c1d291cc",
   "metadata": {},
   "outputs": [],
   "source": [
    "#exporting csv file for further use\n",
    "metric2.to_csv('metric2.csv')"
   ]
  },
  {
   "cell_type": "markdown",
   "id": "f7eb5393",
   "metadata": {},
   "source": [
    "## `Optional Metric2`"
   ]
  },
  {
   "cell_type": "code",
   "execution_count": 337,
   "id": "6f9867a2",
   "metadata": {},
   "outputs": [
    {
     "data": {
      "text/html": [
       "<div>\n",
       "<style scoped>\n",
       "    .dataframe tbody tr th:only-of-type {\n",
       "        vertical-align: middle;\n",
       "    }\n",
       "\n",
       "    .dataframe tbody tr th {\n",
       "        vertical-align: top;\n",
       "    }\n",
       "\n",
       "    .dataframe thead th {\n",
       "        text-align: right;\n",
       "    }\n",
       "</style>\n",
       "<table border=\"1\" class=\"dataframe\">\n",
       "  <thead>\n",
       "    <tr style=\"text-align: right;\">\n",
       "      <th></th>\n",
       "      <th>Country</th>\n",
       "      <th>VaccinationType</th>\n",
       "      <th>No_of_Vaccinations</th>\n",
       "      <th>Population</th>\n",
       "      <th>%Vaccinated</th>\n",
       "    </tr>\n",
       "  </thead>\n",
       "  <tbody>\n",
       "    <tr>\n",
       "      <th>0</th>\n",
       "      <td>Australia</td>\n",
       "      <td>ABC</td>\n",
       "      <td>1</td>\n",
       "      <td>200.0</td>\n",
       "      <td>0.0050</td>\n",
       "    </tr>\n",
       "    <tr>\n",
       "      <th>1</th>\n",
       "      <td>Australia</td>\n",
       "      <td>LMN</td>\n",
       "      <td>1</td>\n",
       "      <td>200.0</td>\n",
       "      <td>0.0050</td>\n",
       "    </tr>\n",
       "    <tr>\n",
       "      <th>2</th>\n",
       "      <td>Australia</td>\n",
       "      <td>XYZ</td>\n",
       "      <td>1</td>\n",
       "      <td>200.0</td>\n",
       "      <td>0.0050</td>\n",
       "    </tr>\n",
       "    <tr>\n",
       "      <th>3</th>\n",
       "      <td>India</td>\n",
       "      <td>ABC</td>\n",
       "      <td>2</td>\n",
       "      <td>500.0</td>\n",
       "      <td>0.0040</td>\n",
       "    </tr>\n",
       "    <tr>\n",
       "      <th>4</th>\n",
       "      <td>India</td>\n",
       "      <td>XYZ</td>\n",
       "      <td>1</td>\n",
       "      <td>500.0</td>\n",
       "      <td>0.0020</td>\n",
       "    </tr>\n",
       "    <tr>\n",
       "      <th>5</th>\n",
       "      <td>USA</td>\n",
       "      <td>ABC</td>\n",
       "      <td>1</td>\n",
       "      <td>350.0</td>\n",
       "      <td>0.0029</td>\n",
       "    </tr>\n",
       "    <tr>\n",
       "      <th>6</th>\n",
       "      <td>USA</td>\n",
       "      <td>EFG</td>\n",
       "      <td>1</td>\n",
       "      <td>350.0</td>\n",
       "      <td>0.0029</td>\n",
       "    </tr>\n",
       "    <tr>\n",
       "      <th>7</th>\n",
       "      <td>USA</td>\n",
       "      <td>XYZ</td>\n",
       "      <td>1</td>\n",
       "      <td>350.0</td>\n",
       "      <td>0.0029</td>\n",
       "    </tr>\n",
       "  </tbody>\n",
       "</table>\n",
       "</div>"
      ],
      "text/plain": [
       "     Country VaccinationType  No_of_Vaccinations  Population  %Vaccinated\n",
       "0  Australia             ABC                   1       200.0       0.0050\n",
       "1  Australia             LMN                   1       200.0       0.0050\n",
       "2  Australia             XYZ                   1       200.0       0.0050\n",
       "3      India             ABC                   2       500.0       0.0040\n",
       "4      India             XYZ                   1       500.0       0.0020\n",
       "5        USA             ABC                   1       350.0       0.0029\n",
       "6        USA             EFG                   1       350.0       0.0029\n",
       "7        USA             XYZ                   1       350.0       0.0029"
      ]
     },
     "execution_count": 337,
     "metadata": {},
     "output_type": "execute_result"
    }
   ],
   "source": [
    "#checking\n",
    "metric1"
   ]
  },
  {
   "cell_type": "code",
   "execution_count": 338,
   "id": "afad1c84",
   "metadata": {},
   "outputs": [
    {
     "data": {
      "text/html": [
       "<div>\n",
       "<style scoped>\n",
       "    .dataframe tbody tr th:only-of-type {\n",
       "        vertical-align: middle;\n",
       "    }\n",
       "\n",
       "    .dataframe tbody tr th {\n",
       "        vertical-align: top;\n",
       "    }\n",
       "\n",
       "    .dataframe thead th {\n",
       "        text-align: right;\n",
       "    }\n",
       "</style>\n",
       "<table border=\"1\" class=\"dataframe\">\n",
       "  <thead>\n",
       "    <tr style=\"text-align: right;\">\n",
       "      <th></th>\n",
       "      <th>Country</th>\n",
       "      <th>No_of_Vaccinations</th>\n",
       "      <th>Population</th>\n",
       "    </tr>\n",
       "  </thead>\n",
       "  <tbody>\n",
       "    <tr>\n",
       "      <th>0</th>\n",
       "      <td>Australia</td>\n",
       "      <td>3</td>\n",
       "      <td>200.0</td>\n",
       "    </tr>\n",
       "    <tr>\n",
       "      <th>1</th>\n",
       "      <td>India</td>\n",
       "      <td>3</td>\n",
       "      <td>500.0</td>\n",
       "    </tr>\n",
       "    <tr>\n",
       "      <th>2</th>\n",
       "      <td>USA</td>\n",
       "      <td>3</td>\n",
       "      <td>350.0</td>\n",
       "    </tr>\n",
       "  </tbody>\n",
       "</table>\n",
       "</div>"
      ],
      "text/plain": [
       "     Country  No_of_Vaccinations  Population\n",
       "0  Australia                   3       200.0\n",
       "1      India                   3       500.0\n",
       "2        USA                   3       350.0"
      ]
     },
     "execution_count": 338,
     "metadata": {},
     "output_type": "execute_result"
    }
   ],
   "source": [
    "#calculating total vaccines taken in a country\n",
    "metric2_opt = metric1.groupby('Country', as_index = False).agg({'No_of_Vaccinations': 'sum', 'Population': 'first'})\n",
    "metric2_opt "
   ]
  },
  {
   "cell_type": "code",
   "execution_count": 339,
   "id": "b8119154",
   "metadata": {},
   "outputs": [
    {
     "data": {
      "text/html": [
       "<div>\n",
       "<style scoped>\n",
       "    .dataframe tbody tr th:only-of-type {\n",
       "        vertical-align: middle;\n",
       "    }\n",
       "\n",
       "    .dataframe tbody tr th {\n",
       "        vertical-align: top;\n",
       "    }\n",
       "\n",
       "    .dataframe thead th {\n",
       "        text-align: right;\n",
       "    }\n",
       "</style>\n",
       "<table border=\"1\" class=\"dataframe\">\n",
       "  <thead>\n",
       "    <tr style=\"text-align: right;\">\n",
       "      <th></th>\n",
       "      <th>Country</th>\n",
       "      <th>No_of_Vaccinations</th>\n",
       "      <th>Population</th>\n",
       "      <th>%Vaccinated</th>\n",
       "    </tr>\n",
       "  </thead>\n",
       "  <tbody>\n",
       "    <tr>\n",
       "      <th>0</th>\n",
       "      <td>Australia</td>\n",
       "      <td>3</td>\n",
       "      <td>200.0</td>\n",
       "      <td>0.0150</td>\n",
       "    </tr>\n",
       "    <tr>\n",
       "      <th>1</th>\n",
       "      <td>India</td>\n",
       "      <td>3</td>\n",
       "      <td>500.0</td>\n",
       "      <td>0.0060</td>\n",
       "    </tr>\n",
       "    <tr>\n",
       "      <th>2</th>\n",
       "      <td>USA</td>\n",
       "      <td>3</td>\n",
       "      <td>350.0</td>\n",
       "      <td>0.0086</td>\n",
       "    </tr>\n",
       "  </tbody>\n",
       "</table>\n",
       "</div>"
      ],
      "text/plain": [
       "     Country  No_of_Vaccinations  Population  %Vaccinated\n",
       "0  Australia                   3       200.0       0.0150\n",
       "1      India                   3       500.0       0.0060\n",
       "2        USA                   3       350.0       0.0086"
      ]
     },
     "execution_count": 339,
     "metadata": {},
     "output_type": "execute_result"
    }
   ],
   "source": [
    "#calculating percenatge of people vaccinated \n",
    "metric2_opt['%Vaccinated'] = round(metric2_opt['No_of_Vaccinations'] / metric2_opt['Population'],4)\n",
    "metric2_opt"
   ]
  },
  {
   "cell_type": "code",
   "execution_count": 340,
   "id": "9814fbaf",
   "metadata": {},
   "outputs": [
    {
     "data": {
      "text/html": [
       "<div>\n",
       "<style scoped>\n",
       "    .dataframe tbody tr th:only-of-type {\n",
       "        vertical-align: middle;\n",
       "    }\n",
       "\n",
       "    .dataframe tbody tr th {\n",
       "        vertical-align: top;\n",
       "    }\n",
       "\n",
       "    .dataframe thead th {\n",
       "        text-align: right;\n",
       "    }\n",
       "</style>\n",
       "<table border=\"1\" class=\"dataframe\">\n",
       "  <thead>\n",
       "    <tr style=\"text-align: right;\">\n",
       "      <th></th>\n",
       "      <th>Country</th>\n",
       "      <th>%Vaccinated</th>\n",
       "    </tr>\n",
       "  </thead>\n",
       "  <tbody>\n",
       "    <tr>\n",
       "      <th>0</th>\n",
       "      <td>Australia</td>\n",
       "      <td>0.0150</td>\n",
       "    </tr>\n",
       "    <tr>\n",
       "      <th>1</th>\n",
       "      <td>India</td>\n",
       "      <td>0.0060</td>\n",
       "    </tr>\n",
       "    <tr>\n",
       "      <th>2</th>\n",
       "      <td>USA</td>\n",
       "      <td>0.0086</td>\n",
       "    </tr>\n",
       "  </tbody>\n",
       "</table>\n",
       "</div>"
      ],
      "text/plain": [
       "     Country  %Vaccinated\n",
       "0  Australia       0.0150\n",
       "1      India       0.0060\n",
       "2        USA       0.0086"
      ]
     },
     "execution_count": 340,
     "metadata": {},
     "output_type": "execute_result"
    }
   ],
   "source": [
    "#drop unwanted columns\n",
    "metric2_opt.drop(['No_of_Vaccinations', 'Population'], axis = 1, inplace = True)\n",
    "metric2_opt"
   ]
  },
  {
   "cell_type": "markdown",
   "id": "b0d4a10e",
   "metadata": {},
   "source": [
    "# Summary of Metric2_opt:\n",
    "- %Vaccinated means: Countrywise Percenatge of population vaccinated with any type of Vaccination\n",
    "- Example: In India, 0.006% of population is vaccinated with atleast one type of vaccination"
   ]
  },
  {
   "cell_type": "code",
   "execution_count": 341,
   "id": "73c93b1c",
   "metadata": {},
   "outputs": [],
   "source": [
    "#exporting csv file for further use\n",
    "metric2_opt.to_csv('metric2_opt.csv')"
   ]
  },
  {
   "cell_type": "markdown",
   "id": "43b2cc0c",
   "metadata": {},
   "source": [
    "# `Metric 3: CountryName, % Contribution`"
   ]
  },
  {
   "cell_type": "code",
   "execution_count": 342,
   "id": "c63f7367",
   "metadata": {},
   "outputs": [
    {
     "data": {
      "text/html": [
       "<div>\n",
       "<style scoped>\n",
       "    .dataframe tbody tr th:only-of-type {\n",
       "        vertical-align: middle;\n",
       "    }\n",
       "\n",
       "    .dataframe tbody tr th {\n",
       "        vertical-align: top;\n",
       "    }\n",
       "\n",
       "    .dataframe thead th {\n",
       "        text-align: right;\n",
       "    }\n",
       "</style>\n",
       "<table border=\"1\" class=\"dataframe\">\n",
       "  <thead>\n",
       "    <tr style=\"text-align: right;\">\n",
       "      <th></th>\n",
       "      <th>Country</th>\n",
       "      <th>VaccinationType</th>\n",
       "    </tr>\n",
       "  </thead>\n",
       "  <tbody>\n",
       "    <tr>\n",
       "      <th>0</th>\n",
       "      <td>Australia</td>\n",
       "      <td>LMN</td>\n",
       "    </tr>\n",
       "    <tr>\n",
       "      <th>1</th>\n",
       "      <td>Australia</td>\n",
       "      <td>XYZ</td>\n",
       "    </tr>\n",
       "    <tr>\n",
       "      <th>2</th>\n",
       "      <td>Australia</td>\n",
       "      <td>ABC</td>\n",
       "    </tr>\n",
       "    <tr>\n",
       "      <th>3</th>\n",
       "      <td>India</td>\n",
       "      <td>XYZ</td>\n",
       "    </tr>\n",
       "    <tr>\n",
       "      <th>4</th>\n",
       "      <td>India</td>\n",
       "      <td>ABC</td>\n",
       "    </tr>\n",
       "    <tr>\n",
       "      <th>5</th>\n",
       "      <td>India</td>\n",
       "      <td>ABC</td>\n",
       "    </tr>\n",
       "    <tr>\n",
       "      <th>6</th>\n",
       "      <td>USA</td>\n",
       "      <td>EFG</td>\n",
       "    </tr>\n",
       "    <tr>\n",
       "      <th>7</th>\n",
       "      <td>USA</td>\n",
       "      <td>XYZ</td>\n",
       "    </tr>\n",
       "    <tr>\n",
       "      <th>8</th>\n",
       "      <td>USA</td>\n",
       "      <td>ABC</td>\n",
       "    </tr>\n",
       "  </tbody>\n",
       "</table>\n",
       "</div>"
      ],
      "text/plain": [
       "     Country VaccinationType\n",
       "0  Australia             LMN\n",
       "1  Australia             XYZ\n",
       "2  Australia             ABC\n",
       "3      India             XYZ\n",
       "4      India             ABC\n",
       "5      India             ABC\n",
       "6        USA             EFG\n",
       "7        USA             XYZ\n",
       "8        USA             ABC"
      ]
     },
     "execution_count": 342,
     "metadata": {},
     "output_type": "execute_result"
    }
   ],
   "source": [
    "df_final"
   ]
  },
  {
   "cell_type": "code",
   "execution_count": 343,
   "id": "497a9b52",
   "metadata": {},
   "outputs": [],
   "source": [
    "#calculating no of vaccines per country using groupby and agg functions\n",
    "metric3 = df_final.groupby(['Country', 'VaccinationType']).agg({'VaccinationType':'count'}).rename(columns = {'VaccinationType': 'No_of_Vaccinations'}).reset_index()"
   ]
  },
  {
   "cell_type": "code",
   "execution_count": 344,
   "id": "d83a9c25",
   "metadata": {},
   "outputs": [
    {
     "data": {
      "text/html": [
       "<div>\n",
       "<style scoped>\n",
       "    .dataframe tbody tr th:only-of-type {\n",
       "        vertical-align: middle;\n",
       "    }\n",
       "\n",
       "    .dataframe tbody tr th {\n",
       "        vertical-align: top;\n",
       "    }\n",
       "\n",
       "    .dataframe thead th {\n",
       "        text-align: right;\n",
       "    }\n",
       "</style>\n",
       "<table border=\"1\" class=\"dataframe\">\n",
       "  <thead>\n",
       "    <tr style=\"text-align: right;\">\n",
       "      <th></th>\n",
       "      <th>Country</th>\n",
       "      <th>VaccinationType</th>\n",
       "      <th>No_of_Vaccinations</th>\n",
       "    </tr>\n",
       "  </thead>\n",
       "  <tbody>\n",
       "    <tr>\n",
       "      <th>0</th>\n",
       "      <td>Australia</td>\n",
       "      <td>ABC</td>\n",
       "      <td>1</td>\n",
       "    </tr>\n",
       "    <tr>\n",
       "      <th>1</th>\n",
       "      <td>Australia</td>\n",
       "      <td>LMN</td>\n",
       "      <td>1</td>\n",
       "    </tr>\n",
       "    <tr>\n",
       "      <th>2</th>\n",
       "      <td>Australia</td>\n",
       "      <td>XYZ</td>\n",
       "      <td>1</td>\n",
       "    </tr>\n",
       "    <tr>\n",
       "      <th>3</th>\n",
       "      <td>India</td>\n",
       "      <td>ABC</td>\n",
       "      <td>2</td>\n",
       "    </tr>\n",
       "    <tr>\n",
       "      <th>4</th>\n",
       "      <td>India</td>\n",
       "      <td>XYZ</td>\n",
       "      <td>1</td>\n",
       "    </tr>\n",
       "    <tr>\n",
       "      <th>5</th>\n",
       "      <td>USA</td>\n",
       "      <td>ABC</td>\n",
       "      <td>1</td>\n",
       "    </tr>\n",
       "    <tr>\n",
       "      <th>6</th>\n",
       "      <td>USA</td>\n",
       "      <td>EFG</td>\n",
       "      <td>1</td>\n",
       "    </tr>\n",
       "    <tr>\n",
       "      <th>7</th>\n",
       "      <td>USA</td>\n",
       "      <td>XYZ</td>\n",
       "      <td>1</td>\n",
       "    </tr>\n",
       "  </tbody>\n",
       "</table>\n",
       "</div>"
      ],
      "text/plain": [
       "     Country VaccinationType  No_of_Vaccinations\n",
       "0  Australia             ABC                   1\n",
       "1  Australia             LMN                   1\n",
       "2  Australia             XYZ                   1\n",
       "3      India             ABC                   2\n",
       "4      India             XYZ                   1\n",
       "5        USA             ABC                   1\n",
       "6        USA             EFG                   1\n",
       "7        USA             XYZ                   1"
      ]
     },
     "execution_count": 344,
     "metadata": {},
     "output_type": "execute_result"
    }
   ],
   "source": [
    "metric3"
   ]
  },
  {
   "cell_type": "code",
   "execution_count": 345,
   "id": "bded8e3a",
   "metadata": {},
   "outputs": [
    {
     "data": {
      "text/html": [
       "<div>\n",
       "<style scoped>\n",
       "    .dataframe tbody tr th:only-of-type {\n",
       "        vertical-align: middle;\n",
       "    }\n",
       "\n",
       "    .dataframe tbody tr th {\n",
       "        vertical-align: top;\n",
       "    }\n",
       "\n",
       "    .dataframe thead th {\n",
       "        text-align: right;\n",
       "    }\n",
       "</style>\n",
       "<table border=\"1\" class=\"dataframe\">\n",
       "  <thead>\n",
       "    <tr style=\"text-align: right;\">\n",
       "      <th></th>\n",
       "      <th>Country</th>\n",
       "      <th>Total</th>\n",
       "    </tr>\n",
       "  </thead>\n",
       "  <tbody>\n",
       "    <tr>\n",
       "      <th>0</th>\n",
       "      <td>Australia</td>\n",
       "      <td>3</td>\n",
       "    </tr>\n",
       "    <tr>\n",
       "      <th>1</th>\n",
       "      <td>India</td>\n",
       "      <td>3</td>\n",
       "    </tr>\n",
       "    <tr>\n",
       "      <th>2</th>\n",
       "      <td>USA</td>\n",
       "      <td>3</td>\n",
       "    </tr>\n",
       "  </tbody>\n",
       "</table>\n",
       "</div>"
      ],
      "text/plain": [
       "     Country  Total\n",
       "0  Australia      3\n",
       "1      India      3\n",
       "2        USA      3"
      ]
     },
     "execution_count": 345,
     "metadata": {},
     "output_type": "execute_result"
    }
   ],
   "source": [
    "#caulculating Total vaccined taken using groupby and agg funcytion\n",
    "g = metric3.groupby('Country', as_index=False).agg({'No_of_Vaccinations':'sum'})\n",
    "g.rename(columns = {'No_of_Vaccinations':'Total'}, inplace=True)\n",
    "g"
   ]
  },
  {
   "cell_type": "code",
   "execution_count": 346,
   "id": "57c9253d",
   "metadata": {},
   "outputs": [
    {
     "data": {
      "text/html": [
       "<div>\n",
       "<style scoped>\n",
       "    .dataframe tbody tr th:only-of-type {\n",
       "        vertical-align: middle;\n",
       "    }\n",
       "\n",
       "    .dataframe tbody tr th {\n",
       "        vertical-align: top;\n",
       "    }\n",
       "\n",
       "    .dataframe thead th {\n",
       "        text-align: right;\n",
       "    }\n",
       "</style>\n",
       "<table border=\"1\" class=\"dataframe\">\n",
       "  <thead>\n",
       "    <tr style=\"text-align: right;\">\n",
       "      <th></th>\n",
       "      <th>Country</th>\n",
       "      <th>VaccinationType</th>\n",
       "      <th>No_of_Vaccinations</th>\n",
       "      <th>Total</th>\n",
       "    </tr>\n",
       "  </thead>\n",
       "  <tbody>\n",
       "    <tr>\n",
       "      <th>0</th>\n",
       "      <td>Australia</td>\n",
       "      <td>ABC</td>\n",
       "      <td>1</td>\n",
       "      <td>3</td>\n",
       "    </tr>\n",
       "    <tr>\n",
       "      <th>1</th>\n",
       "      <td>Australia</td>\n",
       "      <td>LMN</td>\n",
       "      <td>1</td>\n",
       "      <td>3</td>\n",
       "    </tr>\n",
       "    <tr>\n",
       "      <th>2</th>\n",
       "      <td>Australia</td>\n",
       "      <td>XYZ</td>\n",
       "      <td>1</td>\n",
       "      <td>3</td>\n",
       "    </tr>\n",
       "    <tr>\n",
       "      <th>3</th>\n",
       "      <td>India</td>\n",
       "      <td>ABC</td>\n",
       "      <td>2</td>\n",
       "      <td>3</td>\n",
       "    </tr>\n",
       "    <tr>\n",
       "      <th>4</th>\n",
       "      <td>India</td>\n",
       "      <td>XYZ</td>\n",
       "      <td>1</td>\n",
       "      <td>3</td>\n",
       "    </tr>\n",
       "    <tr>\n",
       "      <th>5</th>\n",
       "      <td>USA</td>\n",
       "      <td>ABC</td>\n",
       "      <td>1</td>\n",
       "      <td>3</td>\n",
       "    </tr>\n",
       "    <tr>\n",
       "      <th>6</th>\n",
       "      <td>USA</td>\n",
       "      <td>EFG</td>\n",
       "      <td>1</td>\n",
       "      <td>3</td>\n",
       "    </tr>\n",
       "    <tr>\n",
       "      <th>7</th>\n",
       "      <td>USA</td>\n",
       "      <td>XYZ</td>\n",
       "      <td>1</td>\n",
       "      <td>3</td>\n",
       "    </tr>\n",
       "  </tbody>\n",
       "</table>\n",
       "</div>"
      ],
      "text/plain": [
       "     Country VaccinationType  No_of_Vaccinations  Total\n",
       "0  Australia             ABC                   1      3\n",
       "1  Australia             LMN                   1      3\n",
       "2  Australia             XYZ                   1      3\n",
       "3      India             ABC                   2      3\n",
       "4      India             XYZ                   1      3\n",
       "5        USA             ABC                   1      3\n",
       "6        USA             EFG                   1      3\n",
       "7        USA             XYZ                   1      3"
      ]
     },
     "execution_count": 346,
     "metadata": {},
     "output_type": "execute_result"
    }
   ],
   "source": [
    "#merge the data to get complete outlook\n",
    "metric3 = pd.merge(metric3,g, how='left', on = 'Country')\n",
    "metric3"
   ]
  },
  {
   "cell_type": "code",
   "execution_count": 347,
   "id": "6908fc6d",
   "metadata": {},
   "outputs": [
    {
     "data": {
      "text/html": [
       "<div>\n",
       "<style scoped>\n",
       "    .dataframe tbody tr th:only-of-type {\n",
       "        vertical-align: middle;\n",
       "    }\n",
       "\n",
       "    .dataframe tbody tr th {\n",
       "        vertical-align: top;\n",
       "    }\n",
       "\n",
       "    .dataframe thead th {\n",
       "        text-align: right;\n",
       "    }\n",
       "</style>\n",
       "<table border=\"1\" class=\"dataframe\">\n",
       "  <thead>\n",
       "    <tr style=\"text-align: right;\">\n",
       "      <th>Country</th>\n",
       "      <th>Australia</th>\n",
       "      <th>India</th>\n",
       "      <th>USA</th>\n",
       "    </tr>\n",
       "    <tr>\n",
       "      <th>VaccinationType</th>\n",
       "      <th></th>\n",
       "      <th></th>\n",
       "      <th></th>\n",
       "    </tr>\n",
       "  </thead>\n",
       "  <tbody>\n",
       "    <tr>\n",
       "      <th>ABC</th>\n",
       "      <td>1.0</td>\n",
       "      <td>2.0</td>\n",
       "      <td>1.0</td>\n",
       "    </tr>\n",
       "    <tr>\n",
       "      <th>EFG</th>\n",
       "      <td>NaN</td>\n",
       "      <td>NaN</td>\n",
       "      <td>1.0</td>\n",
       "    </tr>\n",
       "    <tr>\n",
       "      <th>LMN</th>\n",
       "      <td>1.0</td>\n",
       "      <td>NaN</td>\n",
       "      <td>NaN</td>\n",
       "    </tr>\n",
       "    <tr>\n",
       "      <th>XYZ</th>\n",
       "      <td>1.0</td>\n",
       "      <td>1.0</td>\n",
       "      <td>1.0</td>\n",
       "    </tr>\n",
       "  </tbody>\n",
       "</table>\n",
       "</div>"
      ],
      "text/plain": [
       "Country          Australia  India  USA\n",
       "VaccinationType                       \n",
       "ABC                    1.0    2.0  1.0\n",
       "EFG                    NaN    NaN  1.0\n",
       "LMN                    1.0    NaN  NaN\n",
       "XYZ                    1.0    1.0  1.0"
      ]
     },
     "execution_count": 347,
     "metadata": {},
     "output_type": "execute_result"
    }
   ],
   "source": [
    "metric3.pivot(index='VaccinationType', columns = 'Country', values = 'No_of_Vaccinations')"
   ]
  },
  {
   "cell_type": "code",
   "execution_count": 348,
   "id": "ab7b158a",
   "metadata": {},
   "outputs": [
    {
     "data": {
      "text/html": [
       "<div>\n",
       "<style scoped>\n",
       "    .dataframe tbody tr th:only-of-type {\n",
       "        vertical-align: middle;\n",
       "    }\n",
       "\n",
       "    .dataframe tbody tr th {\n",
       "        vertical-align: top;\n",
       "    }\n",
       "\n",
       "    .dataframe thead th {\n",
       "        text-align: right;\n",
       "    }\n",
       "</style>\n",
       "<table border=\"1\" class=\"dataframe\">\n",
       "  <thead>\n",
       "    <tr style=\"text-align: right;\">\n",
       "      <th></th>\n",
       "      <th>Country</th>\n",
       "      <th>VaccinationType</th>\n",
       "      <th>No_of_Vaccinations</th>\n",
       "      <th>Total</th>\n",
       "      <th>%Contributed</th>\n",
       "    </tr>\n",
       "  </thead>\n",
       "  <tbody>\n",
       "    <tr>\n",
       "      <th>0</th>\n",
       "      <td>Australia</td>\n",
       "      <td>ABC</td>\n",
       "      <td>1</td>\n",
       "      <td>3</td>\n",
       "      <td>0.33</td>\n",
       "    </tr>\n",
       "    <tr>\n",
       "      <th>1</th>\n",
       "      <td>Australia</td>\n",
       "      <td>LMN</td>\n",
       "      <td>1</td>\n",
       "      <td>3</td>\n",
       "      <td>0.33</td>\n",
       "    </tr>\n",
       "    <tr>\n",
       "      <th>2</th>\n",
       "      <td>Australia</td>\n",
       "      <td>XYZ</td>\n",
       "      <td>1</td>\n",
       "      <td>3</td>\n",
       "      <td>0.33</td>\n",
       "    </tr>\n",
       "    <tr>\n",
       "      <th>3</th>\n",
       "      <td>India</td>\n",
       "      <td>ABC</td>\n",
       "      <td>2</td>\n",
       "      <td>3</td>\n",
       "      <td>0.67</td>\n",
       "    </tr>\n",
       "    <tr>\n",
       "      <th>4</th>\n",
       "      <td>India</td>\n",
       "      <td>XYZ</td>\n",
       "      <td>1</td>\n",
       "      <td>3</td>\n",
       "      <td>0.33</td>\n",
       "    </tr>\n",
       "    <tr>\n",
       "      <th>5</th>\n",
       "      <td>USA</td>\n",
       "      <td>ABC</td>\n",
       "      <td>1</td>\n",
       "      <td>3</td>\n",
       "      <td>0.33</td>\n",
       "    </tr>\n",
       "    <tr>\n",
       "      <th>6</th>\n",
       "      <td>USA</td>\n",
       "      <td>EFG</td>\n",
       "      <td>1</td>\n",
       "      <td>3</td>\n",
       "      <td>0.33</td>\n",
       "    </tr>\n",
       "    <tr>\n",
       "      <th>7</th>\n",
       "      <td>USA</td>\n",
       "      <td>XYZ</td>\n",
       "      <td>1</td>\n",
       "      <td>3</td>\n",
       "      <td>0.33</td>\n",
       "    </tr>\n",
       "  </tbody>\n",
       "</table>\n",
       "</div>"
      ],
      "text/plain": [
       "     Country VaccinationType  No_of_Vaccinations  Total  %Contributed\n",
       "0  Australia             ABC                   1      3          0.33\n",
       "1  Australia             LMN                   1      3          0.33\n",
       "2  Australia             XYZ                   1      3          0.33\n",
       "3      India             ABC                   2      3          0.67\n",
       "4      India             XYZ                   1      3          0.33\n",
       "5        USA             ABC                   1      3          0.33\n",
       "6        USA             EFG                   1      3          0.33\n",
       "7        USA             XYZ                   1      3          0.33"
      ]
     },
     "execution_count": 348,
     "metadata": {},
     "output_type": "execute_result"
    }
   ],
   "source": [
    "#calculating %contributed as per the vaccination in a country\n",
    "metric3['%Contributed'] = round(metric3['No_of_Vaccinations']/metric3['Total'],2)\n",
    "metric3"
   ]
  },
  {
   "cell_type": "code",
   "execution_count": 349,
   "id": "6c8df2d2",
   "metadata": {},
   "outputs": [
    {
     "data": {
      "text/html": [
       "<div>\n",
       "<style scoped>\n",
       "    .dataframe tbody tr th:only-of-type {\n",
       "        vertical-align: middle;\n",
       "    }\n",
       "\n",
       "    .dataframe tbody tr th {\n",
       "        vertical-align: top;\n",
       "    }\n",
       "\n",
       "    .dataframe thead th {\n",
       "        text-align: right;\n",
       "    }\n",
       "</style>\n",
       "<table border=\"1\" class=\"dataframe\">\n",
       "  <thead>\n",
       "    <tr style=\"text-align: right;\">\n",
       "      <th></th>\n",
       "      <th>Country</th>\n",
       "      <th>VaccinationType</th>\n",
       "      <th>%Contributed</th>\n",
       "    </tr>\n",
       "  </thead>\n",
       "  <tbody>\n",
       "    <tr>\n",
       "      <th>0</th>\n",
       "      <td>Australia</td>\n",
       "      <td>ABC</td>\n",
       "      <td>0.33</td>\n",
       "    </tr>\n",
       "    <tr>\n",
       "      <th>1</th>\n",
       "      <td>Australia</td>\n",
       "      <td>LMN</td>\n",
       "      <td>0.33</td>\n",
       "    </tr>\n",
       "    <tr>\n",
       "      <th>2</th>\n",
       "      <td>Australia</td>\n",
       "      <td>XYZ</td>\n",
       "      <td>0.33</td>\n",
       "    </tr>\n",
       "    <tr>\n",
       "      <th>3</th>\n",
       "      <td>India</td>\n",
       "      <td>ABC</td>\n",
       "      <td>0.67</td>\n",
       "    </tr>\n",
       "    <tr>\n",
       "      <th>4</th>\n",
       "      <td>India</td>\n",
       "      <td>XYZ</td>\n",
       "      <td>0.33</td>\n",
       "    </tr>\n",
       "    <tr>\n",
       "      <th>5</th>\n",
       "      <td>USA</td>\n",
       "      <td>ABC</td>\n",
       "      <td>0.33</td>\n",
       "    </tr>\n",
       "    <tr>\n",
       "      <th>6</th>\n",
       "      <td>USA</td>\n",
       "      <td>EFG</td>\n",
       "      <td>0.33</td>\n",
       "    </tr>\n",
       "    <tr>\n",
       "      <th>7</th>\n",
       "      <td>USA</td>\n",
       "      <td>XYZ</td>\n",
       "      <td>0.33</td>\n",
       "    </tr>\n",
       "  </tbody>\n",
       "</table>\n",
       "</div>"
      ],
      "text/plain": [
       "     Country VaccinationType  %Contributed\n",
       "0  Australia             ABC          0.33\n",
       "1  Australia             LMN          0.33\n",
       "2  Australia             XYZ          0.33\n",
       "3      India             ABC          0.67\n",
       "4      India             XYZ          0.33\n",
       "5        USA             ABC          0.33\n",
       "6        USA             EFG          0.33\n",
       "7        USA             XYZ          0.33"
      ]
     },
     "execution_count": 349,
     "metadata": {},
     "output_type": "execute_result"
    }
   ],
   "source": [
    "#drop unwanted columns\n",
    "metric3.drop(['No_of_Vaccinations','Total'], axis = 1, inplace = True)\n",
    "metric3"
   ]
  },
  {
   "cell_type": "markdown",
   "id": "c2bd2647",
   "metadata": {},
   "source": [
    "# Summary of Metric3:\n",
    "- %Contributed means: Percenatge contribution of each vaccination in a particular country\n",
    "- Example: In India, VaccinationType 'ABC' contributed to 67% of the vaccination, in other words 67% of vaccinated people in Inda are vaccinated with VaccinationType 'ABC'"
   ]
  },
  {
   "cell_type": "code",
   "execution_count": 350,
   "id": "d054d864",
   "metadata": {},
   "outputs": [],
   "source": [
    "#export csv file for further use\n",
    "metric3.to_csv('metric3.csv')"
   ]
  },
  {
   "cell_type": "markdown",
   "id": "36166fc9",
   "metadata": {},
   "source": [
    "<h1><center>  END </center></h1>"
   ]
  }
 ],
 "metadata": {
  "kernelspec": {
   "display_name": "Python 3 (ipykernel)",
   "language": "python",
   "name": "python3"
  },
  "language_info": {
   "codemirror_mode": {
    "name": "ipython",
    "version": 3
   },
   "file_extension": ".py",
   "mimetype": "text/x-python",
   "name": "python",
   "nbconvert_exporter": "python",
   "pygments_lexer": "ipython3",
   "version": "3.9.13"
  }
 },
 "nbformat": 4,
 "nbformat_minor": 5
}

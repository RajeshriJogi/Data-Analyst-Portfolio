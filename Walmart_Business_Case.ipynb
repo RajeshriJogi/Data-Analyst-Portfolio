{
 "cells": [
  {
   "cell_type": "markdown",
   "id": "7a0f24db",
   "metadata": {},
   "source": [
    "<h1><center> Walmart Stores during Black Friday </center></h1>"
   ]
  },
  {
   "cell_type": "markdown",
   "id": "908c43a0",
   "metadata": {},
   "source": [
    "## Confidence Interval and CLT"
   ]
  },
  {
   "cell_type": "markdown",
   "id": "9812ae8a",
   "metadata": {},
   "source": [
    "## `1. Business Problem and Analyzing basic materics:`\n",
    "1. Analyze the **customer purchase behavior** (specifically, purchase amount) against the customer’s gender and the various other factors to help the business make better decisions.\n",
    "2. The spending habits between **male and female customers**: Do women spend more on Black Friday than men?"
   ]
  },
  {
   "cell_type": "code",
   "execution_count": 6,
   "id": "4d15d48d",
   "metadata": {},
   "outputs": [],
   "source": [
    "import numpy as np\n",
    "import pandas as pd\n",
    "import matplotlib.pyplot as plt\n",
    "import seaborn as sns\n",
    "import math\n",
    "import scipy.stats as st"
   ]
  },
  {
   "cell_type": "code",
   "execution_count": 7,
   "id": "35bf783b",
   "metadata": {},
   "outputs": [],
   "source": [
    "walmart = pd.read_csv(\"C:/Users/Rajeshri Jogi/Desktop/PROJECTS/4. Walmart/walmart_data.csv\")"
   ]
  },
  {
   "cell_type": "markdown",
   "id": "d2f343ce",
   "metadata": {},
   "source": [
    "### `1.1. Observation of Data:`"
   ]
  },
  {
   "cell_type": "markdown",
   "id": "058f52ed",
   "metadata": {},
   "source": [
    "**`Insights:`**\n",
    "1. No.of Rows: 550068 , No. of Columns: 10\n",
    "2. Data Type: int64(5), object(5)\n",
    "3. Most of the data is Categorical data"
   ]
  },
  {
   "cell_type": "code",
   "execution_count": 8,
   "id": "43e814fd",
   "metadata": {},
   "outputs": [
    {
     "data": {
      "text/html": [
       "<div>\n",
       "<style scoped>\n",
       "    .dataframe tbody tr th:only-of-type {\n",
       "        vertical-align: middle;\n",
       "    }\n",
       "\n",
       "    .dataframe tbody tr th {\n",
       "        vertical-align: top;\n",
       "    }\n",
       "\n",
       "    .dataframe thead th {\n",
       "        text-align: right;\n",
       "    }\n",
       "</style>\n",
       "<table border=\"1\" class=\"dataframe\">\n",
       "  <thead>\n",
       "    <tr style=\"text-align: right;\">\n",
       "      <th></th>\n",
       "      <th>User_ID</th>\n",
       "      <th>Product_ID</th>\n",
       "      <th>Gender</th>\n",
       "      <th>Age</th>\n",
       "      <th>Occupation</th>\n",
       "      <th>City_Category</th>\n",
       "      <th>Stay_In_Current_City_Years</th>\n",
       "      <th>Marital_Status</th>\n",
       "      <th>Product_Category</th>\n",
       "      <th>Purchase</th>\n",
       "    </tr>\n",
       "  </thead>\n",
       "  <tbody>\n",
       "    <tr>\n",
       "      <th>0</th>\n",
       "      <td>1000001</td>\n",
       "      <td>P00069042</td>\n",
       "      <td>F</td>\n",
       "      <td>0-17</td>\n",
       "      <td>10</td>\n",
       "      <td>A</td>\n",
       "      <td>2</td>\n",
       "      <td>0</td>\n",
       "      <td>3</td>\n",
       "      <td>8370</td>\n",
       "    </tr>\n",
       "    <tr>\n",
       "      <th>1</th>\n",
       "      <td>1000001</td>\n",
       "      <td>P00248942</td>\n",
       "      <td>F</td>\n",
       "      <td>0-17</td>\n",
       "      <td>10</td>\n",
       "      <td>A</td>\n",
       "      <td>2</td>\n",
       "      <td>0</td>\n",
       "      <td>1</td>\n",
       "      <td>15200</td>\n",
       "    </tr>\n",
       "    <tr>\n",
       "      <th>2</th>\n",
       "      <td>1000001</td>\n",
       "      <td>P00087842</td>\n",
       "      <td>F</td>\n",
       "      <td>0-17</td>\n",
       "      <td>10</td>\n",
       "      <td>A</td>\n",
       "      <td>2</td>\n",
       "      <td>0</td>\n",
       "      <td>12</td>\n",
       "      <td>1422</td>\n",
       "    </tr>\n",
       "    <tr>\n",
       "      <th>3</th>\n",
       "      <td>1000001</td>\n",
       "      <td>P00085442</td>\n",
       "      <td>F</td>\n",
       "      <td>0-17</td>\n",
       "      <td>10</td>\n",
       "      <td>A</td>\n",
       "      <td>2</td>\n",
       "      <td>0</td>\n",
       "      <td>12</td>\n",
       "      <td>1057</td>\n",
       "    </tr>\n",
       "    <tr>\n",
       "      <th>4</th>\n",
       "      <td>1000002</td>\n",
       "      <td>P00285442</td>\n",
       "      <td>M</td>\n",
       "      <td>55+</td>\n",
       "      <td>16</td>\n",
       "      <td>C</td>\n",
       "      <td>4+</td>\n",
       "      <td>0</td>\n",
       "      <td>8</td>\n",
       "      <td>7969</td>\n",
       "    </tr>\n",
       "  </tbody>\n",
       "</table>\n",
       "</div>"
      ],
      "text/plain": [
       "   User_ID Product_ID Gender   Age  Occupation City_Category  \\\n",
       "0  1000001  P00069042      F  0-17          10             A   \n",
       "1  1000001  P00248942      F  0-17          10             A   \n",
       "2  1000001  P00087842      F  0-17          10             A   \n",
       "3  1000001  P00085442      F  0-17          10             A   \n",
       "4  1000002  P00285442      M   55+          16             C   \n",
       "\n",
       "  Stay_In_Current_City_Years  Marital_Status  Product_Category  Purchase  \n",
       "0                          2               0                 3      8370  \n",
       "1                          2               0                 1     15200  \n",
       "2                          2               0                12      1422  \n",
       "3                          2               0                12      1057  \n",
       "4                         4+               0                 8      7969  "
      ]
     },
     "execution_count": 8,
     "metadata": {},
     "output_type": "execute_result"
    }
   ],
   "source": [
    "walmart.head()"
   ]
  },
  {
   "cell_type": "code",
   "execution_count": 9,
   "id": "8a7c4259",
   "metadata": {},
   "outputs": [
    {
     "data": {
      "text/plain": [
       "(550068, 10)"
      ]
     },
     "execution_count": 9,
     "metadata": {},
     "output_type": "execute_result"
    }
   ],
   "source": [
    "walmart.shape"
   ]
  },
  {
   "cell_type": "code",
   "execution_count": 10,
   "id": "1d682f64",
   "metadata": {},
   "outputs": [
    {
     "name": "stdout",
     "output_type": "stream",
     "text": [
      "<class 'pandas.core.frame.DataFrame'>\n",
      "RangeIndex: 550068 entries, 0 to 550067\n",
      "Data columns (total 10 columns):\n",
      " #   Column                      Non-Null Count   Dtype \n",
      "---  ------                      --------------   ----- \n",
      " 0   User_ID                     550068 non-null  int64 \n",
      " 1   Product_ID                  550068 non-null  object\n",
      " 2   Gender                      550068 non-null  object\n",
      " 3   Age                         550068 non-null  object\n",
      " 4   Occupation                  550068 non-null  int64 \n",
      " 5   City_Category               550068 non-null  object\n",
      " 6   Stay_In_Current_City_Years  550068 non-null  object\n",
      " 7   Marital_Status              550068 non-null  int64 \n",
      " 8   Product_Category            550068 non-null  int64 \n",
      " 9   Purchase                    550068 non-null  int64 \n",
      "dtypes: int64(5), object(5)\n",
      "memory usage: 42.0+ MB\n"
     ]
    }
   ],
   "source": [
    "walmart.info()"
   ]
  },
  {
   "cell_type": "code",
   "execution_count": 11,
   "id": "a1005048",
   "metadata": {},
   "outputs": [],
   "source": [
    "df = walmart.copy(deep=True)"
   ]
  },
  {
   "cell_type": "code",
   "execution_count": 12,
   "id": "e9d1bc91",
   "metadata": {},
   "outputs": [
    {
     "data": {
      "text/plain": [
       "Index(['User_ID', 'Product_ID', 'Gender', 'Age', 'Occupation', 'City_Category',\n",
       "       'Stay_In_Current_City_Years', 'Marital_Status', 'Product_Category',\n",
       "       'Purchase'],\n",
       "      dtype='object')"
      ]
     },
     "execution_count": 12,
     "metadata": {},
     "output_type": "execute_result"
    }
   ],
   "source": [
    "df.columns\n"
   ]
  },
  {
   "cell_type": "code",
   "execution_count": 13,
   "id": "c74c82ac",
   "metadata": {},
   "outputs": [
    {
     "data": {
      "text/html": [
       "<div>\n",
       "<style scoped>\n",
       "    .dataframe tbody tr th:only-of-type {\n",
       "        vertical-align: middle;\n",
       "    }\n",
       "\n",
       "    .dataframe tbody tr th {\n",
       "        vertical-align: top;\n",
       "    }\n",
       "\n",
       "    .dataframe thead th {\n",
       "        text-align: right;\n",
       "    }\n",
       "</style>\n",
       "<table border=\"1\" class=\"dataframe\">\n",
       "  <thead>\n",
       "    <tr style=\"text-align: right;\">\n",
       "      <th></th>\n",
       "      <th>User_ID</th>\n",
       "      <th>Product_ID</th>\n",
       "      <th>Gender</th>\n",
       "      <th>Age</th>\n",
       "      <th>Occupation</th>\n",
       "      <th>City_Category</th>\n",
       "      <th>Stay_In_Current_City_Years</th>\n",
       "      <th>Marital_Status</th>\n",
       "      <th>Product_Category</th>\n",
       "      <th>Purchase</th>\n",
       "      <th>Purchase_bin</th>\n",
       "    </tr>\n",
       "  </thead>\n",
       "  <tbody>\n",
       "    <tr>\n",
       "      <th>0</th>\n",
       "      <td>1000001</td>\n",
       "      <td>P00069042</td>\n",
       "      <td>F</td>\n",
       "      <td>0-17</td>\n",
       "      <td>10</td>\n",
       "      <td>A</td>\n",
       "      <td>2</td>\n",
       "      <td>0</td>\n",
       "      <td>3</td>\n",
       "      <td>8370</td>\n",
       "      <td>5001-10000</td>\n",
       "    </tr>\n",
       "    <tr>\n",
       "      <th>1</th>\n",
       "      <td>1000001</td>\n",
       "      <td>P00248942</td>\n",
       "      <td>F</td>\n",
       "      <td>0-17</td>\n",
       "      <td>10</td>\n",
       "      <td>A</td>\n",
       "      <td>2</td>\n",
       "      <td>0</td>\n",
       "      <td>1</td>\n",
       "      <td>15200</td>\n",
       "      <td>15001-20000</td>\n",
       "    </tr>\n",
       "    <tr>\n",
       "      <th>2</th>\n",
       "      <td>1000001</td>\n",
       "      <td>P00087842</td>\n",
       "      <td>F</td>\n",
       "      <td>0-17</td>\n",
       "      <td>10</td>\n",
       "      <td>A</td>\n",
       "      <td>2</td>\n",
       "      <td>0</td>\n",
       "      <td>12</td>\n",
       "      <td>1422</td>\n",
       "      <td>0-5000</td>\n",
       "    </tr>\n",
       "    <tr>\n",
       "      <th>3</th>\n",
       "      <td>1000001</td>\n",
       "      <td>P00085442</td>\n",
       "      <td>F</td>\n",
       "      <td>0-17</td>\n",
       "      <td>10</td>\n",
       "      <td>A</td>\n",
       "      <td>2</td>\n",
       "      <td>0</td>\n",
       "      <td>12</td>\n",
       "      <td>1057</td>\n",
       "      <td>0-5000</td>\n",
       "    </tr>\n",
       "    <tr>\n",
       "      <th>4</th>\n",
       "      <td>1000002</td>\n",
       "      <td>P00285442</td>\n",
       "      <td>M</td>\n",
       "      <td>55+</td>\n",
       "      <td>16</td>\n",
       "      <td>C</td>\n",
       "      <td>4+</td>\n",
       "      <td>0</td>\n",
       "      <td>8</td>\n",
       "      <td>7969</td>\n",
       "      <td>5001-10000</td>\n",
       "    </tr>\n",
       "    <tr>\n",
       "      <th>...</th>\n",
       "      <td>...</td>\n",
       "      <td>...</td>\n",
       "      <td>...</td>\n",
       "      <td>...</td>\n",
       "      <td>...</td>\n",
       "      <td>...</td>\n",
       "      <td>...</td>\n",
       "      <td>...</td>\n",
       "      <td>...</td>\n",
       "      <td>...</td>\n",
       "      <td>...</td>\n",
       "    </tr>\n",
       "    <tr>\n",
       "      <th>550063</th>\n",
       "      <td>1006033</td>\n",
       "      <td>P00372445</td>\n",
       "      <td>M</td>\n",
       "      <td>51-55</td>\n",
       "      <td>13</td>\n",
       "      <td>B</td>\n",
       "      <td>1</td>\n",
       "      <td>1</td>\n",
       "      <td>20</td>\n",
       "      <td>368</td>\n",
       "      <td>0-5000</td>\n",
       "    </tr>\n",
       "    <tr>\n",
       "      <th>550064</th>\n",
       "      <td>1006035</td>\n",
       "      <td>P00375436</td>\n",
       "      <td>F</td>\n",
       "      <td>26-35</td>\n",
       "      <td>1</td>\n",
       "      <td>C</td>\n",
       "      <td>3</td>\n",
       "      <td>0</td>\n",
       "      <td>20</td>\n",
       "      <td>371</td>\n",
       "      <td>0-5000</td>\n",
       "    </tr>\n",
       "    <tr>\n",
       "      <th>550065</th>\n",
       "      <td>1006036</td>\n",
       "      <td>P00375436</td>\n",
       "      <td>F</td>\n",
       "      <td>26-35</td>\n",
       "      <td>15</td>\n",
       "      <td>B</td>\n",
       "      <td>4+</td>\n",
       "      <td>1</td>\n",
       "      <td>20</td>\n",
       "      <td>137</td>\n",
       "      <td>0-5000</td>\n",
       "    </tr>\n",
       "    <tr>\n",
       "      <th>550066</th>\n",
       "      <td>1006038</td>\n",
       "      <td>P00375436</td>\n",
       "      <td>F</td>\n",
       "      <td>55+</td>\n",
       "      <td>1</td>\n",
       "      <td>C</td>\n",
       "      <td>2</td>\n",
       "      <td>0</td>\n",
       "      <td>20</td>\n",
       "      <td>365</td>\n",
       "      <td>0-5000</td>\n",
       "    </tr>\n",
       "    <tr>\n",
       "      <th>550067</th>\n",
       "      <td>1006039</td>\n",
       "      <td>P00371644</td>\n",
       "      <td>F</td>\n",
       "      <td>46-50</td>\n",
       "      <td>0</td>\n",
       "      <td>B</td>\n",
       "      <td>4+</td>\n",
       "      <td>1</td>\n",
       "      <td>20</td>\n",
       "      <td>490</td>\n",
       "      <td>0-5000</td>\n",
       "    </tr>\n",
       "  </tbody>\n",
       "</table>\n",
       "<p>550068 rows × 11 columns</p>\n",
       "</div>"
      ],
      "text/plain": [
       "        User_ID Product_ID Gender    Age  Occupation City_Category  \\\n",
       "0       1000001  P00069042      F   0-17          10             A   \n",
       "1       1000001  P00248942      F   0-17          10             A   \n",
       "2       1000001  P00087842      F   0-17          10             A   \n",
       "3       1000001  P00085442      F   0-17          10             A   \n",
       "4       1000002  P00285442      M    55+          16             C   \n",
       "...         ...        ...    ...    ...         ...           ...   \n",
       "550063  1006033  P00372445      M  51-55          13             B   \n",
       "550064  1006035  P00375436      F  26-35           1             C   \n",
       "550065  1006036  P00375436      F  26-35          15             B   \n",
       "550066  1006038  P00375436      F    55+           1             C   \n",
       "550067  1006039  P00371644      F  46-50           0             B   \n",
       "\n",
       "       Stay_In_Current_City_Years  Marital_Status  Product_Category  Purchase  \\\n",
       "0                               2               0                 3      8370   \n",
       "1                               2               0                 1     15200   \n",
       "2                               2               0                12      1422   \n",
       "3                               2               0                12      1057   \n",
       "4                              4+               0                 8      7969   \n",
       "...                           ...             ...               ...       ...   \n",
       "550063                          1               1                20       368   \n",
       "550064                          3               0                20       371   \n",
       "550065                         4+               1                20       137   \n",
       "550066                          2               0                20       365   \n",
       "550067                         4+               1                20       490   \n",
       "\n",
       "       Purchase_bin  \n",
       "0        5001-10000  \n",
       "1       15001-20000  \n",
       "2            0-5000  \n",
       "3            0-5000  \n",
       "4        5001-10000  \n",
       "...             ...  \n",
       "550063       0-5000  \n",
       "550064       0-5000  \n",
       "550065       0-5000  \n",
       "550066       0-5000  \n",
       "550067       0-5000  \n",
       "\n",
       "[550068 rows x 11 columns]"
      ]
     },
     "execution_count": 13,
     "metadata": {},
     "output_type": "execute_result"
    }
   ],
   "source": [
    "bins = [0,5000,10000,15000,20000,25000]\n",
    "labels = [\"0-5000\",\"5001-10000\",\"10001-15000\",\"15001-20000\",\"20001-25000\"]\n",
    "df[\"Purchase_bin\"] = pd.cut(x=df[\"Purchase\"],bins = bins, labels=labels)\n",
    "df"
   ]
  },
  {
   "cell_type": "markdown",
   "id": "0377b01d",
   "metadata": {},
   "source": [
    "### `1.2. Non-Graphical Analysis:`"
   ]
  },
  {
   "cell_type": "markdown",
   "id": "e7149338",
   "metadata": {},
   "source": [
    "**`Insights:`**\n",
    "1. Purchase: Mean=9263, Median=8047, Standard Deviation=5023. The max value is 23961 and mean is 9263 hence there are outliers in Purchase amount.\n",
    "2. The age is categorized in 7bins, and Maximum purchases are done by customer in Age group of **26-35**.\n",
    "3. There 3 cities considered in this data, and city B has the highest purchases.\n",
    "4. The ratio of female to male is the data is **1:3**"
   ]
  },
  {
   "cell_type": "code",
   "execution_count": 14,
   "id": "033282a7",
   "metadata": {},
   "outputs": [
    {
     "data": {
      "text/html": [
       "<div>\n",
       "<style scoped>\n",
       "    .dataframe tbody tr th:only-of-type {\n",
       "        vertical-align: middle;\n",
       "    }\n",
       "\n",
       "    .dataframe tbody tr th {\n",
       "        vertical-align: top;\n",
       "    }\n",
       "\n",
       "    .dataframe thead th {\n",
       "        text-align: right;\n",
       "    }\n",
       "</style>\n",
       "<table border=\"1\" class=\"dataframe\">\n",
       "  <thead>\n",
       "    <tr style=\"text-align: right;\">\n",
       "      <th></th>\n",
       "      <th>User_ID</th>\n",
       "      <th>Occupation</th>\n",
       "      <th>Marital_Status</th>\n",
       "      <th>Product_Category</th>\n",
       "      <th>Purchase</th>\n",
       "    </tr>\n",
       "  </thead>\n",
       "  <tbody>\n",
       "    <tr>\n",
       "      <th>count</th>\n",
       "      <td>5.500680e+05</td>\n",
       "      <td>550068.000000</td>\n",
       "      <td>550068.000000</td>\n",
       "      <td>550068.000000</td>\n",
       "      <td>550068.000000</td>\n",
       "    </tr>\n",
       "    <tr>\n",
       "      <th>mean</th>\n",
       "      <td>1.003029e+06</td>\n",
       "      <td>8.076707</td>\n",
       "      <td>0.409653</td>\n",
       "      <td>5.404270</td>\n",
       "      <td>9263.968713</td>\n",
       "    </tr>\n",
       "    <tr>\n",
       "      <th>std</th>\n",
       "      <td>1.727592e+03</td>\n",
       "      <td>6.522660</td>\n",
       "      <td>0.491770</td>\n",
       "      <td>3.936211</td>\n",
       "      <td>5023.065394</td>\n",
       "    </tr>\n",
       "    <tr>\n",
       "      <th>min</th>\n",
       "      <td>1.000001e+06</td>\n",
       "      <td>0.000000</td>\n",
       "      <td>0.000000</td>\n",
       "      <td>1.000000</td>\n",
       "      <td>12.000000</td>\n",
       "    </tr>\n",
       "    <tr>\n",
       "      <th>25%</th>\n",
       "      <td>1.001516e+06</td>\n",
       "      <td>2.000000</td>\n",
       "      <td>0.000000</td>\n",
       "      <td>1.000000</td>\n",
       "      <td>5823.000000</td>\n",
       "    </tr>\n",
       "    <tr>\n",
       "      <th>50%</th>\n",
       "      <td>1.003077e+06</td>\n",
       "      <td>7.000000</td>\n",
       "      <td>0.000000</td>\n",
       "      <td>5.000000</td>\n",
       "      <td>8047.000000</td>\n",
       "    </tr>\n",
       "    <tr>\n",
       "      <th>75%</th>\n",
       "      <td>1.004478e+06</td>\n",
       "      <td>14.000000</td>\n",
       "      <td>1.000000</td>\n",
       "      <td>8.000000</td>\n",
       "      <td>12054.000000</td>\n",
       "    </tr>\n",
       "    <tr>\n",
       "      <th>max</th>\n",
       "      <td>1.006040e+06</td>\n",
       "      <td>20.000000</td>\n",
       "      <td>1.000000</td>\n",
       "      <td>20.000000</td>\n",
       "      <td>23961.000000</td>\n",
       "    </tr>\n",
       "  </tbody>\n",
       "</table>\n",
       "</div>"
      ],
      "text/plain": [
       "            User_ID     Occupation  Marital_Status  Product_Category  \\\n",
       "count  5.500680e+05  550068.000000   550068.000000     550068.000000   \n",
       "mean   1.003029e+06       8.076707        0.409653          5.404270   \n",
       "std    1.727592e+03       6.522660        0.491770          3.936211   \n",
       "min    1.000001e+06       0.000000        0.000000          1.000000   \n",
       "25%    1.001516e+06       2.000000        0.000000          1.000000   \n",
       "50%    1.003077e+06       7.000000        0.000000          5.000000   \n",
       "75%    1.004478e+06      14.000000        1.000000          8.000000   \n",
       "max    1.006040e+06      20.000000        1.000000         20.000000   \n",
       "\n",
       "            Purchase  \n",
       "count  550068.000000  \n",
       "mean     9263.968713  \n",
       "std      5023.065394  \n",
       "min        12.000000  \n",
       "25%      5823.000000  \n",
       "50%      8047.000000  \n",
       "75%     12054.000000  \n",
       "max     23961.000000  "
      ]
     },
     "execution_count": 14,
     "metadata": {},
     "output_type": "execute_result"
    }
   ],
   "source": [
    "walmart.describe()"
   ]
  },
  {
   "cell_type": "code",
   "execution_count": 15,
   "id": "3721c0e4",
   "metadata": {},
   "outputs": [
    {
     "data": {
      "text/html": [
       "<div>\n",
       "<style scoped>\n",
       "    .dataframe tbody tr th:only-of-type {\n",
       "        vertical-align: middle;\n",
       "    }\n",
       "\n",
       "    .dataframe tbody tr th {\n",
       "        vertical-align: top;\n",
       "    }\n",
       "\n",
       "    .dataframe thead th {\n",
       "        text-align: right;\n",
       "    }\n",
       "</style>\n",
       "<table border=\"1\" class=\"dataframe\">\n",
       "  <thead>\n",
       "    <tr style=\"text-align: right;\">\n",
       "      <th></th>\n",
       "      <th>Product_ID</th>\n",
       "      <th>Gender</th>\n",
       "      <th>Age</th>\n",
       "      <th>City_Category</th>\n",
       "      <th>Stay_In_Current_City_Years</th>\n",
       "    </tr>\n",
       "  </thead>\n",
       "  <tbody>\n",
       "    <tr>\n",
       "      <th>count</th>\n",
       "      <td>550068</td>\n",
       "      <td>550068</td>\n",
       "      <td>550068</td>\n",
       "      <td>550068</td>\n",
       "      <td>550068</td>\n",
       "    </tr>\n",
       "    <tr>\n",
       "      <th>unique</th>\n",
       "      <td>3631</td>\n",
       "      <td>2</td>\n",
       "      <td>7</td>\n",
       "      <td>3</td>\n",
       "      <td>5</td>\n",
       "    </tr>\n",
       "    <tr>\n",
       "      <th>top</th>\n",
       "      <td>P00265242</td>\n",
       "      <td>M</td>\n",
       "      <td>26-35</td>\n",
       "      <td>B</td>\n",
       "      <td>1</td>\n",
       "    </tr>\n",
       "    <tr>\n",
       "      <th>freq</th>\n",
       "      <td>1880</td>\n",
       "      <td>414259</td>\n",
       "      <td>219587</td>\n",
       "      <td>231173</td>\n",
       "      <td>193821</td>\n",
       "    </tr>\n",
       "  </tbody>\n",
       "</table>\n",
       "</div>"
      ],
      "text/plain": [
       "       Product_ID  Gender     Age City_Category Stay_In_Current_City_Years\n",
       "count      550068  550068  550068        550068                     550068\n",
       "unique       3631       2       7             3                          5\n",
       "top     P00265242       M   26-35             B                          1\n",
       "freq         1880  414259  219587        231173                     193821"
      ]
     },
     "execution_count": 15,
     "metadata": {},
     "output_type": "execute_result"
    }
   ],
   "source": [
    "walmart.describe(include = object)"
   ]
  },
  {
   "cell_type": "markdown",
   "id": "e74562ec",
   "metadata": {},
   "source": [
    "### `1.3. Visual Analysis`"
   ]
  },
  {
   "cell_type": "markdown",
   "id": "7ff3f6e9",
   "metadata": {},
   "source": [
    "**`Insights:`**\n",
    "1. Most purchase amount is within 5000-1000 bracket.\n",
    "2. Most of the population in sample is not married.\n",
    "3. Maximum purchases are done by customer in Age group of **26-35 > 36-45 > 18-25**.\n",
    "4. Maximum pruchases are done by city **B > C > A**.\n",
    "5. Unmarried customers has more purchases compared to Married customers.\n",
    "6. Female customers tend to buy **expensive products** compared to Male.\n",
    "7. Product Category 6 and 7 has the biggest range of products in terms of amount.\n",
    "8. Male from 51-55yrs age group buys the most expensive products.\n",
    "9. **Correlation:**\n",
    "```\n",
    "a. Purchase is most correlated with Gender by 6%.\n",
    "b. Purchase is also correlated with Occupation by 2.1%.\n",
    "c. Product Category and Occupation are correlated by 2.1%.\n",
    "d. Product Category and Marital Status are correlated by 2.4%.\n",
    "e. Age is most correlated with Product Category by 6%\n",
    "d. Age and Purchase are correlated by 1.6%\n",
    "```"
   ]
  },
  {
   "cell_type": "code",
   "execution_count": 16,
   "id": "c3054c15",
   "metadata": {},
   "outputs": [
    {
     "data": {
      "text/plain": [
       "<AxesSubplot:xlabel='Purchase', ylabel='Density'>"
      ]
     },
     "execution_count": 16,
     "metadata": {},
     "output_type": "execute_result"
    },
    {
     "data": {
      "image/png": "[encoded data removed]",
      "text/plain": [
       "<Figure size 432x288 with 1 Axes>"
      ]
     },
     "metadata": {
      "needs_background": "light"
     },
     "output_type": "display_data"
    }
   ],
   "source": [
    "sns.kdeplot(data = df,x = \"Purchase\",shade = True)"
   ]
  },
  {
   "cell_type": "code",
   "execution_count": 17,
   "id": "aef09a16",
   "metadata": {},
   "outputs": [
    {
     "data": {
      "text/plain": [
       "([0, 1, 2, 3, 4],\n",
       " [Text(0, 0, ''),\n",
       "  Text(0, 0, ''),\n",
       "  Text(0, 0, ''),\n",
       "  Text(0, 0, ''),\n",
       "  Text(0, 0, '')])"
      ]
     },
     "execution_count": 17,
     "metadata": {},
     "output_type": "execute_result"
    },
    {
     "data": {
      "image/png": "[encoded data removed]",
      "text/plain": [
       "<Figure size 432x288 with 1 Axes>"
      ]
     },
     "metadata": {
      "needs_background": "light"
     },
     "output_type": "display_data"
    }
   ],
   "source": [
    "sns.histplot(data = df,x = \"Purchase_bin\")\n",
    "plt.xticks(rotation = 90)"
   ]
  },
  {
   "cell_type": "code",
   "execution_count": 18,
   "id": "81fe66a2",
   "metadata": {},
   "outputs": [
    {
     "data": {
      "text/plain": [
       "<AxesSubplot:xlabel='Gender', ylabel='count'>"
      ]
     },
     "execution_count": 18,
     "metadata": {},
     "output_type": "execute_result"
    },
    {
     "data": {
      "image/png": "[encoded data removed]",
      "text/plain": [
       "<Figure size 432x288 with 1 Axes>"
      ]
     },
     "metadata": {
      "needs_background": "light"
     },
     "output_type": "display_data"
    }
   ],
   "source": [
    "sns.countplot(data = df,\n",
    "             x = \"Gender\")"
   ]
  },
  {
   "cell_type": "code",
   "execution_count": 19,
   "id": "2f85f52d",
   "metadata": {},
   "outputs": [
    {
     "data": {
      "text/plain": [
       "<AxesSubplot:xlabel='Marital_Status', ylabel='count'>"
      ]
     },
     "execution_count": 19,
     "metadata": {},
     "output_type": "execute_result"
    },
    {
     "data": {
      "image/png": "[encoded data removed]",
      "text/plain": [
       "<Figure size 432x288 with 1 Axes>"
      ]
     },
     "metadata": {
      "needs_background": "light"
     },
     "output_type": "display_data"
    }
   ],
   "source": [
    "sns.countplot(data = df,\n",
    "             x = \"Marital_Status\")"
   ]
  },
  {
   "cell_type": "code",
   "execution_count": 20,
   "id": "fff7b333",
   "metadata": {},
   "outputs": [
    {
     "data": {
      "text/plain": [
       "26-35    219587\n",
       "36-45    110013\n",
       "18-25     99660\n",
       "46-50     45701\n",
       "51-55     38501\n",
       "55+       21504\n",
       "0-17      15102\n",
       "Name: Age, dtype: int64"
      ]
     },
     "execution_count": 20,
     "metadata": {},
     "output_type": "execute_result"
    }
   ],
   "source": [
    "df[\"Age\"].value_counts()"
   ]
  },
  {
   "cell_type": "code",
   "execution_count": 21,
   "id": "a805328b",
   "metadata": {},
   "outputs": [
    {
     "ename": "NameError",
     "evalue": "name 'df2' is not defined",
     "output_type": "error",
     "traceback": [
      "\u001b[1;31m---------------------------------------------------------------------------\u001b[0m",
      "\u001b[1;31mNameError\u001b[0m                                 Traceback (most recent call last)",
      "Input \u001b[1;32mIn [21]\u001b[0m, in \u001b[0;36m<cell line: 1>\u001b[1;34m()\u001b[0m\n\u001b[1;32m----> 1\u001b[0m sns\u001b[38;5;241m.\u001b[39mcountplot(\u001b[43mdf2\u001b[49m[\u001b[38;5;124m\"\u001b[39m\u001b[38;5;124mAge\u001b[39m\u001b[38;5;124m\"\u001b[39m])\n",
      "\u001b[1;31mNameError\u001b[0m: name 'df2' is not defined"
     ]
    }
   ],
   "source": [
    "sns.countplot(df2[\"Age\"])"
   ]
  },
  {
   "cell_type": "code",
   "execution_count": 22,
   "id": "f4684bc6",
   "metadata": {},
   "outputs": [
    {
     "name": "stderr",
     "output_type": "stream",
     "text": [
      "C:\\Users\\Rajeshri Jogi\\AppData\\Local\\Programs\\Python\\Python39\\lib\\site-packages\\seaborn\\_decorators.py:36: FutureWarning: Pass the following variable as a keyword arg: x. From version 0.12, the only valid positional argument will be `data`, and passing other arguments without an explicit keyword will result in an error or misinterpretation.\n",
      "  warnings.warn(\n"
     ]
    },
    {
     "data": {
      "text/plain": [
       "<AxesSubplot:xlabel='Product_Category', ylabel='count'>"
      ]
     },
     "execution_count": 22,
     "metadata": {},
     "output_type": "execute_result"
    },
    {
     "data": {
      "image/png": "[encoded data removed]",
      "text/plain": [
       "<Figure size 432x288 with 1 Axes>"
      ]
     },
     "metadata": {
      "needs_background": "light"
     },
     "output_type": "display_data"
    }
   ],
   "source": [
    "sns.countplot(df[\"Product_Category\"])"
   ]
  },
  {
   "cell_type": "code",
   "execution_count": 23,
   "id": "6ceecb13",
   "metadata": {},
   "outputs": [
    {
     "data": {
      "text/plain": [
       "<AxesSubplot:xlabel='City_Category', ylabel='count'>"
      ]
     },
     "execution_count": 23,
     "metadata": {},
     "output_type": "execute_result"
    },
    {
     "data": {
      "image/png": "[encoded data removed]",
      "text/plain": [
       "<Figure size 432x288 with 1 Axes>"
      ]
     },
     "metadata": {
      "needs_background": "light"
     },
     "output_type": "display_data"
    }
   ],
   "source": [
    "sns.countplot(data = df, x = \"City_Category\")"
   ]
  },
  {
   "cell_type": "code",
   "execution_count": 24,
   "id": "e783e73b",
   "metadata": {},
   "outputs": [
    {
     "data": {
      "text/plain": [
       "<AxesSubplot:xlabel='Gender', ylabel='Purchase'>"
      ]
     },
     "execution_count": 24,
     "metadata": {},
     "output_type": "execute_result"
    },
    {
     "data": {
      "image/png": "[encoded data removed]",
      "text/plain": [
       "<Figure size 432x288 with 1 Axes>"
      ]
     },
     "metadata": {
      "needs_background": "light"
     },
     "output_type": "display_data"
    }
   ],
   "source": [
    "sns.boxplot(data = df,\n",
    "           x = \"Gender\",\n",
    "           y = \"Purchase\")"
   ]
  },
  {
   "cell_type": "code",
   "execution_count": 25,
   "id": "f1134bac",
   "metadata": {},
   "outputs": [
    {
     "data": {
      "text/plain": [
       "<AxesSubplot:xlabel='Occupation', ylabel='count'>"
      ]
     },
     "execution_count": 25,
     "metadata": {},
     "output_type": "execute_result"
    },
    {
     "data": {
      "image/png": "[encoded data removed]",
      "text/plain": [
       "<Figure size 432x288 with 1 Axes>"
      ]
     },
     "metadata": {
      "needs_background": "light"
     },
     "output_type": "display_data"
    }
   ],
   "source": [
    "sns.countplot(data=df,\n",
    "             x=\"Occupation\")"
   ]
  },
  {
   "cell_type": "code",
   "execution_count": 27,
   "id": "189f4b4e",
   "metadata": {},
   "outputs": [
    {
     "data": {
      "text/plain": [
       "<AxesSubplot:xlabel='Product_Category', ylabel='Purchase'>"
      ]
     },
     "execution_count": 27,
     "metadata": {},
     "output_type": "execute_result"
    },
    {
     "data": {
      "image/png": "[encoded data removed]",
      "text/plain": [
       "<Figure size 432x288 with 1 Axes>"
      ]
     },
     "metadata": {
      "needs_background": "light"
     },
     "output_type": "display_data"
    }
   ],
   "source": [
    "sns.lineplot(data=df,\n",
    "               x=\"Product_Category\",\n",
    "               y = \"Purchase\")"
   ]
  },
  {
   "cell_type": "code",
   "execution_count": 28,
   "id": "1bfd9b26",
   "metadata": {},
   "outputs": [
    {
     "ename": "NameError",
     "evalue": "name 'df2' is not defined",
     "output_type": "error",
     "traceback": [
      "\u001b[1;31m---------------------------------------------------------------------------\u001b[0m",
      "\u001b[1;31mNameError\u001b[0m                                 Traceback (most recent call last)",
      "Input \u001b[1;32mIn [28]\u001b[0m, in \u001b[0;36m<cell line: 1>\u001b[1;34m()\u001b[0m\n\u001b[1;32m----> 1\u001b[0m sns\u001b[38;5;241m.\u001b[39mlineplot(data\u001b[38;5;241m=\u001b[39m\u001b[43mdf2\u001b[49m,\n\u001b[0;32m      2\u001b[0m                x\u001b[38;5;241m=\u001b[39m\u001b[38;5;124m\"\u001b[39m\u001b[38;5;124mOccupation\u001b[39m\u001b[38;5;124m\"\u001b[39m,\n\u001b[0;32m      3\u001b[0m                y \u001b[38;5;241m=\u001b[39m \u001b[38;5;124m\"\u001b[39m\u001b[38;5;124mPurchase\u001b[39m\u001b[38;5;124m\"\u001b[39m)\n",
      "\u001b[1;31mNameError\u001b[0m: name 'df2' is not defined"
     ]
    }
   ],
   "source": [
    "sns.lineplot(data=df2,\n",
    "               x=\"Occupation\",\n",
    "               y = \"Purchase\")"
   ]
  },
  {
   "cell_type": "code",
   "execution_count": 29,
   "id": "ca864d85",
   "metadata": {},
   "outputs": [
    {
     "data": {
      "text/plain": [
       "<AxesSubplot:xlabel='Age', ylabel='Purchase'>"
      ]
     },
     "execution_count": 29,
     "metadata": {},
     "output_type": "execute_result"
    },
    {
     "data": {
      "image/png": "[encoded data removed]",
      "text/plain": [
       "<Figure size 432x288 with 1 Axes>"
      ]
     },
     "metadata": {
      "needs_background": "light"
     },
     "output_type": "display_data"
    }
   ],
   "source": [
    "sns.boxplot(data = df,\n",
    "           x = \"Age\",\n",
    "           y = \"Purchase\")"
   ]
  },
  {
   "cell_type": "code",
   "execution_count": 30,
   "id": "c6f4d082",
   "metadata": {},
   "outputs": [
    {
     "data": {
      "text/plain": [
       "<AxesSubplot:xlabel='Product_Category', ylabel='count'>"
      ]
     },
     "execution_count": 30,
     "metadata": {},
     "output_type": "execute_result"
    },
    {
     "data": {
      "image/png": "[encoded data removed]",
      "text/plain": [
       "<Figure size 720x432 with 1 Axes>"
      ]
     },
     "metadata": {
      "needs_background": "light"
     },
     "output_type": "display_data"
    }
   ],
   "source": [
    "plt.figure(figsize=(10,6))\n",
    "sns.countplot(data = df,\n",
    "             x = \"Product_Category\",\n",
    "             hue = \"Gender\")"
   ]
  },
  {
   "cell_type": "code",
   "execution_count": 31,
   "id": "3e15605f",
   "metadata": {},
   "outputs": [
    {
     "data": {
      "text/plain": [
       "<AxesSubplot:xlabel='Product_Category', ylabel='Purchase'>"
      ]
     },
     "execution_count": 31,
     "metadata": {},
     "output_type": "execute_result"
    },
    {
     "data": {
      "image/png": "[encoded data removed]",
      "text/plain": [
       "<Figure size 864x504 with 1 Axes>"
      ]
     },
     "metadata": {
      "needs_background": "light"
     },
     "output_type": "display_data"
    }
   ],
   "source": [
    "plt.figure(figsize=(12,7))\n",
    "sns.boxplot(data = df,\n",
    "             x = \"Product_Category\",\n",
    "             y= \"Purchase\",\n",
    "           hue = \"Gender\")"
   ]
  },
  {
   "cell_type": "code",
   "execution_count": 32,
   "id": "ecbba064",
   "metadata": {},
   "outputs": [
    {
     "data": {
      "text/plain": [
       "<AxesSubplot:xlabel='Age', ylabel='Purchase'>"
      ]
     },
     "execution_count": 32,
     "metadata": {},
     "output_type": "execute_result"
    },
    {
     "data": {
      "image/png": "[encoded data removed]",
      "text/plain": [
       "<Figure size 720x432 with 1 Axes>"
      ]
     },
     "metadata": {
      "needs_background": "light"
     },
     "output_type": "display_data"
    }
   ],
   "source": [
    "plt.figure(figsize=(10,6))\n",
    "sns.boxplot(data = df,\n",
    "           x = \"Age\",\n",
    "           y = \"Purchase\",\n",
    "           hue = \"Gender\")"
   ]
  },
  {
   "cell_type": "code",
   "execution_count": 33,
   "id": "ed4a7d63",
   "metadata": {},
   "outputs": [],
   "source": [
    "df2 = walmart.copy(deep=True)"
   ]
  },
  {
   "cell_type": "code",
   "execution_count": 34,
   "id": "94778a3e",
   "metadata": {},
   "outputs": [],
   "source": [
    "df2['Gender'].replace(['F','M'],[\"0\",\"1\"],inplace=True)\n",
    "df2['Gender'] = pd.to_numeric(df2[\"Gender\"])\n",
    "df2[\"Age\"].replace([\"0-17\",\"18-25\",\"26-35\",\"36-45\",\"46-50\",\"51-55\",\"55+\"],[\"0\",\"18\",\"26\",\"36\",\"46\",\"51\",\"55\"],inplace=True)\n",
    "df2['Age'] = pd.to_numeric(df2[\"Age\"])\n",
    "df2[\"Marital_Status\"] = df2[\"Marital_Status\"].astype(\"string\")\n",
    "df2[\"Occupation\"] = df2[\"Occupation\"].astype(\"string\")\n",
    "df2[\"Product_Category\"] = pd.to_numeric(df2[\"Product_Category\"])"
   ]
  },
  {
   "cell_type": "code",
   "execution_count": 35,
   "id": "a7df0734",
   "metadata": {},
   "outputs": [
    {
     "data": {
      "text/plain": [
       "<AxesSubplot:>"
      ]
     },
     "execution_count": 35,
     "metadata": {},
     "output_type": "execute_result"
    },
    {
     "data": {
      "image/png": "[encoded data removed]",
      "text/plain": [
       "<Figure size 576x360 with 2 Axes>"
      ]
     },
     "metadata": {
      "needs_background": "light"
     },
     "output_type": "display_data"
    }
   ],
   "source": [
    "plt.figure(figsize=(8,5))\n",
    "sns.heatmap(df.corr(),annot = True)"
   ]
  },
  {
   "cell_type": "code",
   "execution_count": 36,
   "id": "e5b26419",
   "metadata": {},
   "outputs": [
    {
     "data": {
      "text/plain": [
       "<AxesSubplot:>"
      ]
     },
     "execution_count": 36,
     "metadata": {},
     "output_type": "execute_result"
    },
    {
     "data": {
      "image/png": "[encoded data removed]",
      "text/plain": [
       "<Figure size 576x360 with 2 Axes>"
      ]
     },
     "metadata": {
      "needs_background": "light"
     },
     "output_type": "display_data"
    }
   ],
   "source": [
    "plt.figure(figsize=(8,5))\n",
    "sns.heatmap(df2.corr(),annot = True)"
   ]
  },
  {
   "cell_type": "code",
   "execution_count": 37,
   "id": "c324a462",
   "metadata": {},
   "outputs": [
    {
     "data": {
      "text/html": [
       "<div>\n",
       "<style scoped>\n",
       "    .dataframe tbody tr th:only-of-type {\n",
       "        vertical-align: middle;\n",
       "    }\n",
       "\n",
       "    .dataframe tbody tr th {\n",
       "        vertical-align: top;\n",
       "    }\n",
       "\n",
       "    .dataframe thead th {\n",
       "        text-align: right;\n",
       "    }\n",
       "</style>\n",
       "<table border=\"1\" class=\"dataframe\">\n",
       "  <thead>\n",
       "    <tr style=\"text-align: right;\">\n",
       "      <th>Gender</th>\n",
       "      <th>F</th>\n",
       "      <th>M</th>\n",
       "      <th>All</th>\n",
       "    </tr>\n",
       "    <tr>\n",
       "      <th>Marital_Status</th>\n",
       "      <th></th>\n",
       "      <th></th>\n",
       "      <th></th>\n",
       "    </tr>\n",
       "  </thead>\n",
       "  <tbody>\n",
       "    <tr>\n",
       "      <th>0</th>\n",
       "      <td>0.143293</td>\n",
       "      <td>0.447054</td>\n",
       "      <td>0.590347</td>\n",
       "    </tr>\n",
       "    <tr>\n",
       "      <th>1</th>\n",
       "      <td>0.103602</td>\n",
       "      <td>0.306051</td>\n",
       "      <td>0.409653</td>\n",
       "    </tr>\n",
       "    <tr>\n",
       "      <th>All</th>\n",
       "      <td>0.246895</td>\n",
       "      <td>0.753105</td>\n",
       "      <td>1.000000</td>\n",
       "    </tr>\n",
       "  </tbody>\n",
       "</table>\n",
       "</div>"
      ],
      "text/plain": [
       "Gender                 F         M       All\n",
       "Marital_Status                              \n",
       "0               0.143293  0.447054  0.590347\n",
       "1               0.103602  0.306051  0.409653\n",
       "All             0.246895  0.753105  1.000000"
      ]
     },
     "execution_count": 37,
     "metadata": {},
     "output_type": "execute_result"
    }
   ],
   "source": [
    "pd.crosstab(df[\"Marital_Status\"],df[\"Gender\"],margins=True,normalize=True)"
   ]
  },
  {
   "cell_type": "markdown",
   "id": "2896a338",
   "metadata": {},
   "source": [
    "## `2. Missing Value & Outlier Detection`"
   ]
  },
  {
   "cell_type": "markdown",
   "id": "7b7d5a43",
   "metadata": {},
   "source": [
    "**`Insights:`**\n",
    "1. There are no null or NaN values in the data.\n",
    "2. No Duplicate values\n",
    "3. Outliers in Purchase Amount\n",
    "4. **number of outliers**:2677\n",
    "5. **max outlier value**:23961\n",
    "6. **min outlier value**:21401\n",
    "7. Male outliers **>** Female outliers .\n",
    "8. **Maximum Outliers are Male from 26-35yrs.**\n",
    "9. 50% of the outliers are from City B category."
   ]
  },
  {
   "cell_type": "code",
   "execution_count": 38,
   "id": "71417d01",
   "metadata": {},
   "outputs": [
    {
     "data": {
      "text/plain": [
       "User_ID                       0\n",
       "Product_ID                    0\n",
       "Gender                        0\n",
       "Age                           0\n",
       "Occupation                    0\n",
       "City_Category                 0\n",
       "Stay_In_Current_City_Years    0\n",
       "Marital_Status                0\n",
       "Product_Category              0\n",
       "Purchase                      0\n",
       "dtype: int64"
      ]
     },
     "execution_count": 38,
     "metadata": {},
     "output_type": "execute_result"
    }
   ],
   "source": [
    "walmart.isnull().sum()"
   ]
  },
  {
   "cell_type": "code",
   "execution_count": 39,
   "id": "05644e98",
   "metadata": {},
   "outputs": [
    {
     "data": {
      "text/plain": [
       "False"
      ]
     },
     "execution_count": 39,
     "metadata": {},
     "output_type": "execute_result"
    }
   ],
   "source": [
    "walmart.isnull().values.any()"
   ]
  },
  {
   "cell_type": "code",
   "execution_count": 40,
   "id": "3987d141",
   "metadata": {},
   "outputs": [
    {
     "data": {
      "text/html": [
       "<div>\n",
       "<style scoped>\n",
       "    .dataframe tbody tr th:only-of-type {\n",
       "        vertical-align: middle;\n",
       "    }\n",
       "\n",
       "    .dataframe tbody tr th {\n",
       "        vertical-align: top;\n",
       "    }\n",
       "\n",
       "    .dataframe thead th {\n",
       "        text-align: right;\n",
       "    }\n",
       "</style>\n",
       "<table border=\"1\" class=\"dataframe\">\n",
       "  <thead>\n",
       "    <tr style=\"text-align: right;\">\n",
       "      <th></th>\n",
       "      <th>User_ID</th>\n",
       "      <th>Product_ID</th>\n",
       "      <th>Gender</th>\n",
       "      <th>Age</th>\n",
       "      <th>Occupation</th>\n",
       "      <th>City_Category</th>\n",
       "      <th>Stay_In_Current_City_Years</th>\n",
       "      <th>Marital_Status</th>\n",
       "      <th>Product_Category</th>\n",
       "      <th>Purchase</th>\n",
       "      <th>Purchase_bin</th>\n",
       "    </tr>\n",
       "  </thead>\n",
       "  <tbody>\n",
       "  </tbody>\n",
       "</table>\n",
       "</div>"
      ],
      "text/plain": [
       "Empty DataFrame\n",
       "Columns: [User_ID, Product_ID, Gender, Age, Occupation, City_Category, Stay_In_Current_City_Years, Marital_Status, Product_Category, Purchase, Purchase_bin]\n",
       "Index: []"
      ]
     },
     "execution_count": 40,
     "metadata": {},
     "output_type": "execute_result"
    }
   ],
   "source": [
    "df.loc[df.duplicated()]"
   ]
  },
  {
   "cell_type": "code",
   "execution_count": 42,
   "id": "6ed48bb0",
   "metadata": {},
   "outputs": [],
   "source": [
    "def find_outliers_IQR(df):\n",
    "   q1=df.quantile(0.25)\n",
    "   q3=df.quantile(0.75)\n",
    "   outliers = df[((df<(q1-1.5*IQR)) | (df>(q3+1.5*IQR)))]\n",
    "   return outliers"
   ]
  },
  {
   "cell_type": "code",
   "execution_count": 43,
   "id": "6162ac59",
   "metadata": {},
   "outputs": [
    {
     "name": "stdout",
     "output_type": "stream",
     "text": [
      "number of outliers:2677\n",
      "max outlier value:23961\n",
      "min outlier value:21401\n"
     ]
    },
    {
     "data": {
      "text/html": [
       "<div>\n",
       "<style scoped>\n",
       "    .dataframe tbody tr th:only-of-type {\n",
       "        vertical-align: middle;\n",
       "    }\n",
       "\n",
       "    .dataframe tbody tr th {\n",
       "        vertical-align: top;\n",
       "    }\n",
       "\n",
       "    .dataframe thead th {\n",
       "        text-align: right;\n",
       "    }\n",
       "</style>\n",
       "<table border=\"1\" class=\"dataframe\">\n",
       "  <thead>\n",
       "    <tr style=\"text-align: right;\">\n",
       "      <th></th>\n",
       "      <th>Product_ID</th>\n",
       "      <th>Gender</th>\n",
       "      <th>Age</th>\n",
       "      <th>City_Category</th>\n",
       "      <th>Stay_In_Current_City_Years</th>\n",
       "    </tr>\n",
       "  </thead>\n",
       "  <tbody>\n",
       "    <tr>\n",
       "      <th>count</th>\n",
       "      <td>2677</td>\n",
       "      <td>2677</td>\n",
       "      <td>2677</td>\n",
       "      <td>2677</td>\n",
       "      <td>2677</td>\n",
       "    </tr>\n",
       "    <tr>\n",
       "      <th>unique</th>\n",
       "      <td>722</td>\n",
       "      <td>2</td>\n",
       "      <td>7</td>\n",
       "      <td>3</td>\n",
       "      <td>5</td>\n",
       "    </tr>\n",
       "    <tr>\n",
       "      <th>top</th>\n",
       "      <td>P00025442</td>\n",
       "      <td>M</td>\n",
       "      <td>26-35</td>\n",
       "      <td>B</td>\n",
       "      <td>1</td>\n",
       "    </tr>\n",
       "    <tr>\n",
       "      <th>freq</th>\n",
       "      <td>23</td>\n",
       "      <td>2418</td>\n",
       "      <td>1440</td>\n",
       "      <td>1322</td>\n",
       "      <td>896</td>\n",
       "    </tr>\n",
       "  </tbody>\n",
       "</table>\n",
       "</div>"
      ],
      "text/plain": [
       "       Product_ID Gender    Age City_Category Stay_In_Current_City_Years\n",
       "count        2677   2677   2677          2677                       2677\n",
       "unique        722      2      7             3                          5\n",
       "top     P00025442      M  26-35             B                          1\n",
       "freq           23   2418   1440          1322                        896"
      ]
     },
     "execution_count": 43,
     "metadata": {},
     "output_type": "execute_result"
    }
   ],
   "source": [
    "outliers = find_outliers_IQR(df[\"Purchase\"])\n",
    "print(\"number of outliers:\" + str(len(outliers)))\n",
    "print(\"max outlier value:\"+ str(outliers.max()))\n",
    "print(\"min outlier value:\"+ str(outliers.min()))\n",
    "df.loc[outliers].describe(include = object)"
   ]
  },
  {
   "cell_type": "code",
   "execution_count": 46,
   "id": "ec3516c9",
   "metadata": {},
   "outputs": [
    {
     "data": {
      "text/plain": [
       "count    550068.000000\n",
       "mean       9263.968713\n",
       "std        5023.065394\n",
       "min          12.000000\n",
       "25%        5823.000000\n",
       "50%        8047.000000\n",
       "75%       12054.000000\n",
       "max       23961.000000\n",
       "Name: Purchase, dtype: float64"
      ]
     },
     "execution_count": 46,
     "metadata": {},
     "output_type": "execute_result"
    }
   ],
   "source": [
    "df[\"Purchase\"].describe()"
   ]
  },
  {
   "cell_type": "markdown",
   "id": "f913f1ab",
   "metadata": {},
   "source": [
    "## `4. Answering Questions:`"
   ]
  },
  {
   "cell_type": "markdown",
   "id": "8e7aa3c3",
   "metadata": {},
   "source": [
    "#### **`Insights:`**\n",
    "1. **Population Average:** The average purchase amount of Female is USD 8734 and Male is USD 9438.\n",
    "2. Women are spending < Men on average, because the Female buys mostly from **Product Category 5,8 & 1**,which has very low range products.\n",
    "3. **Female Confidence Interval:**\n",
    "```\n",
    "90% Purchase Confidence Interval:(8713.28, 8755.84)\n",
    "95% Purchase Confidence Interval:(8709.21, 8759.92)\n",
    "99% Purchase Confidence Interval:(8701.24, 8767.88)\n",
    "```\n",
    "4. **Male Confidence Interval:**\n",
    "```\n",
    "90% Purchase Confidence Interval:(9424.51, 9450.53)\n",
    "95% Purchase Confidence Interval:(9422.019, 9453.03)\n",
    "99% Purchase Confidence Interval:(9417.14, 9457.90)\n",
    "```\n",
    "5. The confidence intervals of Male and Female are not overlapping.\n",
    "\n",
    "6. **Married Customer Confidence Interval:**\n",
    "```\n",
    "90% Purchase Confidence Interval:(9243.79, 9278.55)\n",
    "95% Purchase Confidence Interval:(9240.46, 9281.88)\n",
    "99% Purchase Confidence Interval:(9233.95, 9288.39)\n",
    "```\n",
    "7. **Unmarried Customer Confidence Interval:**\n",
    "```\n",
    "90% Purchase Confidence Interval:(9251.39, 9280.41)\n",
    "95% Purchase Confidence Interval:(9248.61, 9283.19)\n",
    "99% Purchase Confidence Interval:(9243.18, 9288.63)\n",
    "```\n",
    "8. **Age Group Below 17yrs - Confidence Interval:**\n",
    "```\n",
    "90% Purchase Confidence Interval:(8865.04, 9001.87)\n",
    "95% Purchase Confidence Interval:(8851.94, 9014.98)\n",
    "99% Purchase Confidence Interval:(8826.32, 9040.60)\n",
    "```\n",
    "9. **Age Group 18-25yrs - Confidence Interval:**\n",
    "```\n",
    "90% Purchase Confidence Interval:(9143.43, 9195.89)\n",
    "95% Purchase Confidence Interval:(9138.40, 9200.91)\n",
    "99% Purchase Confidence Interval:(9128.58, 9210.74)\n",
    "```\n",
    "10. **Age Group 26-35yrs - Confidence Interval:**\n",
    "```\n",
    "90% Purchase Confidence Interval:(9235.10, 9270.27)\n",
    "95% Purchase Confidence Interval:(9231.73, 9273.64)\n",
    "99% Purchase Confidence Interval:(9225.14, 9280.23)\n",
    "```\n",
    "11. **Age Group 36-45yrs - Confidence Interval:**\n",
    "```\n",
    "90% Purchase Confidence Interval:(9306.44, 9356.26)\n",
    "95% Purchase Confidence Interval:(9301.66, 9361.03)\n",
    "99% Purchase Confidence Interval:(9292.34, 9370.35)\n",
    "```\n",
    "12. **Age Group 46-50yrs - Confidence Interval:**\n",
    "```\n",
    "90% Purchase Confidence Intervals:(9170.40, 9246.84)\n",
    "95% Purchase Confidence Interval:(9163.08, 9254.16)\n",
    "99% Purchase Confidence Interval:(9148.77, 9268.47)\n",
    "```\n",
    "13. **Age Group 51-55yrs - Confidence Interval:**\n",
    "```\n",
    "90% Purchase Confidence Interval:(9492.16, 9577.45)\n",
    "95% Purchase Confidence Interval:(9483.98, 9585.62)\n",
    "99% Purchase Confidence Interval:(9468.02, 9601.59)\n",
    "```\n",
    "14. **Age Group Above 55yrs - Confidence Interval:**\n",
    "```\n",
    "90% Purchase Confidence Interval:(9280.06, 9392.49)\n",
    "95% Purchase Confidence Interval:(9269.29, 9403.26)\n",
    "99% Purchase Confidence Interval:(9248.24, 9424.31)\n",
    "```\n"
   ]
  },
  {
   "cell_type": "code",
   "execution_count": 44,
   "id": "1f6fb6b0",
   "metadata": {},
   "outputs": [
    {
     "name": "stdout",
     "output_type": "stream",
     "text": [
      "Female Purchase amount Mean:8734.565765155476\n",
      "Female Purchase amount SD:4767.233289291458\n",
      "90% Female Purchase Confidence Interval:(8713.287689504074, 8755.843840806878)\n",
      "95% Female Purchase Confidence Interval:(8709.21132117373, 8759.92020913722)\n",
      "99% Female Purchase Confidence Interval:(8701.24420611832, 8767.887324192632)\n"
     ]
    },
    {
     "name": "stderr",
     "output_type": "stream",
     "text": [
      "C:\\Users\\Rajeshri Jogi\\AppData\\Local\\Temp\\ipykernel_22524\\3679300526.py:18: DeprecationWarning: Use of keyword argument `alpha` for method `interval` is deprecated. Use first positional argument or keyword argument `confidence` instead.\n",
      "  CI_Female_purchase = st.t.interval(alpha=0.90, df=len(Female_data[\"Purchase\"])-1,\n",
      "C:\\Users\\Rajeshri Jogi\\AppData\\Local\\Temp\\ipykernel_22524\\3679300526.py:24: DeprecationWarning: Use of keyword argument `alpha` for method `interval` is deprecated. Use first positional argument or keyword argument `confidence` instead.\n",
      "  CI_Female_purchase = st.t.interval(alpha=0.95, df=len(Female_data[\"Purchase\"])-1,\n",
      "C:\\Users\\Rajeshri Jogi\\AppData\\Local\\Temp\\ipykernel_22524\\3679300526.py:30: DeprecationWarning: Use of keyword argument `alpha` for method `interval` is deprecated. Use first positional argument or keyword argument `confidence` instead.\n",
      "  CI_Female_purchase = st.t.interval(alpha=0.99, df=len(Female_data[\"Purchase\"])-1,\n"
     ]
    },
    {
     "data": {
      "image/png": "[encoded data removed]",
      "text/plain": [
       "<Figure size 432x288 with 1 Axes>"
      ]
     },
     "metadata": {
      "needs_background": "light"
     },
     "output_type": "display_data"
    }
   ],
   "source": [
    "# Female Purchases\n",
    "Female_data = df[df[\"Gender\"]==\"F\"]\n",
    "print(\"Female Purchase amount Mean:\"+ str(Female_data[\"Purchase\"].mean()))\n",
    "print(\"Female Purchase amount SD:\"+ str(Female_data[\"Purchase\"].std()))\n",
    "\n",
    "#Sample trend \n",
    "sample_mean_trend = []\n",
    "x_values = range(100,len(Female_data),500)\n",
    "for num_samples in x_values:\n",
    "    sample = Female_data[\"Purchase\"].sample(num_samples)\n",
    "    samle_mean = np.mean(sample)\n",
    "    sample_mean_trend.append(samle_mean)\n",
    "plt.plot(x_values,sample_mean_trend)\n",
    "plt.xlabel(\"Number of Samples\")\n",
    "plt.ylabel(\"Sample_mean\")\n",
    "\n",
    "# 90% Confidence Interval - Female Purchase amount\n",
    "CI_Female_purchase = st.t.interval(alpha=0.90, df=len(Female_data[\"Purchase\"])-1,\n",
    "              loc=np.mean(Female_data[\"Purchase\"]),\n",
    "              scale=st.sem(Female_data[\"Purchase\"]))\n",
    "print(\"90% Female Purchase Confidence Interval:\" + str(CI_Female_purchase))\n",
    "\n",
    "# 95% Confidence Interval - Female Purchase amount\n",
    "CI_Female_purchase = st.t.interval(alpha=0.95, df=len(Female_data[\"Purchase\"])-1,\n",
    "              loc=np.mean(Female_data[\"Purchase\"]),\n",
    "              scale=st.sem(Female_data[\"Purchase\"]))\n",
    "print(\"95% Female Purchase Confidence Interval:\" + str(CI_Female_purchase))\n",
    "\n",
    "# 99% Confidence Interval - Female Purchase amount\n",
    "CI_Female_purchase = st.t.interval(alpha=0.99, df=len(Female_data[\"Purchase\"])-1,\n",
    "              loc=np.mean(Female_data[\"Purchase\"]),\n",
    "              scale=st.sem(Female_data[\"Purchase\"]))\n",
    "print(\"99% Female Purchase Confidence Interval:\" + str(CI_Female_purchase))"
   ]
  },
  {
   "cell_type": "code",
   "execution_count": 45,
   "id": "418224bc",
   "metadata": {},
   "outputs": [
    {
     "data": {
      "text/plain": [
       "(135809, 11)"
      ]
     },
     "execution_count": 45,
     "metadata": {},
     "output_type": "execute_result"
    }
   ],
   "source": [
    "Female_data.shape"
   ]
  },
  {
   "cell_type": "code",
   "execution_count": null,
   "id": "75db9ab0",
   "metadata": {},
   "outputs": [],
   "source": [
    "# Male Purchases\n",
    "Male_data = df[df[\"Gender\"]==\"M\"]\n",
    "print(\"Male Purchase amount Mean:\" + str(Male_data[\"Purchase\"].mean()))\n",
    "print(\"Male Purchase amount SD:\" + str(Male_data[\"Purchase\"].std()))\n",
    "\n",
    "#Sample Trend\n",
    "sample_mean_trend = []\n",
    "x_values = range(200,len(Male_data),500)\n",
    "for num_samples in x_values:\n",
    "    sample = Male_data[\"Purchase\"].sample(num_samples)\n",
    "    samle_mean = np.mean(sample)\n",
    "    sample_mean_trend.append(samle_mean)\n",
    "plt.plot(x_values,sample_mean_trend)\n",
    "plt.xlabel(\"Number of Samples\")\n",
    "plt.ylabel(\"Sample_mean\")\n",
    "\n",
    "# 90% Confidence Interval - Male Purchase amount\n",
    "CI_Male_purchase = st.t.interval(alpha=0.90, df=len(Male_data[\"Purchase\"])-1,\n",
    "              loc=np.mean(Male_data[\"Purchase\"]),\n",
    "              scale=st.sem(Male_data[\"Purchase\"]))\n",
    "print(\"90% Male Purchase Confidence Interval:\" + str(CI_Male_purchase))\n",
    "\n",
    "# 95% Confidence Interval - Male Purchase amount\n",
    "CI_Male_purchase = st.t.interval(alpha=0.95, df=len(Male_data[\"Purchase\"])-1,\n",
    "              loc=np.mean(Male_data[\"Purchase\"]),\n",
    "              scale=st.sem(Male_data[\"Purchase\"]))\n",
    "print(\"95% Male Purchase Confidence Interval:\" + str(CI_Male_purchase))\n",
    "\n",
    "# 99% Confidence Interval - Male Purchase amount\n",
    "CI_Male_purchase = st.t.interval(alpha=0.99, df=len(Male_data[\"Purchase\"])-1,\n",
    "              loc=np.mean(Male_data[\"Purchase\"]),\n",
    "              scale=st.sem(Male_data[\"Purchase\"]))\n",
    "print(\"99% Male Purchase Confidence Interval:\" + str(CI_Male_purchase))"
   ]
  },
  {
   "cell_type": "code",
   "execution_count": null,
   "id": "5098deae",
   "metadata": {},
   "outputs": [],
   "source": [
    "Married_data = df[df[\"Marital_Status\"]== 1]\n",
    "print(\"Married Customer Purchase amount Mean:\"+ str(Married_data[\"Purchase\"].mean()))\n",
    "print(\"Married Customer Purchase amount SD:\"+ str(Married_data[\"Purchase\"].std()))\n",
    "\n",
    "#sample Trend\n",
    "sample_mean_trend = []\n",
    "x_values = range(100,len(Married_data),500)\n",
    "for num_samples in x_values:\n",
    "    sample = Married_data[\"Purchase\"].sample(num_samples)\n",
    "    samle_mean = np.mean(sample)\n",
    "    sample_mean_trend.append(samle_mean)\n",
    "plt.plot(x_values,sample_mean_trend)\n",
    "plt.xlabel(\"Number of Samples\")\n",
    "plt.ylabel(\"Sample_mean\")\n",
    "\n",
    "# 90% Confidence Interval - Married Customer Purchase amount\n",
    "CI_married_purchase = st.t.interval(alpha=0.90, df=len(Married_data[\"Purchase\"])-1,\n",
    "              loc=np.mean(Married_data[\"Purchase\"]),\n",
    "              scale=st.sem(Married_data[\"Purchase\"]))\n",
    "print(\"90% Married Customer Purchase Confidence Interval:\" + str(CI_married_purchase))\n",
    "\n",
    "# 95% Confidence Interval - Married Customer Purchase amount\n",
    "CI_married_purchase = st.t.interval(alpha=0.95, df=len(Married_data[\"Purchase\"])-1,\n",
    "              loc=np.mean(Married_data[\"Purchase\"]),\n",
    "              scale=st.sem(Married_data[\"Purchase\"]))\n",
    "print(\"95% Married Customer Purchase Confidence Interval:\" + str(CI_married_purchase))\n",
    "\n",
    "# 99% Confidence Interval - Married Customer Purchase amount\n",
    "CI_married_purchase = st.t.interval(alpha=0.99, df=len(Married_data[\"Purchase\"])-1,\n",
    "              loc=np.mean(Married_data[\"Purchase\"]),\n",
    "              scale=st.sem(Married_data[\"Purchase\"]))\n",
    "print(\"99% Married Customer Purchase Confidence Interval:\" + str(CI_married_purchase))"
   ]
  },
  {
   "cell_type": "code",
   "execution_count": null,
   "id": "0a2d5a6c",
   "metadata": {},
   "outputs": [],
   "source": [
    "Unmarried_data = df[df[\"Marital_Status\"]== 0]\n",
    "print(\"Unmarried Customer Purchase amount Mean:\"+ str(Unmarried_data[\"Purchase\"].mean()))\n",
    "print(\"Unmarried Customer Purchase amount SD:\"+ str(Unmarried_data[\"Purchase\"].std()))\n",
    "\n",
    "#Sample Trend\n",
    "sample_mean_trend = []\n",
    "x_values = range(100,len(Unmarried_data),500)\n",
    "for num_samples in x_values:\n",
    "    sample = Unmarried_data[\"Purchase\"].sample(num_samples)\n",
    "    samle_mean = np.mean(sample)\n",
    "    sample_mean_trend.append(samle_mean)\n",
    "plt.plot(x_values,sample_mean_trend)\n",
    "plt.xlabel(\"Number of Samples\")\n",
    "plt.ylabel(\"Sample_mean\")\n",
    "\n",
    "# 90% Confidence Interval - Unmarried Customer Purchase amount\n",
    "CI_unmarried_purchase = st.t.interval(alpha=0.90, df=len(Unmarried_data[\"Purchase\"])-1,\n",
    "              loc=np.mean(Unmarried_data[\"Purchase\"]),\n",
    "              scale=st.sem(Unmarried_data[\"Purchase\"]))\n",
    "print(\"90% Unmarried Customer Purchase Confidence Interval:\" + str(CI_unmarried_purchase))\n",
    "\n",
    "# 95% Confidence Interval - Unmarried Customer Purchase amount\n",
    "CI_unmarried_purchase = st.t.interval(alpha=0.95, df=len(Unmarried_data[\"Purchase\"])-1,\n",
    "              loc=np.mean(Unmarried_data[\"Purchase\"]),\n",
    "              scale=st.sem(Unmarried_data[\"Purchase\"]))\n",
    "print(\"95% Unmarried Customer Purchase Confidence Interval:\" + str(CI_unmarried_purchase))\n",
    "\n",
    "# 99% Confidence Interval - Unmarried Customer Purchase amount\n",
    "CI_unmarried_purchase = st.t.interval(alpha=0.99, df=len(Unmarried_data[\"Purchase\"])-1,\n",
    "              loc=np.mean(Unmarried_data[\"Purchase\"]),\n",
    "              scale=st.sem(Unmarried_data[\"Purchase\"]))\n",
    "print(\"99% Unmarried Customer Purchase Confidence Interval:\" + str(CI_unmarried_purchase))"
   ]
  },
  {
   "cell_type": "code",
   "execution_count": null,
   "id": "6d7b4627",
   "metadata": {},
   "outputs": [],
   "source": [
    "# Age Group Below 17yrs\n",
    "Below_17 = df[df[\"Age\"]==\"0-17\"]\n",
    "print(\"Customer's Age below 17yrs Purchase amount Mean:\"+ str(Below_17[\"Purchase\"].mean()))\n",
    "print(\"Customer's Age below 17yrs Purchase amount SD:\"+ str(Below_17[\"Purchase\"].std()))\n",
    "\n",
    "# Sample Trend\n",
    "sample_mean_trend = []\n",
    "x_values = range(50,len(Below_17),200)\n",
    "for num_samples in x_values:\n",
    "    sample = Below_17[\"Purchase\"].sample(num_samples)\n",
    "    samle_mean = np.mean(sample)\n",
    "    sample_mean_trend.append(samle_mean)\n",
    "plt.plot(x_values,sample_mean_trend)\n",
    "plt.xlabel(\"Number of Samples\")\n",
    "plt.ylabel(\"Sample_mean\")\n",
    "\n",
    "# 90% Confidence Interval - Customer's Age below 17yrs\n",
    "Below_17_purchase = st.t.interval(alpha=0.90, df=len(Below_17[\"Purchase\"])-1,\n",
    "              loc=np.mean(Below_17[\"Purchase\"]),\n",
    "              scale=st.sem(Below_17[\"Purchase\"]))\n",
    "print(\"90% Confidence Interval of Customer's Age below 17yrs:\" + str(Below_17_purchase))\n",
    "\n",
    "# 95% Confidence Interval - Customer's Age below 17yrs\n",
    "Below_17_purchase = st.t.interval(alpha=0.95, df=len(Below_17[\"Purchase\"])-1,\n",
    "              loc=np.mean(Below_17[\"Purchase\"]),\n",
    "              scale=st.sem(Below_17[\"Purchase\"]))\n",
    "print(\"95% Confidence Interval of Customer's Age below 17yrs:\" + str(Below_17_purchase))\n",
    "\n",
    "# 99% Confidence Interval - Customer's Age below 17yrs\n",
    "Below_17_purchase = st.t.interval(alpha=0.99, df=len(Below_17[\"Purchase\"])-1,\n",
    "              loc=np.mean(Below_17[\"Purchase\"]),\n",
    "              scale=st.sem(Below_17[\"Purchase\"]))\n",
    "print(\"99% Confidence Interval of Customer's Age below 17yrs:\" + str(Below_17_purchase))"
   ]
  },
  {
   "cell_type": "code",
   "execution_count": null,
   "id": "2fce6aba",
   "metadata": {},
   "outputs": [],
   "source": [
    "# Age Group 18-25\n",
    "Between_18_25 = df[df[\"Age\"]==\"18-25\"]\n",
    "print(\"Customer's Age between 18-25yrs Purchase amount Mean:\"+ str(Between_18_25[\"Purchase\"].mean()))\n",
    "print(\"Customer's Age between 18-25yrs Purchase amount SD:\"+ str(Between_18_25[\"Purchase\"].std()))\n",
    "\n",
    "# Sample Trend\n",
    "sample_mean_trend = []\n",
    "x_values = range(50,len(Between_18_25),200)\n",
    "for num_samples in x_values:\n",
    "    sample = Between_18_25[\"Purchase\"].sample(num_samples)\n",
    "    samle_mean = np.mean(sample)\n",
    "    sample_mean_trend.append(samle_mean)\n",
    "plt.plot(x_values,sample_mean_trend)\n",
    "plt.xlabel(\"Number of Samples\")\n",
    "plt.ylabel(\"Sample_mean\")\n",
    "\n",
    "# 90% Confidence Interval - Customer's Age between 18-25yrs\n",
    "Between_18_25_purchase = st.t.interval(alpha=0.90, df=len(Between_18_25[\"Purchase\"])-1,\n",
    "              loc=np.mean(Between_18_25[\"Purchase\"]),\n",
    "              scale=st.sem(Between_18_25[\"Purchase\"]))\n",
    "print(\"90% Confidence Interval of Customer's Age between 18-25yrs:\" + str(Between_18_25_purchase))\n",
    "\n",
    "# 95% Confidence Interval - Customer's Age between 18-25yrs\n",
    "Between_18_25_purchase = st.t.interval(alpha=0.95, df=len(Between_18_25[\"Purchase\"])-1,\n",
    "              loc=np.mean(Between_18_25[\"Purchase\"]),\n",
    "              scale=st.sem(Between_18_25[\"Purchase\"]))\n",
    "print(\"95% Confidence Interval of Customer's Age between 18-25yrs:\" + str(Between_18_25_purchase))\n",
    "\n",
    "# 99% Confidence Interval - Customer's Age between 18-25yrs\n",
    "Between_18_25_purchase = st.t.interval(alpha=0.99, df=len(Between_18_25[\"Purchase\"])-1,\n",
    "              loc=np.mean(Between_18_25[\"Purchase\"]),\n",
    "              scale=st.sem(Between_18_25[\"Purchase\"]))\n",
    "print(\"99% Confidence Interval of Customer's Age between 18-25yrs:\" + str(Between_18_25_purchase))"
   ]
  },
  {
   "cell_type": "code",
   "execution_count": null,
   "id": "fd3ed8f3",
   "metadata": {},
   "outputs": [],
   "source": [
    "# Age Group 26-35\n",
    "Between_26_35 = df[df[\"Age\"]==\"26-35\"]\n",
    "print(\"Customer's Age between 26-35yrs Purchase amount Mean:\"+ str(Between_26_35[\"Purchase\"].mean()))\n",
    "print(\"Customer's Age between 26-35yrs Purchase amount SD:\"+ str(Between_26_35[\"Purchase\"].std()))\n",
    "\n",
    "# Sample Trend\n",
    "sample_mean_trend = []\n",
    "x_values = range(50,len(Between_26_35),200)\n",
    "for num_samples in x_values:\n",
    "    sample = Between_26_35[\"Purchase\"].sample(num_samples)\n",
    "    samle_mean = np.mean(sample)\n",
    "    sample_mean_trend.append(samle_mean)\n",
    "plt.plot(x_values,sample_mean_trend)\n",
    "plt.xlabel(\"Number of Samples\")\n",
    "plt.ylabel(\"Sample_mean\")\n",
    "\n",
    "# 90% Confidence Interval - Customer's Age between 26-35yrs\n",
    "Between_26_35_purchase = st.t.interval(alpha=0.90, df=len(Between_26_35[\"Purchase\"])-1,\n",
    "              loc=np.mean(Between_26_35[\"Purchase\"]),\n",
    "              scale=st.sem(Between_26_35[\"Purchase\"]))\n",
    "print(\"90% Confidence Interval of Customer's Age between 26-35yrs:\" + str(Between_26_35_purchase))\n",
    "\n",
    "# 95% Confidence Interval - Customer's Age between 26-35yrs\n",
    "Between_26_35_purchase = st.t.interval(alpha=0.95, df=len(Between_26_35[\"Purchase\"])-1,\n",
    "              loc=np.mean(Between_26_35[\"Purchase\"]),\n",
    "              scale=st.sem(Between_26_35[\"Purchase\"]))\n",
    "print(\"95% Confidence Interval of Customer's Age between 26-35yrs:\" + str(Between_26_35_purchase))\n",
    "\n",
    "# 99% Confidence Interval - Customer's Age between 26-35yrs\n",
    "Between_26_35_purchase = st.t.interval(alpha=0.99, df=len(Between_26_35[\"Purchase\"])-1,\n",
    "              loc=np.mean(Between_26_35[\"Purchase\"]),\n",
    "              scale=st.sem(Between_26_35[\"Purchase\"]))\n",
    "print(\"99% Confidence Interval of Customer's Age between 26-35yrs:\" + str(Between_26_35_purchase))\n"
   ]
  },
  {
   "cell_type": "code",
   "execution_count": null,
   "id": "1e9039a3",
   "metadata": {},
   "outputs": [],
   "source": [
    "# Age Group 36-45\n",
    "Between_36_45 = df[df[\"Age\"]==\"36-45\"]\n",
    "print(\"Customer's Age between 36-45yrs Purchase amount Mean:\"+ str(Between_36_45[\"Purchase\"].mean()))\n",
    "print(\"Customer's Age between 36-45yrs Purchase amount SD:\"+ str(Between_36_45[\"Purchase\"].std()))\n",
    "\n",
    "# Sample Trend\n",
    "sample_mean_trend = []\n",
    "x_values = range(50,len(Between_36_45),200)\n",
    "for num_samples in x_values:\n",
    "    sample = Between_36_45[\"Purchase\"].sample(num_samples)\n",
    "    samle_mean = np.mean(sample)\n",
    "    sample_mean_trend.append(samle_mean)\n",
    "plt.plot(x_values,sample_mean_trend)\n",
    "plt.xlabel(\"Number of Samples\")\n",
    "plt.ylabel(\"Sample_mean\")\n",
    "\n",
    "# 90% Confidence Interval - Customer's Age between 36-45yrs\n",
    "Between_36_45_purchase = st.t.interval(alpha=0.90, df=len(Between_36_45[\"Purchase\"])-1,\n",
    "              loc=np.mean(Between_36_45[\"Purchase\"]),\n",
    "              scale=st.sem(Between_36_45[\"Purchase\"]))\n",
    "print(\"90% Confidence Interval of Customer's Age between 36-45yrs:\" + str(Between_36_45_purchase))\n",
    "\n",
    "# 95% Confidence Interval - Customer's Age between 36-45yrs\n",
    "Between_36_45_purchase = st.t.interval(alpha=0.95, df=len(Between_36_45[\"Purchase\"])-1,\n",
    "              loc=np.mean(Between_36_45[\"Purchase\"]),\n",
    "              scale=st.sem(Between_36_45[\"Purchase\"]))\n",
    "print(\"95% Confidence Interval of Customer's Age between 36-45yrs:\" + str(Between_36_45_purchase))\n",
    "\n",
    "# 99% Confidence Interval - Customer's Age between 36-45yrs\n",
    "Between_36_45_purchase = st.t.interval(alpha=0.99, df=len(Between_36_45[\"Purchase\"])-1,\n",
    "              loc=np.mean(Between_36_45[\"Purchase\"]),\n",
    "              scale=st.sem(Between_36_45[\"Purchase\"]))\n",
    "print(\"99% Confidence Interval of Customer's Age between 36-45yrs:\" + str(Between_36_45_purchase))"
   ]
  },
  {
   "cell_type": "code",
   "execution_count": null,
   "id": "ccd99ebf",
   "metadata": {},
   "outputs": [],
   "source": [
    "# Age Group 46-50\n",
    "Between_46_50 = df[df[\"Age\"]==\"46-50\"]\n",
    "print(\"Customer's Age between 46-50yrs Purchase amount Mean:\"+ str(Between_46_50[\"Purchase\"].mean()))\n",
    "print(\"Customer's Age between 46-50yrs Purchase amount SD:\"+ str(Between_46_50[\"Purchase\"].std()))\n",
    "\n",
    "# Sample Trend\n",
    "sample_mean_trend = []\n",
    "x_values = range(50,len(Between_46_50),200)\n",
    "for num_samples in x_values:\n",
    "    sample = Between_46_50[\"Purchase\"].sample(num_samples)\n",
    "    samle_mean = np.mean(sample)\n",
    "    sample_mean_trend.append(samle_mean)\n",
    "plt.plot(x_values,sample_mean_trend)\n",
    "plt.xlabel(\"Number of Samples\")\n",
    "plt.ylabel(\"Sample_mean\")\n",
    "\n",
    "# 90% Confidence Interval - Customer's Age between 46-50yrs\n",
    "Between_46_50_purchase = st.t.interval(alpha=0.90, df=len(Between_46_50[\"Purchase\"])-1,\n",
    "              loc=np.mean(Between_46_50[\"Purchase\"]),\n",
    "              scale=st.sem(Between_46_50[\"Purchase\"]))\n",
    "print(\"90% Confidence Interval of Customer's Age between 46-50yrs:\" + str(Between_46_50_purchase))\n",
    "\n",
    "# 95% Confidence Interval - Customer's Age between 46-50yrs\n",
    "Between_46_50_purchase = st.t.interval(alpha=0.95, df=len(Between_46_50[\"Purchase\"])-1,\n",
    "              loc=np.mean(Between_46_50[\"Purchase\"]),\n",
    "              scale=st.sem(Between_46_50[\"Purchase\"]))\n",
    "print(\"95% Confidence Interval of Customer's Age between 46-50yrs:\" + str(Between_46_50_purchase))\n",
    "\n",
    "# 99% Confidence Interval - Customer's Age between 46-50yrs\n",
    "Between_46_50_purchase = st.t.interval(alpha=0.99, df=len(Between_46_50[\"Purchase\"])-1,\n",
    "              loc=np.mean(Between_46_50[\"Purchase\"]),\n",
    "              scale=st.sem(Between_46_50[\"Purchase\"]))\n",
    "print(\"99% Confidence Interval of Customer's Age between 46-50yrs:\" + str(Between_46_50_purchase))"
   ]
  },
  {
   "cell_type": "code",
   "execution_count": null,
   "id": "84d0eca2",
   "metadata": {},
   "outputs": [],
   "source": [
    "# Age Group 51-55\n",
    "Between_51_55 = df[df[\"Age\"]==\"51-55\"]\n",
    "print(\"Customer's Age between 51-55yrs Purchase amount Mean:\"+ str(Between_51_55[\"Purchase\"].mean()))\n",
    "print(\"Customer's Age between 51-55yrs Purchase amount SD:\"+ str(Between_51_55[\"Purchase\"].std()))\n",
    "\n",
    "# Sample Trend\n",
    "sample_mean_trend = []\n",
    "x_values = range(50,len(Between_51_55),200)\n",
    "for num_samples in x_values:\n",
    "    sample = Between_51_55[\"Purchase\"].sample(num_samples)\n",
    "    samle_mean = np.mean(sample)\n",
    "    sample_mean_trend.append(samle_mean)\n",
    "plt.plot(x_values,sample_mean_trend)\n",
    "plt.xlabel(\"Number of Samples\")\n",
    "plt.ylabel(\"Sample_mean\")\n",
    "\n",
    "# 90% Confidence Interval - Customer's Age between 51-55yrs\n",
    "Between_51_55_purchase = st.t.interval(alpha=0.90, df=len(Between_51_55[\"Purchase\"])-1,\n",
    "              loc=np.mean(Between_51_55[\"Purchase\"]),\n",
    "              scale=st.sem(Between_51_55[\"Purchase\"]))\n",
    "print(\"90% Confidence Interval of Customer's Age between 51-55yrs:\" + str(Between_51_55_purchase))\n",
    "\n",
    "# 95% Confidence Interval - Customer's Age between 51-55yrs\n",
    "Between_51_55_purchase = st.t.interval(alpha=0.95, df=len(Between_51_55[\"Purchase\"])-1,\n",
    "              loc=np.mean(Between_51_55[\"Purchase\"]),\n",
    "              scale=st.sem(Between_51_55[\"Purchase\"]))\n",
    "print(\"95% Confidence Interval of Customer's Age between 51-55yrs:\" + str(Between_51_55_purchase))\n",
    "\n",
    "# 99% Confidence Interval - Customer's Age between 51-55yrs\n",
    "Between_51_55_purchase = st.t.interval(alpha=0.99, df=len(Between_51_55[\"Purchase\"])-1,\n",
    "              loc=np.mean(Between_51_55[\"Purchase\"]),\n",
    "              scale=st.sem(Between_51_55[\"Purchase\"]))\n",
    "print(\"99% Confidence Interval of Customer's Age between 51-55yrs:\" + str(Between_51_55_purchase))"
   ]
  },
  {
   "cell_type": "code",
   "execution_count": null,
   "id": "6e3d6432",
   "metadata": {},
   "outputs": [],
   "source": [
    "# Age Group 55 and Above\n",
    "Above_55 = df[df[\"Age\"]==\"55+\"]\n",
    "print(\"Customer's Age above 55yrs Purchase amount Mean:\"+ str(Above_55[\"Purchase\"].mean()))\n",
    "print(\"Customer's Age above 55yrs Purchase amount SD:\"+ str(Above_55[\"Purchase\"].std()))\n",
    "\n",
    "# Sample Trend\n",
    "sample_mean_trend = []\n",
    "x_values = range(50,len(Above_55),200)\n",
    "for num_samples in x_values:\n",
    "    sample = Above_55[\"Purchase\"].sample(num_samples)\n",
    "    samle_mean = np.mean(sample)\n",
    "    sample_mean_trend.append(samle_mean)\n",
    "plt.plot(x_values,sample_mean_trend)\n",
    "plt.xlabel(\"Number of Samples\")\n",
    "plt.ylabel(\"Sample_mean\")\n",
    "\n",
    "# 90% Confidence Interval - Customer's Age above 55yrs\n",
    "Above_55_purchase = st.t.interval(alpha=0.90, df=len(Above_55[\"Purchase\"])-1,\n",
    "              loc=np.mean(Above_55[\"Purchase\"]),\n",
    "              scale=st.sem(Above_55[\"Purchase\"]))\n",
    "print(\"90% Confidence Interval of Customer's Age above 55yrs:\" + str(Above_55_purchase))\n",
    "\n",
    "# 95% Confidence Interval - Customer's Age above 55yrs\n",
    "Above_55_purchase = st.t.interval(alpha=0.95, df=len(Above_55[\"Purchase\"])-1,\n",
    "              loc=np.mean(Above_55[\"Purchase\"]),\n",
    "              scale=st.sem(Above_55[\"Purchase\"]))\n",
    "print(\"95% Confidence Interval of Customer's Age above 55yrs:\" + str(Above_55_purchase))\n",
    "\n",
    "# 99% Confidence Interval - Customer's Age above 55yrs\n",
    "Above_55_purchase = st.t.interval(alpha=0.99, df=len(Above_55[\"Purchase\"])-1,\n",
    "              loc=np.mean(Above_55[\"Purchase\"]),\n",
    "              scale=st.sem(Above_55[\"Purchase\"]))\n",
    "print(\"99% Confidence Interval of Customer's Age above 55yrs:\" + str(Above_55_purchase))"
   ]
  },
  {
   "cell_type": "markdown",
   "id": "7222daa6",
   "metadata": {},
   "source": [
    "# `Recommendations:`\n",
    "1. **Age:**\n",
    "```\n",
    "a. 78% of the Purchases on Black Friday are done by the age group 26-35 > 36-45 > 18-25 yrs, hence focus/target customers should be from this bracket and accordingly make changes in the product.\n",
    "b. On Average age group, 51-55yrs spend most per bill > 36-45yrs > Above 55yrs. Offers and Campaigns can be run to attract these customers to buy more. Offer like on purchase of particular amount you get a discount or get a voucher of a certain amount for future purchases.\n",
    "```\n",
    "2. **Occupation:**\n",
    "```\n",
    "a. The average purchase is highest by the customers from Occupation Category 15,12 and 17.\n",
    "b. The customers from this occupation category have a higher budget, hence products can be designed as per the occupational relatability.\n",
    "```\n",
    "3. **Product Category:**\n",
    "```\n",
    "a. Try selling more products from categories 6,7,9,10,15 and 16.\n",
    "b. Make some variance in marketing/product for products from categories 19,13,20,12,4 to attract more customers. For eg: some bulk offers, extra savings, etc.\n",
    "```\n",
    "4. **Gender:**\n",
    "```\n",
    "a. Men tend to have a higher average purchase per bill compared to women. One of many reasons could be women are buying more from 5,8 and 1. These products fall cheaper compared to other categories.\n",
    "b. Champaign and marketing can be done on products from categories 6,7,9,10,15 to attract women. \n",
    "```\n",
    "5. **Purchases are the most correlated with Gender, and Male purchases are more compared to females.**\n",
    "```\n",
    "```\n",
    "6. **Confidence Interval:**\n",
    "```\n",
    "a. As 90% of Male customers' purchase bills are between USD 9424 - 9450, an offer can be created at USD 9999. This will increase the purchase amount by USD 500 and help retain the customers by offering comeback vouchers.\n",
    "\n",
    "Similarly, 90% of Female customers’ purchase bills are between USD 8713 - 8755, offers/vouchers/discount can be run with the help of this interval.\n",
    "\n",
    "Married and Unmarried customers' confidence interval overlaps, hence customers’ marital status will not make a difference.\n",
    "```\n",
    "\n",
    "7. As per the above, the target customers have been pictured out. So keeping in mind the target some necessary changes in product, marketing, and pricing will help in increasing the purchases on **Black Friday.**\n",
    "\n"
   ]
  }
 ],
 "metadata": {
  "kernelspec": {
   "display_name": "Python 3 (ipykernel)",
   "language": "python",
   "name": "python3"
  },
  "language_info": {
   "codemirror_mode": {
    "name": "ipython",
    "version": 3
   },
   "file_extension": ".py",
   "mimetype": "text/x-python",
   "name": "python",
   "nbconvert_exporter": "python",
   "pygments_lexer": "ipython3",
   "version": "3.9.13"
  }
 },
 "nbformat": 4,
 "nbformat_minor": 5
}

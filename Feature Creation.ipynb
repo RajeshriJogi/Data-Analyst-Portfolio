{
 "cells": [
  {
   "cell_type": "markdown",
   "id": "ca3c8335",
   "metadata": {},
   "source": [
    "<h1><center> <span style=\"color:blue\"> DELHIVERY - Feature Engineering </span> </center></h1>"
   ]
  },
  {
   "cell_type": "markdown",
   "id": "1fdd164c",
   "metadata": {},
   "source": [
    "# <span style='background :yellow' > About Delhivery </span>\n",
    "\n",
    "Delhivery is the largest and fastest-growing fully integrated player in India by revenue in Fiscal 2021. They aim to build the operating system for commerce, through a combination of world-class infrastructure, logistics operations of the highest quality, and cutting-edge engineering and technology capabilities.\n",
    "\n",
    "The Data team builds intelligence and capabilities using this data that helps them to widen the gap between the quality, efficiency, and profitability of their business versus their competitors."
   ]
  },
  {
   "cell_type": "markdown",
   "id": "888d3f08",
   "metadata": {},
   "source": [
    "# <span style='background :yellow' > Problem Statement</span> \n",
    "By manuipulating and analysing the data bring some insights which will help the company in efficiency and increase profit.\n",
    "\n",
    "- How and where time can be saved?\n",
    "- Where is the loop-hole in the logistic process?\n",
    "- How can the process be optimized to bring in more profits and efficiency?"
   ]
  },
  {
   "cell_type": "markdown",
   "id": "fb2a6eef",
   "metadata": {},
   "source": [
    "# <span style='background :yellow' > Observation of Data</span> "
   ]
  },
  {
   "cell_type": "code",
   "execution_count": 835,
   "id": "b0ccabdc",
   "metadata": {},
   "outputs": [],
   "source": [
    "#importing libraries\n",
    "import numpy as np\n",
    "import pandas as pd\n",
    "import matplotlib.pyplot as plt\n",
    "import seaborn as sns\n",
    "import math\n",
    "import scipy.stats as st\n",
    "import re\n",
    "\n",
    "from scipy.stats import ttest_ind, f_oneway, kruskal, ttest_ind # numeric Vs catogerical\n",
    "from scipy.stats import chi2_contingency # categorical Vs categorical\n",
    "from scipy.stats import pearsonr, spearmanr # numeric Vs numeric\n",
    "from scipy.stats import kstest # cdf\n",
    "from scipy.stats import levene\n",
    "from scipy.stats import norm\n",
    "from scipy.stats import shapiro\n",
    "\n",
    "from statsmodels.distributions.empirical_distribution import ECDF\n",
    "from statsmodels.graphics.gofplots import qqplot, qqplot_2samples \n",
    "\n",
    "import warnings\n",
    "warnings.filterwarnings('ignore')"
   ]
  },
  {
   "cell_type": "code",
   "execution_count": 836,
   "id": "a69a76a3",
   "metadata": {},
   "outputs": [],
   "source": [
    "delhivery = pd.read_csv(\"C:/Users/Rajeshri Jogi/Desktop/PROJECTS/6. Delhivery/delhivery_data.csv\")"
   ]
  },
  {
   "cell_type": "code",
   "execution_count": 837,
   "id": "42010cd7",
   "metadata": {},
   "outputs": [
    {
     "data": {
      "text/html": [
       "<div>\n",
       "<style scoped>\n",
       "    .dataframe tbody tr th:only-of-type {\n",
       "        vertical-align: middle;\n",
       "    }\n",
       "\n",
       "    .dataframe tbody tr th {\n",
       "        vertical-align: top;\n",
       "    }\n",
       "\n",
       "    .dataframe thead th {\n",
       "        text-align: right;\n",
       "    }\n",
       "</style>\n",
       "<table border=\"1\" class=\"dataframe\">\n",
       "  <thead>\n",
       "    <tr style=\"text-align: right;\">\n",
       "      <th></th>\n",
       "      <th>data</th>\n",
       "      <th>trip_creation_time</th>\n",
       "      <th>route_schedule_uuid</th>\n",
       "      <th>route_type</th>\n",
       "      <th>trip_uuid</th>\n",
       "      <th>source_center</th>\n",
       "      <th>source_name</th>\n",
       "      <th>destination_center</th>\n",
       "      <th>destination_name</th>\n",
       "      <th>od_start_time</th>\n",
       "      <th>...</th>\n",
       "      <th>cutoff_timestamp</th>\n",
       "      <th>actual_distance_to_destination</th>\n",
       "      <th>actual_time</th>\n",
       "      <th>osrm_time</th>\n",
       "      <th>osrm_distance</th>\n",
       "      <th>factor</th>\n",
       "      <th>segment_actual_time</th>\n",
       "      <th>segment_osrm_time</th>\n",
       "      <th>segment_osrm_distance</th>\n",
       "      <th>segment_factor</th>\n",
       "    </tr>\n",
       "  </thead>\n",
       "  <tbody>\n",
       "    <tr>\n",
       "      <th>0</th>\n",
       "      <td>training</td>\n",
       "      <td>2018-09-20 02:35:36.476840</td>\n",
       "      <td>thanos::sroute:eb7bfc78-b351-4c0e-a951-fa3d5c3...</td>\n",
       "      <td>Carting</td>\n",
       "      <td>trip-153741093647649320</td>\n",
       "      <td>IND388121AAA</td>\n",
       "      <td>Anand_VUNagar_DC (Gujarat)</td>\n",
       "      <td>IND388620AAB</td>\n",
       "      <td>Khambhat_MotvdDPP_D (Gujarat)</td>\n",
       "      <td>2018-09-20 03:21:32.418600</td>\n",
       "      <td>...</td>\n",
       "      <td>2018-09-20 04:27:55</td>\n",
       "      <td>10.435660</td>\n",
       "      <td>14.0</td>\n",
       "      <td>11.0</td>\n",
       "      <td>11.9653</td>\n",
       "      <td>1.272727</td>\n",
       "      <td>14.0</td>\n",
       "      <td>11.0</td>\n",
       "      <td>11.9653</td>\n",
       "      <td>1.272727</td>\n",
       "    </tr>\n",
       "    <tr>\n",
       "      <th>1</th>\n",
       "      <td>training</td>\n",
       "      <td>2018-09-20 02:35:36.476840</td>\n",
       "      <td>thanos::sroute:eb7bfc78-b351-4c0e-a951-fa3d5c3...</td>\n",
       "      <td>Carting</td>\n",
       "      <td>trip-153741093647649320</td>\n",
       "      <td>IND388121AAA</td>\n",
       "      <td>Anand_VUNagar_DC (Gujarat)</td>\n",
       "      <td>IND388620AAB</td>\n",
       "      <td>Khambhat_MotvdDPP_D (Gujarat)</td>\n",
       "      <td>2018-09-20 03:21:32.418600</td>\n",
       "      <td>...</td>\n",
       "      <td>2018-09-20 04:17:55</td>\n",
       "      <td>18.936842</td>\n",
       "      <td>24.0</td>\n",
       "      <td>20.0</td>\n",
       "      <td>21.7243</td>\n",
       "      <td>1.200000</td>\n",
       "      <td>10.0</td>\n",
       "      <td>9.0</td>\n",
       "      <td>9.7590</td>\n",
       "      <td>1.111111</td>\n",
       "    </tr>\n",
       "    <tr>\n",
       "      <th>2</th>\n",
       "      <td>training</td>\n",
       "      <td>2018-09-20 02:35:36.476840</td>\n",
       "      <td>thanos::sroute:eb7bfc78-b351-4c0e-a951-fa3d5c3...</td>\n",
       "      <td>Carting</td>\n",
       "      <td>trip-153741093647649320</td>\n",
       "      <td>IND388121AAA</td>\n",
       "      <td>Anand_VUNagar_DC (Gujarat)</td>\n",
       "      <td>IND388620AAB</td>\n",
       "      <td>Khambhat_MotvdDPP_D (Gujarat)</td>\n",
       "      <td>2018-09-20 03:21:32.418600</td>\n",
       "      <td>...</td>\n",
       "      <td>2018-09-20 04:01:19.505586</td>\n",
       "      <td>27.637279</td>\n",
       "      <td>40.0</td>\n",
       "      <td>28.0</td>\n",
       "      <td>32.5395</td>\n",
       "      <td>1.428571</td>\n",
       "      <td>16.0</td>\n",
       "      <td>7.0</td>\n",
       "      <td>10.8152</td>\n",
       "      <td>2.285714</td>\n",
       "    </tr>\n",
       "    <tr>\n",
       "      <th>3</th>\n",
       "      <td>training</td>\n",
       "      <td>2018-09-20 02:35:36.476840</td>\n",
       "      <td>thanos::sroute:eb7bfc78-b351-4c0e-a951-fa3d5c3...</td>\n",
       "      <td>Carting</td>\n",
       "      <td>trip-153741093647649320</td>\n",
       "      <td>IND388121AAA</td>\n",
       "      <td>Anand_VUNagar_DC (Gujarat)</td>\n",
       "      <td>IND388620AAB</td>\n",
       "      <td>Khambhat_MotvdDPP_D (Gujarat)</td>\n",
       "      <td>2018-09-20 03:21:32.418600</td>\n",
       "      <td>...</td>\n",
       "      <td>2018-09-20 03:39:57</td>\n",
       "      <td>36.118028</td>\n",
       "      <td>62.0</td>\n",
       "      <td>40.0</td>\n",
       "      <td>45.5620</td>\n",
       "      <td>1.550000</td>\n",
       "      <td>21.0</td>\n",
       "      <td>12.0</td>\n",
       "      <td>13.0224</td>\n",
       "      <td>1.750000</td>\n",
       "    </tr>\n",
       "    <tr>\n",
       "      <th>4</th>\n",
       "      <td>training</td>\n",
       "      <td>2018-09-20 02:35:36.476840</td>\n",
       "      <td>thanos::sroute:eb7bfc78-b351-4c0e-a951-fa3d5c3...</td>\n",
       "      <td>Carting</td>\n",
       "      <td>trip-153741093647649320</td>\n",
       "      <td>IND388121AAA</td>\n",
       "      <td>Anand_VUNagar_DC (Gujarat)</td>\n",
       "      <td>IND388620AAB</td>\n",
       "      <td>Khambhat_MotvdDPP_D (Gujarat)</td>\n",
       "      <td>2018-09-20 03:21:32.418600</td>\n",
       "      <td>...</td>\n",
       "      <td>2018-09-20 03:33:55</td>\n",
       "      <td>39.386040</td>\n",
       "      <td>68.0</td>\n",
       "      <td>44.0</td>\n",
       "      <td>54.2181</td>\n",
       "      <td>1.545455</td>\n",
       "      <td>6.0</td>\n",
       "      <td>5.0</td>\n",
       "      <td>3.9153</td>\n",
       "      <td>1.200000</td>\n",
       "    </tr>\n",
       "  </tbody>\n",
       "</table>\n",
       "<p>5 rows × 24 columns</p>\n",
       "</div>"
      ],
      "text/plain": [
       "       data          trip_creation_time  \\\n",
       "0  training  2018-09-20 02:35:36.476840   \n",
       "1  training  2018-09-20 02:35:36.476840   \n",
       "2  training  2018-09-20 02:35:36.476840   \n",
       "3  training  2018-09-20 02:35:36.476840   \n",
       "4  training  2018-09-20 02:35:36.476840   \n",
       "\n",
       "                                 route_schedule_uuid route_type  \\\n",
       "0  thanos::sroute:eb7bfc78-b351-4c0e-a951-fa3d5c3...    Carting   \n",
       "1  thanos::sroute:eb7bfc78-b351-4c0e-a951-fa3d5c3...    Carting   \n",
       "2  thanos::sroute:eb7bfc78-b351-4c0e-a951-fa3d5c3...    Carting   \n",
       "3  thanos::sroute:eb7bfc78-b351-4c0e-a951-fa3d5c3...    Carting   \n",
       "4  thanos::sroute:eb7bfc78-b351-4c0e-a951-fa3d5c3...    Carting   \n",
       "\n",
       "                 trip_uuid source_center                 source_name  \\\n",
       "0  trip-153741093647649320  IND388121AAA  Anand_VUNagar_DC (Gujarat)   \n",
       "1  trip-153741093647649320  IND388121AAA  Anand_VUNagar_DC (Gujarat)   \n",
       "2  trip-153741093647649320  IND388121AAA  Anand_VUNagar_DC (Gujarat)   \n",
       "3  trip-153741093647649320  IND388121AAA  Anand_VUNagar_DC (Gujarat)   \n",
       "4  trip-153741093647649320  IND388121AAA  Anand_VUNagar_DC (Gujarat)   \n",
       "\n",
       "  destination_center               destination_name  \\\n",
       "0       IND388620AAB  Khambhat_MotvdDPP_D (Gujarat)   \n",
       "1       IND388620AAB  Khambhat_MotvdDPP_D (Gujarat)   \n",
       "2       IND388620AAB  Khambhat_MotvdDPP_D (Gujarat)   \n",
       "3       IND388620AAB  Khambhat_MotvdDPP_D (Gujarat)   \n",
       "4       IND388620AAB  Khambhat_MotvdDPP_D (Gujarat)   \n",
       "\n",
       "                od_start_time  ...            cutoff_timestamp  \\\n",
       "0  2018-09-20 03:21:32.418600  ...         2018-09-20 04:27:55   \n",
       "1  2018-09-20 03:21:32.418600  ...         2018-09-20 04:17:55   \n",
       "2  2018-09-20 03:21:32.418600  ...  2018-09-20 04:01:19.505586   \n",
       "3  2018-09-20 03:21:32.418600  ...         2018-09-20 03:39:57   \n",
       "4  2018-09-20 03:21:32.418600  ...         2018-09-20 03:33:55   \n",
       "\n",
       "   actual_distance_to_destination  actual_time  osrm_time osrm_distance  \\\n",
       "0                       10.435660         14.0       11.0       11.9653   \n",
       "1                       18.936842         24.0       20.0       21.7243   \n",
       "2                       27.637279         40.0       28.0       32.5395   \n",
       "3                       36.118028         62.0       40.0       45.5620   \n",
       "4                       39.386040         68.0       44.0       54.2181   \n",
       "\n",
       "     factor  segment_actual_time  segment_osrm_time  segment_osrm_distance  \\\n",
       "0  1.272727                 14.0               11.0                11.9653   \n",
       "1  1.200000                 10.0                9.0                 9.7590   \n",
       "2  1.428571                 16.0                7.0                10.8152   \n",
       "3  1.550000                 21.0               12.0                13.0224   \n",
       "4  1.545455                  6.0                5.0                 3.9153   \n",
       "\n",
       "   segment_factor  \n",
       "0        1.272727  \n",
       "1        1.111111  \n",
       "2        2.285714  \n",
       "3        1.750000  \n",
       "4        1.200000  \n",
       "\n",
       "[5 rows x 24 columns]"
      ]
     },
     "execution_count": 837,
     "metadata": {},
     "output_type": "execute_result"
    }
   ],
   "source": [
    "delhivery.head()"
   ]
  },
  {
   "cell_type": "code",
   "execution_count": 838,
   "id": "c1350e1c",
   "metadata": {},
   "outputs": [
    {
     "data": {
      "text/plain": [
       "(144867, 24)"
      ]
     },
     "execution_count": 838,
     "metadata": {},
     "output_type": "execute_result"
    }
   ],
   "source": [
    "#shape of the data\n",
    "delhivery.shape"
   ]
  },
  {
   "cell_type": "code",
   "execution_count": 839,
   "id": "930ff919",
   "metadata": {},
   "outputs": [
    {
     "name": "stdout",
     "output_type": "stream",
     "text": [
      "<class 'pandas.core.frame.DataFrame'>\n",
      "RangeIndex: 144867 entries, 0 to 144866\n",
      "Data columns (total 24 columns):\n",
      " #   Column                          Non-Null Count   Dtype  \n",
      "---  ------                          --------------   -----  \n",
      " 0   data                            144867 non-null  object \n",
      " 1   trip_creation_time              144867 non-null  object \n",
      " 2   route_schedule_uuid             144867 non-null  object \n",
      " 3   route_type                      144867 non-null  object \n",
      " 4   trip_uuid                       144867 non-null  object \n",
      " 5   source_center                   144867 non-null  object \n",
      " 6   source_name                     144574 non-null  object \n",
      " 7   destination_center              144867 non-null  object \n",
      " 8   destination_name                144606 non-null  object \n",
      " 9   od_start_time                   144867 non-null  object \n",
      " 10  od_end_time                     144867 non-null  object \n",
      " 11  start_scan_to_end_scan          144867 non-null  float64\n",
      " 12  is_cutoff                       144867 non-null  bool   \n",
      " 13  cutoff_factor                   144867 non-null  int64  \n",
      " 14  cutoff_timestamp                144867 non-null  object \n",
      " 15  actual_distance_to_destination  144867 non-null  float64\n",
      " 16  actual_time                     144867 non-null  float64\n",
      " 17  osrm_time                       144867 non-null  float64\n",
      " 18  osrm_distance                   144867 non-null  float64\n",
      " 19  factor                          144867 non-null  float64\n",
      " 20  segment_actual_time             144867 non-null  float64\n",
      " 21  segment_osrm_time               144867 non-null  float64\n",
      " 22  segment_osrm_distance           144867 non-null  float64\n",
      " 23  segment_factor                  144867 non-null  float64\n",
      "dtypes: bool(1), float64(10), int64(1), object(12)\n",
      "memory usage: 25.6+ MB\n"
     ]
    }
   ],
   "source": [
    "#data type of all columns, counts \n",
    "delhivery.info()"
   ]
  },
  {
   "cell_type": "markdown",
   "id": "fc64b760",
   "metadata": {},
   "source": [
    "# <span style='background :yellow' >Handling missing values, dtype, drop unwanted </span>"
   ]
  },
  {
   "cell_type": "code",
   "execution_count": 840,
   "id": "e497faa6",
   "metadata": {},
   "outputs": [],
   "source": [
    "#deep copy of original data to manipulate the data and keep the original data intact\n",
    "df = delhivery.copy(deep=True)"
   ]
  },
  {
   "cell_type": "code",
   "execution_count": 841,
   "id": "c1ef7351",
   "metadata": {},
   "outputs": [],
   "source": [
    "#dropped the unkown series from the data, as the business case's brief says that this columns are unknown which means they are of no us in alaysis\n",
    "df.drop([\"is_cutoff\", \"cutoff_factor\",\"cutoff_timestamp\",\"factor\",\"segment_factor\"], axis = 1, inplace = True)"
   ]
  },
  {
   "cell_type": "code",
   "execution_count": 842,
   "id": "e010f7a3",
   "metadata": {},
   "outputs": [
    {
     "data": {
      "text/html": [
       "<div>\n",
       "<style scoped>\n",
       "    .dataframe tbody tr th:only-of-type {\n",
       "        vertical-align: middle;\n",
       "    }\n",
       "\n",
       "    .dataframe tbody tr th {\n",
       "        vertical-align: top;\n",
       "    }\n",
       "\n",
       "    .dataframe thead th {\n",
       "        text-align: right;\n",
       "    }\n",
       "</style>\n",
       "<table border=\"1\" class=\"dataframe\">\n",
       "  <thead>\n",
       "    <tr style=\"text-align: right;\">\n",
       "      <th></th>\n",
       "      <th>start_scan_to_end_scan</th>\n",
       "      <th>actual_distance_to_destination</th>\n",
       "      <th>actual_time</th>\n",
       "      <th>osrm_time</th>\n",
       "      <th>osrm_distance</th>\n",
       "      <th>segment_actual_time</th>\n",
       "      <th>segment_osrm_time</th>\n",
       "      <th>segment_osrm_distance</th>\n",
       "    </tr>\n",
       "  </thead>\n",
       "  <tbody>\n",
       "    <tr>\n",
       "      <th>count</th>\n",
       "      <td>144867.000000</td>\n",
       "      <td>144867.000000</td>\n",
       "      <td>144867.000000</td>\n",
       "      <td>144867.000000</td>\n",
       "      <td>144867.000000</td>\n",
       "      <td>144867.000000</td>\n",
       "      <td>144867.000000</td>\n",
       "      <td>144867.00000</td>\n",
       "    </tr>\n",
       "    <tr>\n",
       "      <th>mean</th>\n",
       "      <td>961.262986</td>\n",
       "      <td>234.073372</td>\n",
       "      <td>416.927527</td>\n",
       "      <td>213.868272</td>\n",
       "      <td>284.771297</td>\n",
       "      <td>36.196111</td>\n",
       "      <td>18.507548</td>\n",
       "      <td>22.82902</td>\n",
       "    </tr>\n",
       "    <tr>\n",
       "      <th>std</th>\n",
       "      <td>1037.012769</td>\n",
       "      <td>344.990009</td>\n",
       "      <td>598.103621</td>\n",
       "      <td>308.011085</td>\n",
       "      <td>421.119294</td>\n",
       "      <td>53.571158</td>\n",
       "      <td>14.775960</td>\n",
       "      <td>17.86066</td>\n",
       "    </tr>\n",
       "    <tr>\n",
       "      <th>min</th>\n",
       "      <td>20.000000</td>\n",
       "      <td>9.000045</td>\n",
       "      <td>9.000000</td>\n",
       "      <td>6.000000</td>\n",
       "      <td>9.008200</td>\n",
       "      <td>-244.000000</td>\n",
       "      <td>0.000000</td>\n",
       "      <td>0.00000</td>\n",
       "    </tr>\n",
       "    <tr>\n",
       "      <th>25%</th>\n",
       "      <td>161.000000</td>\n",
       "      <td>23.355874</td>\n",
       "      <td>51.000000</td>\n",
       "      <td>27.000000</td>\n",
       "      <td>29.914700</td>\n",
       "      <td>20.000000</td>\n",
       "      <td>11.000000</td>\n",
       "      <td>12.07010</td>\n",
       "    </tr>\n",
       "    <tr>\n",
       "      <th>50%</th>\n",
       "      <td>449.000000</td>\n",
       "      <td>66.126571</td>\n",
       "      <td>132.000000</td>\n",
       "      <td>64.000000</td>\n",
       "      <td>78.525800</td>\n",
       "      <td>29.000000</td>\n",
       "      <td>17.000000</td>\n",
       "      <td>23.51300</td>\n",
       "    </tr>\n",
       "    <tr>\n",
       "      <th>75%</th>\n",
       "      <td>1634.000000</td>\n",
       "      <td>286.708875</td>\n",
       "      <td>513.000000</td>\n",
       "      <td>257.000000</td>\n",
       "      <td>343.193250</td>\n",
       "      <td>40.000000</td>\n",
       "      <td>22.000000</td>\n",
       "      <td>27.81325</td>\n",
       "    </tr>\n",
       "    <tr>\n",
       "      <th>max</th>\n",
       "      <td>7898.000000</td>\n",
       "      <td>1927.447705</td>\n",
       "      <td>4532.000000</td>\n",
       "      <td>1686.000000</td>\n",
       "      <td>2326.199100</td>\n",
       "      <td>3051.000000</td>\n",
       "      <td>1611.000000</td>\n",
       "      <td>2191.40370</td>\n",
       "    </tr>\n",
       "  </tbody>\n",
       "</table>\n",
       "</div>"
      ],
      "text/plain": [
       "       start_scan_to_end_scan  actual_distance_to_destination    actual_time  \\\n",
       "count           144867.000000                   144867.000000  144867.000000   \n",
       "mean               961.262986                      234.073372     416.927527   \n",
       "std               1037.012769                      344.990009     598.103621   \n",
       "min                 20.000000                        9.000045       9.000000   \n",
       "25%                161.000000                       23.355874      51.000000   \n",
       "50%                449.000000                       66.126571     132.000000   \n",
       "75%               1634.000000                      286.708875     513.000000   \n",
       "max               7898.000000                     1927.447705    4532.000000   \n",
       "\n",
       "           osrm_time  osrm_distance  segment_actual_time  segment_osrm_time  \\\n",
       "count  144867.000000  144867.000000        144867.000000      144867.000000   \n",
       "mean      213.868272     284.771297            36.196111          18.507548   \n",
       "std       308.011085     421.119294            53.571158          14.775960   \n",
       "min         6.000000       9.008200          -244.000000           0.000000   \n",
       "25%        27.000000      29.914700            20.000000          11.000000   \n",
       "50%        64.000000      78.525800            29.000000          17.000000   \n",
       "75%       257.000000     343.193250            40.000000          22.000000   \n",
       "max      1686.000000    2326.199100          3051.000000        1611.000000   \n",
       "\n",
       "       segment_osrm_distance  \n",
       "count           144867.00000  \n",
       "mean                22.82902  \n",
       "std                 17.86066  \n",
       "min                  0.00000  \n",
       "25%                 12.07010  \n",
       "50%                 23.51300  \n",
       "75%                 27.81325  \n",
       "max               2191.40370  "
      ]
     },
     "execution_count": 842,
     "metadata": {},
     "output_type": "execute_result"
    }
   ],
   "source": [
    "#statistical summary of the numerical data\n",
    "df.describe()"
   ]
  },
  {
   "cell_type": "code",
   "execution_count": 843,
   "id": "8126e15b",
   "metadata": {},
   "outputs": [
    {
     "data": {
      "text/html": [
       "<div>\n",
       "<style scoped>\n",
       "    .dataframe tbody tr th:only-of-type {\n",
       "        vertical-align: middle;\n",
       "    }\n",
       "\n",
       "    .dataframe tbody tr th {\n",
       "        vertical-align: top;\n",
       "    }\n",
       "\n",
       "    .dataframe thead th {\n",
       "        text-align: right;\n",
       "    }\n",
       "</style>\n",
       "<table border=\"1\" class=\"dataframe\">\n",
       "  <thead>\n",
       "    <tr style=\"text-align: right;\">\n",
       "      <th></th>\n",
       "      <th>data</th>\n",
       "      <th>trip_creation_time</th>\n",
       "      <th>route_schedule_uuid</th>\n",
       "      <th>route_type</th>\n",
       "      <th>trip_uuid</th>\n",
       "      <th>source_center</th>\n",
       "      <th>source_name</th>\n",
       "      <th>destination_center</th>\n",
       "      <th>destination_name</th>\n",
       "      <th>od_start_time</th>\n",
       "      <th>od_end_time</th>\n",
       "    </tr>\n",
       "  </thead>\n",
       "  <tbody>\n",
       "    <tr>\n",
       "      <th>count</th>\n",
       "      <td>144867</td>\n",
       "      <td>144867</td>\n",
       "      <td>144867</td>\n",
       "      <td>144867</td>\n",
       "      <td>144867</td>\n",
       "      <td>144867</td>\n",
       "      <td>144574</td>\n",
       "      <td>144867</td>\n",
       "      <td>144606</td>\n",
       "      <td>144867</td>\n",
       "      <td>144867</td>\n",
       "    </tr>\n",
       "    <tr>\n",
       "      <th>unique</th>\n",
       "      <td>2</td>\n",
       "      <td>14817</td>\n",
       "      <td>1504</td>\n",
       "      <td>2</td>\n",
       "      <td>14817</td>\n",
       "      <td>1508</td>\n",
       "      <td>1498</td>\n",
       "      <td>1481</td>\n",
       "      <td>1468</td>\n",
       "      <td>26369</td>\n",
       "      <td>26369</td>\n",
       "    </tr>\n",
       "    <tr>\n",
       "      <th>top</th>\n",
       "      <td>training</td>\n",
       "      <td>2018-09-28 05:23:15.359220</td>\n",
       "      <td>thanos::sroute:4029a8a2-6c74-4b7e-a6d8-f9e069f...</td>\n",
       "      <td>FTL</td>\n",
       "      <td>trip-153811219535896559</td>\n",
       "      <td>IND000000ACB</td>\n",
       "      <td>Gurgaon_Bilaspur_HB (Haryana)</td>\n",
       "      <td>IND000000ACB</td>\n",
       "      <td>Gurgaon_Bilaspur_HB (Haryana)</td>\n",
       "      <td>2018-09-21 18:37:09.322207</td>\n",
       "      <td>2018-09-24 09:59:15.691618</td>\n",
       "    </tr>\n",
       "    <tr>\n",
       "      <th>freq</th>\n",
       "      <td>104858</td>\n",
       "      <td>101</td>\n",
       "      <td>1812</td>\n",
       "      <td>99660</td>\n",
       "      <td>101</td>\n",
       "      <td>23347</td>\n",
       "      <td>23347</td>\n",
       "      <td>15192</td>\n",
       "      <td>15192</td>\n",
       "      <td>81</td>\n",
       "      <td>81</td>\n",
       "    </tr>\n",
       "  </tbody>\n",
       "</table>\n",
       "</div>"
      ],
      "text/plain": [
       "            data          trip_creation_time  \\\n",
       "count     144867                      144867   \n",
       "unique         2                       14817   \n",
       "top     training  2018-09-28 05:23:15.359220   \n",
       "freq      104858                         101   \n",
       "\n",
       "                                      route_schedule_uuid route_type  \\\n",
       "count                                              144867     144867   \n",
       "unique                                               1504          2   \n",
       "top     thanos::sroute:4029a8a2-6c74-4b7e-a6d8-f9e069f...        FTL   \n",
       "freq                                                 1812      99660   \n",
       "\n",
       "                      trip_uuid source_center                    source_name  \\\n",
       "count                    144867        144867                         144574   \n",
       "unique                    14817          1508                           1498   \n",
       "top     trip-153811219535896559  IND000000ACB  Gurgaon_Bilaspur_HB (Haryana)   \n",
       "freq                        101         23347                          23347   \n",
       "\n",
       "       destination_center               destination_name  \\\n",
       "count              144867                         144606   \n",
       "unique               1481                           1468   \n",
       "top          IND000000ACB  Gurgaon_Bilaspur_HB (Haryana)   \n",
       "freq                15192                          15192   \n",
       "\n",
       "                     od_start_time                 od_end_time  \n",
       "count                       144867                      144867  \n",
       "unique                       26369                       26369  \n",
       "top     2018-09-21 18:37:09.322207  2018-09-24 09:59:15.691618  \n",
       "freq                            81                          81  "
      ]
     },
     "execution_count": 843,
     "metadata": {},
     "output_type": "execute_result"
    }
   ],
   "source": [
    "#statistical summary of the categorical data\n",
    "df.describe(include = \"object\")"
   ]
  },
  {
   "cell_type": "code",
   "execution_count": 844,
   "id": "f149b546",
   "metadata": {},
   "outputs": [
    {
     "data": {
      "text/plain": [
       "data                                0\n",
       "trip_creation_time                  0\n",
       "route_schedule_uuid                 0\n",
       "route_type                          0\n",
       "trip_uuid                           0\n",
       "source_center                       0\n",
       "source_name                       293\n",
       "destination_center                  0\n",
       "destination_name                  261\n",
       "od_start_time                       0\n",
       "od_end_time                         0\n",
       "start_scan_to_end_scan              0\n",
       "actual_distance_to_destination      0\n",
       "actual_time                         0\n",
       "osrm_time                           0\n",
       "osrm_distance                       0\n",
       "segment_actual_time                 0\n",
       "segment_osrm_time                   0\n",
       "segment_osrm_distance               0\n",
       "dtype: int64"
      ]
     },
     "execution_count": 844,
     "metadata": {},
     "output_type": "execute_result"
    }
   ],
   "source": [
    "#Checking null values\n",
    "df.isna().sum()"
   ]
  },
  {
   "cell_type": "code",
   "execution_count": 845,
   "id": "6eb43296",
   "metadata": {},
   "outputs": [],
   "source": [
    "#treating the null vlaues with unknown, as the source name cannot be decided randomly.\n",
    "df[\"source_name\"].replace(np.nan, \"unknown\", inplace = True)"
   ]
  },
  {
   "cell_type": "code",
   "execution_count": 846,
   "id": "1f7d9c5e",
   "metadata": {},
   "outputs": [],
   "source": [
    "#treating the null vlaues with unknown, as the destination name cannot be decided randomly.\n",
    "df[\"destination_name\"].replace(np.nan, \"unknown\", inplace = True)"
   ]
  },
  {
   "cell_type": "code",
   "execution_count": 847,
   "id": "e49ca0ab",
   "metadata": {},
   "outputs": [
    {
     "data": {
      "text/plain": [
       "data                              0\n",
       "trip_creation_time                0\n",
       "route_schedule_uuid               0\n",
       "route_type                        0\n",
       "trip_uuid                         0\n",
       "source_center                     0\n",
       "source_name                       0\n",
       "destination_center                0\n",
       "destination_name                  0\n",
       "od_start_time                     0\n",
       "od_end_time                       0\n",
       "start_scan_to_end_scan            0\n",
       "actual_distance_to_destination    0\n",
       "actual_time                       0\n",
       "osrm_time                         0\n",
       "osrm_distance                     0\n",
       "segment_actual_time               0\n",
       "segment_osrm_time                 0\n",
       "segment_osrm_distance             0\n",
       "dtype: int64"
      ]
     },
     "execution_count": 847,
     "metadata": {},
     "output_type": "execute_result"
    }
   ],
   "source": [
    "#rechecking if the null values are treated properly\n",
    "df.isna().sum()"
   ]
  },
  {
   "cell_type": "code",
   "execution_count": 848,
   "id": "deabc5dc",
   "metadata": {},
   "outputs": [],
   "source": [
    "#changed the dtype of timestamp data to datetime format \n",
    "df[\"trip_creation_time\"] = pd.to_datetime(df[\"trip_creation_time\"])\n",
    "df[\"od_start_time\"] = pd.to_datetime(df[\"od_start_time\"])\n",
    "df[\"od_end_time\"] = pd.to_datetime(df[\"od_end_time\"])"
   ]
  },
  {
   "cell_type": "code",
   "execution_count": 849,
   "id": "62debdbb",
   "metadata": {},
   "outputs": [
    {
     "name": "stdout",
     "output_type": "stream",
     "text": [
      "<class 'pandas.core.frame.DataFrame'>\n",
      "RangeIndex: 144867 entries, 0 to 144866\n",
      "Data columns (total 19 columns):\n",
      " #   Column                          Non-Null Count   Dtype         \n",
      "---  ------                          --------------   -----         \n",
      " 0   data                            144867 non-null  object        \n",
      " 1   trip_creation_time              144867 non-null  datetime64[ns]\n",
      " 2   route_schedule_uuid             144867 non-null  object        \n",
      " 3   route_type                      144867 non-null  object        \n",
      " 4   trip_uuid                       144867 non-null  object        \n",
      " 5   source_center                   144867 non-null  object        \n",
      " 6   source_name                     144867 non-null  object        \n",
      " 7   destination_center              144867 non-null  object        \n",
      " 8   destination_name                144867 non-null  object        \n",
      " 9   od_start_time                   144867 non-null  datetime64[ns]\n",
      " 10  od_end_time                     144867 non-null  datetime64[ns]\n",
      " 11  start_scan_to_end_scan          144867 non-null  float64       \n",
      " 12  actual_distance_to_destination  144867 non-null  float64       \n",
      " 13  actual_time                     144867 non-null  float64       \n",
      " 14  osrm_time                       144867 non-null  float64       \n",
      " 15  osrm_distance                   144867 non-null  float64       \n",
      " 16  segment_actual_time             144867 non-null  float64       \n",
      " 17  segment_osrm_time               144867 non-null  float64       \n",
      " 18  segment_osrm_distance           144867 non-null  float64       \n",
      "dtypes: datetime64[ns](3), float64(8), object(8)\n",
      "memory usage: 21.0+ MB\n"
     ]
    }
   ],
   "source": [
    "#checking the columns and dtype of new data, after treating null values and dropping unwanted columnns\n",
    "df.info()"
   ]
  },
  {
   "cell_type": "code",
   "execution_count": 850,
   "id": "fde1cd59",
   "metadata": {},
   "outputs": [
    {
     "data": {
      "text/plain": [
       "Index(['data', 'trip_creation_time', 'route_schedule_uuid', 'route_type',\n",
       "       'trip_uuid', 'source_center', 'source_name', 'destination_center',\n",
       "       'destination_name', 'od_start_time', 'od_end_time',\n",
       "       'start_scan_to_end_scan', 'actual_distance_to_destination',\n",
       "       'actual_time', 'osrm_time', 'osrm_distance', 'segment_actual_time',\n",
       "       'segment_osrm_time', 'segment_osrm_distance'],\n",
       "      dtype='object')"
      ]
     },
     "execution_count": 850,
     "metadata": {},
     "output_type": "execute_result"
    }
   ],
   "source": [
    "#columns in the new data, printed it use for the merging the rows on the basis of groupby and aggregation\n",
    "df.columns"
   ]
  },
  {
   "cell_type": "code",
   "execution_count": 851,
   "id": "475f11a6",
   "metadata": {},
   "outputs": [
    {
     "data": {
      "text/html": [
       "<div>\n",
       "<style scoped>\n",
       "    .dataframe tbody tr th:only-of-type {\n",
       "        vertical-align: middle;\n",
       "    }\n",
       "\n",
       "    .dataframe tbody tr th {\n",
       "        vertical-align: top;\n",
       "    }\n",
       "\n",
       "    .dataframe thead th {\n",
       "        text-align: right;\n",
       "    }\n",
       "</style>\n",
       "<table border=\"1\" class=\"dataframe\">\n",
       "  <thead>\n",
       "    <tr style=\"text-align: right;\">\n",
       "      <th></th>\n",
       "      <th>data</th>\n",
       "      <th>trip_creation_time</th>\n",
       "      <th>route_schedule_uuid</th>\n",
       "      <th>route_type</th>\n",
       "      <th>trip_uuid</th>\n",
       "      <th>source_center</th>\n",
       "      <th>source_name</th>\n",
       "      <th>destination_center</th>\n",
       "      <th>destination_name</th>\n",
       "      <th>od_start_time</th>\n",
       "      <th>od_end_time</th>\n",
       "      <th>start_scan_to_end_scan</th>\n",
       "      <th>actual_distance_to_destination</th>\n",
       "      <th>actual_time</th>\n",
       "      <th>osrm_time</th>\n",
       "      <th>osrm_distance</th>\n",
       "      <th>segment_actual_time</th>\n",
       "      <th>segment_osrm_time</th>\n",
       "      <th>segment_osrm_distance</th>\n",
       "    </tr>\n",
       "  </thead>\n",
       "  <tbody>\n",
       "    <tr>\n",
       "      <th>0</th>\n",
       "      <td>training</td>\n",
       "      <td>2018-09-20 02:35:36.476840</td>\n",
       "      <td>thanos::sroute:eb7bfc78-b351-4c0e-a951-fa3d5c3...</td>\n",
       "      <td>Carting</td>\n",
       "      <td>trip-153741093647649320</td>\n",
       "      <td>IND388121AAA</td>\n",
       "      <td>Anand_VUNagar_DC (Gujarat)</td>\n",
       "      <td>IND388620AAB</td>\n",
       "      <td>Khambhat_MotvdDPP_D (Gujarat)</td>\n",
       "      <td>2018-09-20 03:21:32.418600</td>\n",
       "      <td>2018-09-20 04:47:45.236797</td>\n",
       "      <td>86.0</td>\n",
       "      <td>10.435660</td>\n",
       "      <td>14.0</td>\n",
       "      <td>11.0</td>\n",
       "      <td>11.9653</td>\n",
       "      <td>14.0</td>\n",
       "      <td>11.0</td>\n",
       "      <td>11.9653</td>\n",
       "    </tr>\n",
       "    <tr>\n",
       "      <th>1</th>\n",
       "      <td>training</td>\n",
       "      <td>2018-09-20 02:35:36.476840</td>\n",
       "      <td>thanos::sroute:eb7bfc78-b351-4c0e-a951-fa3d5c3...</td>\n",
       "      <td>Carting</td>\n",
       "      <td>trip-153741093647649320</td>\n",
       "      <td>IND388121AAA</td>\n",
       "      <td>Anand_VUNagar_DC (Gujarat)</td>\n",
       "      <td>IND388620AAB</td>\n",
       "      <td>Khambhat_MotvdDPP_D (Gujarat)</td>\n",
       "      <td>2018-09-20 03:21:32.418600</td>\n",
       "      <td>2018-09-20 04:47:45.236797</td>\n",
       "      <td>86.0</td>\n",
       "      <td>18.936842</td>\n",
       "      <td>24.0</td>\n",
       "      <td>20.0</td>\n",
       "      <td>21.7243</td>\n",
       "      <td>10.0</td>\n",
       "      <td>9.0</td>\n",
       "      <td>9.7590</td>\n",
       "    </tr>\n",
       "    <tr>\n",
       "      <th>2</th>\n",
       "      <td>training</td>\n",
       "      <td>2018-09-20 02:35:36.476840</td>\n",
       "      <td>thanos::sroute:eb7bfc78-b351-4c0e-a951-fa3d5c3...</td>\n",
       "      <td>Carting</td>\n",
       "      <td>trip-153741093647649320</td>\n",
       "      <td>IND388121AAA</td>\n",
       "      <td>Anand_VUNagar_DC (Gujarat)</td>\n",
       "      <td>IND388620AAB</td>\n",
       "      <td>Khambhat_MotvdDPP_D (Gujarat)</td>\n",
       "      <td>2018-09-20 03:21:32.418600</td>\n",
       "      <td>2018-09-20 04:47:45.236797</td>\n",
       "      <td>86.0</td>\n",
       "      <td>27.637279</td>\n",
       "      <td>40.0</td>\n",
       "      <td>28.0</td>\n",
       "      <td>32.5395</td>\n",
       "      <td>16.0</td>\n",
       "      <td>7.0</td>\n",
       "      <td>10.8152</td>\n",
       "    </tr>\n",
       "    <tr>\n",
       "      <th>3</th>\n",
       "      <td>training</td>\n",
       "      <td>2018-09-20 02:35:36.476840</td>\n",
       "      <td>thanos::sroute:eb7bfc78-b351-4c0e-a951-fa3d5c3...</td>\n",
       "      <td>Carting</td>\n",
       "      <td>trip-153741093647649320</td>\n",
       "      <td>IND388121AAA</td>\n",
       "      <td>Anand_VUNagar_DC (Gujarat)</td>\n",
       "      <td>IND388620AAB</td>\n",
       "      <td>Khambhat_MotvdDPP_D (Gujarat)</td>\n",
       "      <td>2018-09-20 03:21:32.418600</td>\n",
       "      <td>2018-09-20 04:47:45.236797</td>\n",
       "      <td>86.0</td>\n",
       "      <td>36.118028</td>\n",
       "      <td>62.0</td>\n",
       "      <td>40.0</td>\n",
       "      <td>45.5620</td>\n",
       "      <td>21.0</td>\n",
       "      <td>12.0</td>\n",
       "      <td>13.0224</td>\n",
       "    </tr>\n",
       "    <tr>\n",
       "      <th>4</th>\n",
       "      <td>training</td>\n",
       "      <td>2018-09-20 02:35:36.476840</td>\n",
       "      <td>thanos::sroute:eb7bfc78-b351-4c0e-a951-fa3d5c3...</td>\n",
       "      <td>Carting</td>\n",
       "      <td>trip-153741093647649320</td>\n",
       "      <td>IND388121AAA</td>\n",
       "      <td>Anand_VUNagar_DC (Gujarat)</td>\n",
       "      <td>IND388620AAB</td>\n",
       "      <td>Khambhat_MotvdDPP_D (Gujarat)</td>\n",
       "      <td>2018-09-20 03:21:32.418600</td>\n",
       "      <td>2018-09-20 04:47:45.236797</td>\n",
       "      <td>86.0</td>\n",
       "      <td>39.386040</td>\n",
       "      <td>68.0</td>\n",
       "      <td>44.0</td>\n",
       "      <td>54.2181</td>\n",
       "      <td>6.0</td>\n",
       "      <td>5.0</td>\n",
       "      <td>3.9153</td>\n",
       "    </tr>\n",
       "    <tr>\n",
       "      <th>5</th>\n",
       "      <td>training</td>\n",
       "      <td>2018-09-20 02:35:36.476840</td>\n",
       "      <td>thanos::sroute:eb7bfc78-b351-4c0e-a951-fa3d5c3...</td>\n",
       "      <td>Carting</td>\n",
       "      <td>trip-153741093647649320</td>\n",
       "      <td>IND388620AAB</td>\n",
       "      <td>Khambhat_MotvdDPP_D (Gujarat)</td>\n",
       "      <td>IND388320AAA</td>\n",
       "      <td>Anand_Vaghasi_IP (Gujarat)</td>\n",
       "      <td>2018-09-20 04:47:45.236797</td>\n",
       "      <td>2018-09-20 06:36:55.627764</td>\n",
       "      <td>109.0</td>\n",
       "      <td>10.403038</td>\n",
       "      <td>15.0</td>\n",
       "      <td>11.0</td>\n",
       "      <td>12.1171</td>\n",
       "      <td>15.0</td>\n",
       "      <td>11.0</td>\n",
       "      <td>12.1171</td>\n",
       "    </tr>\n",
       "    <tr>\n",
       "      <th>6</th>\n",
       "      <td>training</td>\n",
       "      <td>2018-09-20 02:35:36.476840</td>\n",
       "      <td>thanos::sroute:eb7bfc78-b351-4c0e-a951-fa3d5c3...</td>\n",
       "      <td>Carting</td>\n",
       "      <td>trip-153741093647649320</td>\n",
       "      <td>IND388620AAB</td>\n",
       "      <td>Khambhat_MotvdDPP_D (Gujarat)</td>\n",
       "      <td>IND388320AAA</td>\n",
       "      <td>Anand_Vaghasi_IP (Gujarat)</td>\n",
       "      <td>2018-09-20 04:47:45.236797</td>\n",
       "      <td>2018-09-20 06:36:55.627764</td>\n",
       "      <td>109.0</td>\n",
       "      <td>18.045481</td>\n",
       "      <td>44.0</td>\n",
       "      <td>17.0</td>\n",
       "      <td>21.2890</td>\n",
       "      <td>28.0</td>\n",
       "      <td>6.0</td>\n",
       "      <td>9.1719</td>\n",
       "    </tr>\n",
       "    <tr>\n",
       "      <th>7</th>\n",
       "      <td>training</td>\n",
       "      <td>2018-09-20 02:35:36.476840</td>\n",
       "      <td>thanos::sroute:eb7bfc78-b351-4c0e-a951-fa3d5c3...</td>\n",
       "      <td>Carting</td>\n",
       "      <td>trip-153741093647649320</td>\n",
       "      <td>IND388620AAB</td>\n",
       "      <td>Khambhat_MotvdDPP_D (Gujarat)</td>\n",
       "      <td>IND388320AAA</td>\n",
       "      <td>Anand_Vaghasi_IP (Gujarat)</td>\n",
       "      <td>2018-09-20 04:47:45.236797</td>\n",
       "      <td>2018-09-20 06:36:55.627764</td>\n",
       "      <td>109.0</td>\n",
       "      <td>28.061896</td>\n",
       "      <td>65.0</td>\n",
       "      <td>29.0</td>\n",
       "      <td>35.8252</td>\n",
       "      <td>21.0</td>\n",
       "      <td>11.0</td>\n",
       "      <td>14.5362</td>\n",
       "    </tr>\n",
       "    <tr>\n",
       "      <th>8</th>\n",
       "      <td>training</td>\n",
       "      <td>2018-09-20 02:35:36.476840</td>\n",
       "      <td>thanos::sroute:eb7bfc78-b351-4c0e-a951-fa3d5c3...</td>\n",
       "      <td>Carting</td>\n",
       "      <td>trip-153741093647649320</td>\n",
       "      <td>IND388620AAB</td>\n",
       "      <td>Khambhat_MotvdDPP_D (Gujarat)</td>\n",
       "      <td>IND388320AAA</td>\n",
       "      <td>Anand_Vaghasi_IP (Gujarat)</td>\n",
       "      <td>2018-09-20 04:47:45.236797</td>\n",
       "      <td>2018-09-20 06:36:55.627764</td>\n",
       "      <td>109.0</td>\n",
       "      <td>38.939167</td>\n",
       "      <td>76.0</td>\n",
       "      <td>39.0</td>\n",
       "      <td>47.1900</td>\n",
       "      <td>10.0</td>\n",
       "      <td>10.0</td>\n",
       "      <td>11.3648</td>\n",
       "    </tr>\n",
       "    <tr>\n",
       "      <th>9</th>\n",
       "      <td>training</td>\n",
       "      <td>2018-09-20 02:35:36.476840</td>\n",
       "      <td>thanos::sroute:eb7bfc78-b351-4c0e-a951-fa3d5c3...</td>\n",
       "      <td>Carting</td>\n",
       "      <td>trip-153741093647649320</td>\n",
       "      <td>IND388620AAB</td>\n",
       "      <td>Khambhat_MotvdDPP_D (Gujarat)</td>\n",
       "      <td>IND388320AAA</td>\n",
       "      <td>Anand_Vaghasi_IP (Gujarat)</td>\n",
       "      <td>2018-09-20 04:47:45.236797</td>\n",
       "      <td>2018-09-20 06:36:55.627764</td>\n",
       "      <td>109.0</td>\n",
       "      <td>43.595802</td>\n",
       "      <td>102.0</td>\n",
       "      <td>45.0</td>\n",
       "      <td>53.2334</td>\n",
       "      <td>26.0</td>\n",
       "      <td>6.0</td>\n",
       "      <td>6.0434</td>\n",
       "    </tr>\n",
       "  </tbody>\n",
       "</table>\n",
       "</div>"
      ],
      "text/plain": [
       "       data         trip_creation_time  \\\n",
       "0  training 2018-09-20 02:35:36.476840   \n",
       "1  training 2018-09-20 02:35:36.476840   \n",
       "2  training 2018-09-20 02:35:36.476840   \n",
       "3  training 2018-09-20 02:35:36.476840   \n",
       "4  training 2018-09-20 02:35:36.476840   \n",
       "5  training 2018-09-20 02:35:36.476840   \n",
       "6  training 2018-09-20 02:35:36.476840   \n",
       "7  training 2018-09-20 02:35:36.476840   \n",
       "8  training 2018-09-20 02:35:36.476840   \n",
       "9  training 2018-09-20 02:35:36.476840   \n",
       "\n",
       "                                 route_schedule_uuid route_type  \\\n",
       "0  thanos::sroute:eb7bfc78-b351-4c0e-a951-fa3d5c3...    Carting   \n",
       "1  thanos::sroute:eb7bfc78-b351-4c0e-a951-fa3d5c3...    Carting   \n",
       "2  thanos::sroute:eb7bfc78-b351-4c0e-a951-fa3d5c3...    Carting   \n",
       "3  thanos::sroute:eb7bfc78-b351-4c0e-a951-fa3d5c3...    Carting   \n",
       "4  thanos::sroute:eb7bfc78-b351-4c0e-a951-fa3d5c3...    Carting   \n",
       "5  thanos::sroute:eb7bfc78-b351-4c0e-a951-fa3d5c3...    Carting   \n",
       "6  thanos::sroute:eb7bfc78-b351-4c0e-a951-fa3d5c3...    Carting   \n",
       "7  thanos::sroute:eb7bfc78-b351-4c0e-a951-fa3d5c3...    Carting   \n",
       "8  thanos::sroute:eb7bfc78-b351-4c0e-a951-fa3d5c3...    Carting   \n",
       "9  thanos::sroute:eb7bfc78-b351-4c0e-a951-fa3d5c3...    Carting   \n",
       "\n",
       "                 trip_uuid source_center                    source_name  \\\n",
       "0  trip-153741093647649320  IND388121AAA     Anand_VUNagar_DC (Gujarat)   \n",
       "1  trip-153741093647649320  IND388121AAA     Anand_VUNagar_DC (Gujarat)   \n",
       "2  trip-153741093647649320  IND388121AAA     Anand_VUNagar_DC (Gujarat)   \n",
       "3  trip-153741093647649320  IND388121AAA     Anand_VUNagar_DC (Gujarat)   \n",
       "4  trip-153741093647649320  IND388121AAA     Anand_VUNagar_DC (Gujarat)   \n",
       "5  trip-153741093647649320  IND388620AAB  Khambhat_MotvdDPP_D (Gujarat)   \n",
       "6  trip-153741093647649320  IND388620AAB  Khambhat_MotvdDPP_D (Gujarat)   \n",
       "7  trip-153741093647649320  IND388620AAB  Khambhat_MotvdDPP_D (Gujarat)   \n",
       "8  trip-153741093647649320  IND388620AAB  Khambhat_MotvdDPP_D (Gujarat)   \n",
       "9  trip-153741093647649320  IND388620AAB  Khambhat_MotvdDPP_D (Gujarat)   \n",
       "\n",
       "  destination_center               destination_name  \\\n",
       "0       IND388620AAB  Khambhat_MotvdDPP_D (Gujarat)   \n",
       "1       IND388620AAB  Khambhat_MotvdDPP_D (Gujarat)   \n",
       "2       IND388620AAB  Khambhat_MotvdDPP_D (Gujarat)   \n",
       "3       IND388620AAB  Khambhat_MotvdDPP_D (Gujarat)   \n",
       "4       IND388620AAB  Khambhat_MotvdDPP_D (Gujarat)   \n",
       "5       IND388320AAA     Anand_Vaghasi_IP (Gujarat)   \n",
       "6       IND388320AAA     Anand_Vaghasi_IP (Gujarat)   \n",
       "7       IND388320AAA     Anand_Vaghasi_IP (Gujarat)   \n",
       "8       IND388320AAA     Anand_Vaghasi_IP (Gujarat)   \n",
       "9       IND388320AAA     Anand_Vaghasi_IP (Gujarat)   \n",
       "\n",
       "               od_start_time                od_end_time  \\\n",
       "0 2018-09-20 03:21:32.418600 2018-09-20 04:47:45.236797   \n",
       "1 2018-09-20 03:21:32.418600 2018-09-20 04:47:45.236797   \n",
       "2 2018-09-20 03:21:32.418600 2018-09-20 04:47:45.236797   \n",
       "3 2018-09-20 03:21:32.418600 2018-09-20 04:47:45.236797   \n",
       "4 2018-09-20 03:21:32.418600 2018-09-20 04:47:45.236797   \n",
       "5 2018-09-20 04:47:45.236797 2018-09-20 06:36:55.627764   \n",
       "6 2018-09-20 04:47:45.236797 2018-09-20 06:36:55.627764   \n",
       "7 2018-09-20 04:47:45.236797 2018-09-20 06:36:55.627764   \n",
       "8 2018-09-20 04:47:45.236797 2018-09-20 06:36:55.627764   \n",
       "9 2018-09-20 04:47:45.236797 2018-09-20 06:36:55.627764   \n",
       "\n",
       "   start_scan_to_end_scan  actual_distance_to_destination  actual_time  \\\n",
       "0                    86.0                       10.435660         14.0   \n",
       "1                    86.0                       18.936842         24.0   \n",
       "2                    86.0                       27.637279         40.0   \n",
       "3                    86.0                       36.118028         62.0   \n",
       "4                    86.0                       39.386040         68.0   \n",
       "5                   109.0                       10.403038         15.0   \n",
       "6                   109.0                       18.045481         44.0   \n",
       "7                   109.0                       28.061896         65.0   \n",
       "8                   109.0                       38.939167         76.0   \n",
       "9                   109.0                       43.595802        102.0   \n",
       "\n",
       "   osrm_time  osrm_distance  segment_actual_time  segment_osrm_time  \\\n",
       "0       11.0        11.9653                 14.0               11.0   \n",
       "1       20.0        21.7243                 10.0                9.0   \n",
       "2       28.0        32.5395                 16.0                7.0   \n",
       "3       40.0        45.5620                 21.0               12.0   \n",
       "4       44.0        54.2181                  6.0                5.0   \n",
       "5       11.0        12.1171                 15.0               11.0   \n",
       "6       17.0        21.2890                 28.0                6.0   \n",
       "7       29.0        35.8252                 21.0               11.0   \n",
       "8       39.0        47.1900                 10.0               10.0   \n",
       "9       45.0        53.2334                 26.0                6.0   \n",
       "\n",
       "   segment_osrm_distance  \n",
       "0                11.9653  \n",
       "1                 9.7590  \n",
       "2                10.8152  \n",
       "3                13.0224  \n",
       "4                 3.9153  \n",
       "5                12.1171  \n",
       "6                 9.1719  \n",
       "7                14.5362  \n",
       "8                11.3648  \n",
       "9                 6.0434  "
      ]
     },
     "execution_count": 851,
     "metadata": {},
     "output_type": "execute_result"
    }
   ],
   "source": [
    "#new data initial data of  rows\n",
    "df.head(10)"
   ]
  },
  {
   "cell_type": "code",
   "execution_count": 852,
   "id": "7c6cb351",
   "metadata": {},
   "outputs": [],
   "source": [
    "#formated to timestamp\n",
    "df[\"od_start_time\"] = df[\"od_start_time\"].dt.strftime('%d-%m-%Y %H:%M:%S')\n",
    "df[\"od_end_time\"] = df[\"od_end_time\"].dt.strftime('%d-%m-%Y %H:%M:%S')\n",
    "df[\"trip_creation_time\"] = df[\"trip_creation_time\"].dt.strftime('%d-%m-%Y %H:%M:%S')"
   ]
  },
  {
   "cell_type": "code",
   "execution_count": 853,
   "id": "b6ecbdd6",
   "metadata": {},
   "outputs": [],
   "source": [
    "#changed new columns dtype to datetime format\n",
    "df[\"od_start_time\"] = pd.to_datetime(df[\"od_start_time\"])\n",
    "df[\"od_end_time\"] = pd.to_datetime(df[\"od_end_time\"])\n",
    "df[\"trip_creation_time\"] = pd.to_datetime(df[\"trip_creation_time\"])"
   ]
  },
  {
   "cell_type": "code",
   "execution_count": 854,
   "id": "30486476",
   "metadata": {},
   "outputs": [
    {
     "name": "stdout",
     "output_type": "stream",
     "text": [
      "<class 'pandas.core.frame.DataFrame'>\n",
      "RangeIndex: 144867 entries, 0 to 144866\n",
      "Data columns (total 19 columns):\n",
      " #   Column                          Non-Null Count   Dtype         \n",
      "---  ------                          --------------   -----         \n",
      " 0   data                            144867 non-null  object        \n",
      " 1   trip_creation_time              144867 non-null  datetime64[ns]\n",
      " 2   route_schedule_uuid             144867 non-null  object        \n",
      " 3   route_type                      144867 non-null  object        \n",
      " 4   trip_uuid                       144867 non-null  object        \n",
      " 5   source_center                   144867 non-null  object        \n",
      " 6   source_name                     144867 non-null  object        \n",
      " 7   destination_center              144867 non-null  object        \n",
      " 8   destination_name                144867 non-null  object        \n",
      " 9   od_start_time                   144867 non-null  datetime64[ns]\n",
      " 10  od_end_time                     144867 non-null  datetime64[ns]\n",
      " 11  start_scan_to_end_scan          144867 non-null  float64       \n",
      " 12  actual_distance_to_destination  144867 non-null  float64       \n",
      " 13  actual_time                     144867 non-null  float64       \n",
      " 14  osrm_time                       144867 non-null  float64       \n",
      " 15  osrm_distance                   144867 non-null  float64       \n",
      " 16  segment_actual_time             144867 non-null  float64       \n",
      " 17  segment_osrm_time               144867 non-null  float64       \n",
      " 18  segment_osrm_distance           144867 non-null  float64       \n",
      "dtypes: datetime64[ns](3), float64(8), object(8)\n",
      "memory usage: 21.0+ MB\n"
     ]
    }
   ],
   "source": [
    "df.info()"
   ]
  },
  {
   "cell_type": "markdown",
   "id": "7bfaa919",
   "metadata": {},
   "source": [
    "# <span style='background :yellow' >Merging the rows </span>"
   ]
  },
  {
   "cell_type": "code",
   "execution_count": 855,
   "id": "c4e93867",
   "metadata": {},
   "outputs": [],
   "source": [
    "#merging the rows based on the source and destination\n",
    "df_agg = df.groupby(['data','trip_creation_time','route_schedule_uuid','route_type','trip_uuid','source_center',\n",
    "            'source_name','destination_center','destination_name','od_start_time',\n",
    "            'od_end_time','start_scan_to_end_scan'], as_index=False).agg({\n",
    "    'actual_distance_to_destination':'last',\n",
    "    'actual_time':'last','osrm_time':'last','osrm_distance':'last',\n",
    "    'segment_actual_time':'sum','segment_osrm_time':'sum','segment_osrm_distance':'sum'})"
   ]
  },
  {
   "cell_type": "code",
   "execution_count": 856,
   "id": "3c51a3d6",
   "metadata": {
    "scrolled": true
   },
   "outputs": [
    {
     "data": {
      "text/html": [
       "<div>\n",
       "<style scoped>\n",
       "    .dataframe tbody tr th:only-of-type {\n",
       "        vertical-align: middle;\n",
       "    }\n",
       "\n",
       "    .dataframe tbody tr th {\n",
       "        vertical-align: top;\n",
       "    }\n",
       "\n",
       "    .dataframe thead th {\n",
       "        text-align: right;\n",
       "    }\n",
       "</style>\n",
       "<table border=\"1\" class=\"dataframe\">\n",
       "  <thead>\n",
       "    <tr style=\"text-align: right;\">\n",
       "      <th></th>\n",
       "      <th>data</th>\n",
       "      <th>trip_creation_time</th>\n",
       "      <th>route_schedule_uuid</th>\n",
       "      <th>route_type</th>\n",
       "      <th>trip_uuid</th>\n",
       "      <th>source_center</th>\n",
       "      <th>source_name</th>\n",
       "      <th>destination_center</th>\n",
       "      <th>destination_name</th>\n",
       "      <th>od_start_time</th>\n",
       "      <th>od_end_time</th>\n",
       "      <th>start_scan_to_end_scan</th>\n",
       "      <th>actual_distance_to_destination</th>\n",
       "      <th>actual_time</th>\n",
       "      <th>osrm_time</th>\n",
       "      <th>osrm_distance</th>\n",
       "      <th>segment_actual_time</th>\n",
       "      <th>segment_osrm_time</th>\n",
       "      <th>segment_osrm_distance</th>\n",
       "    </tr>\n",
       "  </thead>\n",
       "  <tbody>\n",
       "    <tr>\n",
       "      <th>0</th>\n",
       "      <td>test</td>\n",
       "      <td>2018-01-10 00:01:57</td>\n",
       "      <td>thanos::sroute:8a57e4e4-7695-41a2-9f6f-4d5eec4...</td>\n",
       "      <td>Carting</td>\n",
       "      <td>trip-153835211747541776</td>\n",
       "      <td>IND686507AAA</td>\n",
       "      <td>Parakkdavu_KeRoad_D (Kerala)</td>\n",
       "      <td>IND686513AAA</td>\n",
       "      <td>Mundakayam_Central_D_1 (Kerala)</td>\n",
       "      <td>2018-01-10 02:10:46</td>\n",
       "      <td>2018-01-10 02:52:21</td>\n",
       "      <td>41.0</td>\n",
       "      <td>9.794329</td>\n",
       "      <td>24.0</td>\n",
       "      <td>9.0</td>\n",
       "      <td>12.8871</td>\n",
       "      <td>24.0</td>\n",
       "      <td>9.0</td>\n",
       "      <td>12.8871</td>\n",
       "    </tr>\n",
       "    <tr>\n",
       "      <th>1</th>\n",
       "      <td>test</td>\n",
       "      <td>2018-01-10 00:02:31</td>\n",
       "      <td>thanos::sroute:883e99fa-50a3-40e0-a2e2-9b12ed6...</td>\n",
       "      <td>FTL</td>\n",
       "      <td>trip-153835215185692720</td>\n",
       "      <td>IND845305AAA</td>\n",
       "      <td>Raxaul_KairiyaT_D (Bihar)</td>\n",
       "      <td>IND842001AAA</td>\n",
       "      <td>Muzaffrpur_Bbganj_I (Bihar)</td>\n",
       "      <td>2018-01-10 06:16:17</td>\n",
       "      <td>2018-02-10 00:41:58</td>\n",
       "      <td>1105.0</td>\n",
       "      <td>108.516945</td>\n",
       "      <td>563.0</td>\n",
       "      <td>96.0</td>\n",
       "      <td>135.2561</td>\n",
       "      <td>560.0</td>\n",
       "      <td>134.0</td>\n",
       "      <td>189.5416</td>\n",
       "    </tr>\n",
       "    <tr>\n",
       "      <th>2</th>\n",
       "      <td>test</td>\n",
       "      <td>2018-01-10 00:02:31</td>\n",
       "      <td>thanos::sroute:883e99fa-50a3-40e0-a2e2-9b12ed6...</td>\n",
       "      <td>FTL</td>\n",
       "      <td>trip-153835215185692720</td>\n",
       "      <td>IND845401AAA</td>\n",
       "      <td>Motihari_RajaBzr_D (Bihar)</td>\n",
       "      <td>IND845305AAA</td>\n",
       "      <td>Raxaul_KairiyaT_D (Bihar)</td>\n",
       "      <td>2018-01-10 03:53:47</td>\n",
       "      <td>2018-01-10 06:16:17</td>\n",
       "      <td>142.0</td>\n",
       "      <td>35.140544</td>\n",
       "      <td>98.0</td>\n",
       "      <td>35.0</td>\n",
       "      <td>48.2993</td>\n",
       "      <td>98.0</td>\n",
       "      <td>34.0</td>\n",
       "      <td>48.2993</td>\n",
       "    </tr>\n",
       "    <tr>\n",
       "      <th>3</th>\n",
       "      <td>test</td>\n",
       "      <td>2018-01-10 00:03:55</td>\n",
       "      <td>thanos::sroute:b0529f1a-f51e-40dd-8825-4ee14c0...</td>\n",
       "      <td>FTL</td>\n",
       "      <td>trip-153835223580501120</td>\n",
       "      <td>IND842001AAA</td>\n",
       "      <td>Muzaffrpur_Bbganj_I (Bihar)</td>\n",
       "      <td>IND848114AAA</td>\n",
       "      <td>DalsinghSarai_Wardno13_D (Bihar)</td>\n",
       "      <td>2018-01-10 00:03:55</td>\n",
       "      <td>2018-01-10 02:11:05</td>\n",
       "      <td>127.0</td>\n",
       "      <td>66.711536</td>\n",
       "      <td>102.0</td>\n",
       "      <td>48.0</td>\n",
       "      <td>68.9694</td>\n",
       "      <td>101.0</td>\n",
       "      <td>47.0</td>\n",
       "      <td>68.9694</td>\n",
       "    </tr>\n",
       "    <tr>\n",
       "      <th>4</th>\n",
       "      <td>test</td>\n",
       "      <td>2018-01-10 00:03:55</td>\n",
       "      <td>thanos::sroute:b0529f1a-f51e-40dd-8825-4ee14c0...</td>\n",
       "      <td>FTL</td>\n",
       "      <td>trip-153835223580501120</td>\n",
       "      <td>IND848114AAA</td>\n",
       "      <td>DalsinghSarai_Wardno13_D (Bihar)</td>\n",
       "      <td>IND848210AAA</td>\n",
       "      <td>Rusera_Wardno4_D (Bihar)</td>\n",
       "      <td>2018-01-10 02:11:05</td>\n",
       "      <td>2018-01-10 03:45:49</td>\n",
       "      <td>94.0</td>\n",
       "      <td>19.922478</td>\n",
       "      <td>39.0</td>\n",
       "      <td>22.0</td>\n",
       "      <td>21.6634</td>\n",
       "      <td>39.0</td>\n",
       "      <td>22.0</td>\n",
       "      <td>21.6634</td>\n",
       "    </tr>\n",
       "    <tr>\n",
       "      <th>...</th>\n",
       "      <td>...</td>\n",
       "      <td>...</td>\n",
       "      <td>...</td>\n",
       "      <td>...</td>\n",
       "      <td>...</td>\n",
       "      <td>...</td>\n",
       "      <td>...</td>\n",
       "      <td>...</td>\n",
       "      <td>...</td>\n",
       "      <td>...</td>\n",
       "      <td>...</td>\n",
       "      <td>...</td>\n",
       "      <td>...</td>\n",
       "      <td>...</td>\n",
       "      <td>...</td>\n",
       "      <td>...</td>\n",
       "      <td>...</td>\n",
       "      <td>...</td>\n",
       "      <td>...</td>\n",
       "    </tr>\n",
       "    <tr>\n",
       "      <th>26364</th>\n",
       "      <td>training</td>\n",
       "      <td>2018-12-09 23:58:41</td>\n",
       "      <td>thanos::sroute:e911e081-3350-4a27-b5af-961d893...</td>\n",
       "      <td>Carting</td>\n",
       "      <td>trip-153679672155452701</td>\n",
       "      <td>IND691001AAB</td>\n",
       "      <td>Kollam_Central_H_1 (Kerala)</td>\n",
       "      <td>IND691506AAA</td>\n",
       "      <td>Kottarakkara_Amankovl_D (Kerala)</td>\n",
       "      <td>2018-12-09 23:58:41</td>\n",
       "      <td>2018-09-13 02:07:04</td>\n",
       "      <td>128.0</td>\n",
       "      <td>20.226251</td>\n",
       "      <td>40.0</td>\n",
       "      <td>27.0</td>\n",
       "      <td>24.6472</td>\n",
       "      <td>39.0</td>\n",
       "      <td>25.0</td>\n",
       "      <td>24.6472</td>\n",
       "    </tr>\n",
       "    <tr>\n",
       "      <th>26365</th>\n",
       "      <td>training</td>\n",
       "      <td>2018-12-09 23:58:41</td>\n",
       "      <td>thanos::sroute:e911e081-3350-4a27-b5af-961d893...</td>\n",
       "      <td>Carting</td>\n",
       "      <td>trip-153679672155452701</td>\n",
       "      <td>IND691305AAA</td>\n",
       "      <td>Punalur_PostofJN_D (Kerala)</td>\n",
       "      <td>IND689645AAA</td>\n",
       "      <td>Pthnmthitt_Klskhrpt_D (Kerala)</td>\n",
       "      <td>2018-09-13 02:51:43</td>\n",
       "      <td>2018-09-13 04:02:49</td>\n",
       "      <td>71.0</td>\n",
       "      <td>21.911626</td>\n",
       "      <td>57.0</td>\n",
       "      <td>24.0</td>\n",
       "      <td>26.1980</td>\n",
       "      <td>56.0</td>\n",
       "      <td>23.0</td>\n",
       "      <td>26.1980</td>\n",
       "    </tr>\n",
       "    <tr>\n",
       "      <th>26366</th>\n",
       "      <td>training</td>\n",
       "      <td>2018-12-09 23:58:41</td>\n",
       "      <td>thanos::sroute:e911e081-3350-4a27-b5af-961d893...</td>\n",
       "      <td>Carting</td>\n",
       "      <td>trip-153679672155452701</td>\n",
       "      <td>IND691506AAA</td>\n",
       "      <td>Kottarakkara_Amankovl_D (Kerala)</td>\n",
       "      <td>IND691305AAA</td>\n",
       "      <td>Punalur_PostofJN_D (Kerala)</td>\n",
       "      <td>2018-09-13 02:07:04</td>\n",
       "      <td>2018-09-13 02:51:43</td>\n",
       "      <td>44.0</td>\n",
       "      <td>16.177896</td>\n",
       "      <td>42.0</td>\n",
       "      <td>20.0</td>\n",
       "      <td>18.8517</td>\n",
       "      <td>41.0</td>\n",
       "      <td>20.0</td>\n",
       "      <td>18.8517</td>\n",
       "    </tr>\n",
       "    <tr>\n",
       "      <th>26367</th>\n",
       "      <td>training</td>\n",
       "      <td>2018-12-09 23:58:41</td>\n",
       "      <td>thanos::sroute:e911e081-3350-4a27-b5af-961d893...</td>\n",
       "      <td>Carting</td>\n",
       "      <td>trip-153679672155452701</td>\n",
       "      <td>IND691551AAA</td>\n",
       "      <td>Adoor_Town_D (Kerala)</td>\n",
       "      <td>IND691001AAB</td>\n",
       "      <td>Kollam_Central_H_1 (Kerala)</td>\n",
       "      <td>2018-09-13 05:20:39</td>\n",
       "      <td>2018-09-13 16:08:42</td>\n",
       "      <td>648.0</td>\n",
       "      <td>32.184676</td>\n",
       "      <td>80.0</td>\n",
       "      <td>40.0</td>\n",
       "      <td>42.2505</td>\n",
       "      <td>78.0</td>\n",
       "      <td>44.0</td>\n",
       "      <td>44.4854</td>\n",
       "    </tr>\n",
       "    <tr>\n",
       "      <th>26368</th>\n",
       "      <td>training</td>\n",
       "      <td>2018-12-09 23:59:07</td>\n",
       "      <td>thanos::sroute:f054a348-16d9-4c6c-b70e-548c616...</td>\n",
       "      <td>FTL</td>\n",
       "      <td>trip-153679674733908252</td>\n",
       "      <td>IND575004AAB</td>\n",
       "      <td>Mangalore_Kuntikna_H (Karnataka)</td>\n",
       "      <td>IND562132AAA</td>\n",
       "      <td>Bangalore_Nelmngla_H (Karnataka)</td>\n",
       "      <td>2018-12-09 23:59:07</td>\n",
       "      <td>2018-09-13 11:53:01</td>\n",
       "      <td>713.0</td>\n",
       "      <td>283.297876</td>\n",
       "      <td>590.0</td>\n",
       "      <td>250.0</td>\n",
       "      <td>334.2084</td>\n",
       "      <td>584.0</td>\n",
       "      <td>268.0</td>\n",
       "      <td>361.0364</td>\n",
       "    </tr>\n",
       "  </tbody>\n",
       "</table>\n",
       "<p>26369 rows × 19 columns</p>\n",
       "</div>"
      ],
      "text/plain": [
       "           data  trip_creation_time  \\\n",
       "0          test 2018-01-10 00:01:57   \n",
       "1          test 2018-01-10 00:02:31   \n",
       "2          test 2018-01-10 00:02:31   \n",
       "3          test 2018-01-10 00:03:55   \n",
       "4          test 2018-01-10 00:03:55   \n",
       "...         ...                 ...   \n",
       "26364  training 2018-12-09 23:58:41   \n",
       "26365  training 2018-12-09 23:58:41   \n",
       "26366  training 2018-12-09 23:58:41   \n",
       "26367  training 2018-12-09 23:58:41   \n",
       "26368  training 2018-12-09 23:59:07   \n",
       "\n",
       "                                     route_schedule_uuid route_type  \\\n",
       "0      thanos::sroute:8a57e4e4-7695-41a2-9f6f-4d5eec4...    Carting   \n",
       "1      thanos::sroute:883e99fa-50a3-40e0-a2e2-9b12ed6...        FTL   \n",
       "2      thanos::sroute:883e99fa-50a3-40e0-a2e2-9b12ed6...        FTL   \n",
       "3      thanos::sroute:b0529f1a-f51e-40dd-8825-4ee14c0...        FTL   \n",
       "4      thanos::sroute:b0529f1a-f51e-40dd-8825-4ee14c0...        FTL   \n",
       "...                                                  ...        ...   \n",
       "26364  thanos::sroute:e911e081-3350-4a27-b5af-961d893...    Carting   \n",
       "26365  thanos::sroute:e911e081-3350-4a27-b5af-961d893...    Carting   \n",
       "26366  thanos::sroute:e911e081-3350-4a27-b5af-961d893...    Carting   \n",
       "26367  thanos::sroute:e911e081-3350-4a27-b5af-961d893...    Carting   \n",
       "26368  thanos::sroute:f054a348-16d9-4c6c-b70e-548c616...        FTL   \n",
       "\n",
       "                     trip_uuid source_center  \\\n",
       "0      trip-153835211747541776  IND686507AAA   \n",
       "1      trip-153835215185692720  IND845305AAA   \n",
       "2      trip-153835215185692720  IND845401AAA   \n",
       "3      trip-153835223580501120  IND842001AAA   \n",
       "4      trip-153835223580501120  IND848114AAA   \n",
       "...                        ...           ...   \n",
       "26364  trip-153679672155452701  IND691001AAB   \n",
       "26365  trip-153679672155452701  IND691305AAA   \n",
       "26366  trip-153679672155452701  IND691506AAA   \n",
       "26367  trip-153679672155452701  IND691551AAA   \n",
       "26368  trip-153679674733908252  IND575004AAB   \n",
       "\n",
       "                            source_name destination_center  \\\n",
       "0          Parakkdavu_KeRoad_D (Kerala)       IND686513AAA   \n",
       "1             Raxaul_KairiyaT_D (Bihar)       IND842001AAA   \n",
       "2            Motihari_RajaBzr_D (Bihar)       IND845305AAA   \n",
       "3           Muzaffrpur_Bbganj_I (Bihar)       IND848114AAA   \n",
       "4      DalsinghSarai_Wardno13_D (Bihar)       IND848210AAA   \n",
       "...                                 ...                ...   \n",
       "26364       Kollam_Central_H_1 (Kerala)       IND691506AAA   \n",
       "26365       Punalur_PostofJN_D (Kerala)       IND689645AAA   \n",
       "26366  Kottarakkara_Amankovl_D (Kerala)       IND691305AAA   \n",
       "26367             Adoor_Town_D (Kerala)       IND691001AAB   \n",
       "26368  Mangalore_Kuntikna_H (Karnataka)       IND562132AAA   \n",
       "\n",
       "                       destination_name       od_start_time  \\\n",
       "0       Mundakayam_Central_D_1 (Kerala) 2018-01-10 02:10:46   \n",
       "1           Muzaffrpur_Bbganj_I (Bihar) 2018-01-10 06:16:17   \n",
       "2             Raxaul_KairiyaT_D (Bihar) 2018-01-10 03:53:47   \n",
       "3      DalsinghSarai_Wardno13_D (Bihar) 2018-01-10 00:03:55   \n",
       "4              Rusera_Wardno4_D (Bihar) 2018-01-10 02:11:05   \n",
       "...                                 ...                 ...   \n",
       "26364  Kottarakkara_Amankovl_D (Kerala) 2018-12-09 23:58:41   \n",
       "26365    Pthnmthitt_Klskhrpt_D (Kerala) 2018-09-13 02:51:43   \n",
       "26366       Punalur_PostofJN_D (Kerala) 2018-09-13 02:07:04   \n",
       "26367       Kollam_Central_H_1 (Kerala) 2018-09-13 05:20:39   \n",
       "26368  Bangalore_Nelmngla_H (Karnataka) 2018-12-09 23:59:07   \n",
       "\n",
       "              od_end_time  start_scan_to_end_scan  \\\n",
       "0     2018-01-10 02:52:21                    41.0   \n",
       "1     2018-02-10 00:41:58                  1105.0   \n",
       "2     2018-01-10 06:16:17                   142.0   \n",
       "3     2018-01-10 02:11:05                   127.0   \n",
       "4     2018-01-10 03:45:49                    94.0   \n",
       "...                   ...                     ...   \n",
       "26364 2018-09-13 02:07:04                   128.0   \n",
       "26365 2018-09-13 04:02:49                    71.0   \n",
       "26366 2018-09-13 02:51:43                    44.0   \n",
       "26367 2018-09-13 16:08:42                   648.0   \n",
       "26368 2018-09-13 11:53:01                   713.0   \n",
       "\n",
       "       actual_distance_to_destination  actual_time  osrm_time  osrm_distance  \\\n",
       "0                            9.794329         24.0        9.0        12.8871   \n",
       "1                          108.516945        563.0       96.0       135.2561   \n",
       "2                           35.140544         98.0       35.0        48.2993   \n",
       "3                           66.711536        102.0       48.0        68.9694   \n",
       "4                           19.922478         39.0       22.0        21.6634   \n",
       "...                               ...          ...        ...            ...   \n",
       "26364                       20.226251         40.0       27.0        24.6472   \n",
       "26365                       21.911626         57.0       24.0        26.1980   \n",
       "26366                       16.177896         42.0       20.0        18.8517   \n",
       "26367                       32.184676         80.0       40.0        42.2505   \n",
       "26368                      283.297876        590.0      250.0       334.2084   \n",
       "\n",
       "       segment_actual_time  segment_osrm_time  segment_osrm_distance  \n",
       "0                     24.0                9.0                12.8871  \n",
       "1                    560.0              134.0               189.5416  \n",
       "2                     98.0               34.0                48.2993  \n",
       "3                    101.0               47.0                68.9694  \n",
       "4                     39.0               22.0                21.6634  \n",
       "...                    ...                ...                    ...  \n",
       "26364                 39.0               25.0                24.6472  \n",
       "26365                 56.0               23.0                26.1980  \n",
       "26366                 41.0               20.0                18.8517  \n",
       "26367                 78.0               44.0                44.4854  \n",
       "26368                584.0              268.0               361.0364  \n",
       "\n",
       "[26369 rows x 19 columns]"
      ]
     },
     "execution_count": 856,
     "metadata": {},
     "output_type": "execute_result"
    }
   ],
   "source": [
    "df_agg"
   ]
  },
  {
   "cell_type": "code",
   "execution_count": 857,
   "id": "ea087ec1",
   "metadata": {},
   "outputs": [],
   "source": [
    "# #merging the rows based on the trip ID\n",
    "df1 = df_agg.groupby(['data','trip_creation_time','route_schedule_uuid','route_type','trip_uuid'], as_index=False).agg({\n",
    "    'source_center':'first',\n",
    "    'source_name':'first',\n",
    "    'destination_center':'last',\n",
    "    'destination_name':'last',\n",
    "    'od_start_time':'first',\n",
    "    'od_end_time':'last',\n",
    "    'start_scan_to_end_scan':'sum',\n",
    "    \n",
    "    'actual_distance_to_destination':'sum',\n",
    "    'actual_time':'sum','osrm_time':'sum','osrm_distance':'sum',\n",
    "    'segment_actual_time':'sum','segment_osrm_time':'sum','segment_osrm_distance':'sum'})"
   ]
  },
  {
   "cell_type": "code",
   "execution_count": 858,
   "id": "04ac3935",
   "metadata": {},
   "outputs": [
    {
     "data": {
      "text/html": [
       "<div>\n",
       "<style scoped>\n",
       "    .dataframe tbody tr th:only-of-type {\n",
       "        vertical-align: middle;\n",
       "    }\n",
       "\n",
       "    .dataframe tbody tr th {\n",
       "        vertical-align: top;\n",
       "    }\n",
       "\n",
       "    .dataframe thead th {\n",
       "        text-align: right;\n",
       "    }\n",
       "</style>\n",
       "<table border=\"1\" class=\"dataframe\">\n",
       "  <thead>\n",
       "    <tr style=\"text-align: right;\">\n",
       "      <th></th>\n",
       "      <th>data</th>\n",
       "      <th>trip_creation_time</th>\n",
       "      <th>route_schedule_uuid</th>\n",
       "      <th>route_type</th>\n",
       "      <th>trip_uuid</th>\n",
       "      <th>source_center</th>\n",
       "      <th>source_name</th>\n",
       "      <th>destination_center</th>\n",
       "      <th>destination_name</th>\n",
       "      <th>od_start_time</th>\n",
       "      <th>od_end_time</th>\n",
       "      <th>start_scan_to_end_scan</th>\n",
       "      <th>actual_distance_to_destination</th>\n",
       "      <th>actual_time</th>\n",
       "      <th>osrm_time</th>\n",
       "      <th>osrm_distance</th>\n",
       "      <th>segment_actual_time</th>\n",
       "      <th>segment_osrm_time</th>\n",
       "      <th>segment_osrm_distance</th>\n",
       "    </tr>\n",
       "  </thead>\n",
       "  <tbody>\n",
       "    <tr>\n",
       "      <th>0</th>\n",
       "      <td>test</td>\n",
       "      <td>2018-01-10 00:01:57</td>\n",
       "      <td>thanos::sroute:8a57e4e4-7695-41a2-9f6f-4d5eec4...</td>\n",
       "      <td>Carting</td>\n",
       "      <td>trip-153835211747541776</td>\n",
       "      <td>IND686507AAA</td>\n",
       "      <td>Parakkdavu_KeRoad_D (Kerala)</td>\n",
       "      <td>IND686513AAA</td>\n",
       "      <td>Mundakayam_Central_D_1 (Kerala)</td>\n",
       "      <td>2018-01-10 02:10:46</td>\n",
       "      <td>2018-01-10 02:52:21</td>\n",
       "      <td>41.0</td>\n",
       "      <td>9.794329</td>\n",
       "      <td>24.0</td>\n",
       "      <td>9.0</td>\n",
       "      <td>12.8871</td>\n",
       "      <td>24.0</td>\n",
       "      <td>9.0</td>\n",
       "      <td>12.8871</td>\n",
       "    </tr>\n",
       "    <tr>\n",
       "      <th>1</th>\n",
       "      <td>test</td>\n",
       "      <td>2018-01-10 00:02:31</td>\n",
       "      <td>thanos::sroute:883e99fa-50a3-40e0-a2e2-9b12ed6...</td>\n",
       "      <td>FTL</td>\n",
       "      <td>trip-153835215185692720</td>\n",
       "      <td>IND845305AAA</td>\n",
       "      <td>Raxaul_KairiyaT_D (Bihar)</td>\n",
       "      <td>IND845305AAA</td>\n",
       "      <td>Raxaul_KairiyaT_D (Bihar)</td>\n",
       "      <td>2018-01-10 06:16:17</td>\n",
       "      <td>2018-01-10 06:16:17</td>\n",
       "      <td>1247.0</td>\n",
       "      <td>143.657489</td>\n",
       "      <td>661.0</td>\n",
       "      <td>131.0</td>\n",
       "      <td>183.5554</td>\n",
       "      <td>658.0</td>\n",
       "      <td>168.0</td>\n",
       "      <td>237.8409</td>\n",
       "    </tr>\n",
       "    <tr>\n",
       "      <th>2</th>\n",
       "      <td>test</td>\n",
       "      <td>2018-01-10 00:03:55</td>\n",
       "      <td>thanos::sroute:b0529f1a-f51e-40dd-8825-4ee14c0...</td>\n",
       "      <td>FTL</td>\n",
       "      <td>trip-153835223580501120</td>\n",
       "      <td>IND842001AAA</td>\n",
       "      <td>Muzaffrpur_Bbganj_I (Bihar)</td>\n",
       "      <td>IND842001AAA</td>\n",
       "      <td>Muzaffrpur_Bbganj_I (Bihar)</td>\n",
       "      <td>2018-01-10 00:03:55</td>\n",
       "      <td>2018-02-10 01:30:09</td>\n",
       "      <td>1525.0</td>\n",
       "      <td>205.350873</td>\n",
       "      <td>641.0</td>\n",
       "      <td>192.0</td>\n",
       "      <td>229.2224</td>\n",
       "      <td>638.0</td>\n",
       "      <td>190.0</td>\n",
       "      <td>229.3629</td>\n",
       "    </tr>\n",
       "    <tr>\n",
       "      <th>3</th>\n",
       "      <td>test</td>\n",
       "      <td>2018-01-10 00:05:31</td>\n",
       "      <td>thanos::sroute:296fe38c-2038-426c-aea2-1326b15...</td>\n",
       "      <td>Carting</td>\n",
       "      <td>trip-153835233133846197</td>\n",
       "      <td>IND412105AAC</td>\n",
       "      <td>Pune_North_D_3 (Maharashtra)</td>\n",
       "      <td>IND411017AAA</td>\n",
       "      <td>PNQ Rahatani DPC (Maharashtra)</td>\n",
       "      <td>2018-01-10 02:24:24</td>\n",
       "      <td>2018-01-10 03:22:27</td>\n",
       "      <td>58.0</td>\n",
       "      <td>13.512135</td>\n",
       "      <td>38.0</td>\n",
       "      <td>15.0</td>\n",
       "      <td>17.7216</td>\n",
       "      <td>38.0</td>\n",
       "      <td>14.0</td>\n",
       "      <td>17.7216</td>\n",
       "    </tr>\n",
       "    <tr>\n",
       "      <th>4</th>\n",
       "      <td>test</td>\n",
       "      <td>2018-01-10 00:07:29</td>\n",
       "      <td>thanos::sroute:9e13f8b8-837d-4541-8c0e-4475cfa...</td>\n",
       "      <td>Carting</td>\n",
       "      <td>trip-153835244952815095</td>\n",
       "      <td>IND614620AAA</td>\n",
       "      <td>Manamelkudi_TmpleSrt_D (Tamil Nadu)</td>\n",
       "      <td>IND623407AAA</td>\n",
       "      <td>Thiruvadanai_RamnadRD_D (Tamil Nadu)</td>\n",
       "      <td>2018-01-10 04:00:39</td>\n",
       "      <td>2018-01-10 01:49:59</td>\n",
       "      <td>429.0</td>\n",
       "      <td>170.129587</td>\n",
       "      <td>243.0</td>\n",
       "      <td>159.0</td>\n",
       "      <td>202.4085</td>\n",
       "      <td>233.0</td>\n",
       "      <td>150.0</td>\n",
       "      <td>202.4085</td>\n",
       "    </tr>\n",
       "    <tr>\n",
       "      <th>5</th>\n",
       "      <td>test</td>\n",
       "      <td>2018-01-10 00:08:16</td>\n",
       "      <td>thanos::sroute:f5939796-baf7-416c-a712-78414a2...</td>\n",
       "      <td>Carting</td>\n",
       "      <td>trip-153835249695925101</td>\n",
       "      <td>IND121002AAA</td>\n",
       "      <td>Faridabad_Old (Haryana)</td>\n",
       "      <td>IND121002AAA</td>\n",
       "      <td>Faridabad_Old (Haryana)</td>\n",
       "      <td>2018-01-10 01:06:51</td>\n",
       "      <td>2018-01-10 01:06:51</td>\n",
       "      <td>323.0</td>\n",
       "      <td>20.469493</td>\n",
       "      <td>261.0</td>\n",
       "      <td>23.0</td>\n",
       "      <td>21.5885</td>\n",
       "      <td>261.0</td>\n",
       "      <td>23.0</td>\n",
       "      <td>21.5885</td>\n",
       "    </tr>\n",
       "    <tr>\n",
       "      <th>6</th>\n",
       "      <td>test</td>\n",
       "      <td>2018-01-10 00:09:30</td>\n",
       "      <td>thanos::sroute:b62ab3ed-c60b-47d2-8c91-fe62135...</td>\n",
       "      <td>Carting</td>\n",
       "      <td>trip-153835257029474157</td>\n",
       "      <td>IND302014AAB</td>\n",
       "      <td>Jaipur_Central_I_7 (Rajasthan)</td>\n",
       "      <td>IND302014AAB</td>\n",
       "      <td>Jaipur_Central_I_7 (Rajasthan)</td>\n",
       "      <td>2018-01-10 00:09:30</td>\n",
       "      <td>2018-01-10 06:03:02</td>\n",
       "      <td>210.0</td>\n",
       "      <td>24.307909</td>\n",
       "      <td>147.0</td>\n",
       "      <td>28.0</td>\n",
       "      <td>30.9378</td>\n",
       "      <td>146.0</td>\n",
       "      <td>29.0</td>\n",
       "      <td>32.0546</td>\n",
       "    </tr>\n",
       "    <tr>\n",
       "      <th>7</th>\n",
       "      <td>test</td>\n",
       "      <td>2018-01-10 00:09:36</td>\n",
       "      <td>thanos::sroute:c5f2ba2c-8486-4940-8af6-d1d2a6a...</td>\n",
       "      <td>Carting</td>\n",
       "      <td>trip-153835257607005165</td>\n",
       "      <td>IND627005AAA</td>\n",
       "      <td>Tirunelveli_VdkkuSrt_I (Tamil Nadu)</td>\n",
       "      <td>IND628204AAA</td>\n",
       "      <td>Tirchchndr_Shnmgprm_D (Tamil Nadu)</td>\n",
       "      <td>2018-01-10 00:09:36</td>\n",
       "      <td>2018-01-10 02:25:56</td>\n",
       "      <td>375.0</td>\n",
       "      <td>135.791411</td>\n",
       "      <td>257.0</td>\n",
       "      <td>181.0</td>\n",
       "      <td>172.3191</td>\n",
       "      <td>249.0</td>\n",
       "      <td>216.0</td>\n",
       "      <td>219.2847</td>\n",
       "    </tr>\n",
       "    <tr>\n",
       "      <th>8</th>\n",
       "      <td>test</td>\n",
       "      <td>2018-01-10 00:10:07</td>\n",
       "      <td>thanos::sroute:a97698cc-846e-41a7-916b-88b1741...</td>\n",
       "      <td>Carting</td>\n",
       "      <td>trip-153835260728391532</td>\n",
       "      <td>IND600044AAD</td>\n",
       "      <td>Chennai_Chrompet_DPC (Tamil Nadu)</td>\n",
       "      <td>IND600048AAA</td>\n",
       "      <td>Chennai_Vandalur_Dc (Tamil Nadu)</td>\n",
       "      <td>2018-01-10 00:10:07</td>\n",
       "      <td>2018-01-10 01:30:30</td>\n",
       "      <td>80.0</td>\n",
       "      <td>9.058815</td>\n",
       "      <td>18.0</td>\n",
       "      <td>10.0</td>\n",
       "      <td>11.1524</td>\n",
       "      <td>18.0</td>\n",
       "      <td>10.0</td>\n",
       "      <td>11.1524</td>\n",
       "    </tr>\n",
       "    <tr>\n",
       "      <th>9</th>\n",
       "      <td>test</td>\n",
       "      <td>2018-01-10 00:10:32</td>\n",
       "      <td>thanos::sroute:2b217b8b-1ceb-45f8-a03a-08952fc...</td>\n",
       "      <td>Carting</td>\n",
       "      <td>trip-153835263294869032</td>\n",
       "      <td>IND413002AAA</td>\n",
       "      <td>Solapur_Central_I_2 (Maharashtra)</td>\n",
       "      <td>IND413307AAB</td>\n",
       "      <td>Sangola_Central_DPP_2 (Maharashtra)</td>\n",
       "      <td>2018-01-10 00:10:32</td>\n",
       "      <td>2018-01-10 05:27:05</td>\n",
       "      <td>315.0</td>\n",
       "      <td>138.082289</td>\n",
       "      <td>249.0</td>\n",
       "      <td>140.0</td>\n",
       "      <td>166.0860</td>\n",
       "      <td>244.0</td>\n",
       "      <td>133.0</td>\n",
       "      <td>166.0858</td>\n",
       "    </tr>\n",
       "  </tbody>\n",
       "</table>\n",
       "</div>"
      ],
      "text/plain": [
       "   data  trip_creation_time  \\\n",
       "0  test 2018-01-10 00:01:57   \n",
       "1  test 2018-01-10 00:02:31   \n",
       "2  test 2018-01-10 00:03:55   \n",
       "3  test 2018-01-10 00:05:31   \n",
       "4  test 2018-01-10 00:07:29   \n",
       "5  test 2018-01-10 00:08:16   \n",
       "6  test 2018-01-10 00:09:30   \n",
       "7  test 2018-01-10 00:09:36   \n",
       "8  test 2018-01-10 00:10:07   \n",
       "9  test 2018-01-10 00:10:32   \n",
       "\n",
       "                                 route_schedule_uuid route_type  \\\n",
       "0  thanos::sroute:8a57e4e4-7695-41a2-9f6f-4d5eec4...    Carting   \n",
       "1  thanos::sroute:883e99fa-50a3-40e0-a2e2-9b12ed6...        FTL   \n",
       "2  thanos::sroute:b0529f1a-f51e-40dd-8825-4ee14c0...        FTL   \n",
       "3  thanos::sroute:296fe38c-2038-426c-aea2-1326b15...    Carting   \n",
       "4  thanos::sroute:9e13f8b8-837d-4541-8c0e-4475cfa...    Carting   \n",
       "5  thanos::sroute:f5939796-baf7-416c-a712-78414a2...    Carting   \n",
       "6  thanos::sroute:b62ab3ed-c60b-47d2-8c91-fe62135...    Carting   \n",
       "7  thanos::sroute:c5f2ba2c-8486-4940-8af6-d1d2a6a...    Carting   \n",
       "8  thanos::sroute:a97698cc-846e-41a7-916b-88b1741...    Carting   \n",
       "9  thanos::sroute:2b217b8b-1ceb-45f8-a03a-08952fc...    Carting   \n",
       "\n",
       "                 trip_uuid source_center                          source_name  \\\n",
       "0  trip-153835211747541776  IND686507AAA         Parakkdavu_KeRoad_D (Kerala)   \n",
       "1  trip-153835215185692720  IND845305AAA            Raxaul_KairiyaT_D (Bihar)   \n",
       "2  trip-153835223580501120  IND842001AAA          Muzaffrpur_Bbganj_I (Bihar)   \n",
       "3  trip-153835233133846197  IND412105AAC         Pune_North_D_3 (Maharashtra)   \n",
       "4  trip-153835244952815095  IND614620AAA  Manamelkudi_TmpleSrt_D (Tamil Nadu)   \n",
       "5  trip-153835249695925101  IND121002AAA              Faridabad_Old (Haryana)   \n",
       "6  trip-153835257029474157  IND302014AAB       Jaipur_Central_I_7 (Rajasthan)   \n",
       "7  trip-153835257607005165  IND627005AAA  Tirunelveli_VdkkuSrt_I (Tamil Nadu)   \n",
       "8  trip-153835260728391532  IND600044AAD    Chennai_Chrompet_DPC (Tamil Nadu)   \n",
       "9  trip-153835263294869032  IND413002AAA    Solapur_Central_I_2 (Maharashtra)   \n",
       "\n",
       "  destination_center                      destination_name  \\\n",
       "0       IND686513AAA       Mundakayam_Central_D_1 (Kerala)   \n",
       "1       IND845305AAA             Raxaul_KairiyaT_D (Bihar)   \n",
       "2       IND842001AAA           Muzaffrpur_Bbganj_I (Bihar)   \n",
       "3       IND411017AAA        PNQ Rahatani DPC (Maharashtra)   \n",
       "4       IND623407AAA  Thiruvadanai_RamnadRD_D (Tamil Nadu)   \n",
       "5       IND121002AAA               Faridabad_Old (Haryana)   \n",
       "6       IND302014AAB        Jaipur_Central_I_7 (Rajasthan)   \n",
       "7       IND628204AAA    Tirchchndr_Shnmgprm_D (Tamil Nadu)   \n",
       "8       IND600048AAA      Chennai_Vandalur_Dc (Tamil Nadu)   \n",
       "9       IND413307AAB   Sangola_Central_DPP_2 (Maharashtra)   \n",
       "\n",
       "        od_start_time         od_end_time  start_scan_to_end_scan  \\\n",
       "0 2018-01-10 02:10:46 2018-01-10 02:52:21                    41.0   \n",
       "1 2018-01-10 06:16:17 2018-01-10 06:16:17                  1247.0   \n",
       "2 2018-01-10 00:03:55 2018-02-10 01:30:09                  1525.0   \n",
       "3 2018-01-10 02:24:24 2018-01-10 03:22:27                    58.0   \n",
       "4 2018-01-10 04:00:39 2018-01-10 01:49:59                   429.0   \n",
       "5 2018-01-10 01:06:51 2018-01-10 01:06:51                   323.0   \n",
       "6 2018-01-10 00:09:30 2018-01-10 06:03:02                   210.0   \n",
       "7 2018-01-10 00:09:36 2018-01-10 02:25:56                   375.0   \n",
       "8 2018-01-10 00:10:07 2018-01-10 01:30:30                    80.0   \n",
       "9 2018-01-10 00:10:32 2018-01-10 05:27:05                   315.0   \n",
       "\n",
       "   actual_distance_to_destination  actual_time  osrm_time  osrm_distance  \\\n",
       "0                        9.794329         24.0        9.0        12.8871   \n",
       "1                      143.657489        661.0      131.0       183.5554   \n",
       "2                      205.350873        641.0      192.0       229.2224   \n",
       "3                       13.512135         38.0       15.0        17.7216   \n",
       "4                      170.129587        243.0      159.0       202.4085   \n",
       "5                       20.469493        261.0       23.0        21.5885   \n",
       "6                       24.307909        147.0       28.0        30.9378   \n",
       "7                      135.791411        257.0      181.0       172.3191   \n",
       "8                        9.058815         18.0       10.0        11.1524   \n",
       "9                      138.082289        249.0      140.0       166.0860   \n",
       "\n",
       "   segment_actual_time  segment_osrm_time  segment_osrm_distance  \n",
       "0                 24.0                9.0                12.8871  \n",
       "1                658.0              168.0               237.8409  \n",
       "2                638.0              190.0               229.3629  \n",
       "3                 38.0               14.0                17.7216  \n",
       "4                233.0              150.0               202.4085  \n",
       "5                261.0               23.0                21.5885  \n",
       "6                146.0               29.0                32.0546  \n",
       "7                249.0              216.0               219.2847  \n",
       "8                 18.0               10.0                11.1524  \n",
       "9                244.0              133.0               166.0858  "
      ]
     },
     "execution_count": 858,
     "metadata": {},
     "output_type": "execute_result"
    }
   ],
   "source": [
    "#checking and reconfirming if the merging is done as per the requirement\n",
    "df1.head(10)"
   ]
  },
  {
   "cell_type": "code",
   "execution_count": 859,
   "id": "75739f7d",
   "metadata": {},
   "outputs": [
    {
     "data": {
      "text/plain": [
       "(14817, 19)"
      ]
     },
     "execution_count": 859,
     "metadata": {},
     "output_type": "execute_result"
    }
   ],
   "source": [
    "#count of new data after merging the rows\n",
    "df1.shape"
   ]
  },
  {
   "cell_type": "code",
   "execution_count": 860,
   "id": "863c3c41",
   "metadata": {},
   "outputs": [
    {
     "data": {
      "text/html": [
       "<div>\n",
       "<style scoped>\n",
       "    .dataframe tbody tr th:only-of-type {\n",
       "        vertical-align: middle;\n",
       "    }\n",
       "\n",
       "    .dataframe tbody tr th {\n",
       "        vertical-align: top;\n",
       "    }\n",
       "\n",
       "    .dataframe thead th {\n",
       "        text-align: right;\n",
       "    }\n",
       "</style>\n",
       "<table border=\"1\" class=\"dataframe\">\n",
       "  <thead>\n",
       "    <tr style=\"text-align: right;\">\n",
       "      <th></th>\n",
       "      <th>start_scan_to_end_scan</th>\n",
       "      <th>actual_distance_to_destination</th>\n",
       "      <th>actual_time</th>\n",
       "      <th>osrm_time</th>\n",
       "      <th>osrm_distance</th>\n",
       "      <th>segment_actual_time</th>\n",
       "      <th>segment_osrm_time</th>\n",
       "      <th>segment_osrm_distance</th>\n",
       "    </tr>\n",
       "  </thead>\n",
       "  <tbody>\n",
       "    <tr>\n",
       "      <th>count</th>\n",
       "      <td>14817.000000</td>\n",
       "      <td>14817.000000</td>\n",
       "      <td>14817.000000</td>\n",
       "      <td>14817.000000</td>\n",
       "      <td>14817.000000</td>\n",
       "      <td>14817.000000</td>\n",
       "      <td>14817.000000</td>\n",
       "      <td>14817.000000</td>\n",
       "    </tr>\n",
       "    <tr>\n",
       "      <th>mean</th>\n",
       "      <td>530.823716</td>\n",
       "      <td>164.480252</td>\n",
       "      <td>357.153945</td>\n",
       "      <td>161.385908</td>\n",
       "      <td>204.347249</td>\n",
       "      <td>353.892286</td>\n",
       "      <td>180.949787</td>\n",
       "      <td>223.201161</td>\n",
       "    </tr>\n",
       "    <tr>\n",
       "      <th>std</th>\n",
       "      <td>658.737462</td>\n",
       "      <td>305.388492</td>\n",
       "      <td>561.406220</td>\n",
       "      <td>271.361145</td>\n",
       "      <td>370.395749</td>\n",
       "      <td>556.247965</td>\n",
       "      <td>314.542047</td>\n",
       "      <td>416.628374</td>\n",
       "    </tr>\n",
       "    <tr>\n",
       "      <th>min</th>\n",
       "      <td>23.000000</td>\n",
       "      <td>9.002461</td>\n",
       "      <td>9.000000</td>\n",
       "      <td>6.000000</td>\n",
       "      <td>9.072900</td>\n",
       "      <td>9.000000</td>\n",
       "      <td>6.000000</td>\n",
       "      <td>9.072900</td>\n",
       "    </tr>\n",
       "    <tr>\n",
       "      <th>25%</th>\n",
       "      <td>149.000000</td>\n",
       "      <td>22.837239</td>\n",
       "      <td>67.000000</td>\n",
       "      <td>29.000000</td>\n",
       "      <td>30.819200</td>\n",
       "      <td>66.000000</td>\n",
       "      <td>31.000000</td>\n",
       "      <td>32.654500</td>\n",
       "    </tr>\n",
       "    <tr>\n",
       "      <th>50%</th>\n",
       "      <td>280.000000</td>\n",
       "      <td>48.474072</td>\n",
       "      <td>149.000000</td>\n",
       "      <td>60.000000</td>\n",
       "      <td>65.618800</td>\n",
       "      <td>147.000000</td>\n",
       "      <td>65.000000</td>\n",
       "      <td>70.154400</td>\n",
       "    </tr>\n",
       "    <tr>\n",
       "      <th>75%</th>\n",
       "      <td>637.000000</td>\n",
       "      <td>164.583208</td>\n",
       "      <td>370.000000</td>\n",
       "      <td>168.000000</td>\n",
       "      <td>208.475000</td>\n",
       "      <td>367.000000</td>\n",
       "      <td>185.000000</td>\n",
       "      <td>218.802400</td>\n",
       "    </tr>\n",
       "    <tr>\n",
       "      <th>max</th>\n",
       "      <td>7898.000000</td>\n",
       "      <td>2186.531787</td>\n",
       "      <td>6265.000000</td>\n",
       "      <td>2032.000000</td>\n",
       "      <td>2840.081000</td>\n",
       "      <td>6230.000000</td>\n",
       "      <td>2564.000000</td>\n",
       "      <td>3523.632400</td>\n",
       "    </tr>\n",
       "  </tbody>\n",
       "</table>\n",
       "</div>"
      ],
      "text/plain": [
       "       start_scan_to_end_scan  actual_distance_to_destination   actual_time  \\\n",
       "count            14817.000000                    14817.000000  14817.000000   \n",
       "mean               530.823716                      164.480252    357.153945   \n",
       "std                658.737462                      305.388492    561.406220   \n",
       "min                 23.000000                        9.002461      9.000000   \n",
       "25%                149.000000                       22.837239     67.000000   \n",
       "50%                280.000000                       48.474072    149.000000   \n",
       "75%                637.000000                      164.583208    370.000000   \n",
       "max               7898.000000                     2186.531787   6265.000000   \n",
       "\n",
       "          osrm_time  osrm_distance  segment_actual_time  segment_osrm_time  \\\n",
       "count  14817.000000   14817.000000         14817.000000       14817.000000   \n",
       "mean     161.385908     204.347249           353.892286         180.949787   \n",
       "std      271.361145     370.395749           556.247965         314.542047   \n",
       "min        6.000000       9.072900             9.000000           6.000000   \n",
       "25%       29.000000      30.819200            66.000000          31.000000   \n",
       "50%       60.000000      65.618800           147.000000          65.000000   \n",
       "75%      168.000000     208.475000           367.000000         185.000000   \n",
       "max     2032.000000    2840.081000          6230.000000        2564.000000   \n",
       "\n",
       "       segment_osrm_distance  \n",
       "count           14817.000000  \n",
       "mean              223.201161  \n",
       "std               416.628374  \n",
       "min                 9.072900  \n",
       "25%                32.654500  \n",
       "50%                70.154400  \n",
       "75%               218.802400  \n",
       "max              3523.632400  "
      ]
     },
     "execution_count": 860,
     "metadata": {},
     "output_type": "execute_result"
    }
   ],
   "source": [
    "#final data's (after cleaning and merging the rows) statistical summary\n",
    "df1.describe()"
   ]
  },
  {
   "cell_type": "code",
   "execution_count": 861,
   "id": "67896c44",
   "metadata": {},
   "outputs": [
    {
     "data": {
      "text/plain": [
       "False    14817\n",
       "dtype: int64"
      ]
     },
     "execution_count": 861,
     "metadata": {},
     "output_type": "execute_result"
    }
   ],
   "source": [
    "#checking if any duplicated rows in the final data\n",
    "df1.duplicated().value_counts()"
   ]
  },
  {
   "cell_type": "code",
   "execution_count": 862,
   "id": "935e5432",
   "metadata": {},
   "outputs": [
    {
     "data": {
      "text/plain": [
       "data                              0\n",
       "trip_creation_time                0\n",
       "route_schedule_uuid               0\n",
       "route_type                        0\n",
       "trip_uuid                         0\n",
       "source_center                     0\n",
       "source_name                       0\n",
       "destination_center                0\n",
       "destination_name                  0\n",
       "od_start_time                     0\n",
       "od_end_time                       0\n",
       "start_scan_to_end_scan            0\n",
       "actual_distance_to_destination    0\n",
       "actual_time                       0\n",
       "osrm_time                         0\n",
       "osrm_distance                     0\n",
       "segment_actual_time               0\n",
       "segment_osrm_time                 0\n",
       "segment_osrm_distance             0\n",
       "dtype: int64"
      ]
     },
     "execution_count": 862,
     "metadata": {},
     "output_type": "execute_result"
    }
   ],
   "source": [
    "df1.isnull().sum()"
   ]
  },
  {
   "cell_type": "markdown",
   "id": "914000e5",
   "metadata": {},
   "source": [
    "## `New Features:`"
   ]
  },
  {
   "cell_type": "markdown",
   "id": "65aeca9e",
   "metadata": {},
   "source": [
    "## `Feature 1:`\n",
    "### <span style=\"color:green\">**Day, Month and Year from Trip creation timestamp**</span>"
   ]
  },
  {
   "cell_type": "code",
   "execution_count": 863,
   "id": "b071557a",
   "metadata": {},
   "outputs": [],
   "source": [
    "# new features for month, year, day of week the trip is created\n",
    "df1[\"day_trip_creation\"] = df1['trip_creation_time'].dt.day_name()\n",
    "df1[\"month_trip_creation\"] = df1['trip_creation_time'].dt.month\n",
    "df1[\"year_trip_creation\"] = df1['trip_creation_time'].dt.year"
   ]
  },
  {
   "cell_type": "code",
   "execution_count": 865,
   "id": "14d57ab8",
   "metadata": {},
   "outputs": [
    {
     "data": {
      "text/plain": [
       "Index(['data', 'trip_creation_time', 'route_schedule_uuid', 'route_type',\n",
       "       'trip_uuid', 'source_center', 'source_name', 'destination_center',\n",
       "       'destination_name', 'od_start_time', 'od_end_time',\n",
       "       'start_scan_to_end_scan', 'actual_distance_to_destination',\n",
       "       'actual_time', 'osrm_time', 'osrm_distance', 'segment_actual_time',\n",
       "       'segment_osrm_time', 'segment_osrm_distance', 'day_trip_creation',\n",
       "       'month_trip_creation', 'year_trip_creation'],\n",
       "      dtype='object')"
      ]
     },
     "execution_count": 865,
     "metadata": {},
     "output_type": "execute_result"
    }
   ],
   "source": [
    "#columns names defined for futher use to avoid any string mistake\n",
    "df1.columns"
   ]
  },
  {
   "cell_type": "markdown",
   "id": "25806e38",
   "metadata": {},
   "source": [
    "## `Feature 2:`\n",
    "### <span style=\"color:green\">**Split the Source and Destination:** City, place, city code and State</span>"
   ]
  },
  {
   "cell_type": "code",
   "execution_count": 866,
   "id": "3936f596",
   "metadata": {},
   "outputs": [],
   "source": [
    "#split the state first then with the help of \"-\" split the remaining string into 3 columns. \n",
    "df2 = df1[\"source_name\"].str.split(\"(\",n = 1, expand = True)\n",
    "df1[\"source_state\"] = df2[1]\n",
    "source = df2[0].str.split(\"_\",n=2,expand = True) \n",
    "df1[\"source_city\"] = source[0]\n",
    "df1[\"source_place\"] = source[1]\n",
    "df1[\"source_city_code\"] = source[2]"
   ]
  },
  {
   "cell_type": "code",
   "execution_count": 867,
   "id": "ae8a6877",
   "metadata": {},
   "outputs": [],
   "source": [
    "#split the state first then with the help of \"-\" split the remaining string into 3 columns. \n",
    "df4 = df1[\"destination_name\"].str.split(\"(\",n=1,expand = True)\n",
    "df1[\"destination_state\"] = df4[1]\n",
    "destination = df4[0].str.split(\"_\",n=2,expand = True)\n",
    "df1[\"destination_city\"] = destination[0]\n",
    "df1[\"destination_place\"] = destination[1]\n",
    "df1[\"destination_city_code\"] = destination[2]"
   ]
  },
  {
   "cell_type": "code",
   "execution_count": 868,
   "id": "c1b41ad3",
   "metadata": {},
   "outputs": [],
   "source": [
    "df1[\"source_state\"] = df1[\"source_state\"].str.strip(\")\")\n",
    "df1[\"destination_state\"] =  df1[\"destination_state\"].str.strip(\")\")"
   ]
  },
  {
   "cell_type": "code",
   "execution_count": 869,
   "id": "a44a472b",
   "metadata": {},
   "outputs": [],
   "source": [
    "#dropped the source_name and destination_name\n",
    "df1.drop([\"source_name\",\"destination_name\"],axis = 1, inplace = True)"
   ]
  },
  {
   "cell_type": "markdown",
   "id": "0a4cfca2",
   "metadata": {},
   "source": [
    "## `Feature 3:`\n",
    "### <span style=\"color:green\">**The Total Trip time taken from start to end time of scan.**</span>"
   ]
  },
  {
   "cell_type": "code",
   "execution_count": 870,
   "id": "3bd4f429",
   "metadata": {},
   "outputs": [],
   "source": [
    "#difference in endtime and start time to get the total trip time\n",
    "df1['od_time_diff'] = abs(round((df1.od_end_time - df1.od_start_time) / pd.Timedelta(minutes=1), 0))"
   ]
  },
  {
   "cell_type": "code",
   "execution_count": 871,
   "id": "e5ea4285",
   "metadata": {},
   "outputs": [
    {
     "data": {
      "text/html": [
       "<div>\n",
       "<style scoped>\n",
       "    .dataframe tbody tr th:only-of-type {\n",
       "        vertical-align: middle;\n",
       "    }\n",
       "\n",
       "    .dataframe tbody tr th {\n",
       "        vertical-align: top;\n",
       "    }\n",
       "\n",
       "    .dataframe thead th {\n",
       "        text-align: right;\n",
       "    }\n",
       "</style>\n",
       "<table border=\"1\" class=\"dataframe\">\n",
       "  <thead>\n",
       "    <tr style=\"text-align: right;\">\n",
       "      <th></th>\n",
       "      <th>data</th>\n",
       "      <th>trip_creation_time</th>\n",
       "      <th>route_schedule_uuid</th>\n",
       "      <th>route_type</th>\n",
       "      <th>trip_uuid</th>\n",
       "      <th>source_center</th>\n",
       "      <th>destination_center</th>\n",
       "      <th>od_start_time</th>\n",
       "      <th>od_end_time</th>\n",
       "      <th>start_scan_to_end_scan</th>\n",
       "      <th>...</th>\n",
       "      <th>year_trip_creation</th>\n",
       "      <th>source_state</th>\n",
       "      <th>source_city</th>\n",
       "      <th>source_place</th>\n",
       "      <th>source_city_code</th>\n",
       "      <th>destination_state</th>\n",
       "      <th>destination_city</th>\n",
       "      <th>destination_place</th>\n",
       "      <th>destination_city_code</th>\n",
       "      <th>od_time_diff</th>\n",
       "    </tr>\n",
       "  </thead>\n",
       "  <tbody>\n",
       "    <tr>\n",
       "      <th>0</th>\n",
       "      <td>test</td>\n",
       "      <td>2018-01-10 00:01:57</td>\n",
       "      <td>thanos::sroute:8a57e4e4-7695-41a2-9f6f-4d5eec4...</td>\n",
       "      <td>Carting</td>\n",
       "      <td>trip-153835211747541776</td>\n",
       "      <td>IND686507AAA</td>\n",
       "      <td>IND686513AAA</td>\n",
       "      <td>2018-01-10 02:10:46</td>\n",
       "      <td>2018-01-10 02:52:21</td>\n",
       "      <td>41.0</td>\n",
       "      <td>...</td>\n",
       "      <td>2018</td>\n",
       "      <td>Kerala</td>\n",
       "      <td>Parakkdavu</td>\n",
       "      <td>KeRoad</td>\n",
       "      <td>D</td>\n",
       "      <td>Kerala</td>\n",
       "      <td>Mundakayam</td>\n",
       "      <td>Central</td>\n",
       "      <td>D_1</td>\n",
       "      <td>42.0</td>\n",
       "    </tr>\n",
       "    <tr>\n",
       "      <th>1</th>\n",
       "      <td>test</td>\n",
       "      <td>2018-01-10 00:02:31</td>\n",
       "      <td>thanos::sroute:883e99fa-50a3-40e0-a2e2-9b12ed6...</td>\n",
       "      <td>FTL</td>\n",
       "      <td>trip-153835215185692720</td>\n",
       "      <td>IND845305AAA</td>\n",
       "      <td>IND845305AAA</td>\n",
       "      <td>2018-01-10 06:16:17</td>\n",
       "      <td>2018-01-10 06:16:17</td>\n",
       "      <td>1247.0</td>\n",
       "      <td>...</td>\n",
       "      <td>2018</td>\n",
       "      <td>Bihar</td>\n",
       "      <td>Raxaul</td>\n",
       "      <td>KairiyaT</td>\n",
       "      <td>D</td>\n",
       "      <td>Bihar</td>\n",
       "      <td>Raxaul</td>\n",
       "      <td>KairiyaT</td>\n",
       "      <td>D</td>\n",
       "      <td>0.0</td>\n",
       "    </tr>\n",
       "    <tr>\n",
       "      <th>2</th>\n",
       "      <td>test</td>\n",
       "      <td>2018-01-10 00:03:55</td>\n",
       "      <td>thanos::sroute:b0529f1a-f51e-40dd-8825-4ee14c0...</td>\n",
       "      <td>FTL</td>\n",
       "      <td>trip-153835223580501120</td>\n",
       "      <td>IND842001AAA</td>\n",
       "      <td>IND842001AAA</td>\n",
       "      <td>2018-01-10 00:03:55</td>\n",
       "      <td>2018-02-10 01:30:09</td>\n",
       "      <td>1525.0</td>\n",
       "      <td>...</td>\n",
       "      <td>2018</td>\n",
       "      <td>Bihar</td>\n",
       "      <td>Muzaffrpur</td>\n",
       "      <td>Bbganj</td>\n",
       "      <td>I</td>\n",
       "      <td>Bihar</td>\n",
       "      <td>Muzaffrpur</td>\n",
       "      <td>Bbganj</td>\n",
       "      <td>I</td>\n",
       "      <td>44726.0</td>\n",
       "    </tr>\n",
       "    <tr>\n",
       "      <th>3</th>\n",
       "      <td>test</td>\n",
       "      <td>2018-01-10 00:05:31</td>\n",
       "      <td>thanos::sroute:296fe38c-2038-426c-aea2-1326b15...</td>\n",
       "      <td>Carting</td>\n",
       "      <td>trip-153835233133846197</td>\n",
       "      <td>IND412105AAC</td>\n",
       "      <td>IND411017AAA</td>\n",
       "      <td>2018-01-10 02:24:24</td>\n",
       "      <td>2018-01-10 03:22:27</td>\n",
       "      <td>58.0</td>\n",
       "      <td>...</td>\n",
       "      <td>2018</td>\n",
       "      <td>Maharashtra</td>\n",
       "      <td>Pune</td>\n",
       "      <td>North</td>\n",
       "      <td>D_3</td>\n",
       "      <td>Maharashtra</td>\n",
       "      <td>PNQ Rahatani DPC</td>\n",
       "      <td>None</td>\n",
       "      <td>None</td>\n",
       "      <td>58.0</td>\n",
       "    </tr>\n",
       "    <tr>\n",
       "      <th>4</th>\n",
       "      <td>test</td>\n",
       "      <td>2018-01-10 00:07:29</td>\n",
       "      <td>thanos::sroute:9e13f8b8-837d-4541-8c0e-4475cfa...</td>\n",
       "      <td>Carting</td>\n",
       "      <td>trip-153835244952815095</td>\n",
       "      <td>IND614620AAA</td>\n",
       "      <td>IND623407AAA</td>\n",
       "      <td>2018-01-10 04:00:39</td>\n",
       "      <td>2018-01-10 01:49:59</td>\n",
       "      <td>429.0</td>\n",
       "      <td>...</td>\n",
       "      <td>2018</td>\n",
       "      <td>Tamil Nadu</td>\n",
       "      <td>Manamelkudi</td>\n",
       "      <td>TmpleSrt</td>\n",
       "      <td>D</td>\n",
       "      <td>Tamil Nadu</td>\n",
       "      <td>Thiruvadanai</td>\n",
       "      <td>RamnadRD</td>\n",
       "      <td>D</td>\n",
       "      <td>131.0</td>\n",
       "    </tr>\n",
       "    <tr>\n",
       "      <th>...</th>\n",
       "      <td>...</td>\n",
       "      <td>...</td>\n",
       "      <td>...</td>\n",
       "      <td>...</td>\n",
       "      <td>...</td>\n",
       "      <td>...</td>\n",
       "      <td>...</td>\n",
       "      <td>...</td>\n",
       "      <td>...</td>\n",
       "      <td>...</td>\n",
       "      <td>...</td>\n",
       "      <td>...</td>\n",
       "      <td>...</td>\n",
       "      <td>...</td>\n",
       "      <td>...</td>\n",
       "      <td>...</td>\n",
       "      <td>...</td>\n",
       "      <td>...</td>\n",
       "      <td>...</td>\n",
       "      <td>...</td>\n",
       "      <td>...</td>\n",
       "    </tr>\n",
       "    <tr>\n",
       "      <th>14812</th>\n",
       "      <td>training</td>\n",
       "      <td>2018-12-09 23:56:25</td>\n",
       "      <td>thanos::sroute:c1cc5ee0-efa2-4d88-b302-88b6f94...</td>\n",
       "      <td>Carting</td>\n",
       "      <td>trip-153679658502528368</td>\n",
       "      <td>IND751015AAA</td>\n",
       "      <td>IND751002AAB</td>\n",
       "      <td>2018-09-13 01:48:36</td>\n",
       "      <td>2018-09-13 04:45:27</td>\n",
       "      <td>131.0</td>\n",
       "      <td>...</td>\n",
       "      <td>2018</td>\n",
       "      <td>Orissa</td>\n",
       "      <td>Bhubaneshwar</td>\n",
       "      <td>Nayapalli</td>\n",
       "      <td>None</td>\n",
       "      <td>Orissa</td>\n",
       "      <td>Bhubaneshwar</td>\n",
       "      <td>Hub</td>\n",
       "      <td>None</td>\n",
       "      <td>177.0</td>\n",
       "    </tr>\n",
       "    <tr>\n",
       "      <th>14813</th>\n",
       "      <td>training</td>\n",
       "      <td>2018-12-09 23:57:29</td>\n",
       "      <td>thanos::sroute:fd6040f0-d112-4248-8364-a08da1e...</td>\n",
       "      <td>Carting</td>\n",
       "      <td>trip-153679664912667414</td>\n",
       "      <td>IND560099AAB</td>\n",
       "      <td>IND560300AAA</td>\n",
       "      <td>2018-12-09 23:57:29</td>\n",
       "      <td>2018-09-13 02:26:48</td>\n",
       "      <td>149.0</td>\n",
       "      <td>...</td>\n",
       "      <td>2018</td>\n",
       "      <td>Karnataka</td>\n",
       "      <td>Bengaluru</td>\n",
       "      <td>Bomsndra</td>\n",
       "      <td>HB</td>\n",
       "      <td>Karnataka</td>\n",
       "      <td>Bengaluru</td>\n",
       "      <td>KGAirprt</td>\n",
       "      <td>HB</td>\n",
       "      <td>126571.0</td>\n",
       "    </tr>\n",
       "    <tr>\n",
       "      <th>14814</th>\n",
       "      <td>training</td>\n",
       "      <td>2018-12-09 23:58:15</td>\n",
       "      <td>thanos::sroute:02d1583b-3d43-496f-9081-354d936...</td>\n",
       "      <td>FTL</td>\n",
       "      <td>trip-153679669508452551</td>\n",
       "      <td>IND000000ACA</td>\n",
       "      <td>IND000000ACA</td>\n",
       "      <td>2018-12-09 23:58:15</td>\n",
       "      <td>2018-09-13 06:55:49</td>\n",
       "      <td>371.0</td>\n",
       "      <td>...</td>\n",
       "      <td>2018</td>\n",
       "      <td>Punjab</td>\n",
       "      <td>Ludhiana</td>\n",
       "      <td>MilrGanj</td>\n",
       "      <td>HB</td>\n",
       "      <td>Punjab</td>\n",
       "      <td>Ludhiana</td>\n",
       "      <td>MilrGanj</td>\n",
       "      <td>HB</td>\n",
       "      <td>126302.0</td>\n",
       "    </tr>\n",
       "    <tr>\n",
       "      <th>14815</th>\n",
       "      <td>training</td>\n",
       "      <td>2018-12-09 23:58:41</td>\n",
       "      <td>thanos::sroute:e911e081-3350-4a27-b5af-961d893...</td>\n",
       "      <td>Carting</td>\n",
       "      <td>trip-153679672155452701</td>\n",
       "      <td>IND689645AAA</td>\n",
       "      <td>IND691001AAB</td>\n",
       "      <td>2018-09-13 04:02:49</td>\n",
       "      <td>2018-09-13 16:08:42</td>\n",
       "      <td>968.0</td>\n",
       "      <td>...</td>\n",
       "      <td>2018</td>\n",
       "      <td>Kerala</td>\n",
       "      <td>Pthnmthitt</td>\n",
       "      <td>Klskhrpt</td>\n",
       "      <td>D</td>\n",
       "      <td>Kerala</td>\n",
       "      <td>Kollam</td>\n",
       "      <td>Central</td>\n",
       "      <td>H_1</td>\n",
       "      <td>726.0</td>\n",
       "    </tr>\n",
       "    <tr>\n",
       "      <th>14816</th>\n",
       "      <td>training</td>\n",
       "      <td>2018-12-09 23:59:07</td>\n",
       "      <td>thanos::sroute:f054a348-16d9-4c6c-b70e-548c616...</td>\n",
       "      <td>FTL</td>\n",
       "      <td>trip-153679674733908252</td>\n",
       "      <td>IND575004AAB</td>\n",
       "      <td>IND562132AAA</td>\n",
       "      <td>2018-12-09 23:59:07</td>\n",
       "      <td>2018-09-13 11:53:01</td>\n",
       "      <td>713.0</td>\n",
       "      <td>...</td>\n",
       "      <td>2018</td>\n",
       "      <td>Karnataka</td>\n",
       "      <td>Mangalore</td>\n",
       "      <td>Kuntikna</td>\n",
       "      <td>H</td>\n",
       "      <td>Karnataka</td>\n",
       "      <td>Bangalore</td>\n",
       "      <td>Nelmngla</td>\n",
       "      <td>H</td>\n",
       "      <td>126006.0</td>\n",
       "    </tr>\n",
       "  </tbody>\n",
       "</table>\n",
       "<p>14817 rows × 29 columns</p>\n",
       "</div>"
      ],
      "text/plain": [
       "           data  trip_creation_time  \\\n",
       "0          test 2018-01-10 00:01:57   \n",
       "1          test 2018-01-10 00:02:31   \n",
       "2          test 2018-01-10 00:03:55   \n",
       "3          test 2018-01-10 00:05:31   \n",
       "4          test 2018-01-10 00:07:29   \n",
       "...         ...                 ...   \n",
       "14812  training 2018-12-09 23:56:25   \n",
       "14813  training 2018-12-09 23:57:29   \n",
       "14814  training 2018-12-09 23:58:15   \n",
       "14815  training 2018-12-09 23:58:41   \n",
       "14816  training 2018-12-09 23:59:07   \n",
       "\n",
       "                                     route_schedule_uuid route_type  \\\n",
       "0      thanos::sroute:8a57e4e4-7695-41a2-9f6f-4d5eec4...    Carting   \n",
       "1      thanos::sroute:883e99fa-50a3-40e0-a2e2-9b12ed6...        FTL   \n",
       "2      thanos::sroute:b0529f1a-f51e-40dd-8825-4ee14c0...        FTL   \n",
       "3      thanos::sroute:296fe38c-2038-426c-aea2-1326b15...    Carting   \n",
       "4      thanos::sroute:9e13f8b8-837d-4541-8c0e-4475cfa...    Carting   \n",
       "...                                                  ...        ...   \n",
       "14812  thanos::sroute:c1cc5ee0-efa2-4d88-b302-88b6f94...    Carting   \n",
       "14813  thanos::sroute:fd6040f0-d112-4248-8364-a08da1e...    Carting   \n",
       "14814  thanos::sroute:02d1583b-3d43-496f-9081-354d936...        FTL   \n",
       "14815  thanos::sroute:e911e081-3350-4a27-b5af-961d893...    Carting   \n",
       "14816  thanos::sroute:f054a348-16d9-4c6c-b70e-548c616...        FTL   \n",
       "\n",
       "                     trip_uuid source_center destination_center  \\\n",
       "0      trip-153835211747541776  IND686507AAA       IND686513AAA   \n",
       "1      trip-153835215185692720  IND845305AAA       IND845305AAA   \n",
       "2      trip-153835223580501120  IND842001AAA       IND842001AAA   \n",
       "3      trip-153835233133846197  IND412105AAC       IND411017AAA   \n",
       "4      trip-153835244952815095  IND614620AAA       IND623407AAA   \n",
       "...                        ...           ...                ...   \n",
       "14812  trip-153679658502528368  IND751015AAA       IND751002AAB   \n",
       "14813  trip-153679664912667414  IND560099AAB       IND560300AAA   \n",
       "14814  trip-153679669508452551  IND000000ACA       IND000000ACA   \n",
       "14815  trip-153679672155452701  IND689645AAA       IND691001AAB   \n",
       "14816  trip-153679674733908252  IND575004AAB       IND562132AAA   \n",
       "\n",
       "            od_start_time         od_end_time  start_scan_to_end_scan  ...  \\\n",
       "0     2018-01-10 02:10:46 2018-01-10 02:52:21                    41.0  ...   \n",
       "1     2018-01-10 06:16:17 2018-01-10 06:16:17                  1247.0  ...   \n",
       "2     2018-01-10 00:03:55 2018-02-10 01:30:09                  1525.0  ...   \n",
       "3     2018-01-10 02:24:24 2018-01-10 03:22:27                    58.0  ...   \n",
       "4     2018-01-10 04:00:39 2018-01-10 01:49:59                   429.0  ...   \n",
       "...                   ...                 ...                     ...  ...   \n",
       "14812 2018-09-13 01:48:36 2018-09-13 04:45:27                   131.0  ...   \n",
       "14813 2018-12-09 23:57:29 2018-09-13 02:26:48                   149.0  ...   \n",
       "14814 2018-12-09 23:58:15 2018-09-13 06:55:49                   371.0  ...   \n",
       "14815 2018-09-13 04:02:49 2018-09-13 16:08:42                   968.0  ...   \n",
       "14816 2018-12-09 23:59:07 2018-09-13 11:53:01                   713.0  ...   \n",
       "\n",
       "       year_trip_creation  source_state   source_city  source_place  \\\n",
       "0                    2018        Kerala    Parakkdavu        KeRoad   \n",
       "1                    2018         Bihar        Raxaul      KairiyaT   \n",
       "2                    2018         Bihar    Muzaffrpur        Bbganj   \n",
       "3                    2018   Maharashtra          Pune         North   \n",
       "4                    2018    Tamil Nadu   Manamelkudi      TmpleSrt   \n",
       "...                   ...           ...           ...           ...   \n",
       "14812                2018        Orissa  Bhubaneshwar    Nayapalli    \n",
       "14813                2018     Karnataka     Bengaluru      Bomsndra   \n",
       "14814                2018        Punjab      Ludhiana      MilrGanj   \n",
       "14815                2018        Kerala    Pthnmthitt      Klskhrpt   \n",
       "14816                2018     Karnataka     Mangalore      Kuntikna   \n",
       "\n",
       "       source_city_code  destination_state   destination_city  \\\n",
       "0                    D              Kerala         Mundakayam   \n",
       "1                    D               Bihar             Raxaul   \n",
       "2                    I               Bihar         Muzaffrpur   \n",
       "3                  D_3         Maharashtra  PNQ Rahatani DPC    \n",
       "4                    D          Tamil Nadu       Thiruvadanai   \n",
       "...                 ...                ...                ...   \n",
       "14812              None             Orissa       Bhubaneshwar   \n",
       "14813               HB           Karnataka          Bengaluru   \n",
       "14814               HB              Punjab           Ludhiana   \n",
       "14815                D              Kerala             Kollam   \n",
       "14816                H           Karnataka          Bangalore   \n",
       "\n",
       "      destination_place  destination_city_code  od_time_diff  \n",
       "0               Central                   D_1           42.0  \n",
       "1              KairiyaT                     D            0.0  \n",
       "2                Bbganj                     I        44726.0  \n",
       "3                  None                   None          58.0  \n",
       "4              RamnadRD                     D          131.0  \n",
       "...                 ...                    ...           ...  \n",
       "14812              Hub                    None         177.0  \n",
       "14813          KGAirprt                    HB       126571.0  \n",
       "14814          MilrGanj                    HB       126302.0  \n",
       "14815           Central                   H_1          726.0  \n",
       "14816          Nelmngla                     H       126006.0  \n",
       "\n",
       "[14817 rows x 29 columns]"
      ]
     },
     "execution_count": 871,
     "metadata": {},
     "output_type": "execute_result"
    }
   ],
   "source": [
    "#reconfirming in the data\n",
    "df1"
   ]
  },
  {
   "cell_type": "code",
   "execution_count": 872,
   "id": "0819af6e",
   "metadata": {},
   "outputs": [
    {
     "name": "stdout",
     "output_type": "stream",
     "text": [
      "<class 'pandas.core.frame.DataFrame'>\n",
      "RangeIndex: 14817 entries, 0 to 14816\n",
      "Data columns (total 29 columns):\n",
      " #   Column                          Non-Null Count  Dtype         \n",
      "---  ------                          --------------  -----         \n",
      " 0   data                            14817 non-null  object        \n",
      " 1   trip_creation_time              14817 non-null  datetime64[ns]\n",
      " 2   route_schedule_uuid             14817 non-null  object        \n",
      " 3   route_type                      14817 non-null  object        \n",
      " 4   trip_uuid                       14817 non-null  object        \n",
      " 5   source_center                   14817 non-null  object        \n",
      " 6   destination_center              14817 non-null  object        \n",
      " 7   od_start_time                   14817 non-null  datetime64[ns]\n",
      " 8   od_end_time                     14817 non-null  datetime64[ns]\n",
      " 9   start_scan_to_end_scan          14817 non-null  float64       \n",
      " 10  actual_distance_to_destination  14817 non-null  float64       \n",
      " 11  actual_time                     14817 non-null  float64       \n",
      " 12  osrm_time                       14817 non-null  float64       \n",
      " 13  osrm_distance                   14817 non-null  float64       \n",
      " 14  segment_actual_time             14817 non-null  float64       \n",
      " 15  segment_osrm_time               14817 non-null  float64       \n",
      " 16  segment_osrm_distance           14817 non-null  float64       \n",
      " 17  day_trip_creation               14817 non-null  object        \n",
      " 18  month_trip_creation             14817 non-null  int64         \n",
      " 19  year_trip_creation              14817 non-null  int64         \n",
      " 20  source_state                    14801 non-null  object        \n",
      " 21  source_city                     14817 non-null  object        \n",
      " 22  source_place                    14159 non-null  object        \n",
      " 23  source_city_code                12884 non-null  object        \n",
      " 24  destination_state               14790 non-null  object        \n",
      " 25  destination_city                14817 non-null  object        \n",
      " 26  destination_place               14033 non-null  object        \n",
      " 27  destination_city_code           12775 non-null  object        \n",
      " 28  od_time_diff                    14817 non-null  float64       \n",
      "dtypes: datetime64[ns](3), float64(9), int64(2), object(15)\n",
      "memory usage: 3.3+ MB\n"
     ]
    }
   ],
   "source": [
    "#rechecking the dtype of all columns\n",
    "df1.info()"
   ]
  },
  {
   "cell_type": "markdown",
   "id": "e91b9d82",
   "metadata": {},
   "source": [
    "## Cleaning the missing Values of final date frame, after creating new feature\n"
   ]
  },
  {
   "cell_type": "code",
   "execution_count": 873,
   "id": "5d38e277",
   "metadata": {
    "scrolled": true
   },
   "outputs": [
    {
     "data": {
      "text/plain": [
       "data                                 0\n",
       "trip_creation_time                   0\n",
       "route_schedule_uuid                  0\n",
       "route_type                           0\n",
       "trip_uuid                            0\n",
       "source_center                        0\n",
       "destination_center                   0\n",
       "od_start_time                        0\n",
       "od_end_time                          0\n",
       "start_scan_to_end_scan               0\n",
       "actual_distance_to_destination       0\n",
       "actual_time                          0\n",
       "osrm_time                            0\n",
       "osrm_distance                        0\n",
       "segment_actual_time                  0\n",
       "segment_osrm_time                    0\n",
       "segment_osrm_distance                0\n",
       "day_trip_creation                    0\n",
       "month_trip_creation                  0\n",
       "year_trip_creation                   0\n",
       "source_state                        16\n",
       "source_city                          0\n",
       "source_place                       658\n",
       "source_city_code                  1933\n",
       "destination_state                   27\n",
       "destination_city                     0\n",
       "destination_place                  784\n",
       "destination_city_code             2042\n",
       "od_time_diff                         0\n",
       "dtype: int64"
      ]
     },
     "execution_count": 873,
     "metadata": {},
     "output_type": "execute_result"
    }
   ],
   "source": [
    "df1.isnull().sum()"
   ]
  },
  {
   "cell_type": "code",
   "execution_count": 874,
   "id": "6b65242d",
   "metadata": {},
   "outputs": [],
   "source": [
    "df1[\"source_place\"].replace(np.nan, \"unknown\", inplace = True)\n",
    "df1[\"source_city_code\"].replace(np.nan, \"unknown\", inplace = True)\n",
    "df1[\"destination_place\"].replace(np.nan, \"unknown\", inplace = True)\n",
    "df1[\"destination_city_code\"].replace(np.nan, \"unknown\", inplace = True)"
   ]
  },
  {
   "cell_type": "code",
   "execution_count": 875,
   "id": "ccf20da5",
   "metadata": {},
   "outputs": [],
   "source": [
    "df1[\"source_state\"].fillna(df1[\"source_state\"].mode()[0], inplace=True)\n",
    "df1[\"destination_state\"].fillna(df1[\"destination_state\"].mode()[0], inplace=True)"
   ]
  },
  {
   "cell_type": "code",
   "execution_count": 876,
   "id": "72de36be",
   "metadata": {},
   "outputs": [
    {
     "data": {
      "text/plain": [
       "data                              0\n",
       "trip_creation_time                0\n",
       "route_schedule_uuid               0\n",
       "route_type                        0\n",
       "trip_uuid                         0\n",
       "source_center                     0\n",
       "destination_center                0\n",
       "od_start_time                     0\n",
       "od_end_time                       0\n",
       "start_scan_to_end_scan            0\n",
       "actual_distance_to_destination    0\n",
       "actual_time                       0\n",
       "osrm_time                         0\n",
       "osrm_distance                     0\n",
       "segment_actual_time               0\n",
       "segment_osrm_time                 0\n",
       "segment_osrm_distance             0\n",
       "day_trip_creation                 0\n",
       "month_trip_creation               0\n",
       "year_trip_creation                0\n",
       "source_state                      0\n",
       "source_city                       0\n",
       "source_place                      0\n",
       "source_city_code                  0\n",
       "destination_state                 0\n",
       "destination_city                  0\n",
       "destination_place                 0\n",
       "destination_city_code             0\n",
       "od_time_diff                      0\n",
       "dtype: int64"
      ]
     },
     "execution_count": 876,
     "metadata": {},
     "output_type": "execute_result"
    }
   ],
   "source": [
    "df1.isnull().sum()"
   ]
  },
  {
   "cell_type": "code",
   "execution_count": 877,
   "id": "bddc5e03",
   "metadata": {},
   "outputs": [],
   "source": [
    "og_df1 = df1.copy(deep = True)"
   ]
  },
  {
   "cell_type": "markdown",
   "id": "0cde761d",
   "metadata": {},
   "source": [
    "# <span style='background :yellow' > EDA </span>"
   ]
  },
  {
   "cell_type": "code",
   "execution_count": 878,
   "id": "188f4a52",
   "metadata": {},
   "outputs": [
    {
     "data": {
      "text/plain": [
       "Index(['data', 'trip_creation_time', 'route_schedule_uuid', 'route_type',\n",
       "       'trip_uuid', 'source_center', 'destination_center', 'od_start_time',\n",
       "       'od_end_time', 'start_scan_to_end_scan',\n",
       "       'actual_distance_to_destination', 'actual_time', 'osrm_time',\n",
       "       'osrm_distance', 'segment_actual_time', 'segment_osrm_time',\n",
       "       'segment_osrm_distance', 'day_trip_creation', 'month_trip_creation',\n",
       "       'year_trip_creation', 'source_state', 'source_city', 'source_place',\n",
       "       'source_city_code', 'destination_state', 'destination_city',\n",
       "       'destination_place', 'destination_city_code', 'od_time_diff'],\n",
       "      dtype='object')"
      ]
     },
     "execution_count": 878,
     "metadata": {},
     "output_type": "execute_result"
    }
   ],
   "source": [
    "df1.columns"
   ]
  },
  {
   "cell_type": "markdown",
   "id": "9f839aff",
   "metadata": {},
   "source": [
    "### <span style=\"color:green\">INSIGHTS:</span>\n",
    "- Maximum delivery/logistics is from and to **Maharashtra state**\n",
    "- Least delivery/logistics is from east India states like **Mizoram, Tripura, Meghalaya**"
   ]
  },
  {
   "cell_type": "code",
   "execution_count": 879,
   "id": "8dd84df5",
   "metadata": {
    "scrolled": true
   },
   "outputs": [
    {
     "data": {
      "text/plain": [
       "<AxesSubplot:xlabel='count', ylabel='destination_state'>"
      ]
     },
     "execution_count": 879,
     "metadata": {},
     "output_type": "execute_result"
    },
    {
     "data": {
      "image/png": "[encoded data removed]",
      "text/plain": [
       "<Figure size 1800x576 with 2 Axes>"
      ]
     },
     "metadata": {
      "needs_background": "light"
     },
     "output_type": "display_data"
    }
   ],
   "source": [
    "plt.figure(figsize=(25,8))\n",
    "plt.subplot(1,2,1)\n",
    "sns.countplot(data = df1,\n",
    "            y = \"source_state\")\n",
    "\n",
    "plt.subplot(1,2,2)\n",
    "sns.countplot(data = df1,\n",
    "            y = \"destination_state\")"
   ]
  },
  {
   "cell_type": "markdown",
   "id": "eae9fa58",
   "metadata": {},
   "source": [
    "### <span style=\"color:green\">INSIGHTS:</span>\n",
    "- Maximum delivery is done in **September**\n",
    "- Maximum delivery is done on **Saturday and Sunday (Weekend)**\n",
    "- Least delivery is on Monday"
   ]
  },
  {
   "cell_type": "code",
   "execution_count": 880,
   "id": "37db59d9",
   "metadata": {},
   "outputs": [
    {
     "data": {
      "text/plain": [
       "<AxesSubplot:xlabel='day_trip_creation', ylabel='count'>"
      ]
     },
     "execution_count": 880,
     "metadata": {},
     "output_type": "execute_result"
    },
    {
     "data": {
      "image/png": "[encoded data removed]",
      "text/plain": [
       "<Figure size 1080x288 with 2 Axes>"
      ]
     },
     "metadata": {
      "needs_background": "light"
     },
     "output_type": "display_data"
    }
   ],
   "source": [
    "plt.figure(figsize=(15,4))\n",
    "plt.subplot(1,2,1)\n",
    "sns.countplot(data = df1,\n",
    "            x = \"month_trip_creation\")\n",
    "\n",
    "plt.subplot(1,2,2)\n",
    "sns.countplot(data = df1,\n",
    "            x = \"day_trip_creation\")"
   ]
  },
  {
   "cell_type": "code",
   "execution_count": 881,
   "id": "956d58f6",
   "metadata": {},
   "outputs": [
    {
     "data": {
      "text/plain": [
       "2018    14817\n",
       "Name: year_trip_creation, dtype: int64"
      ]
     },
     "execution_count": 881,
     "metadata": {},
     "output_type": "execute_result"
    }
   ],
   "source": [
    "# all the data is from Year 2018\n",
    "df1[\"year_trip_creation\"].value_counts()"
   ]
  },
  {
   "cell_type": "markdown",
   "id": "acef1cac",
   "metadata": {},
   "source": [
    "# <span style='background :yellow'>HYPOTHESIS TESTING:</span>"
   ]
  },
  {
   "cell_type": "markdown",
   "id": "0e570185",
   "metadata": {},
   "source": [
    "# `1. Testing: Calculated total time = OR != mentioned start scan to end scan time`\n",
    "###  <span style=\"color:green\">Hypothesis Testing:</span>\n",
    "- H0: Calculated total time **=** mentioned start scan to end scan time\n",
    "- H1: Calculated total time **!=** mentioned start scan to end scan time\n",
    "- Visual analysis: **QQplot**"
   ]
  },
  {
   "cell_type": "markdown",
   "id": "2c39d354",
   "metadata": {},
   "source": [
    "###  <span style=\"color:green\">RESULTS / INSIGHTS:</span>\n",
    "- On Viewing the statistical summary for both the columns there is a huge difference in mean, median, quantile\n",
    "- ttest using sample shows **very low p-value**\n",
    "- Visual analysis of QQplot and boxplot shows there is a huge difference. Hence we **Reject the Null Hypothesis.**\n",
    "- **Hence, both the time are not equal**"
   ]
  },
  {
   "cell_type": "code",
   "execution_count": 882,
   "id": "d7999894",
   "metadata": {},
   "outputs": [
    {
     "data": {
      "text/html": [
       "<div>\n",
       "<style scoped>\n",
       "    .dataframe tbody tr th:only-of-type {\n",
       "        vertical-align: middle;\n",
       "    }\n",
       "\n",
       "    .dataframe tbody tr th {\n",
       "        vertical-align: top;\n",
       "    }\n",
       "\n",
       "    .dataframe thead th {\n",
       "        text-align: right;\n",
       "    }\n",
       "</style>\n",
       "<table border=\"1\" class=\"dataframe\">\n",
       "  <thead>\n",
       "    <tr style=\"text-align: right;\">\n",
       "      <th></th>\n",
       "      <th>start_scan_to_end_scan</th>\n",
       "      <th>od_time_diff</th>\n",
       "    </tr>\n",
       "  </thead>\n",
       "  <tbody>\n",
       "    <tr>\n",
       "      <th>count</th>\n",
       "      <td>14817.000000</td>\n",
       "      <td>14817.000000</td>\n",
       "    </tr>\n",
       "    <tr>\n",
       "      <th>mean</th>\n",
       "      <td>530.823716</td>\n",
       "      <td>7415.809543</td>\n",
       "    </tr>\n",
       "    <tr>\n",
       "      <th>std</th>\n",
       "      <td>658.737462</td>\n",
       "      <td>41362.291238</td>\n",
       "    </tr>\n",
       "    <tr>\n",
       "      <th>min</th>\n",
       "      <td>23.000000</td>\n",
       "      <td>0.000000</td>\n",
       "    </tr>\n",
       "    <tr>\n",
       "      <th>25%</th>\n",
       "      <td>149.000000</td>\n",
       "      <td>106.000000</td>\n",
       "    </tr>\n",
       "    <tr>\n",
       "      <th>50%</th>\n",
       "      <td>280.000000</td>\n",
       "      <td>208.000000</td>\n",
       "    </tr>\n",
       "    <tr>\n",
       "      <th>75%</th>\n",
       "      <td>637.000000</td>\n",
       "      <td>445.000000</td>\n",
       "    </tr>\n",
       "    <tr>\n",
       "      <th>max</th>\n",
       "      <td>7898.000000</td>\n",
       "      <td>380092.000000</td>\n",
       "    </tr>\n",
       "  </tbody>\n",
       "</table>\n",
       "</div>"
      ],
      "text/plain": [
       "       start_scan_to_end_scan   od_time_diff\n",
       "count            14817.000000   14817.000000\n",
       "mean               530.823716    7415.809543\n",
       "std                658.737462   41362.291238\n",
       "min                 23.000000       0.000000\n",
       "25%                149.000000     106.000000\n",
       "50%                280.000000     208.000000\n",
       "75%                637.000000     445.000000\n",
       "max               7898.000000  380092.000000"
      ]
     },
     "execution_count": 882,
     "metadata": {},
     "output_type": "execute_result"
    }
   ],
   "source": [
    "#creating and checking then statistical distribution between above two columns\n",
    "a = df1[\"start_scan_to_end_scan\"]\n",
    "b = df1[\"od_time_diff\"]\n",
    "df1[[\"start_scan_to_end_scan\",\"od_time_diff\"]].describe()"
   ]
  },
  {
   "cell_type": "code",
   "execution_count": 883,
   "id": "e2596ac1",
   "metadata": {},
   "outputs": [
    {
     "data": {
      "text/plain": [
       "<AxesSubplot:ylabel='od_time_diff'>"
      ]
     },
     "execution_count": 883,
     "metadata": {},
     "output_type": "execute_result"
    },
    {
     "data": {
      "image/png": "[encoded data removed]",
      "text/plain": [
       "<Figure size 1008x288 with 2 Axes>"
      ]
     },
     "metadata": {
      "needs_background": "light"
     },
     "output_type": "display_data"
    }
   ],
   "source": [
    "#Boxplot to check the distribution of data and compare the relation between them\n",
    "plt.figure(figsize=(14, 4))\n",
    "plt.subplot(1, 2, 1)\n",
    "sns.boxplot(data = df1, y = \"start_scan_to_end_scan\")\n",
    "\n",
    "plt.subplot(1, 2, 2)\n",
    "sns.boxplot(data = df1, y = 'od_time_diff')"
   ]
  },
  {
   "cell_type": "code",
   "execution_count": 884,
   "id": "dd5c22bb",
   "metadata": {},
   "outputs": [
    {
     "data": {
      "image/png": "[encoded data removed]",
      "text/plain": [
       "<Figure size 432x288 with 1 Axes>"
      ]
     },
     "execution_count": 884,
     "metadata": {},
     "output_type": "execute_result"
    },
    {
     "data": {
      "image/png": "[encoded data removed]",
      "text/plain": [
       "<Figure size 432x288 with 1 Axes>"
      ]
     },
     "metadata": {
      "needs_background": "light"
     },
     "output_type": "display_data"
    }
   ],
   "source": [
    "#QQplot to check the distribution of data and compare the variance between them\n",
    "qqplot_2samples(df1[\"start_scan_to_end_scan\"], df1['od_time_diff'], line = \"r\")"
   ]
  },
  {
   "cell_type": "markdown",
   "id": "1461be45",
   "metadata": {},
   "source": [
    "# `2. Actual_time aggregated value & OSRM time aggregated value                `\n",
    "###  <span style=\"color:green\">Hypothesis Testing:</span>\n",
    "- H0: Actual_time aggregated value  **=** OSRM time aggregated value\n",
    "- H1: Actual_time aggregated value  **!=** OSRM time aggregated value\n",
    "- Visual analysis: **Emperical CDF**"
   ]
  },
  {
   "cell_type": "markdown",
   "id": "ea3e8a3e",
   "metadata": {},
   "source": [
    "###  <span style=\"color:green\">RESULTS / INSIGHTS:</span>\n",
    "- Checking the statistical summary: there is a good difference in the mean, median, and percentile distribution\n",
    "- On plotting Distplot, the graph is similar but the values differ.\n",
    "- Both curves from KS test are very far from each other, which show they are **not equal**\n",
    "- Hence, we **Reject the Null Hypothesis** "
   ]
  },
  {
   "cell_type": "code",
   "execution_count": 885,
   "id": "9581bfac",
   "metadata": {},
   "outputs": [
    {
     "data": {
      "text/html": [
       "<div>\n",
       "<style scoped>\n",
       "    .dataframe tbody tr th:only-of-type {\n",
       "        vertical-align: middle;\n",
       "    }\n",
       "\n",
       "    .dataframe tbody tr th {\n",
       "        vertical-align: top;\n",
       "    }\n",
       "\n",
       "    .dataframe thead th {\n",
       "        text-align: right;\n",
       "    }\n",
       "</style>\n",
       "<table border=\"1\" class=\"dataframe\">\n",
       "  <thead>\n",
       "    <tr style=\"text-align: right;\">\n",
       "      <th></th>\n",
       "      <th>actual_time</th>\n",
       "      <th>osrm_time</th>\n",
       "    </tr>\n",
       "  </thead>\n",
       "  <tbody>\n",
       "    <tr>\n",
       "      <th>count</th>\n",
       "      <td>14817.000000</td>\n",
       "      <td>14817.000000</td>\n",
       "    </tr>\n",
       "    <tr>\n",
       "      <th>mean</th>\n",
       "      <td>357.153945</td>\n",
       "      <td>161.385908</td>\n",
       "    </tr>\n",
       "    <tr>\n",
       "      <th>std</th>\n",
       "      <td>561.406220</td>\n",
       "      <td>271.361145</td>\n",
       "    </tr>\n",
       "    <tr>\n",
       "      <th>min</th>\n",
       "      <td>9.000000</td>\n",
       "      <td>6.000000</td>\n",
       "    </tr>\n",
       "    <tr>\n",
       "      <th>25%</th>\n",
       "      <td>67.000000</td>\n",
       "      <td>29.000000</td>\n",
       "    </tr>\n",
       "    <tr>\n",
       "      <th>50%</th>\n",
       "      <td>149.000000</td>\n",
       "      <td>60.000000</td>\n",
       "    </tr>\n",
       "    <tr>\n",
       "      <th>75%</th>\n",
       "      <td>370.000000</td>\n",
       "      <td>168.000000</td>\n",
       "    </tr>\n",
       "    <tr>\n",
       "      <th>max</th>\n",
       "      <td>6265.000000</td>\n",
       "      <td>2032.000000</td>\n",
       "    </tr>\n",
       "  </tbody>\n",
       "</table>\n",
       "</div>"
      ],
      "text/plain": [
       "        actual_time     osrm_time\n",
       "count  14817.000000  14817.000000\n",
       "mean     357.153945    161.385908\n",
       "std      561.406220    271.361145\n",
       "min        9.000000      6.000000\n",
       "25%       67.000000     29.000000\n",
       "50%      149.000000     60.000000\n",
       "75%      370.000000    168.000000\n",
       "max     6265.000000   2032.000000"
      ]
     },
     "execution_count": 885,
     "metadata": {},
     "output_type": "execute_result"
    }
   ],
   "source": [
    "df1[[\"actual_time\", \"osrm_time\"]].describe()"
   ]
  },
  {
   "cell_type": "code",
   "execution_count": 886,
   "id": "25184c8e",
   "metadata": {},
   "outputs": [
    {
     "data": {
      "text/plain": [
       "<AxesSubplot:xlabel='osrm_time', ylabel='Density'>"
      ]
     },
     "execution_count": 886,
     "metadata": {},
     "output_type": "execute_result"
    },
    {
     "data": {
      "image/png": "[encoded data removed]",
      "text/plain": [
       "<Figure size 1008x288 with 2 Axes>"
      ]
     },
     "metadata": {
      "needs_background": "light"
     },
     "output_type": "display_data"
    }
   ],
   "source": [
    "plt.figure(figsize=(14, 4))\n",
    "plt.subplot(1, 2, 1)\n",
    "sns.distplot(df1[\"actual_time\"])\n",
    "\n",
    "plt.subplot(1, 2, 2)\n",
    "sns.distplot(df1[\"osrm_time\"])"
   ]
  },
  {
   "cell_type": "code",
   "execution_count": 887,
   "id": "633dca57",
   "metadata": {},
   "outputs": [],
   "source": [
    "# emperical CDF\n",
    "e1 = ECDF(df1[\"actual_time\"])\n",
    "e2 = ECDF(df1[\"osrm_time\"])"
   ]
  },
  {
   "cell_type": "code",
   "execution_count": 888,
   "id": "cff155ca",
   "metadata": {},
   "outputs": [
    {
     "data": {
      "text/plain": [
       "[<matplotlib.lines.Line2D at 0x1f19c6e4cd0>]"
      ]
     },
     "execution_count": 888,
     "metadata": {},
     "output_type": "execute_result"
    },
    {
     "data": {
      "image/png": "[encoded data removed]",
      "text/plain": [
       "<Figure size 432x288 with 1 Axes>"
      ]
     },
     "metadata": {
      "needs_background": "light"
     },
     "output_type": "display_data"
    }
   ],
   "source": [
    "plt.plot(e1.x, e1.y, c='b')\n",
    "plt.plot(e2.x, e2.y, c='r')"
   ]
  },
  {
   "cell_type": "code",
   "execution_count": 889,
   "id": "f83112aa",
   "metadata": {},
   "outputs": [
    {
     "data": {
      "text/plain": [
       "KruskalResult(statistic=3406.026556439765, pvalue=0.0)"
      ]
     },
     "execution_count": 889,
     "metadata": {},
     "output_type": "execute_result"
    }
   ],
   "source": [
    "kruskal(df1[\"actual_time\"], df1[\"osrm_time\"])"
   ]
  },
  {
   "cell_type": "markdown",
   "id": "362ee06a",
   "metadata": {},
   "source": [
    "# `3. Actual_time aggregated value and segment actual time aggregated value`\n",
    "###  <span style=\"color:green\">Hypothesis Testing:</span>\n",
    "- H0: Mean of Actual_time aggregated value **=**  Mean segment actual time aggregated value\n",
    "- H1: Mean Actual_time aggregated value **!=**  Mean segment actual time aggregated value\n",
    "- Significance level = **0.05**\n",
    "- Test: **Ttest_ind**\n",
    "- Visual analysis: **QQplot**"
   ]
  },
  {
   "cell_type": "markdown",
   "id": "084aab4f",
   "metadata": {},
   "source": [
    "###  <span style=\"color:green\">RESULTS / INSIGHTS:</span>\n",
    "- Statistical summary says most of the values in mean, median, quantile are **similar**\n",
    "- Distribution of both the columns is **exactly same**\n",
    "- QQplot shows all the values in the line, **almost no variance**\n",
    "- two-tail ttest_ind gives a **p-value 0.552 > 0.05 (significance level).**\n",
    "- Hence, we **Fail to Reject Null Hypothesis**"
   ]
  },
  {
   "cell_type": "code",
   "execution_count": 890,
   "id": "ebaad955",
   "metadata": {},
   "outputs": [
    {
     "data": {
      "text/html": [
       "<div>\n",
       "<style scoped>\n",
       "    .dataframe tbody tr th:only-of-type {\n",
       "        vertical-align: middle;\n",
       "    }\n",
       "\n",
       "    .dataframe tbody tr th {\n",
       "        vertical-align: top;\n",
       "    }\n",
       "\n",
       "    .dataframe thead th {\n",
       "        text-align: right;\n",
       "    }\n",
       "</style>\n",
       "<table border=\"1\" class=\"dataframe\">\n",
       "  <thead>\n",
       "    <tr style=\"text-align: right;\">\n",
       "      <th></th>\n",
       "      <th>actual_time</th>\n",
       "      <th>segment_actual_time</th>\n",
       "    </tr>\n",
       "  </thead>\n",
       "  <tbody>\n",
       "    <tr>\n",
       "      <th>count</th>\n",
       "      <td>14817.000000</td>\n",
       "      <td>14817.000000</td>\n",
       "    </tr>\n",
       "    <tr>\n",
       "      <th>mean</th>\n",
       "      <td>357.153945</td>\n",
       "      <td>353.892286</td>\n",
       "    </tr>\n",
       "    <tr>\n",
       "      <th>std</th>\n",
       "      <td>561.406220</td>\n",
       "      <td>556.247965</td>\n",
       "    </tr>\n",
       "    <tr>\n",
       "      <th>min</th>\n",
       "      <td>9.000000</td>\n",
       "      <td>9.000000</td>\n",
       "    </tr>\n",
       "    <tr>\n",
       "      <th>25%</th>\n",
       "      <td>67.000000</td>\n",
       "      <td>66.000000</td>\n",
       "    </tr>\n",
       "    <tr>\n",
       "      <th>50%</th>\n",
       "      <td>149.000000</td>\n",
       "      <td>147.000000</td>\n",
       "    </tr>\n",
       "    <tr>\n",
       "      <th>75%</th>\n",
       "      <td>370.000000</td>\n",
       "      <td>367.000000</td>\n",
       "    </tr>\n",
       "    <tr>\n",
       "      <th>max</th>\n",
       "      <td>6265.000000</td>\n",
       "      <td>6230.000000</td>\n",
       "    </tr>\n",
       "  </tbody>\n",
       "</table>\n",
       "</div>"
      ],
      "text/plain": [
       "        actual_time  segment_actual_time\n",
       "count  14817.000000         14817.000000\n",
       "mean     357.153945           353.892286\n",
       "std      561.406220           556.247965\n",
       "min        9.000000             9.000000\n",
       "25%       67.000000            66.000000\n",
       "50%      149.000000           147.000000\n",
       "75%      370.000000           367.000000\n",
       "max     6265.000000          6230.000000"
      ]
     },
     "execution_count": 890,
     "metadata": {},
     "output_type": "execute_result"
    }
   ],
   "source": [
    "df1[['actual_time', 'segment_actual_time']].describe()"
   ]
  },
  {
   "cell_type": "code",
   "execution_count": 891,
   "id": "2fe4d63c",
   "metadata": {},
   "outputs": [
    {
     "data": {
      "text/plain": [
       "<AxesSubplot:xlabel='segment_actual_time', ylabel='Density'>"
      ]
     },
     "execution_count": 891,
     "metadata": {},
     "output_type": "execute_result"
    },
    {
     "data": {
      "image/png": "[encoded data removed]",
      "text/plain": [
       "<Figure size 1008x288 with 2 Axes>"
      ]
     },
     "metadata": {
      "needs_background": "light"
     },
     "output_type": "display_data"
    }
   ],
   "source": [
    "plt.figure(figsize=(14, 4))\n",
    "plt.subplot(1, 2, 1)\n",
    "sns.distplot(df1[\"actual_time\"])\n",
    "\n",
    "plt.subplot(1, 2, 2)\n",
    "sns.distplot(df1['segment_actual_time'])"
   ]
  },
  {
   "cell_type": "code",
   "execution_count": 892,
   "id": "643a6520",
   "metadata": {},
   "outputs": [
    {
     "data": {
      "image/png": "[encoded data removed]",
      "text/plain": [
       "<Figure size 432x288 with 1 Axes>"
      ]
     },
     "execution_count": 892,
     "metadata": {},
     "output_type": "execute_result"
    },
    {
     "data": {
      "image/png": "[encoded data removed]",
      "text/plain": [
       "<Figure size 432x288 with 1 Axes>"
      ]
     },
     "metadata": {
      "needs_background": "light"
     },
     "output_type": "display_data"
    }
   ],
   "source": [
    "qqplot_2samples(df1[\"actual_time\"],df1[\"segment_actual_time\"], line = \"r\")"
   ]
  },
  {
   "cell_type": "code",
   "execution_count": 893,
   "id": "52c0731b",
   "metadata": {},
   "outputs": [
    {
     "name": "stdout",
     "output_type": "stream",
     "text": [
      "sample standard deviation of actual_time:  569.8811068624132\n",
      "sample standard deviation of segment_actual_time:  553.7551634054839\n"
     ]
    }
   ],
   "source": [
    "import statistics\n",
    "actual_time = df1[\"actual_time\"].sample(8000)\n",
    "segment_actual_time = df1[\"segment_actual_time\"].sample(8000)\n",
    "\n",
    "print(\"sample standard deviation of actual_time: \", statistics.stdev(actual_time))\n",
    "print(\"sample standard deviation of segment_actual_time: \", statistics.stdev(segment_actual_time))"
   ]
  },
  {
   "cell_type": "markdown",
   "id": "563028c3",
   "metadata": {},
   "source": [
    "###  Why two-tail TTtest?\n",
    "- As the sample standard deviations are same, the population standard deviations can be assumed to be same\n",
    "- As the population standard deviations are unknown, the two sample independent t-test will be theappropriate test for this problem"
   ]
  },
  {
   "cell_type": "code",
   "execution_count": 894,
   "id": "a43cf09d",
   "metadata": {},
   "outputs": [
    {
     "data": {
      "text/plain": [
       "Ttest_indResult(statistic=0.7017641049835, pvalue=0.4828364961610536)"
      ]
     },
     "execution_count": 894,
     "metadata": {},
     "output_type": "execute_result"
    }
   ],
   "source": [
    "ttest_ind(actual_time,segment_actual_time)"
   ]
  },
  {
   "cell_type": "markdown",
   "id": "6bf53c63",
   "metadata": {},
   "source": [
    "# `4. OSRM distance aggregated value and Segment OSRM distance aggregated value`\n",
    "###  <span style=\"color:green\">Hypothesis Testing:</span>\n",
    "- H0: OSRM distance aggregated value **=** Segment OSRM distance aggregated value\n",
    "- H1: SRM distance aggregated value **!=** Segment OSRM distance aggregated value\n",
    "- Significance level = **0.05**\n",
    "- Test: **Left-tail Ttest_ind**\n",
    "- Visual analysis: **Emperical CDF**"
   ]
  },
  {
   "cell_type": "markdown",
   "id": "c7008702",
   "metadata": {},
   "source": [
    "###  <span style=\"color:green\">RESULTS / INSIGHTS:</span>\n",
    "- Statistical summary says there is some differnce in both the column\n",
    "- Box-plot is somewhat similar\n",
    "- Empirical CDF is also same\n",
    "- Left Tail Ttest: **p-value 0.034< 0.05**\n",
    "- Hence, we **Reject Null Hypothesis**"
   ]
  },
  {
   "cell_type": "code",
   "execution_count": 895,
   "id": "2ab2548a",
   "metadata": {},
   "outputs": [
    {
     "data": {
      "text/html": [
       "<div>\n",
       "<style scoped>\n",
       "    .dataframe tbody tr th:only-of-type {\n",
       "        vertical-align: middle;\n",
       "    }\n",
       "\n",
       "    .dataframe tbody tr th {\n",
       "        vertical-align: top;\n",
       "    }\n",
       "\n",
       "    .dataframe thead th {\n",
       "        text-align: right;\n",
       "    }\n",
       "</style>\n",
       "<table border=\"1\" class=\"dataframe\">\n",
       "  <thead>\n",
       "    <tr style=\"text-align: right;\">\n",
       "      <th></th>\n",
       "      <th>osrm_distance</th>\n",
       "      <th>segment_osrm_distance</th>\n",
       "    </tr>\n",
       "  </thead>\n",
       "  <tbody>\n",
       "    <tr>\n",
       "      <th>count</th>\n",
       "      <td>14817.000000</td>\n",
       "      <td>14817.000000</td>\n",
       "    </tr>\n",
       "    <tr>\n",
       "      <th>mean</th>\n",
       "      <td>204.347249</td>\n",
       "      <td>223.201161</td>\n",
       "    </tr>\n",
       "    <tr>\n",
       "      <th>std</th>\n",
       "      <td>370.395749</td>\n",
       "      <td>416.628374</td>\n",
       "    </tr>\n",
       "    <tr>\n",
       "      <th>min</th>\n",
       "      <td>9.072900</td>\n",
       "      <td>9.072900</td>\n",
       "    </tr>\n",
       "    <tr>\n",
       "      <th>25%</th>\n",
       "      <td>30.819200</td>\n",
       "      <td>32.654500</td>\n",
       "    </tr>\n",
       "    <tr>\n",
       "      <th>50%</th>\n",
       "      <td>65.618800</td>\n",
       "      <td>70.154400</td>\n",
       "    </tr>\n",
       "    <tr>\n",
       "      <th>75%</th>\n",
       "      <td>208.475000</td>\n",
       "      <td>218.802400</td>\n",
       "    </tr>\n",
       "    <tr>\n",
       "      <th>max</th>\n",
       "      <td>2840.081000</td>\n",
       "      <td>3523.632400</td>\n",
       "    </tr>\n",
       "  </tbody>\n",
       "</table>\n",
       "</div>"
      ],
      "text/plain": [
       "       osrm_distance  segment_osrm_distance\n",
       "count   14817.000000           14817.000000\n",
       "mean      204.347249             223.201161\n",
       "std       370.395749             416.628374\n",
       "min         9.072900               9.072900\n",
       "25%        30.819200              32.654500\n",
       "50%        65.618800              70.154400\n",
       "75%       208.475000             218.802400\n",
       "max      2840.081000            3523.632400"
      ]
     },
     "execution_count": 895,
     "metadata": {},
     "output_type": "execute_result"
    }
   ],
   "source": [
    "df1[[\"osrm_distance\", \"segment_osrm_distance\"]].describe()"
   ]
  },
  {
   "cell_type": "code",
   "execution_count": 896,
   "id": "d9e81b15",
   "metadata": {},
   "outputs": [
    {
     "data": {
      "text/plain": [
       "<AxesSubplot:xlabel='segment_osrm_distance'>"
      ]
     },
     "execution_count": 896,
     "metadata": {},
     "output_type": "execute_result"
    },
    {
     "data": {
      "image/png": "[encoded data removed]",
      "text/plain": [
       "<Figure size 1008x288 with 2 Axes>"
      ]
     },
     "metadata": {
      "needs_background": "light"
     },
     "output_type": "display_data"
    }
   ],
   "source": [
    "plt.figure(figsize=(14, 4))\n",
    "plt.subplot(1, 2, 1)\n",
    "sns.boxplot(df1[\"osrm_distance\"])\n",
    "\n",
    "plt.subplot(1, 2, 2)\n",
    "sns.boxplot(df1[\"segment_osrm_distance\"])"
   ]
  },
  {
   "cell_type": "code",
   "execution_count": 897,
   "id": "2f4d58c4",
   "metadata": {},
   "outputs": [],
   "source": [
    "# emperical CDF\n",
    "e1 = ECDF(df1[\"osrm_distance\"])\n",
    "e2 = ECDF(df1[\"segment_osrm_distance\"])"
   ]
  },
  {
   "cell_type": "code",
   "execution_count": 898,
   "id": "c78f1e65",
   "metadata": {},
   "outputs": [
    {
     "data": {
      "text/plain": [
       "[<matplotlib.lines.Line2D at 0x1f19ca31520>]"
      ]
     },
     "execution_count": 898,
     "metadata": {},
     "output_type": "execute_result"
    },
    {
     "data": {
      "image/png": "[encoded data removed]",
      "text/plain": [
       "<Figure size 432x288 with 1 Axes>"
      ]
     },
     "metadata": {
      "needs_background": "light"
     },
     "output_type": "display_data"
    }
   ],
   "source": [
    "plt.plot(e1.x, e1.y, c='b')\n",
    "plt.plot(e2.x, e2.y, c='r')"
   ]
  },
  {
   "cell_type": "code",
   "execution_count": 899,
   "id": "1c0f420a",
   "metadata": {},
   "outputs": [
    {
     "name": "stdout",
     "output_type": "stream",
     "text": [
      "sample variance of osrm_distance:  140106.7055108579\n",
      "sample variance of segment_osrm_distance:  169596.00552474606\n"
     ]
    }
   ],
   "source": [
    "a = df1[\"osrm_distance\"].sample(5000)\n",
    "b = df1[\"segment_osrm_distance\"].sample(5000)\n",
    "\n",
    "print(\"sample variance of osrm_distance: \", a.var())\n",
    "print(\"sample variance of segment_osrm_distance: \", b.var())"
   ]
  },
  {
   "cell_type": "markdown",
   "id": "b06cb26f",
   "metadata": {},
   "source": [
    "### Why left-tail ttest?\n",
    "- As the sample variance are not same, the population standard deviations canbe assumed to be unequal\n",
    "- As the population variance is unknown, the left tail sample independent t-test will be the appropriate test for this problem."
   ]
  },
  {
   "cell_type": "code",
   "execution_count": 900,
   "id": "7e25d36b",
   "metadata": {},
   "outputs": [
    {
     "data": {
      "text/plain": [
       "Ttest_indResult(statistic=-1.8248024333256079, pvalue=0.03403047221164801)"
      ]
     },
     "execution_count": 900,
     "metadata": {},
     "output_type": "execute_result"
    }
   ],
   "source": [
    "ttest_ind(a,b, equal_var=False, alternative =\"less\")"
   ]
  },
  {
   "cell_type": "code",
   "execution_count": 901,
   "id": "ee7b40fb",
   "metadata": {},
   "outputs": [
    {
     "data": {
      "text/plain": [
       "KruskalResult(statistic=6.912681502723976, pvalue=0.008558654254439668)"
      ]
     },
     "execution_count": 901,
     "metadata": {},
     "output_type": "execute_result"
    }
   ],
   "source": [
    "kruskal(a,b)"
   ]
  },
  {
   "cell_type": "markdown",
   "id": "1df73929",
   "metadata": {},
   "source": [
    "# `5. Osrm time aggregated value and Segment Osrm time aggregated value`\n",
    "### Hypothesis Testing:\n",
    "- H0: Actual_time aggregated value  **=** OSRM time aggregated value\n",
    "- H1: Actual_time aggregated value  **!=** OSRM time aggregated value\n",
    "- Significance level = **0.05**\n",
    "- Test: **Kruskal Test**\n",
    "- Visual analysis: **Emperical CDF**"
   ]
  },
  {
   "cell_type": "markdown",
   "id": "2e5e2265",
   "metadata": {},
   "source": [
    "###  <span style=\"color:green\">RESULTS / INSIGHTS:</span>\n",
    "- Statistical summary shows some difference in mean,median, quantiles\n",
    "- Distribution plot looks similar, **non-normal distribution, hence we used Kruskal Test**\n",
    "- Standard deviation of both the samples is significantly different\n",
    "- **Kruskal Result: p-value 0.004 < 0.05**\n",
    "- QQ-plot shows variance in the both the data\n",
    "- Hence, we **Reject Null Hypothesis**"
   ]
  },
  {
   "cell_type": "code",
   "execution_count": 902,
   "id": "2afe0140",
   "metadata": {},
   "outputs": [
    {
     "data": {
      "text/html": [
       "<div>\n",
       "<style scoped>\n",
       "    .dataframe tbody tr th:only-of-type {\n",
       "        vertical-align: middle;\n",
       "    }\n",
       "\n",
       "    .dataframe tbody tr th {\n",
       "        vertical-align: top;\n",
       "    }\n",
       "\n",
       "    .dataframe thead th {\n",
       "        text-align: right;\n",
       "    }\n",
       "</style>\n",
       "<table border=\"1\" class=\"dataframe\">\n",
       "  <thead>\n",
       "    <tr style=\"text-align: right;\">\n",
       "      <th></th>\n",
       "      <th>osrm_time</th>\n",
       "      <th>segment_osrm_time</th>\n",
       "    </tr>\n",
       "  </thead>\n",
       "  <tbody>\n",
       "    <tr>\n",
       "      <th>count</th>\n",
       "      <td>14817.000000</td>\n",
       "      <td>14817.000000</td>\n",
       "    </tr>\n",
       "    <tr>\n",
       "      <th>mean</th>\n",
       "      <td>161.385908</td>\n",
       "      <td>180.949787</td>\n",
       "    </tr>\n",
       "    <tr>\n",
       "      <th>std</th>\n",
       "      <td>271.361145</td>\n",
       "      <td>314.542047</td>\n",
       "    </tr>\n",
       "    <tr>\n",
       "      <th>min</th>\n",
       "      <td>6.000000</td>\n",
       "      <td>6.000000</td>\n",
       "    </tr>\n",
       "    <tr>\n",
       "      <th>25%</th>\n",
       "      <td>29.000000</td>\n",
       "      <td>31.000000</td>\n",
       "    </tr>\n",
       "    <tr>\n",
       "      <th>50%</th>\n",
       "      <td>60.000000</td>\n",
       "      <td>65.000000</td>\n",
       "    </tr>\n",
       "    <tr>\n",
       "      <th>75%</th>\n",
       "      <td>168.000000</td>\n",
       "      <td>185.000000</td>\n",
       "    </tr>\n",
       "    <tr>\n",
       "      <th>max</th>\n",
       "      <td>2032.000000</td>\n",
       "      <td>2564.000000</td>\n",
       "    </tr>\n",
       "  </tbody>\n",
       "</table>\n",
       "</div>"
      ],
      "text/plain": [
       "          osrm_time  segment_osrm_time\n",
       "count  14817.000000       14817.000000\n",
       "mean     161.385908         180.949787\n",
       "std      271.361145         314.542047\n",
       "min        6.000000           6.000000\n",
       "25%       29.000000          31.000000\n",
       "50%       60.000000          65.000000\n",
       "75%      168.000000         185.000000\n",
       "max     2032.000000        2564.000000"
      ]
     },
     "execution_count": 902,
     "metadata": {},
     "output_type": "execute_result"
    }
   ],
   "source": [
    "df1[[\"osrm_time\", \"segment_osrm_time\"]].describe()"
   ]
  },
  {
   "cell_type": "code",
   "execution_count": 903,
   "id": "34a68744",
   "metadata": {
    "scrolled": true
   },
   "outputs": [
    {
     "data": {
      "text/plain": [
       "<AxesSubplot:xlabel='segment_osrm_time', ylabel='Density'>"
      ]
     },
     "execution_count": 903,
     "metadata": {},
     "output_type": "execute_result"
    },
    {
     "data": {
      "image/png": "[encoded data removed]",
      "text/plain": [
       "<Figure size 1008x288 with 2 Axes>"
      ]
     },
     "metadata": {
      "needs_background": "light"
     },
     "output_type": "display_data"
    }
   ],
   "source": [
    "plt.figure(figsize=(14, 4))\n",
    "plt.subplot(1, 2, 1)\n",
    "sns.distplot(df1[\"osrm_time\"])\n",
    "\n",
    "plt.subplot(1, 2, 2)\n",
    "sns.distplot(df1[\"segment_osrm_time\"])"
   ]
  },
  {
   "cell_type": "code",
   "execution_count": 904,
   "id": "eff4ff63",
   "metadata": {},
   "outputs": [],
   "source": [
    "a1 = df1[\"osrm_time\"].sample(5000)\n",
    "b1 = df1[\"segment_osrm_time\"].sample(5000)"
   ]
  },
  {
   "cell_type": "code",
   "execution_count": 905,
   "id": "98b27b18",
   "metadata": {},
   "outputs": [
    {
     "name": "stdout",
     "output_type": "stream",
     "text": [
      "sample standard deviation of osrm_time:  269.94687741162124\n",
      "sample standard deviation of segment_osrm_time:  313.96581221886\n"
     ]
    }
   ],
   "source": [
    "print(\"sample standard deviation of osrm_time: \", statistics.stdev(a1))\n",
    "print(\"sample standard deviation of segment_osrm_time: \", statistics.stdev(b1))"
   ]
  },
  {
   "cell_type": "code",
   "execution_count": 906,
   "id": "95108cc8",
   "metadata": {},
   "outputs": [
    {
     "data": {
      "text/plain": [
       "KruskalResult(statistic=20.060906936989923, pvalue=7.501447943913772e-06)"
      ]
     },
     "execution_count": 906,
     "metadata": {},
     "output_type": "execute_result"
    }
   ],
   "source": [
    "kruskal(a1,b1)"
   ]
  },
  {
   "cell_type": "code",
   "execution_count": 907,
   "id": "be9944e7",
   "metadata": {},
   "outputs": [
    {
     "data": {
      "image/png": "[encoded data removed]",
      "text/plain": [
       "<Figure size 432x288 with 1 Axes>"
      ]
     },
     "execution_count": 907,
     "metadata": {},
     "output_type": "execute_result"
    },
    {
     "data": {
      "image/png": "[encoded data removed]",
      "text/plain": [
       "<Figure size 432x288 with 1 Axes>"
      ]
     },
     "metadata": {
      "needs_background": "light"
     },
     "output_type": "display_data"
    }
   ],
   "source": [
    "qqplot_2samples(a1,b1,line =\"r\")"
   ]
  },
  {
   "cell_type": "markdown",
   "id": "999420b8",
   "metadata": {},
   "source": [
    "# <span style='background :yellow'> Separated columns as per dtype:</span>"
   ]
  },
  {
   "cell_type": "code",
   "execution_count": 908,
   "id": "866f2f88",
   "metadata": {},
   "outputs": [
    {
     "name": "stdout",
     "output_type": "stream",
     "text": [
      "No. of row and columns in numerical data:  (14817, 11)\n",
      "\n",
      "No. of row and columns in catrgorical data:  (14817, 15)\n",
      "\n",
      "No. of row and columns in date & time data:  (14817, 3)\n"
     ]
    }
   ],
   "source": [
    "#separating all numerical columns from aggregated data\n",
    "numerics = ['int16', 'int32', 'int64', 'float16', 'float32', 'float64']\n",
    "num_df = df1.select_dtypes(include=numerics)\n",
    "cat_df = df1.select_dtypes(include=\"object\")\n",
    "date_time_df = df1.select_dtypes(include=\"datetime64\")\n",
    "print(\"No. of row and columns in numerical data: \", num_df.shape)\n",
    "print()\n",
    "print(\"No. of row and columns in catrgorical data: \", cat_df.shape)\n",
    "print()\n",
    "print(\"No. of row and columns in date & time data: \", date_time_df.shape)"
   ]
  },
  {
   "cell_type": "markdown",
   "id": "de1412b3",
   "metadata": {},
   "source": [
    "# <span style='background :yellow'>Handling Outliers:</span>"
   ]
  },
  {
   "cell_type": "markdown",
   "id": "24055188",
   "metadata": {},
   "source": [
    "###  <span style=\"color:green\">RESULTS / INSIGHTS:\n",
    "- Outliers can be seen in each column.\n",
    "- Even of removing outliers the data remains skewed"
   ]
  },
  {
   "cell_type": "code",
   "execution_count": 909,
   "id": "3b2c062a",
   "metadata": {},
   "outputs": [],
   "source": [
    "#sorted all numerical data in ascending order \n",
    "for col in num_df.columns:\n",
    "    num_df[col]=sorted(num_df[col])"
   ]
  },
  {
   "cell_type": "code",
   "execution_count": 910,
   "id": "100ab008",
   "metadata": {},
   "outputs": [
    {
     "name": "stdout",
     "output_type": "stream",
     "text": [
      "      start_scan_to_end_scan  actual_distance_to_destination  actual_time  \\\n",
      "0.20                   131.0                       20.845073         58.2   \n",
      "0.95                  1893.0                      828.492142       1471.4   \n",
      "\n",
      "      osrm_time  osrm_distance  segment_actual_time  segment_osrm_time  \\\n",
      "0.20       25.0       27.41810                 58.0               26.0   \n",
      "0.95      709.2      969.31604               1455.2              833.0   \n",
      "\n",
      "      segment_osrm_distance  month_trip_creation  year_trip_creation  \\\n",
      "0.20               28.46886                  9.0              2018.0   \n",
      "0.95             1103.75944                 12.0              2018.0   \n",
      "\n",
      "      od_time_diff  \n",
      "0.20          88.2  \n",
      "0.95       39510.4  \n"
     ]
    }
   ],
   "source": [
    "#using quantile method to remove outliers from all numerical columns.\n",
    "low = 0.2\n",
    "high = 0.95\n",
    "num_df1 = num_df.quantile([low,high])\n",
    "print(num_df1)"
   ]
  },
  {
   "cell_type": "code",
   "execution_count": 911,
   "id": "ae11da45",
   "metadata": {},
   "outputs": [],
   "source": [
    "#applying lambda function to remove the outliers as per defined quantiles\n",
    "num_df = num_df.apply(lambda x: x[(x > num_df1.loc[low,x.name]) & \n",
    "                                  (x < num_df1.loc[high,x.name])], axis = 0)"
   ]
  },
  {
   "cell_type": "code",
   "execution_count": 912,
   "id": "e41a7f96",
   "metadata": {},
   "outputs": [
    {
     "data": {
      "text/html": [
       "<div>\n",
       "<style scoped>\n",
       "    .dataframe tbody tr th:only-of-type {\n",
       "        vertical-align: middle;\n",
       "    }\n",
       "\n",
       "    .dataframe tbody tr th {\n",
       "        vertical-align: top;\n",
       "    }\n",
       "\n",
       "    .dataframe thead th {\n",
       "        text-align: right;\n",
       "    }\n",
       "</style>\n",
       "<table border=\"1\" class=\"dataframe\">\n",
       "  <thead>\n",
       "    <tr style=\"text-align: right;\">\n",
       "      <th></th>\n",
       "      <th>start_scan_to_end_scan</th>\n",
       "      <th>actual_distance_to_destination</th>\n",
       "      <th>actual_time</th>\n",
       "      <th>osrm_time</th>\n",
       "      <th>osrm_distance</th>\n",
       "      <th>segment_actual_time</th>\n",
       "      <th>segment_osrm_time</th>\n",
       "      <th>segment_osrm_distance</th>\n",
       "      <th>month_trip_creation</th>\n",
       "      <th>year_trip_creation</th>\n",
       "      <th>od_time_diff</th>\n",
       "    </tr>\n",
       "  </thead>\n",
       "  <tbody>\n",
       "    <tr>\n",
       "      <th>count</th>\n",
       "      <td>11078.000000</td>\n",
       "      <td>11112.000000</td>\n",
       "      <td>11112.000000</td>\n",
       "      <td>11077.000000</td>\n",
       "      <td>11112.000000</td>\n",
       "      <td>11054.000000</td>\n",
       "      <td>11086.000000</td>\n",
       "      <td>11112.000000</td>\n",
       "      <td>0.0</td>\n",
       "      <td>0.0</td>\n",
       "      <td>11112.000000</td>\n",
       "    </tr>\n",
       "    <tr>\n",
       "      <th>mean</th>\n",
       "      <td>498.448817</td>\n",
       "      <td>126.580387</td>\n",
       "      <td>306.076674</td>\n",
       "      <td>132.190304</td>\n",
       "      <td>160.034114</td>\n",
       "      <td>304.722544</td>\n",
       "      <td>145.787209</td>\n",
       "      <td>171.738784</td>\n",
       "      <td>NaN</td>\n",
       "      <td>NaN</td>\n",
       "      <td>704.015839</td>\n",
       "    </tr>\n",
       "    <tr>\n",
       "      <th>std</th>\n",
       "      <td>384.822064</td>\n",
       "      <td>137.644320</td>\n",
       "      <td>290.499983</td>\n",
       "      <td>129.069300</td>\n",
       "      <td>169.831844</td>\n",
       "      <td>288.722058</td>\n",
       "      <td>144.397493</td>\n",
       "      <td>183.240176</td>\n",
       "      <td>NaN</td>\n",
       "      <td>NaN</td>\n",
       "      <td>3196.759226</td>\n",
       "    </tr>\n",
       "    <tr>\n",
       "      <th>min</th>\n",
       "      <td>132.000000</td>\n",
       "      <td>20.845697</td>\n",
       "      <td>59.000000</td>\n",
       "      <td>26.000000</td>\n",
       "      <td>27.424500</td>\n",
       "      <td>59.000000</td>\n",
       "      <td>27.000000</td>\n",
       "      <td>28.473500</td>\n",
       "      <td>NaN</td>\n",
       "      <td>NaN</td>\n",
       "      <td>89.000000</td>\n",
       "    </tr>\n",
       "    <tr>\n",
       "      <th>25%</th>\n",
       "      <td>210.000000</td>\n",
       "      <td>33.897317</td>\n",
       "      <td>100.000000</td>\n",
       "      <td>41.000000</td>\n",
       "      <td>42.750225</td>\n",
       "      <td>100.000000</td>\n",
       "      <td>47.000000</td>\n",
       "      <td>47.828625</td>\n",
       "      <td>NaN</td>\n",
       "      <td>NaN</td>\n",
       "      <td>158.000000</td>\n",
       "    </tr>\n",
       "    <tr>\n",
       "      <th>50%</th>\n",
       "      <td>344.000000</td>\n",
       "      <td>71.289051</td>\n",
       "      <td>195.000000</td>\n",
       "      <td>82.000000</td>\n",
       "      <td>91.003300</td>\n",
       "      <td>194.000000</td>\n",
       "      <td>88.000000</td>\n",
       "      <td>102.829800</td>\n",
       "      <td>NaN</td>\n",
       "      <td>NaN</td>\n",
       "      <td>251.000000</td>\n",
       "    </tr>\n",
       "    <tr>\n",
       "      <th>75%</th>\n",
       "      <td>676.750000</td>\n",
       "      <td>172.255585</td>\n",
       "      <td>389.000000</td>\n",
       "      <td>174.000000</td>\n",
       "      <td>215.304850</td>\n",
       "      <td>387.000000</td>\n",
       "      <td>190.000000</td>\n",
       "      <td>227.240175</td>\n",
       "      <td>NaN</td>\n",
       "      <td>NaN</td>\n",
       "      <td>471.000000</td>\n",
       "    </tr>\n",
       "    <tr>\n",
       "      <th>max</th>\n",
       "      <td>1890.000000</td>\n",
       "      <td>828.324400</td>\n",
       "      <td>1471.000000</td>\n",
       "      <td>709.000000</td>\n",
       "      <td>969.257800</td>\n",
       "      <td>1454.000000</td>\n",
       "      <td>831.000000</td>\n",
       "      <td>1103.331000</td>\n",
       "      <td>NaN</td>\n",
       "      <td>NaN</td>\n",
       "      <td>39509.000000</td>\n",
       "    </tr>\n",
       "  </tbody>\n",
       "</table>\n",
       "</div>"
      ],
      "text/plain": [
       "       start_scan_to_end_scan  actual_distance_to_destination   actual_time  \\\n",
       "count            11078.000000                    11112.000000  11112.000000   \n",
       "mean               498.448817                      126.580387    306.076674   \n",
       "std                384.822064                      137.644320    290.499983   \n",
       "min                132.000000                       20.845697     59.000000   \n",
       "25%                210.000000                       33.897317    100.000000   \n",
       "50%                344.000000                       71.289051    195.000000   \n",
       "75%                676.750000                      172.255585    389.000000   \n",
       "max               1890.000000                      828.324400   1471.000000   \n",
       "\n",
       "          osrm_time  osrm_distance  segment_actual_time  segment_osrm_time  \\\n",
       "count  11077.000000   11112.000000         11054.000000       11086.000000   \n",
       "mean     132.190304     160.034114           304.722544         145.787209   \n",
       "std      129.069300     169.831844           288.722058         144.397493   \n",
       "min       26.000000      27.424500            59.000000          27.000000   \n",
       "25%       41.000000      42.750225           100.000000          47.000000   \n",
       "50%       82.000000      91.003300           194.000000          88.000000   \n",
       "75%      174.000000     215.304850           387.000000         190.000000   \n",
       "max      709.000000     969.257800          1454.000000         831.000000   \n",
       "\n",
       "       segment_osrm_distance  month_trip_creation  year_trip_creation  \\\n",
       "count           11112.000000                  0.0                 0.0   \n",
       "mean              171.738784                  NaN                 NaN   \n",
       "std               183.240176                  NaN                 NaN   \n",
       "min                28.473500                  NaN                 NaN   \n",
       "25%                47.828625                  NaN                 NaN   \n",
       "50%               102.829800                  NaN                 NaN   \n",
       "75%               227.240175                  NaN                 NaN   \n",
       "max              1103.331000                  NaN                 NaN   \n",
       "\n",
       "       od_time_diff  \n",
       "count  11112.000000  \n",
       "mean     704.015839  \n",
       "std     3196.759226  \n",
       "min       89.000000  \n",
       "25%      158.000000  \n",
       "50%      251.000000  \n",
       "75%      471.000000  \n",
       "max    39509.000000  "
      ]
     },
     "execution_count": 912,
     "metadata": {},
     "output_type": "execute_result"
    }
   ],
   "source": [
    "#statistical summary after removing outliers\n",
    "num_df.describe()"
   ]
  },
  {
   "cell_type": "code",
   "execution_count": 913,
   "id": "ebbad044",
   "metadata": {},
   "outputs": [
    {
     "data": {
      "text/plain": [
       "(11112, 11)"
      ]
     },
     "execution_count": 913,
     "metadata": {},
     "output_type": "execute_result"
    }
   ],
   "source": [
    "#shape of new data after removing outliers\n",
    "num_df.shape"
   ]
  },
  {
   "cell_type": "markdown",
   "id": "7161068a",
   "metadata": {},
   "source": [
    "# <span style='background :yellow' >One-hot encoding of categorical variables"
   ]
  },
  {
   "cell_type": "markdown",
   "id": "b5366e6b",
   "metadata": {},
   "source": [
    "###  <span style=\"color:green\">RESULTS / INSIGHTS:\n",
    "- **Encoded the categorical values to numerical**\n",
    "- **79% of the delivery are made in the same state**\n",
    "- **Route type (FTL/Carting)** has good relation with distance and time for ddelivery."
   ]
  },
  {
   "cell_type": "code",
   "execution_count": 914,
   "id": "ae2b2c2c",
   "metadata": {},
   "outputs": [],
   "source": [
    "encoding = df1.copy(deep = True)"
   ]
  },
  {
   "cell_type": "code",
   "execution_count": 915,
   "id": "dacb3c37",
   "metadata": {},
   "outputs": [
    {
     "data": {
      "text/plain": [
       "Index(['data', 'route_schedule_uuid', 'route_type', 'trip_uuid',\n",
       "       'source_center', 'destination_center', 'day_trip_creation',\n",
       "       'source_state', 'source_city', 'source_place', 'source_city_code',\n",
       "       'destination_state', 'destination_city', 'destination_place',\n",
       "       'destination_city_code'],\n",
       "      dtype='object')"
      ]
     },
     "execution_count": 915,
     "metadata": {},
     "output_type": "execute_result"
    }
   ],
   "source": [
    "cat_df.columns"
   ]
  },
  {
   "cell_type": "code",
   "execution_count": 916,
   "id": "3f1cfd48",
   "metadata": {},
   "outputs": [
    {
     "data": {
      "text/plain": [
       "Carting    8908\n",
       "FTL        5909\n",
       "Name: route_type, dtype: int64"
      ]
     },
     "execution_count": 916,
     "metadata": {},
     "output_type": "execute_result"
    }
   ],
   "source": [
    "encoding['route_type'].value_counts()"
   ]
  },
  {
   "cell_type": "code",
   "execution_count": 917,
   "id": "6113a184",
   "metadata": {},
   "outputs": [
    {
     "data": {
      "text/plain": [
       "0    8908\n",
       "1    5909\n",
       "Name: route_type, dtype: int64"
      ]
     },
     "execution_count": 917,
     "metadata": {},
     "output_type": "execute_result"
    }
   ],
   "source": [
    "from sklearn.preprocessing import LabelEncoder\n",
    "\n",
    "label_encoder = LabelEncoder()\n",
    "col = 'route_type'\n",
    "encoding[col] = label_encoder.fit_transform(encoding[col])\n",
    "encoding['route_type'].value_counts()"
   ]
  },
  {
   "cell_type": "code",
   "execution_count": 918,
   "id": "37a1b420",
   "metadata": {},
   "outputs": [
    {
     "data": {
      "text/plain": [
       "Saturday     3313\n",
       "Sunday       2502\n",
       "Thursday     2106\n",
       "Friday       2060\n",
       "Wednesday    1966\n",
       "Tuesday      1488\n",
       "Monday       1382\n",
       "Name: day_trip_creation, dtype: int64"
      ]
     },
     "execution_count": 918,
     "metadata": {},
     "output_type": "execute_result"
    }
   ],
   "source": [
    "encoding[\"day_trip_creation\"].value_counts()"
   ]
  },
  {
   "cell_type": "code",
   "execution_count": 919,
   "id": "f61c68cf",
   "metadata": {},
   "outputs": [
    {
     "data": {
      "text/plain": [
       "2    3313\n",
       "3    2502\n",
       "4    2106\n",
       "0    2060\n",
       "6    1966\n",
       "5    1488\n",
       "1    1382\n",
       "Name: day_trip_creation, dtype: int64"
      ]
     },
     "execution_count": 919,
     "metadata": {},
     "output_type": "execute_result"
    }
   ],
   "source": [
    "label_encoder = LabelEncoder()\n",
    "col = 'day_trip_creation'\n",
    "encoding[col] = label_encoder.fit_transform(encoding[col])\n",
    "encoding['day_trip_creation'].value_counts()"
   ]
  },
  {
   "cell_type": "code",
   "execution_count": 920,
   "id": "585c190a",
   "metadata": {
    "collapsed": true
   },
   "outputs": [
    {
     "data": {
      "text/plain": [
       "Maharashtra               2730\n",
       "Karnataka                 2143\n",
       "Haryana                   1838\n",
       "Tamil Nadu                1039\n",
       "Telangana                  781\n",
       "Uttar Pradesh              762\n",
       "Gujarat                    750\n",
       "Delhi                      728\n",
       "West Bengal                665\n",
       "Punjab                     536\n",
       "Rajasthan                  514\n",
       "Andhra Pradesh             434\n",
       "Bihar                      350\n",
       "Madhya Pradesh             317\n",
       "Kerala                     289\n",
       "Assam                      268\n",
       "Jharkhand                  160\n",
       "Uttarakhand                114\n",
       "Orissa                     107\n",
       "Chandigarh                  93\n",
       "Goa                         65\n",
       "Chhattisgarh                43\n",
       "Himachal Pradesh            34\n",
       "Jammu & Kashmir             17\n",
       "Dadra and Nagar Haveli      15\n",
       "Pondicherry                 12\n",
       "Nagaland                     5\n",
       "Arunachal Pradesh            4\n",
       "Mizoram                      4\n",
       "Name: source_state, dtype: int64"
      ]
     },
     "execution_count": 920,
     "metadata": {},
     "output_type": "execute_result"
    }
   ],
   "source": [
    "encoding[\"source_state\"].value_counts()"
   ]
  },
  {
   "cell_type": "code",
   "execution_count": 921,
   "id": "c809c03e",
   "metadata": {
    "collapsed": true
   },
   "outputs": [
    {
     "data": {
      "text/plain": [
       "17    2730\n",
       "14    2143\n",
       "10    1838\n",
       "24    1039\n",
       "25     781\n",
       "26     762\n",
       "9      750\n",
       "7      728\n",
       "28     665\n",
       "22     536\n",
       "23     514\n",
       "0      434\n",
       "3      350\n",
       "16     317\n",
       "15     289\n",
       "2      268\n",
       "13     160\n",
       "27     114\n",
       "20     107\n",
       "4       93\n",
       "8       65\n",
       "5       43\n",
       "11      34\n",
       "12      17\n",
       "6       15\n",
       "21      12\n",
       "19       5\n",
       "1        4\n",
       "18       4\n",
       "Name: source_state, dtype: int64"
      ]
     },
     "execution_count": 921,
     "metadata": {},
     "output_type": "execute_result"
    }
   ],
   "source": [
    "label_encoder = LabelEncoder()\n",
    "col = 'source_state'\n",
    "encoding[col] = label_encoder.fit_transform(encoding[col])\n",
    "encoding[\"source_state\"].value_counts()"
   ]
  },
  {
   "cell_type": "code",
   "execution_count": 922,
   "id": "3dc696d0",
   "metadata": {
    "collapsed": true
   },
   "outputs": [
    {
     "data": {
      "text/plain": [
       "Maharashtra               2588\n",
       "Karnataka                 2294\n",
       "Haryana                   1643\n",
       "Tamil Nadu                1084\n",
       "Uttar Pradesh              811\n",
       "Telangana                  784\n",
       "Gujarat                    734\n",
       "West Bengal                697\n",
       "Delhi                      652\n",
       "Punjab                     617\n",
       "Rajasthan                  543\n",
       "Andhra Pradesh             442\n",
       "Bihar                      365\n",
       "Madhya Pradesh             358\n",
       "Kerala                     270\n",
       "Assam                      232\n",
       "Jharkhand                  181\n",
       "Uttarakhand                122\n",
       "Orissa                     119\n",
       "Chandigarh                  65\n",
       "Goa                         52\n",
       "Chhattisgarh                43\n",
       "Himachal Pradesh            42\n",
       "Arunachal Pradesh           25\n",
       "Jammu & Kashmir             20\n",
       "Dadra and Nagar Haveli      17\n",
       "Meghalaya                    8\n",
       "Mizoram                      6\n",
       "Daman & Diu                  1\n",
       "Nagaland                     1\n",
       "Tripura                      1\n",
       "Name: destination_state, dtype: int64"
      ]
     },
     "execution_count": 922,
     "metadata": {},
     "output_type": "execute_result"
    }
   ],
   "source": [
    "encoding[\"destination_state\"].value_counts()"
   ]
  },
  {
   "cell_type": "code",
   "execution_count": 923,
   "id": "37e74aab",
   "metadata": {
    "collapsed": true
   },
   "outputs": [
    {
     "data": {
      "text/plain": [
       "18    2588\n",
       "15    2294\n",
       "11    1643\n",
       "25    1084\n",
       "28     811\n",
       "26     784\n",
       "10     734\n",
       "30     697\n",
       "8      652\n",
       "23     617\n",
       "24     543\n",
       "0      442\n",
       "3      365\n",
       "17     358\n",
       "16     270\n",
       "2      232\n",
       "14     181\n",
       "29     122\n",
       "22     119\n",
       "4       65\n",
       "9       52\n",
       "5       43\n",
       "12      42\n",
       "1       25\n",
       "13      20\n",
       "6       17\n",
       "19       8\n",
       "20       6\n",
       "7        1\n",
       "21       1\n",
       "27       1\n",
       "Name: destination_state, dtype: int64"
      ]
     },
     "execution_count": 923,
     "metadata": {},
     "output_type": "execute_result"
    }
   ],
   "source": [
    "label_encoder = LabelEncoder()\n",
    "col = 'destination_state'\n",
    "encoding[col] = label_encoder.fit_transform(encoding[col])\n",
    "encoding[\"destination_state\"].value_counts()"
   ]
  },
  {
   "cell_type": "code",
   "execution_count": 924,
   "id": "12946cb5",
   "metadata": {},
   "outputs": [],
   "source": [
    "encoding.drop(\"year_trip_creation\",axis = 1, inplace = True)"
   ]
  },
  {
   "cell_type": "code",
   "execution_count": 925,
   "id": "8164a37e",
   "metadata": {},
   "outputs": [
    {
     "data": {
      "text/plain": [
       "<AxesSubplot:>"
      ]
     },
     "execution_count": 925,
     "metadata": {},
     "output_type": "execute_result"
    },
    {
     "data": {
      "image/png": "[encoded data removed]",
      "text/plain": [
       "<Figure size 864x864 with 2 Axes>"
      ]
     },
     "metadata": {
      "needs_background": "light"
     },
     "output_type": "display_data"
    }
   ],
   "source": [
    "#Heatmaop to check the correlation between numerical columns\n",
    "plt.figure(figsize=(12, 12))\n",
    "sns.heatmap(encoding.corr(), annot = True)"
   ]
  },
  {
   "cell_type": "markdown",
   "id": "d6dc6ff6",
   "metadata": {},
   "source": [
    "# <span style='background :yellow' > Corridor Analysis:"
   ]
  },
  {
   "cell_type": "markdown",
   "id": "886c34c6",
   "metadata": {},
   "source": [
    "###  <span style=\"color:green\">RESULTS / INSIGHTS:\n",
    "- Busiest Corridor for city - **Bangalore to Bangalore**\n",
    "- Busiest State Corridor - **Maharashtra > Karnataka**\n",
    "- Highest time taken among the busiest cities is in Bangalore **75-85mins** per delivery"
   ]
  },
  {
   "cell_type": "code",
   "execution_count": 926,
   "id": "1415a2a9",
   "metadata": {},
   "outputs": [
    {
     "name": "stdout",
     "output_type": "stream",
     "text": [
      "Maharashtra-Maharashtra       2454\n",
      "Karnataka-Karnataka           2056\n",
      "Tamil Nadu-Tamil Nadu         1021\n",
      "Haryana-Haryana                949\n",
      "Telangana-Telangana            685\n",
      "                              ... \n",
      "Orissa-Andhra Pradesh            1\n",
      "Assam-Nagaland                   1\n",
      "Madhya Pradesh-Maharashtra       1\n",
      "Haryana-Andhra Pradesh           1\n",
      "Karnataka-Goa                    1\n",
      "Length: 145, dtype: int64\n"
     ]
    }
   ],
   "source": [
    "#combining source and destionation state, to get the state corridor\n",
    "state_corridor =  df1[\"source_state\"] +\"-\"+ df1[\"destination_state\"]\n",
    "print(state_corridor.value_counts())"
   ]
  },
  {
   "cell_type": "code",
   "execution_count": 927,
   "id": "c90c7209",
   "metadata": {
    "scrolled": true
   },
   "outputs": [
    {
     "name": "stdout",
     "output_type": "stream",
     "text": [
      "Bengaluru-Bengaluru    581\n",
      "Bangalore-Bengaluru    455\n",
      "Hyderabad-Hyderabad    355\n",
      "Mumbai-Mumbai          339\n",
      "Bhiwandi-Mumbai        332\n",
      "                      ... \n",
      "GGN-Delhi                1\n",
      "Delhi-Lucknow            1\n",
      "Faizabad-Gosainganj      1\n",
      "Gurgaon-Vijayawada       1\n",
      "Gwalior-Ambah            1\n",
      "Length: 1765, dtype: int64\n"
     ]
    }
   ],
   "source": [
    "#combining source and destionation city, to get the city corridor\n",
    "city_corridor = df1[\"source_city\"] +\"-\"+ df1[\"destination_city\"]\n",
    "print(city_corridor.value_counts())"
   ]
  },
  {
   "cell_type": "code",
   "execution_count": 928,
   "id": "ed8e3f4a",
   "metadata": {},
   "outputs": [],
   "source": [
    "#add feature of city corridor in the data\n",
    "df1[\"city_corridor\"] = city_corridor"
   ]
  },
  {
   "cell_type": "code",
   "execution_count": 929,
   "id": "bcded363",
   "metadata": {},
   "outputs": [
    {
     "data": {
      "text/html": [
       "<div>\n",
       "<style scoped>\n",
       "    .dataframe tbody tr th:only-of-type {\n",
       "        vertical-align: middle;\n",
       "    }\n",
       "\n",
       "    .dataframe tbody tr th {\n",
       "        vertical-align: top;\n",
       "    }\n",
       "\n",
       "    .dataframe thead th {\n",
       "        text-align: right;\n",
       "    }\n",
       "</style>\n",
       "<table border=\"1\" class=\"dataframe\">\n",
       "  <thead>\n",
       "    <tr style=\"text-align: right;\">\n",
       "      <th></th>\n",
       "      <th>route_type</th>\n",
       "      <th>segment_actual_time</th>\n",
       "      <th>actual_distance_to_destination</th>\n",
       "      <th>city_corridor</th>\n",
       "    </tr>\n",
       "  </thead>\n",
       "  <tbody>\n",
       "    <tr>\n",
       "      <th>0</th>\n",
       "      <td>Carting</td>\n",
       "      <td>24.0</td>\n",
       "      <td>9.794329</td>\n",
       "      <td>Parakkdavu-Mundakayam</td>\n",
       "    </tr>\n",
       "    <tr>\n",
       "      <th>1</th>\n",
       "      <td>FTL</td>\n",
       "      <td>658.0</td>\n",
       "      <td>143.657489</td>\n",
       "      <td>Raxaul-Raxaul</td>\n",
       "    </tr>\n",
       "    <tr>\n",
       "      <th>2</th>\n",
       "      <td>FTL</td>\n",
       "      <td>638.0</td>\n",
       "      <td>205.350873</td>\n",
       "      <td>Muzaffrpur-Muzaffrpur</td>\n",
       "    </tr>\n",
       "    <tr>\n",
       "      <th>3</th>\n",
       "      <td>Carting</td>\n",
       "      <td>38.0</td>\n",
       "      <td>13.512135</td>\n",
       "      <td>Pune-PNQ Rahatani DPC</td>\n",
       "    </tr>\n",
       "    <tr>\n",
       "      <th>4</th>\n",
       "      <td>Carting</td>\n",
       "      <td>233.0</td>\n",
       "      <td>170.129587</td>\n",
       "      <td>Manamelkudi-Thiruvadanai</td>\n",
       "    </tr>\n",
       "  </tbody>\n",
       "</table>\n",
       "</div>"
      ],
      "text/plain": [
       "  route_type  segment_actual_time  actual_distance_to_destination  \\\n",
       "0    Carting                 24.0                        9.794329   \n",
       "1        FTL                658.0                      143.657489   \n",
       "2        FTL                638.0                      205.350873   \n",
       "3    Carting                 38.0                       13.512135   \n",
       "4    Carting                233.0                      170.129587   \n",
       "\n",
       "              city_corridor  \n",
       "0     Parakkdavu-Mundakayam  \n",
       "1             Raxaul-Raxaul  \n",
       "2     Muzaffrpur-Muzaffrpur  \n",
       "3    Pune-PNQ Rahatani DPC   \n",
       "4  Manamelkudi-Thiruvadanai  "
      ]
     },
     "execution_count": 929,
     "metadata": {},
     "output_type": "execute_result"
    }
   ],
   "source": [
    "#included the route type to get better insights in average of corridor\n",
    "corridor = df1[[\"route_type\",'segment_actual_time','actual_distance_to_destination',\"city_corridor\"]]\n",
    "corridor.head()"
   ]
  },
  {
   "cell_type": "code",
   "execution_count": 930,
   "id": "4e89112c",
   "metadata": {},
   "outputs": [
    {
     "data": {
      "text/html": [
       "<div>\n",
       "<style scoped>\n",
       "    .dataframe tbody tr th:only-of-type {\n",
       "        vertical-align: middle;\n",
       "    }\n",
       "\n",
       "    .dataframe tbody tr th {\n",
       "        vertical-align: top;\n",
       "    }\n",
       "\n",
       "    .dataframe thead th {\n",
       "        text-align: right;\n",
       "    }\n",
       "</style>\n",
       "<table border=\"1\" class=\"dataframe\">\n",
       "  <thead>\n",
       "    <tr style=\"text-align: right;\">\n",
       "      <th></th>\n",
       "      <th>segment_actual_time</th>\n",
       "      <th>actual_distance_to_destination</th>\n",
       "    </tr>\n",
       "  </thead>\n",
       "  <tbody>\n",
       "    <tr>\n",
       "      <th>count</th>\n",
       "      <td>1809.000000</td>\n",
       "      <td>1809.000000</td>\n",
       "    </tr>\n",
       "    <tr>\n",
       "      <th>mean</th>\n",
       "      <td>372.558251</td>\n",
       "      <td>159.630288</td>\n",
       "    </tr>\n",
       "    <tr>\n",
       "      <th>std</th>\n",
       "      <td>451.156795</td>\n",
       "      <td>226.363509</td>\n",
       "    </tr>\n",
       "    <tr>\n",
       "      <th>min</th>\n",
       "      <td>11.500000</td>\n",
       "      <td>9.027513</td>\n",
       "    </tr>\n",
       "    <tr>\n",
       "      <th>25%</th>\n",
       "      <td>118.666667</td>\n",
       "      <td>48.186140</td>\n",
       "    </tr>\n",
       "    <tr>\n",
       "      <th>50%</th>\n",
       "      <td>242.000000</td>\n",
       "      <td>97.417902</td>\n",
       "    </tr>\n",
       "    <tr>\n",
       "      <th>75%</th>\n",
       "      <td>442.000000</td>\n",
       "      <td>178.521970</td>\n",
       "    </tr>\n",
       "    <tr>\n",
       "      <th>max</th>\n",
       "      <td>5032.000000</td>\n",
       "      <td>2061.156970</td>\n",
       "    </tr>\n",
       "  </tbody>\n",
       "</table>\n",
       "</div>"
      ],
      "text/plain": [
       "       segment_actual_time  actual_distance_to_destination\n",
       "count          1809.000000                     1809.000000\n",
       "mean            372.558251                      159.630288\n",
       "std             451.156795                      226.363509\n",
       "min              11.500000                        9.027513\n",
       "25%             118.666667                       48.186140\n",
       "50%             242.000000                       97.417902\n",
       "75%             442.000000                      178.521970\n",
       "max            5032.000000                     2061.156970"
      ]
     },
     "execution_count": 930,
     "metadata": {},
     "output_type": "execute_result"
    }
   ],
   "source": [
    "# average for each corridors\n",
    "avg_corridor = corridor.groupby([\"city_corridor\", \"route_type\"], as_index=False).agg({\"segment_actual_time\":\"mean\",\"actual_distance_to_destination\":\"mean\"})\n",
    "avg_corridor.describe()"
   ]
  },
  {
   "cell_type": "code",
   "execution_count": 931,
   "id": "1bb1e636",
   "metadata": {},
   "outputs": [],
   "source": [
    "#speed: km/min to check the average speed taken to delivery from A-B\n",
    "avg_corridor[\"delivery_speed\"] = (avg_corridor[\"actual_distance_to_destination\"]/avg_corridor[\"segment_actual_time\"])"
   ]
  },
  {
   "cell_type": "code",
   "execution_count": 932,
   "id": "c24053b3",
   "metadata": {},
   "outputs": [
    {
     "data": {
      "text/html": [
       "<div>\n",
       "<style scoped>\n",
       "    .dataframe tbody tr th:only-of-type {\n",
       "        vertical-align: middle;\n",
       "    }\n",
       "\n",
       "    .dataframe tbody tr th {\n",
       "        vertical-align: top;\n",
       "    }\n",
       "\n",
       "    .dataframe thead th {\n",
       "        text-align: right;\n",
       "    }\n",
       "</style>\n",
       "<table border=\"1\" class=\"dataframe\">\n",
       "  <thead>\n",
       "    <tr style=\"text-align: right;\">\n",
       "      <th></th>\n",
       "      <th>city_corridor</th>\n",
       "      <th>route_type</th>\n",
       "      <th>segment_actual_time</th>\n",
       "      <th>actual_distance_to_destination</th>\n",
       "      <th>delivery_speed</th>\n",
       "    </tr>\n",
       "  </thead>\n",
       "  <tbody>\n",
       "    <tr>\n",
       "      <th>225</th>\n",
       "      <td>Bengaluru-Bengaluru</td>\n",
       "      <td>Carting</td>\n",
       "      <td>84.285455</td>\n",
       "      <td>31.037137</td>\n",
       "      <td>0.368238</td>\n",
       "    </tr>\n",
       "    <tr>\n",
       "      <th>226</th>\n",
       "      <td>Bengaluru-Bengaluru</td>\n",
       "      <td>FTL</td>\n",
       "      <td>623.000000</td>\n",
       "      <td>317.192086</td>\n",
       "      <td>0.509137</td>\n",
       "    </tr>\n",
       "  </tbody>\n",
       "</table>\n",
       "</div>"
      ],
      "text/plain": [
       "           city_corridor route_type  segment_actual_time  \\\n",
       "225  Bengaluru-Bengaluru    Carting            84.285455   \n",
       "226  Bengaluru-Bengaluru        FTL           623.000000   \n",
       "\n",
       "     actual_distance_to_destination  delivery_speed  \n",
       "225                       31.037137        0.368238  \n",
       "226                      317.192086        0.509137  "
      ]
     },
     "execution_count": 932,
     "metadata": {},
     "output_type": "execute_result"
    }
   ],
   "source": [
    "avg_corridor[(avg_corridor[\"city_corridor\"]==\"Bengaluru-Bengaluru\")]"
   ]
  },
  {
   "cell_type": "code",
   "execution_count": 933,
   "id": "bb6d3ced",
   "metadata": {},
   "outputs": [
    {
     "data": {
      "text/html": [
       "<div>\n",
       "<style scoped>\n",
       "    .dataframe tbody tr th:only-of-type {\n",
       "        vertical-align: middle;\n",
       "    }\n",
       "\n",
       "    .dataframe tbody tr th {\n",
       "        vertical-align: top;\n",
       "    }\n",
       "\n",
       "    .dataframe thead th {\n",
       "        text-align: right;\n",
       "    }\n",
       "</style>\n",
       "<table border=\"1\" class=\"dataframe\">\n",
       "  <thead>\n",
       "    <tr style=\"text-align: right;\">\n",
       "      <th></th>\n",
       "      <th>city_corridor</th>\n",
       "      <th>route_type</th>\n",
       "      <th>segment_actual_time</th>\n",
       "      <th>actual_distance_to_destination</th>\n",
       "      <th>delivery_speed</th>\n",
       "    </tr>\n",
       "  </thead>\n",
       "  <tbody>\n",
       "    <tr>\n",
       "      <th>165</th>\n",
       "      <td>Bangalore-Bengaluru</td>\n",
       "      <td>Carting</td>\n",
       "      <td>76.353468</td>\n",
       "      <td>26.830229</td>\n",
       "      <td>0.351395</td>\n",
       "    </tr>\n",
       "    <tr>\n",
       "      <th>166</th>\n",
       "      <td>Bangalore-Bengaluru</td>\n",
       "      <td>FTL</td>\n",
       "      <td>91.250000</td>\n",
       "      <td>39.673646</td>\n",
       "      <td>0.434780</td>\n",
       "    </tr>\n",
       "  </tbody>\n",
       "</table>\n",
       "</div>"
      ],
      "text/plain": [
       "           city_corridor route_type  segment_actual_time  \\\n",
       "165  Bangalore-Bengaluru    Carting            76.353468   \n",
       "166  Bangalore-Bengaluru        FTL            91.250000   \n",
       "\n",
       "     actual_distance_to_destination  delivery_speed  \n",
       "165                       26.830229        0.351395  \n",
       "166                       39.673646        0.434780  "
      ]
     },
     "execution_count": 933,
     "metadata": {},
     "output_type": "execute_result"
    }
   ],
   "source": [
    "avg_corridor[(avg_corridor[\"city_corridor\"]==\"Bangalore-Bengaluru\")]"
   ]
  },
  {
   "cell_type": "code",
   "execution_count": 934,
   "id": "6053e015",
   "metadata": {},
   "outputs": [
    {
     "data": {
      "text/html": [
       "<div>\n",
       "<style scoped>\n",
       "    .dataframe tbody tr th:only-of-type {\n",
       "        vertical-align: middle;\n",
       "    }\n",
       "\n",
       "    .dataframe tbody tr th {\n",
       "        vertical-align: top;\n",
       "    }\n",
       "\n",
       "    .dataframe thead th {\n",
       "        text-align: right;\n",
       "    }\n",
       "</style>\n",
       "<table border=\"1\" class=\"dataframe\">\n",
       "  <thead>\n",
       "    <tr style=\"text-align: right;\">\n",
       "      <th></th>\n",
       "      <th>city_corridor</th>\n",
       "      <th>route_type</th>\n",
       "      <th>segment_actual_time</th>\n",
       "      <th>actual_distance_to_destination</th>\n",
       "      <th>delivery_speed</th>\n",
       "    </tr>\n",
       "  </thead>\n",
       "  <tbody>\n",
       "    <tr>\n",
       "      <th>803</th>\n",
       "      <td>Hyderabad-Hyderabad</td>\n",
       "      <td>Carting</td>\n",
       "      <td>105.747664</td>\n",
       "      <td>25.727989</td>\n",
       "      <td>0.243296</td>\n",
       "    </tr>\n",
       "    <tr>\n",
       "      <th>804</th>\n",
       "      <td>Hyderabad-Hyderabad</td>\n",
       "      <td>FTL</td>\n",
       "      <td>580.911765</td>\n",
       "      <td>342.766466</td>\n",
       "      <td>0.590049</td>\n",
       "    </tr>\n",
       "  </tbody>\n",
       "</table>\n",
       "</div>"
      ],
      "text/plain": [
       "           city_corridor route_type  segment_actual_time  \\\n",
       "803  Hyderabad-Hyderabad    Carting           105.747664   \n",
       "804  Hyderabad-Hyderabad        FTL           580.911765   \n",
       "\n",
       "     actual_distance_to_destination  delivery_speed  \n",
       "803                       25.727989        0.243296  \n",
       "804                      342.766466        0.590049  "
      ]
     },
     "execution_count": 934,
     "metadata": {},
     "output_type": "execute_result"
    }
   ],
   "source": [
    "avg_corridor[(avg_corridor[\"city_corridor\"]==\"Hyderabad-Hyderabad\")]"
   ]
  },
  {
   "cell_type": "code",
   "execution_count": 935,
   "id": "a99cad51",
   "metadata": {},
   "outputs": [
    {
     "data": {
      "text/html": [
       "<div>\n",
       "<style scoped>\n",
       "    .dataframe tbody tr th:only-of-type {\n",
       "        vertical-align: middle;\n",
       "    }\n",
       "\n",
       "    .dataframe tbody tr th {\n",
       "        vertical-align: top;\n",
       "    }\n",
       "\n",
       "    .dataframe thead th {\n",
       "        text-align: right;\n",
       "    }\n",
       "</style>\n",
       "<table border=\"1\" class=\"dataframe\">\n",
       "  <thead>\n",
       "    <tr style=\"text-align: right;\">\n",
       "      <th></th>\n",
       "      <th>city_corridor</th>\n",
       "      <th>route_type</th>\n",
       "      <th>segment_actual_time</th>\n",
       "      <th>actual_distance_to_destination</th>\n",
       "      <th>delivery_speed</th>\n",
       "    </tr>\n",
       "  </thead>\n",
       "  <tbody>\n",
       "    <tr>\n",
       "      <th>1236</th>\n",
       "      <td>Mumbai-Mumbai</td>\n",
       "      <td>Carting</td>\n",
       "      <td>93.138643</td>\n",
       "      <td>21.750017</td>\n",
       "      <td>0.233523</td>\n",
       "    </tr>\n",
       "  </tbody>\n",
       "</table>\n",
       "</div>"
      ],
      "text/plain": [
       "      city_corridor route_type  segment_actual_time  \\\n",
       "1236  Mumbai-Mumbai    Carting            93.138643   \n",
       "\n",
       "      actual_distance_to_destination  delivery_speed  \n",
       "1236                       21.750017        0.233523  "
      ]
     },
     "execution_count": 935,
     "metadata": {},
     "output_type": "execute_result"
    }
   ],
   "source": [
    "avg_corridor[(avg_corridor[\"city_corridor\"]==\"Mumbai-Mumbai\")]"
   ]
  },
  {
   "cell_type": "code",
   "execution_count": 936,
   "id": "d6b79ab3",
   "metadata": {},
   "outputs": [
    {
     "data": {
      "text/html": [
       "<div>\n",
       "<style scoped>\n",
       "    .dataframe tbody tr th:only-of-type {\n",
       "        vertical-align: middle;\n",
       "    }\n",
       "\n",
       "    .dataframe tbody tr th {\n",
       "        vertical-align: top;\n",
       "    }\n",
       "\n",
       "    .dataframe thead th {\n",
       "        text-align: right;\n",
       "    }\n",
       "</style>\n",
       "<table border=\"1\" class=\"dataframe\">\n",
       "  <thead>\n",
       "    <tr style=\"text-align: right;\">\n",
       "      <th></th>\n",
       "      <th>city_corridor</th>\n",
       "      <th>route_type</th>\n",
       "      <th>segment_actual_time</th>\n",
       "      <th>actual_distance_to_destination</th>\n",
       "      <th>delivery_speed</th>\n",
       "    </tr>\n",
       "  </thead>\n",
       "  <tbody>\n",
       "    <tr>\n",
       "      <th>291</th>\n",
       "      <td>Bhiwandi-Mumbai</td>\n",
       "      <td>Carting</td>\n",
       "      <td>77.786145</td>\n",
       "      <td>23.004948</td>\n",
       "      <td>0.295746</td>\n",
       "    </tr>\n",
       "  </tbody>\n",
       "</table>\n",
       "</div>"
      ],
      "text/plain": [
       "       city_corridor route_type  segment_actual_time  \\\n",
       "291  Bhiwandi-Mumbai    Carting            77.786145   \n",
       "\n",
       "     actual_distance_to_destination  delivery_speed  \n",
       "291                       23.004948        0.295746  "
      ]
     },
     "execution_count": 936,
     "metadata": {},
     "output_type": "execute_result"
    }
   ],
   "source": [
    "avg_corridor[(avg_corridor[\"city_corridor\"]==\"Bhiwandi-Mumbai\")]"
   ]
  },
  {
   "cell_type": "code",
   "execution_count": 937,
   "id": "f2380b8f",
   "metadata": {},
   "outputs": [
    {
     "data": {
      "text/html": [
       "<div>\n",
       "<style scoped>\n",
       "    .dataframe tbody tr th:only-of-type {\n",
       "        vertical-align: middle;\n",
       "    }\n",
       "\n",
       "    .dataframe tbody tr th {\n",
       "        vertical-align: top;\n",
       "    }\n",
       "\n",
       "    .dataframe thead th {\n",
       "        text-align: right;\n",
       "    }\n",
       "</style>\n",
       "<table border=\"1\" class=\"dataframe\">\n",
       "  <thead>\n",
       "    <tr style=\"text-align: right;\">\n",
       "      <th></th>\n",
       "      <th>segment_actual_time</th>\n",
       "      <th>actual_distance_to_destination</th>\n",
       "      <th>delivery_speed</th>\n",
       "    </tr>\n",
       "  </thead>\n",
       "  <tbody>\n",
       "    <tr>\n",
       "      <th>count</th>\n",
       "      <td>1809.000000</td>\n",
       "      <td>1809.000000</td>\n",
       "      <td>1809.000000</td>\n",
       "    </tr>\n",
       "    <tr>\n",
       "      <th>mean</th>\n",
       "      <td>372.558251</td>\n",
       "      <td>159.630288</td>\n",
       "      <td>0.439313</td>\n",
       "    </tr>\n",
       "    <tr>\n",
       "      <th>std</th>\n",
       "      <td>451.156795</td>\n",
       "      <td>226.363509</td>\n",
       "      <td>0.156361</td>\n",
       "    </tr>\n",
       "    <tr>\n",
       "      <th>min</th>\n",
       "      <td>11.500000</td>\n",
       "      <td>9.027513</td>\n",
       "      <td>0.014118</td>\n",
       "    </tr>\n",
       "    <tr>\n",
       "      <th>25%</th>\n",
       "      <td>118.666667</td>\n",
       "      <td>48.186140</td>\n",
       "      <td>0.337852</td>\n",
       "    </tr>\n",
       "    <tr>\n",
       "      <th>50%</th>\n",
       "      <td>242.000000</td>\n",
       "      <td>97.417902</td>\n",
       "      <td>0.444705</td>\n",
       "    </tr>\n",
       "    <tr>\n",
       "      <th>75%</th>\n",
       "      <td>442.000000</td>\n",
       "      <td>178.521970</td>\n",
       "      <td>0.548132</td>\n",
       "    </tr>\n",
       "    <tr>\n",
       "      <th>max</th>\n",
       "      <td>5032.000000</td>\n",
       "      <td>2061.156970</td>\n",
       "      <td>0.954197</td>\n",
       "    </tr>\n",
       "  </tbody>\n",
       "</table>\n",
       "</div>"
      ],
      "text/plain": [
       "       segment_actual_time  actual_distance_to_destination  delivery_speed\n",
       "count          1809.000000                     1809.000000     1809.000000\n",
       "mean            372.558251                      159.630288        0.439313\n",
       "std             451.156795                      226.363509        0.156361\n",
       "min              11.500000                        9.027513        0.014118\n",
       "25%             118.666667                       48.186140        0.337852\n",
       "50%             242.000000                       97.417902        0.444705\n",
       "75%             442.000000                      178.521970        0.548132\n",
       "max            5032.000000                     2061.156970        0.954197"
      ]
     },
     "execution_count": 937,
     "metadata": {},
     "output_type": "execute_result"
    }
   ],
   "source": [
    "avg_corridor.describe()"
   ]
  },
  {
   "cell_type": "code",
   "execution_count": 938,
   "id": "7b4e798b",
   "metadata": {},
   "outputs": [
    {
     "data": {
      "text/plain": [
       "<AxesSubplot:xlabel='delivery_speed', ylabel='Count'>"
      ]
     },
     "execution_count": 938,
     "metadata": {},
     "output_type": "execute_result"
    },
    {
     "data": {
      "image/png": "[encoded data removed]",
      "text/plain": [
       "<Figure size 432x288 with 1 Axes>"
      ]
     },
     "metadata": {
      "needs_background": "light"
     },
     "output_type": "display_data"
    }
   ],
   "source": [
    "# distribution of average time taken for delivery\n",
    "sns.histplot(avg_corridor[\"delivery_speed\"])"
   ]
  },
  {
   "cell_type": "markdown",
   "id": "dc99fc5f",
   "metadata": {},
   "source": [
    "# <span style='background :yellow' > Column Standarization and Normalizationm"
   ]
  },
  {
   "cell_type": "code",
   "execution_count": 939,
   "id": "dd99d280",
   "metadata": {},
   "outputs": [],
   "source": [
    "encoded_num = encoding.select_dtypes(include=numerics)"
   ]
  },
  {
   "cell_type": "code",
   "execution_count": 940,
   "id": "b2153dbd",
   "metadata": {},
   "outputs": [
    {
     "data": {
      "text/html": [
       "<div>\n",
       "<style scoped>\n",
       "    .dataframe tbody tr th:only-of-type {\n",
       "        vertical-align: middle;\n",
       "    }\n",
       "\n",
       "    .dataframe tbody tr th {\n",
       "        vertical-align: top;\n",
       "    }\n",
       "\n",
       "    .dataframe thead th {\n",
       "        text-align: right;\n",
       "    }\n",
       "</style>\n",
       "<table border=\"1\" class=\"dataframe\">\n",
       "  <thead>\n",
       "    <tr style=\"text-align: right;\">\n",
       "      <th></th>\n",
       "      <th>route_type</th>\n",
       "      <th>start_scan_to_end_scan</th>\n",
       "      <th>actual_distance_to_destination</th>\n",
       "      <th>actual_time</th>\n",
       "      <th>osrm_time</th>\n",
       "      <th>osrm_distance</th>\n",
       "      <th>segment_actual_time</th>\n",
       "      <th>segment_osrm_time</th>\n",
       "      <th>segment_osrm_distance</th>\n",
       "      <th>day_trip_creation</th>\n",
       "      <th>month_trip_creation</th>\n",
       "      <th>source_state</th>\n",
       "      <th>destination_state</th>\n",
       "      <th>od_time_diff</th>\n",
       "    </tr>\n",
       "  </thead>\n",
       "  <tbody>\n",
       "    <tr>\n",
       "      <th>0</th>\n",
       "      <td>-0.814455</td>\n",
       "      <td>-0.743605</td>\n",
       "      <td>-0.506539</td>\n",
       "      <td>-0.593448</td>\n",
       "      <td>-0.561580</td>\n",
       "      <td>-0.516924</td>\n",
       "      <td>-0.593087</td>\n",
       "      <td>-0.546686</td>\n",
       "      <td>-0.504817</td>\n",
       "      <td>1.631436</td>\n",
       "      <td>-2.996847</td>\n",
       "      <td>-0.105492</td>\n",
       "      <td>-0.138864</td>\n",
       "      <td>-0.178280</td>\n",
       "    </tr>\n",
       "    <tr>\n",
       "      <th>1</th>\n",
       "      <td>1.227815</td>\n",
       "      <td>1.087232</td>\n",
       "      <td>-0.068187</td>\n",
       "      <td>0.541241</td>\n",
       "      <td>-0.111980</td>\n",
       "      <td>-0.056136</td>\n",
       "      <td>0.546731</td>\n",
       "      <td>-0.041172</td>\n",
       "      <td>0.035140</td>\n",
       "      <td>1.631436</td>\n",
       "      <td>-2.996847</td>\n",
       "      <td>-1.753879</td>\n",
       "      <td>-1.843441</td>\n",
       "      <td>-0.179295</td>\n",
       "    </tr>\n",
       "    <tr>\n",
       "      <th>2</th>\n",
       "      <td>1.227815</td>\n",
       "      <td>1.509266</td>\n",
       "      <td>0.133836</td>\n",
       "      <td>0.505615</td>\n",
       "      <td>0.112821</td>\n",
       "      <td>0.067161</td>\n",
       "      <td>0.510775</td>\n",
       "      <td>0.028774</td>\n",
       "      <td>0.014790</td>\n",
       "      <td>1.631436</td>\n",
       "      <td>-2.996847</td>\n",
       "      <td>-1.753879</td>\n",
       "      <td>-1.843441</td>\n",
       "      <td>0.902064</td>\n",
       "    </tr>\n",
       "    <tr>\n",
       "      <th>3</th>\n",
       "      <td>-0.814455</td>\n",
       "      <td>-0.717797</td>\n",
       "      <td>-0.494364</td>\n",
       "      <td>-0.568509</td>\n",
       "      <td>-0.539469</td>\n",
       "      <td>-0.503872</td>\n",
       "      <td>-0.567917</td>\n",
       "      <td>-0.530789</td>\n",
       "      <td>-0.493213</td>\n",
       "      <td>1.631436</td>\n",
       "      <td>-2.996847</td>\n",
       "      <td>0.169239</td>\n",
       "      <td>0.123378</td>\n",
       "      <td>-0.177893</td>\n",
       "    </tr>\n",
       "    <tr>\n",
       "      <th>4</th>\n",
       "      <td>-0.814455</td>\n",
       "      <td>-0.154579</td>\n",
       "      <td>0.018499</td>\n",
       "      <td>-0.203343</td>\n",
       "      <td>-0.008793</td>\n",
       "      <td>-0.005234</td>\n",
       "      <td>-0.217343</td>\n",
       "      <td>-0.098400</td>\n",
       "      <td>-0.049909</td>\n",
       "      <td>1.631436</td>\n",
       "      <td>-2.996847</td>\n",
       "      <td>1.130797</td>\n",
       "      <td>1.041227</td>\n",
       "      <td>-0.176128</td>\n",
       "    </tr>\n",
       "  </tbody>\n",
       "</table>\n",
       "</div>"
      ],
      "text/plain": [
       "   route_type  start_scan_to_end_scan  actual_distance_to_destination  \\\n",
       "0   -0.814455               -0.743605                       -0.506539   \n",
       "1    1.227815                1.087232                       -0.068187   \n",
       "2    1.227815                1.509266                        0.133836   \n",
       "3   -0.814455               -0.717797                       -0.494364   \n",
       "4   -0.814455               -0.154579                        0.018499   \n",
       "\n",
       "   actual_time  osrm_time  osrm_distance  segment_actual_time  \\\n",
       "0    -0.593448  -0.561580      -0.516924            -0.593087   \n",
       "1     0.541241  -0.111980      -0.056136             0.546731   \n",
       "2     0.505615   0.112821       0.067161             0.510775   \n",
       "3    -0.568509  -0.539469      -0.503872            -0.567917   \n",
       "4    -0.203343  -0.008793      -0.005234            -0.217343   \n",
       "\n",
       "   segment_osrm_time  segment_osrm_distance  day_trip_creation  \\\n",
       "0          -0.546686              -0.504817           1.631436   \n",
       "1          -0.041172               0.035140           1.631436   \n",
       "2           0.028774               0.014790           1.631436   \n",
       "3          -0.530789              -0.493213           1.631436   \n",
       "4          -0.098400              -0.049909           1.631436   \n",
       "\n",
       "   month_trip_creation  source_state  destination_state  od_time_diff  \n",
       "0            -2.996847     -0.105492          -0.138864     -0.178280  \n",
       "1            -2.996847     -1.753879          -1.843441     -0.179295  \n",
       "2            -2.996847     -1.753879          -1.843441      0.902064  \n",
       "3            -2.996847      0.169239           0.123378     -0.177893  \n",
       "4            -2.996847      1.130797           1.041227     -0.176128  "
      ]
     },
     "execution_count": 940,
     "metadata": {},
     "output_type": "execute_result"
    }
   ],
   "source": [
    "#standardizing the numerical data\n",
    "from sklearn.preprocessing import StandardScaler, MinMaxScaler\n",
    "\n",
    "scaler = StandardScaler()\n",
    "std_data = scaler.fit_transform(encoded_num)\n",
    "std_data = pd.DataFrame(std_data, columns=encoded_num.columns)\n",
    "std_data.head()"
   ]
  },
  {
   "cell_type": "markdown",
   "id": "b17817a9",
   "metadata": {},
   "source": [
    "# <span style='background :yellow' > Recommendataions:"
   ]
  },
  {
   "cell_type": "markdown",
   "id": "433d62de",
   "metadata": {},
   "source": [
    "###  <span style=\"color:green\"> Period:\n",
    "- **September** is the busiest month as per the data. During this month, the company shall bring in more vehicles as per the busiest corridor.\n",
    "- **Weekend** has the highest deliveries to be made, contractual employees and transport will be cost saving."
   ]
  },
  {
   "cell_type": "markdown",
   "id": "c4fc3609",
   "metadata": {},
   "source": [
    "###  <span style=\"color:green\"> Logistics:\n",
    "- **Average speed from source-destination is 44mins**, and highest can be seen in Bangalore city. As it's known that Bangalore traffic is always busyThis can be reduced to 25mins by increasing efficiency osrm and increasing transport to carter the Bangalore market.\n",
    "-  **FTL is taking more time compared to Carting**, if this can be converted to carting then it will make a huge difference in faster delivery. Also, FTL takes longer to reach due the transport vehicle size on road.\n",
    "- **Improvement in OSRM time** can bring in efficiency and productivity\n",
    "- **Average distance is 160kms**, this can be reduced by breaking the logistics chain in smaller route\n",
    "- **Optimize delivery routes by hiring local delivery person, who is efficient in locating shorter routes**\n",
    "- **Efficient Routing Map** for drivers can help them locate and avoid traffic in the cities."
   ]
  },
  {
   "cell_type": "markdown",
   "id": "0f9ddb43",
   "metadata": {},
   "source": [
    "###  <span style=\"color:green\"> Corridor / Location:\n",
    "- **Busiest corridor is Bangalore > Hyderabad > Mumbai**. These corridors shall focused more by bringing in automation in delivery time prediction and efficient transport service.\n",
    "- Supply chain in city like Bangalore can be breaked in **smaller distances** to bringing in efficiency. \n",
    "- **Scheduling drivers in advance**, for citied like Bangalore, Hyderabad, Mumbai.\n",
    "- **Priortize the delivery, by adjusting routes and keep changing it as per the priority.**\n",
    "- **Tamil Nadu and Haryana seems next potential states and can be targeted further by bringing in faster delivery and promotional ads.**\n"
   ]
  }
 ],
 "metadata": {
  "kernelspec": {
   "display_name": "Python 3 (ipykernel)",
   "language": "python",
   "name": "python3"
  },
  "language_info": {
   "codemirror_mode": {
    "name": "ipython",
    "version": 3
   },
   "file_extension": ".py",
   "mimetype": "text/x-python",
   "name": "python",
   "nbconvert_exporter": "python",
   "pygments_lexer": "ipython3",
   "version": "3.9.13"
  }
 },
 "nbformat": 4,
 "nbformat_minor": 5
}
